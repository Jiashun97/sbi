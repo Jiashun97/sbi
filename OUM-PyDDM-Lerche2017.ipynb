{
 "cells": [
  {
   "cell_type": "code",
   "execution_count": 1,
   "id": "2cda49de",
   "metadata": {},
   "outputs": [],
   "source": [
    "%run IDM_helper_functions.ipynb"
   ]
  },
  {
   "cell_type": "code",
   "execution_count": 2,
   "id": "71d6acc9",
   "metadata": {},
   "outputs": [],
   "source": [
    "from pyddm import Model\n",
    "from pyddm.models import DriftConstant, DriftLinear, NoiseConstant, BoundConstant, OverlayNonDecision, ICPointSourceCenter\n",
    "from pyddm.functions import fit_adjust_model, display_model\n",
    "\n",
    "from pyddm import Fittable, Fitted, Sample\n",
    "from pyddm.models import LossRobustBIC, LossBIC, LossLikelihood, LossRobustLikelihood,LossSquaredError\n",
    "from pyddm.functions import fit_adjust_model"
   ]
  },
  {
   "cell_type": "code",
   "execution_count": 3,
   "id": "85af9e6b",
   "metadata": {},
   "outputs": [],
   "source": [
    "import pandas as pd\n",
    "import os\n",
    "import pyreadr\n"
   ]
  },
  {
   "cell_type": "code",
   "execution_count": 6,
   "id": "dc709411",
   "metadata": {},
   "outputs": [],
   "source": [
    "data_dir = \"/Users/wangjiashun/Desktop/Evans2021/Lerche2017/dataBySubject/sub\"\n",
    "sample_size = 38"
   ]
  },
  {
   "cell_type": "code",
   "execution_count": null,
   "id": "d687fe45",
   "metadata": {},
   "outputs": [],
   "source": []
  },
  {
   "cell_type": "code",
   "execution_count": 10,
   "id": "4ad66cf1",
   "metadata": {},
   "outputs": [
    {
     "data": {
      "text/html": [
       "<div>\n",
       "<style scoped>\n",
       "    .dataframe tbody tr th:only-of-type {\n",
       "        vertical-align: middle;\n",
       "    }\n",
       "\n",
       "    .dataframe tbody tr th {\n",
       "        vertical-align: top;\n",
       "    }\n",
       "\n",
       "    .dataframe thead th {\n",
       "        text-align: right;\n",
       "    }\n",
       "</style>\n",
       "<table border=\"1\" class=\"dataframe\">\n",
       "  <thead>\n",
       "    <tr style=\"text-align: right;\">\n",
       "      <th></th>\n",
       "      <th>resultid</th>\n",
       "      <th>subjectid</th>\n",
       "      <th>age</th>\n",
       "      <th>gender</th>\n",
       "      <th>source</th>\n",
       "      <th>experiment</th>\n",
       "      <th>block</th>\n",
       "      <th>blockorder</th>\n",
       "      <th>requiredaccuracy</th>\n",
       "      <th>maxduration</th>\n",
       "      <th>...</th>\n",
       "      <th>coherence</th>\n",
       "      <th>angle</th>\n",
       "      <th>time</th>\n",
       "      <th>response</th>\n",
       "      <th>correctresponse</th>\n",
       "      <th>iscorrect</th>\n",
       "      <th>startcorrect</th>\n",
       "      <th>startduration</th>\n",
       "      <th>effortbefore</th>\n",
       "      <th>effortafter</th>\n",
       "    </tr>\n",
       "  </thead>\n",
       "  <tbody>\n",
       "    <tr>\n",
       "      <th>0</th>\n",
       "      <td>1017</td>\n",
       "      <td>1006</td>\n",
       "      <td>25</td>\n",
       "      <td>male</td>\n",
       "      <td>Not Set</td>\n",
       "      <td>study2</td>\n",
       "      <td>3</td>\n",
       "      <td>3</td>\n",
       "      <td>0.00</td>\n",
       "      <td>0</td>\n",
       "      <td>...</td>\n",
       "      <td>0.45</td>\n",
       "      <td>135</td>\n",
       "      <td>619</td>\n",
       "      <td>2</td>\n",
       "      <td>2</td>\n",
       "      <td>1</td>\n",
       "      <td>2</td>\n",
       "      <td>4819.352</td>\n",
       "      <td>NaN</td>\n",
       "      <td>NaN</td>\n",
       "    </tr>\n",
       "    <tr>\n",
       "      <th>1</th>\n",
       "      <td>1017</td>\n",
       "      <td>1006</td>\n",
       "      <td>25</td>\n",
       "      <td>male</td>\n",
       "      <td>Not Set</td>\n",
       "      <td>study2</td>\n",
       "      <td>3</td>\n",
       "      <td>3</td>\n",
       "      <td>0.00</td>\n",
       "      <td>0</td>\n",
       "      <td>...</td>\n",
       "      <td>0.35</td>\n",
       "      <td>225</td>\n",
       "      <td>496</td>\n",
       "      <td>1</td>\n",
       "      <td>1</td>\n",
       "      <td>1</td>\n",
       "      <td>1</td>\n",
       "      <td>2535.219</td>\n",
       "      <td>NaN</td>\n",
       "      <td>NaN</td>\n",
       "    </tr>\n",
       "    <tr>\n",
       "      <th>2</th>\n",
       "      <td>1017</td>\n",
       "      <td>1006</td>\n",
       "      <td>25</td>\n",
       "      <td>male</td>\n",
       "      <td>Not Set</td>\n",
       "      <td>study2</td>\n",
       "      <td>3</td>\n",
       "      <td>3</td>\n",
       "      <td>0.00</td>\n",
       "      <td>0</td>\n",
       "      <td>...</td>\n",
       "      <td>0.40</td>\n",
       "      <td>135</td>\n",
       "      <td>623</td>\n",
       "      <td>2</td>\n",
       "      <td>2</td>\n",
       "      <td>1</td>\n",
       "      <td>3</td>\n",
       "      <td>5453.283</td>\n",
       "      <td>NaN</td>\n",
       "      <td>NaN</td>\n",
       "    </tr>\n",
       "    <tr>\n",
       "      <th>3</th>\n",
       "      <td>1017</td>\n",
       "      <td>1006</td>\n",
       "      <td>25</td>\n",
       "      <td>male</td>\n",
       "      <td>Not Set</td>\n",
       "      <td>study2</td>\n",
       "      <td>3</td>\n",
       "      <td>3</td>\n",
       "      <td>0.00</td>\n",
       "      <td>0</td>\n",
       "      <td>...</td>\n",
       "      <td>0.05</td>\n",
       "      <td>225</td>\n",
       "      <td>520</td>\n",
       "      <td>1</td>\n",
       "      <td>1</td>\n",
       "      <td>1</td>\n",
       "      <td>0</td>\n",
       "      <td>2001.580</td>\n",
       "      <td>NaN</td>\n",
       "      <td>NaN</td>\n",
       "    </tr>\n",
       "    <tr>\n",
       "      <th>4</th>\n",
       "      <td>1017</td>\n",
       "      <td>1006</td>\n",
       "      <td>25</td>\n",
       "      <td>male</td>\n",
       "      <td>Not Set</td>\n",
       "      <td>study2</td>\n",
       "      <td>3</td>\n",
       "      <td>3</td>\n",
       "      <td>0.00</td>\n",
       "      <td>0</td>\n",
       "      <td>...</td>\n",
       "      <td>0.20</td>\n",
       "      <td>225</td>\n",
       "      <td>-1</td>\n",
       "      <td>-1</td>\n",
       "      <td>1</td>\n",
       "      <td>-1</td>\n",
       "      <td>0</td>\n",
       "      <td>0.000</td>\n",
       "      <td>NaN</td>\n",
       "      <td>NaN</td>\n",
       "    </tr>\n",
       "    <tr>\n",
       "      <th>...</th>\n",
       "      <td>...</td>\n",
       "      <td>...</td>\n",
       "      <td>...</td>\n",
       "      <td>...</td>\n",
       "      <td>...</td>\n",
       "      <td>...</td>\n",
       "      <td>...</td>\n",
       "      <td>...</td>\n",
       "      <td>...</td>\n",
       "      <td>...</td>\n",
       "      <td>...</td>\n",
       "      <td>...</td>\n",
       "      <td>...</td>\n",
       "      <td>...</td>\n",
       "      <td>...</td>\n",
       "      <td>...</td>\n",
       "      <td>...</td>\n",
       "      <td>...</td>\n",
       "      <td>...</td>\n",
       "      <td>...</td>\n",
       "      <td>...</td>\n",
       "    </tr>\n",
       "    <tr>\n",
       "      <th>28515</th>\n",
       "      <td>1464</td>\n",
       "      <td>1043</td>\n",
       "      <td>19</td>\n",
       "      <td>female</td>\n",
       "      <td>Not Set</td>\n",
       "      <td>study2c</td>\n",
       "      <td>3</td>\n",
       "      <td>2</td>\n",
       "      <td>0.77</td>\n",
       "      <td>0</td>\n",
       "      <td>...</td>\n",
       "      <td>0.06</td>\n",
       "      <td>135</td>\n",
       "      <td>1203</td>\n",
       "      <td>2</td>\n",
       "      <td>2</td>\n",
       "      <td>1</td>\n",
       "      <td>22</td>\n",
       "      <td>0.000</td>\n",
       "      <td>6.0</td>\n",
       "      <td>6.0</td>\n",
       "    </tr>\n",
       "    <tr>\n",
       "      <th>28516</th>\n",
       "      <td>1464</td>\n",
       "      <td>1043</td>\n",
       "      <td>19</td>\n",
       "      <td>female</td>\n",
       "      <td>Not Set</td>\n",
       "      <td>study2c</td>\n",
       "      <td>3</td>\n",
       "      <td>2</td>\n",
       "      <td>0.77</td>\n",
       "      <td>0</td>\n",
       "      <td>...</td>\n",
       "      <td>0.08</td>\n",
       "      <td>225</td>\n",
       "      <td>1159</td>\n",
       "      <td>1</td>\n",
       "      <td>1</td>\n",
       "      <td>1</td>\n",
       "      <td>28</td>\n",
       "      <td>0.000</td>\n",
       "      <td>6.0</td>\n",
       "      <td>6.0</td>\n",
       "    </tr>\n",
       "    <tr>\n",
       "      <th>28517</th>\n",
       "      <td>1464</td>\n",
       "      <td>1043</td>\n",
       "      <td>19</td>\n",
       "      <td>female</td>\n",
       "      <td>Not Set</td>\n",
       "      <td>study2c</td>\n",
       "      <td>3</td>\n",
       "      <td>2</td>\n",
       "      <td>0.77</td>\n",
       "      <td>0</td>\n",
       "      <td>...</td>\n",
       "      <td>0.05</td>\n",
       "      <td>135</td>\n",
       "      <td>1050</td>\n",
       "      <td>2</td>\n",
       "      <td>2</td>\n",
       "      <td>1</td>\n",
       "      <td>20</td>\n",
       "      <td>0.000</td>\n",
       "      <td>6.0</td>\n",
       "      <td>6.0</td>\n",
       "    </tr>\n",
       "    <tr>\n",
       "      <th>28518</th>\n",
       "      <td>1464</td>\n",
       "      <td>1043</td>\n",
       "      <td>19</td>\n",
       "      <td>female</td>\n",
       "      <td>Not Set</td>\n",
       "      <td>study2c</td>\n",
       "      <td>3</td>\n",
       "      <td>2</td>\n",
       "      <td>0.77</td>\n",
       "      <td>0</td>\n",
       "      <td>...</td>\n",
       "      <td>0.06</td>\n",
       "      <td>225</td>\n",
       "      <td>1471</td>\n",
       "      <td>1</td>\n",
       "      <td>1</td>\n",
       "      <td>1</td>\n",
       "      <td>6</td>\n",
       "      <td>0.000</td>\n",
       "      <td>6.0</td>\n",
       "      <td>6.0</td>\n",
       "    </tr>\n",
       "    <tr>\n",
       "      <th>28519</th>\n",
       "      <td>1464</td>\n",
       "      <td>1043</td>\n",
       "      <td>19</td>\n",
       "      <td>female</td>\n",
       "      <td>Not Set</td>\n",
       "      <td>study2c</td>\n",
       "      <td>3</td>\n",
       "      <td>2</td>\n",
       "      <td>0.77</td>\n",
       "      <td>0</td>\n",
       "      <td>...</td>\n",
       "      <td>0.08</td>\n",
       "      <td>135</td>\n",
       "      <td>1018</td>\n",
       "      <td>2</td>\n",
       "      <td>2</td>\n",
       "      <td>1</td>\n",
       "      <td>31</td>\n",
       "      <td>0.000</td>\n",
       "      <td>6.0</td>\n",
       "      <td>6.0</td>\n",
       "    </tr>\n",
       "  </tbody>\n",
       "</table>\n",
       "<p>28520 rows × 26 columns</p>\n",
       "</div>"
      ],
      "text/plain": [
       "       resultid  subjectid  age  gender   source experiment  block  \\\n",
       "0          1017       1006   25    male  Not Set     study2      3   \n",
       "1          1017       1006   25    male  Not Set     study2      3   \n",
       "2          1017       1006   25    male  Not Set     study2      3   \n",
       "3          1017       1006   25    male  Not Set     study2      3   \n",
       "4          1017       1006   25    male  Not Set     study2      3   \n",
       "...         ...        ...  ...     ...      ...        ...    ...   \n",
       "28515      1464       1043   19  female  Not Set    study2c      3   \n",
       "28516      1464       1043   19  female  Not Set    study2c      3   \n",
       "28517      1464       1043   19  female  Not Set    study2c      3   \n",
       "28518      1464       1043   19  female  Not Set    study2c      3   \n",
       "28519      1464       1043   19  female  Not Set    study2c      3   \n",
       "\n",
       "       blockorder  requiredaccuracy  maxduration  ...  coherence  angle  time  \\\n",
       "0               3              0.00            0  ...       0.45    135   619   \n",
       "1               3              0.00            0  ...       0.35    225   496   \n",
       "2               3              0.00            0  ...       0.40    135   623   \n",
       "3               3              0.00            0  ...       0.05    225   520   \n",
       "4               3              0.00            0  ...       0.20    225    -1   \n",
       "...           ...               ...          ...  ...        ...    ...   ...   \n",
       "28515           2              0.77            0  ...       0.06    135  1203   \n",
       "28516           2              0.77            0  ...       0.08    225  1159   \n",
       "28517           2              0.77            0  ...       0.05    135  1050   \n",
       "28518           2              0.77            0  ...       0.06    225  1471   \n",
       "28519           2              0.77            0  ...       0.08    135  1018   \n",
       "\n",
       "       response  correctresponse  iscorrect  startcorrect  startduration  \\\n",
       "0             2                2          1             2       4819.352   \n",
       "1             1                1          1             1       2535.219   \n",
       "2             2                2          1             3       5453.283   \n",
       "3             1                1          1             0       2001.580   \n",
       "4            -1                1         -1             0          0.000   \n",
       "...         ...              ...        ...           ...            ...   \n",
       "28515         2                2          1            22          0.000   \n",
       "28516         1                1          1            28          0.000   \n",
       "28517         2                2          1            20          0.000   \n",
       "28518         1                1          1             6          0.000   \n",
       "28519         2                2          1            31          0.000   \n",
       "\n",
       "       effortbefore  effortafter  \n",
       "0               NaN          NaN  \n",
       "1               NaN          NaN  \n",
       "2               NaN          NaN  \n",
       "3               NaN          NaN  \n",
       "4               NaN          NaN  \n",
       "...             ...          ...  \n",
       "28515           6.0          6.0  \n",
       "28516           6.0          6.0  \n",
       "28517           6.0          6.0  \n",
       "28518           6.0          6.0  \n",
       "28519           6.0          6.0  \n",
       "\n",
       "[28520 rows x 26 columns]"
      ]
     },
     "execution_count": 10,
     "metadata": {},
     "output_type": "execute_result"
    }
   ],
   "source": [
    "df"
   ]
  },
  {
   "cell_type": "code",
   "execution_count": null,
   "id": "c0ea6859",
   "metadata": {},
   "outputs": [],
   "source": [
    "par_fitted_A = np.zeros((sample_size,4))"
   ]
  },
  {
   "cell_type": "code",
   "execution_count": 14,
   "id": "fbb33721",
   "metadata": {
    "scrolled": true
   },
   "outputs": [
    {
     "name": "stdout",
     "output_type": "stream",
     "text": [
      "37\n"
     ]
    },
    {
     "name": "stderr",
     "output_type": "stream",
     "text": [
      "Info: Params [ 0.40388827 -4.90186469  0.78138428  0.10144303] gave 395.26203825786257\n"
     ]
    },
    {
     "name": "stdout",
     "output_type": "stream",
     "text": [
      "[ 0.40388827  0.78138428  0.10144303 -4.90186469]\n"
     ]
    }
   ],
   "source": [
    "for i in range(38):\n",
    "    print(i)\n",
    "    \n",
    "    path = os.path.join(data_dir+str(i+1)+\".csv\")\n",
    "    df = pd.read_csv(path, sep = \",\")\n",
    "    df = df[df[\"Cond\"]==\"Speed\"] # A condition\n",
    "    df = df[df[\"Time\"]<30]\n",
    "    \n",
    "    samp = Sample.from_pandas_dataframe(df, rt_column_name=\"Time\", correct_column_name=\"Correct\")\n",
    "\n",
    "    model_fit = Model(name='Simple model (fitted)',\n",
    "                  drift=DriftLinear(drift=Fittable(minval=0, maxval=1),\n",
    "                                    t = 0,\n",
    "                                    x=Fittable(minval=-5, maxval=5)),\n",
    "                  noise=NoiseConstant(noise=1),\n",
    "                  bound=BoundConstant(B=Fittable(minval=0.5, maxval=10)),\n",
    "                  overlay=OverlayNonDecision(nondectime=Fittable(minval=0.1, maxval=1)),\n",
    "                  dx=.001, dt=.001, T_dur=30)\n",
    "                  #dx=.001, dt=.001, T_dur=3)\n",
    "\n",
    "    fit_adjust_model(samp, model_fit,\n",
    "                     fitting_method=\"differential_evolution\",\n",
    "                     lossfunction=LossRobustBIC, verbose=False)\n",
    "\n",
    "    par_fitted_A[i,0] = np.array(model_fit.parameters()['drift']['drift'])\n",
    "    par_fitted_A[i,1] = np.array(model_fit.parameters()['bound']['B'])\n",
    "    par_fitted_A[i,2] = np.array(model_fit.parameters()['overlay']['nondectime'])\n",
    "    par_fitted_A[i,3] = np.array(model_fit.parameters()['drift']['x'])\n",
    "    \n",
    "    print(par_fitted_A[i,:])\n"
   ]
  },
  {
   "cell_type": "code",
   "execution_count": null,
   "id": "a53f2e81",
   "metadata": {},
   "outputs": [],
   "source": []
  },
  {
   "cell_type": "code",
   "execution_count": 18,
   "id": "1755c1e2",
   "metadata": {},
   "outputs": [],
   "source": []
  },
  {
   "cell_type": "code",
   "execution_count": 19,
   "id": "8c24608d",
   "metadata": {},
   "outputs": [
    {
     "name": "stdout",
     "output_type": "stream",
     "text": [
      "0\n"
     ]
    },
    {
     "name": "stderr",
     "output_type": "stream",
     "text": [
      "Info: Params [0.12775551 0.23943522 9.84589055 0.96790502] gave 552.7176997091337\n"
     ]
    },
    {
     "name": "stdout",
     "output_type": "stream",
     "text": [
      "[0.12775551 9.84589055 0.96790502 0.23943522]\n",
      "1\n"
     ]
    },
    {
     "name": "stderr",
     "output_type": "stream",
     "text": [
      "Info: Params [0.22294815 0.25976775 7.80316716 0.13019239] gave 532.7665589990339\n"
     ]
    },
    {
     "name": "stdout",
     "output_type": "stream",
     "text": [
      "[0.22294815 7.80316716 0.13019239 0.25976775]\n",
      "2\n"
     ]
    },
    {
     "name": "stderr",
     "output_type": "stream",
     "text": [
      "Info: Params [0.03686928 0.80843165 1.30593068 0.33882794] gave 263.7523353804591\n"
     ]
    },
    {
     "name": "stdout",
     "output_type": "stream",
     "text": [
      "[0.03686928 1.30593068 0.33882794 0.80843165]\n",
      "3\n"
     ]
    },
    {
     "name": "stderr",
     "output_type": "stream",
     "text": [
      "Info: Params [0.08461274 0.5435449  3.69274418 0.1452249 ] gave 437.7232432835138\n"
     ]
    },
    {
     "name": "stdout",
     "output_type": "stream",
     "text": [
      "[0.08461274 3.69274418 0.1452249  0.5435449 ]\n",
      "4\n"
     ]
    },
    {
     "name": "stderr",
     "output_type": "stream",
     "text": [
      "Info: Params [0.13480043 0.08571957 3.8113953  0.70820754] gave 601.1882476143749\n"
     ]
    },
    {
     "name": "stdout",
     "output_type": "stream",
     "text": [
      "[0.13480043 3.8113953  0.70820754 0.08571957]\n",
      "5\n"
     ]
    },
    {
     "name": "stderr",
     "output_type": "stream",
     "text": [
      "Info: Params [0.16458292 0.22535568 9.95610595 0.82224181] gave 554.6380267997123\n"
     ]
    },
    {
     "name": "stdout",
     "output_type": "stream",
     "text": [
      "[0.16458292 9.95610595 0.82224181 0.22535568]\n",
      "6\n"
     ]
    },
    {
     "name": "stderr",
     "output_type": "stream",
     "text": [
      "Info: Params [0.25442246 0.58938855 3.19635677 0.61869392] gave 400.6712443756643\n"
     ]
    },
    {
     "name": "stdout",
     "output_type": "stream",
     "text": [
      "[0.25442246 3.19635677 0.61869392 0.58938855]\n",
      "7\n"
     ]
    },
    {
     "name": "stderr",
     "output_type": "stream",
     "text": [
      "Info: Params [0.31207847 0.70251562 3.65902688 0.12711496] gave 380.72793568401505\n"
     ]
    },
    {
     "name": "stdout",
     "output_type": "stream",
     "text": [
      "[0.31207847 3.65902688 0.12711496 0.70251562]\n",
      "8\n"
     ]
    },
    {
     "name": "stderr",
     "output_type": "stream",
     "text": [
      "Info: Params [ 0.03626431 -4.50346487  0.76622079  0.11757013] gave 390.6786462168907\n"
     ]
    },
    {
     "name": "stdout",
     "output_type": "stream",
     "text": [
      "[ 0.03626431  0.76622079  0.11757013 -4.50346487]\n",
      "9\n"
     ]
    },
    {
     "name": "stderr",
     "output_type": "stream",
     "text": [
      "Info: Params [ 0.14286308 -2.1086208   1.09545871  0.10141366] gave 488.74846084391976\n"
     ]
    },
    {
     "name": "stdout",
     "output_type": "stream",
     "text": [
      "[ 0.14286308  1.09545871  0.10141366 -2.1086208 ]\n",
      "10\n"
     ]
    },
    {
     "name": "stderr",
     "output_type": "stream",
     "text": [
      "Info: Params [0.22132161 0.21062906 6.33767355 0.6815225 ] gave 550.0896705797586\n"
     ]
    },
    {
     "name": "stdout",
     "output_type": "stream",
     "text": [
      "[0.22132161 6.33767355 0.6815225  0.21062906]\n",
      "11\n"
     ]
    },
    {
     "name": "stderr",
     "output_type": "stream",
     "text": [
      "Info: Params [0.09054915 0.12406148 9.96825563 0.87054565] gave 572.3217699488048\n"
     ]
    },
    {
     "name": "stdout",
     "output_type": "stream",
     "text": [
      "[0.09054915 9.96825563 0.87054565 0.12406148]\n",
      "12\n"
     ]
    },
    {
     "name": "stderr",
     "output_type": "stream",
     "text": [
      "Info: Params [0.28302832 0.5366926  3.37198831 0.49171892] gave 411.46139662683777\n"
     ]
    },
    {
     "name": "stdout",
     "output_type": "stream",
     "text": [
      "[0.28302832 3.37198831 0.49171892 0.5366926 ]\n",
      "13\n"
     ]
    },
    {
     "name": "stderr",
     "output_type": "stream",
     "text": [
      "Info: Params [0.20688154 0.07114531 3.88796911 0.86561232] gave 574.645768372969\n"
     ]
    },
    {
     "name": "stdout",
     "output_type": "stream",
     "text": [
      "[0.20688154 3.88796911 0.86561232 0.07114531]\n",
      "14\n"
     ]
    },
    {
     "name": "stderr",
     "output_type": "stream",
     "text": [
      "Info: Params [0.1915529  0.18699401 4.45201607 0.23457119] gave 566.762665906089\n"
     ]
    },
    {
     "name": "stdout",
     "output_type": "stream",
     "text": [
      "[0.1915529  4.45201607 0.23457119 0.18699401]\n",
      "15\n"
     ]
    },
    {
     "name": "stderr",
     "output_type": "stream",
     "text": [
      "Info: Params [0.10661723 0.15060966 9.55854078 0.11455574] gave 616.9489154786276\n"
     ]
    },
    {
     "name": "stdout",
     "output_type": "stream",
     "text": [
      "[0.10661723 9.55854078 0.11455574 0.15060966]\n",
      "16\n"
     ]
    },
    {
     "name": "stderr",
     "output_type": "stream",
     "text": [
      "Info: Params [0.25028863 0.84877958 5.79354844 0.19182287] gave 368.25510955280026\n"
     ]
    },
    {
     "name": "stdout",
     "output_type": "stream",
     "text": [
      "[0.25028863 5.79354844 0.19182287 0.84877958]\n",
      "17\n"
     ]
    },
    {
     "name": "stderr",
     "output_type": "stream",
     "text": [
      "Info: Params [0.14480737 0.11031841 2.05100049 0.11163318] gave 476.1238554549856\n"
     ]
    },
    {
     "name": "stdout",
     "output_type": "stream",
     "text": [
      "[0.14480737 2.05100049 0.11163318 0.11031841]\n",
      "18\n"
     ]
    },
    {
     "name": "stderr",
     "output_type": "stream",
     "text": [
      "Info: Params [0.12591181 0.44841196 3.55116568 0.30398814] gave 457.8459516942354\n"
     ]
    },
    {
     "name": "stdout",
     "output_type": "stream",
     "text": [
      "[0.12591181 3.55116568 0.30398814 0.44841196]\n",
      "19\n"
     ]
    },
    {
     "name": "stderr",
     "output_type": "stream",
     "text": [
      "Info: Params [0.25841427 0.12908558 9.87301465 0.99807168] gave 573.2575754456329\n"
     ]
    },
    {
     "name": "stdout",
     "output_type": "stream",
     "text": [
      "[0.25841427 9.87301465 0.99807168 0.12908558]\n",
      "20\n"
     ]
    },
    {
     "name": "stderr",
     "output_type": "stream",
     "text": [
      "Info: Params [0.16072498 1.27107385 4.58314832 0.27927487] gave 305.6055097559315\n"
     ]
    },
    {
     "name": "stdout",
     "output_type": "stream",
     "text": [
      "[0.16072498 4.58314832 0.27927487 1.27107385]\n",
      "21\n"
     ]
    },
    {
     "name": "stderr",
     "output_type": "stream",
     "text": [
      "Info: Params [0.03443145 1.91386905 3.42943589 0.10994374] gave 239.3755980565769\n"
     ]
    },
    {
     "name": "stdout",
     "output_type": "stream",
     "text": [
      "[0.03443145 3.42943589 0.10994374 1.91386905]\n",
      "22\n"
     ]
    },
    {
     "name": "stderr",
     "output_type": "stream",
     "text": [
      "Info: Params [0.17416585 0.27935884 3.56548116 0.33762215] gave 506.34543636520283\n"
     ]
    },
    {
     "name": "stdout",
     "output_type": "stream",
     "text": [
      "[0.17416585 3.56548116 0.33762215 0.27935884]\n",
      "23\n"
     ]
    },
    {
     "name": "stderr",
     "output_type": "stream",
     "text": [
      "Info: Params [0.17913316 0.22246204 6.0254781  0.19183105] gave 557.9161591984933\n"
     ]
    },
    {
     "name": "stdout",
     "output_type": "stream",
     "text": [
      "[0.17913316 6.0254781  0.19183105 0.22246204]\n",
      "24\n"
     ]
    },
    {
     "name": "stderr",
     "output_type": "stream",
     "text": [
      "Info: Params [0.04606804 2.00691043 3.59913993 0.12549024] gave 231.25868210613723\n"
     ]
    },
    {
     "name": "stdout",
     "output_type": "stream",
     "text": [
      "[0.04606804 3.59913993 0.12549024 2.00691043]\n",
      "25\n"
     ]
    },
    {
     "name": "stderr",
     "output_type": "stream",
     "text": [
      "Info: Params [ 0.25216345 -5.          0.93994945  0.10073684] gave 637.079077224129\n"
     ]
    },
    {
     "name": "stdout",
     "output_type": "stream",
     "text": [
      "[ 0.25216345  0.93994945  0.10073684 -5.        ]\n",
      "26\n"
     ]
    },
    {
     "name": "stderr",
     "output_type": "stream",
     "text": [
      "Info: Params [0.17855665 0.23662301 4.37585956 0.93073313] gave 540.4095496345801\n"
     ]
    },
    {
     "name": "stdout",
     "output_type": "stream",
     "text": [
      "[0.17855665 4.37585956 0.93073313 0.23662301]\n",
      "27\n"
     ]
    },
    {
     "name": "stderr",
     "output_type": "stream",
     "text": [
      "Info: Params [0.22963789 0.24326179 9.80132729 0.66976572] gave 525.2937856212668\n"
     ]
    },
    {
     "name": "stdout",
     "output_type": "stream",
     "text": [
      "[0.22963789 9.80132729 0.66976572 0.24326179]\n",
      "28\n"
     ]
    },
    {
     "name": "stderr",
     "output_type": "stream",
     "text": [
      "Info: Params [0.10500309 0.11495336 6.69910678 0.32685807] gave 638.428504968285\n"
     ]
    },
    {
     "name": "stdout",
     "output_type": "stream",
     "text": [
      "[0.10500309 6.69910678 0.32685807 0.11495336]\n",
      "29\n"
     ]
    },
    {
     "name": "stderr",
     "output_type": "stream",
     "text": [
      "Info: Params [0.20949265 0.6024657  9.78639082 0.9675481 ] gave 407.6889959222233\n"
     ]
    },
    {
     "name": "stdout",
     "output_type": "stream",
     "text": [
      "[0.20949265 9.78639082 0.9675481  0.6024657 ]\n",
      "30\n"
     ]
    },
    {
     "name": "stderr",
     "output_type": "stream",
     "text": [
      "Info: Params [0.3221788  0.48805718 4.48499295 0.1108152 ] gave 425.4805880903913\n"
     ]
    },
    {
     "name": "stdout",
     "output_type": "stream",
     "text": [
      "[0.3221788  4.48499295 0.1108152  0.48805718]\n",
      "31\n"
     ]
    },
    {
     "name": "stderr",
     "output_type": "stream",
     "text": [
      "Info: Params [ 0.19734732 -1.30379418  1.53279918  0.29226024] gave 618.4884523026761\n"
     ]
    },
    {
     "name": "stdout",
     "output_type": "stream",
     "text": [
      "[ 0.19734732  1.53279918  0.29226024 -1.30379418]\n",
      "32\n"
     ]
    },
    {
     "name": "stderr",
     "output_type": "stream",
     "text": [
      "Info: Params [0.45134    0.18728239 1.98927429 0.44216091] gave 383.71062960278766\n"
     ]
    },
    {
     "name": "stdout",
     "output_type": "stream",
     "text": [
      "[0.45134    1.98927429 0.44216091 0.18728239]\n",
      "33\n"
     ]
    },
    {
     "name": "stderr",
     "output_type": "stream",
     "text": [
      "Info: Params [0.12384739 0.75524518 4.8612951  0.35738866] gave 390.9014790020718\n"
     ]
    },
    {
     "name": "stdout",
     "output_type": "stream",
     "text": [
      "[0.12384739 4.8612951  0.35738866 0.75524518]\n",
      "34\n"
     ]
    },
    {
     "name": "stderr",
     "output_type": "stream",
     "text": [
      "Info: Params [0.31058726 0.18550926 6.78928214 0.11408851] gave 526.8500719010726\n"
     ]
    },
    {
     "name": "stdout",
     "output_type": "stream",
     "text": [
      "[0.31058726 6.78928214 0.11408851 0.18550926]\n",
      "35\n"
     ]
    },
    {
     "name": "stderr",
     "output_type": "stream",
     "text": [
      "Info: Params [0.22442287 0.05490524 3.73616397 0.27734407] gave 590.6646836693129\n"
     ]
    },
    {
     "name": "stdout",
     "output_type": "stream",
     "text": [
      "[0.22442287 3.73616397 0.27734407 0.05490524]\n",
      "36\n"
     ]
    },
    {
     "name": "stderr",
     "output_type": "stream",
     "text": [
      "Info: Params [0.13728846 1.10028811 7.56858373 0.49836904] gave 328.82022747816325\n"
     ]
    },
    {
     "name": "stdout",
     "output_type": "stream",
     "text": [
      "[0.13728846 7.56858373 0.49836904 1.10028811]\n",
      "37\n"
     ]
    },
    {
     "name": "stderr",
     "output_type": "stream",
     "text": [
      "Info: Params [ 0.22704811 -2.48403487  1.28423654  0.78097017] gave 621.5127064412471\n"
     ]
    },
    {
     "name": "stdout",
     "output_type": "stream",
     "text": [
      "[ 0.22704811  1.28423654  0.78097017 -2.48403487]\n"
     ]
    }
   ],
   "source": [
    "par_fitted_B = np.zeros((sample_size,4))\n",
    "for i in range(sample_size):\n",
    "    print(i)\n",
    "    \n",
    "    path = os.path.join(data_dir+str(i+1)+\".csv\")\n",
    "    df = pd.read_csv(path, sep = \",\")\n",
    "    df = df[df[\"Cond\"]==\"Accuracy\"] # A condition\n",
    "    df = df[df[\"Time\"]<30]\n",
    "    \n",
    "    samp = Sample.from_pandas_dataframe(df, rt_column_name=\"Time\", correct_column_name=\"Correct\")\n",
    "\n",
    "    model_fit = Model(name='Simple model (fitted)',\n",
    "                  drift=DriftLinear(drift=Fittable(minval=0, maxval=1),\n",
    "                                    t = 0,\n",
    "                                    x=Fittable(minval=-5, maxval=5)),\n",
    "                  noise=NoiseConstant(noise=1),\n",
    "                  bound=BoundConstant(B=Fittable(minval=0.5, maxval=10)),\n",
    "                  overlay=OverlayNonDecision(nondectime=Fittable(minval=0.1, maxval=1)),\n",
    "                  dx=.001, dt=.001, T_dur=30)\n",
    "                  #dx=.001, dt=.001, T_dur=3)\n",
    "    fit_adjust_model(samp, model_fit,\n",
    "                     fitting_method=\"differential_evolution\",\n",
    "                     lossfunction=LossRobustBIC, verbose=False)\n",
    "\n",
    "    par_fitted_B[i,0] = np.array(model_fit.parameters()['drift']['drift'])\n",
    "    par_fitted_B[i,1] = np.array(model_fit.parameters()['bound']['B'])\n",
    "    par_fitted_B[i,2] = np.array(model_fit.parameters()['overlay']['nondectime'])\n",
    "    par_fitted_B[i,3] = np.array(model_fit.parameters()['drift']['x'])\n",
    "    \n",
    "    print(par_fitted_B[i,:])\n"
   ]
  },
  {
   "cell_type": "code",
   "execution_count": 52,
   "id": "32bca191",
   "metadata": {},
   "outputs": [],
   "source": [
    "\n",
    "df_SAT = pd.read_csv(\"OUMresultLerche2017.csv\")\n",
    "participant = [i for i in range(1,sample_size+1)]*8\n",
    "df_SAT[\"participant\"] = participant\n",
    "\n",
    "df_SAT = df_SAT[[\"values\", \"parameter\",\"condition\", \"participant\"]].pivot(index = [\"participant\", \"condition\"], columns='parameter')"
   ]
  },
  {
   "cell_type": "code",
   "execution_count": 53,
   "id": "8832c5fa",
   "metadata": {},
   "outputs": [],
   "source": [
    "df0 = pd.DataFrame(np.array(df_SAT[\"values\"]), \n",
    "                   columns = ['Boundary Separation','Drift Rate',\"Effective Inhibition\",'Non-decision Time'])"
   ]
  },
  {
   "cell_type": "code",
   "execution_count": 54,
   "id": "062e920e",
   "metadata": {},
   "outputs": [],
   "source": [
    "df0[\"SAT\"] = [\"Accuracy\", \"Speed\"]*sample_size\n",
    "df_SAT = df0\n"
   ]
  },
  {
   "cell_type": "code",
   "execution_count": 58,
   "id": "0447e07c",
   "metadata": {},
   "outputs": [],
   "source": [
    "df_SAT.to_csv(\"OUMresultLerche2017.csv\")"
   ]
  },
  {
   "cell_type": "code",
   "execution_count": 55,
   "id": "445cf1ce",
   "metadata": {},
   "outputs": [],
   "source": [
    "S = np.array(df_SAT.loc[(df_SAT['SAT'] == \"Speed\")][[\"Drift Rate\", \"Boundary Separation\", \"Non-decision Time\", \"Effective Inhibition\"]])\n",
    "A = np.array(df_SAT.loc[(df_SAT['SAT'] == \"Accuracy\")][[\"Drift Rate\", \"Boundary Separation\", \"Non-decision Time\", \"Effective Inhibition\"]])\n",
    "dif = S-A\n",
    "df_dif = pd.DataFrame(dif,columns = [\"Drift Rate\", \"Boundary Separation\", \"Non-decision Time\", \"Effective Inhibition\"])"
   ]
  },
  {
   "cell_type": "code",
   "execution_count": 56,
   "id": "51e38ab6",
   "metadata": {},
   "outputs": [],
   "source": [
    "df_SAT_melted = pd.melt(df_SAT, id_vars = [\"SAT\"], value_vars=['Drift Rate', 'Boundary Separation','Non-decision Time', \"Effective Inhibition\"],\n",
    "                       var_name = \"Parameter\", value_name = \"Value\")\n",
    "df_dif_melted = pd.melt(df_dif, value_vars=['Drift Rate', 'Boundary Separation','Non-decision Time', \"Effective Inhibition\"],\n",
    "                       var_name = \"Parameter\", value_name = \"Difference\")"
   ]
  },
  {
   "cell_type": "code",
   "execution_count": 60,
   "id": "2115fb7d",
   "metadata": {},
   "outputs": [],
   "source": [
    "df_dif_melted.to_csv(\"OUMdifResultLerche2017.csv\") "
   ]
  },
  {
   "cell_type": "code",
   "execution_count": 57,
   "id": "efd047aa",
   "metadata": {},
   "outputs": [
    {
     "data": {
      "text/plain": [
       "<seaborn.axisgrid.FacetGrid at 0x7fee98261690>"
      ]
     },
     "execution_count": 57,
     "metadata": {},
     "output_type": "execute_result"
    },
    {
     "data": {
      "image/png": "[encoded data removed]",
      "text/plain": [
       "<Figure size 813.5x600 with 1 Axes>"
      ]
     },
     "metadata": {},
     "output_type": "display_data"
    }
   ],
   "source": [
    "sns.catplot(data=df_SAT_melted, x=\"Parameter\", y=\"Value\", hue=\"SAT\", kind=\"box\",\n",
    "            height=6, aspect=7/6, hue_order = [\"Speed\", \"Accuracy\"])"
   ]
  },
  {
   "cell_type": "code",
   "execution_count": 59,
   "id": "45828f94",
   "metadata": {},
   "outputs": [
    {
     "data": {
      "text/plain": [
       "<seaborn.axisgrid.FacetGrid at 0x7feecbe10710>"
      ]
     },
     "execution_count": 59,
     "metadata": {},
     "output_type": "execute_result"
    },
    {
     "data": {
      "image/png": "[encoded data removed]",
      "text/plain": [
       "<Figure size 700x600 with 1 Axes>"
      ]
     },
     "metadata": {},
     "output_type": "display_data"
    }
   ],
   "source": [
    "sns.catplot(data=df_dif_melted, x=\"Parameter\", y=\"Difference\", kind=\"box\",\n",
    "            height=6, aspect=7/6)"
   ]
  },
  {
   "cell_type": "code",
   "execution_count": 18,
   "id": "627c3d31",
   "metadata": {},
   "outputs": [],
   "source": [
    "import scipy"
   ]
  },
  {
   "cell_type": "code",
   "execution_count": 19,
   "id": "4d2dedad",
   "metadata": {},
   "outputs": [
    {
     "data": {
      "text/plain": [
       "Ttest_relResult(statistic=2.954476655896003, pvalue=0.008141075695752857)"
      ]
     },
     "execution_count": 19,
     "metadata": {},
     "output_type": "execute_result"
    }
   ],
   "source": [
    "scipy.stats.ttest_rel(par_fitted_A[:,0], par_fitted_B[:,0])"
   ]
  },
  {
   "cell_type": "code",
   "execution_count": 20,
   "id": "32d6e0aa",
   "metadata": {},
   "outputs": [
    {
     "data": {
      "text/plain": [
       "Ttest_relResult(statistic=1.3666829806693381, pvalue=0.18768050875769932)"
      ]
     },
     "execution_count": 20,
     "metadata": {},
     "output_type": "execute_result"
    }
   ],
   "source": [
    "scipy.stats.ttest_rel(par_fitted_A[:,1], par_fitted_B[:,1])"
   ]
  },
  {
   "cell_type": "markdown",
   "id": "4481730c",
   "metadata": {},
   "source": [
    "### fit with DDM"
   ]
  },
  {
   "cell_type": "code",
   "execution_count": 27,
   "id": "e9d4a083",
   "metadata": {
    "scrolled": true
   },
   "outputs": [
    {
     "name": "stdout",
     "output_type": "stream",
     "text": [
      "0\n"
     ]
    },
    {
     "name": "stderr",
     "output_type": "stream",
     "text": [
      "Info: Params [0.27715296 1.3233657  0.76522846] gave 336.8523766842395\n"
     ]
    },
    {
     "name": "stdout",
     "output_type": "stream",
     "text": [
      "[0.27715296 1.3233657  0.76522846]\n",
      "1\n"
     ]
    },
    {
     "name": "stderr",
     "output_type": "stream",
     "text": [
      "Info: Params [0.33861653 2.47858397 0.99175419] gave 472.2025291478348\n"
     ]
    },
    {
     "name": "stdout",
     "output_type": "stream",
     "text": [
      "[0.33861653 2.47858397 0.99175419]\n",
      "2\n"
     ]
    },
    {
     "name": "stderr",
     "output_type": "stream",
     "text": [
      "Info: Params [0.         0.85626015 0.1005132 ] gave 207.99562702237534\n"
     ]
    },
    {
     "name": "stdout",
     "output_type": "stream",
     "text": [
      "[0.         0.85626015 0.1005132 ]\n",
      "3\n"
     ]
    },
    {
     "name": "stderr",
     "output_type": "stream",
     "text": [
      "Info: Params [0.1023901  1.40870021 0.1001032 ] gave 390.1810860912096\n"
     ]
    },
    {
     "name": "stdout",
     "output_type": "stream",
     "text": [
      "[0.1023901  1.40870021 0.1001032 ]\n",
      "4\n"
     ]
    },
    {
     "name": "stderr",
     "output_type": "stream",
     "text": [
      "Info: Params [0.16969044 2.62120826 0.74836244] gave 558.6883007713136\n"
     ]
    },
    {
     "name": "stdout",
     "output_type": "stream",
     "text": [
      "[0.16969044 2.62120826 0.74836244]\n",
      "5\n"
     ]
    },
    {
     "name": "stderr",
     "output_type": "stream",
     "text": [
      "Info: Params [0.22295224 1.07105168 0.79087418] gave 268.8820231395514\n"
     ]
    },
    {
     "name": "stdout",
     "output_type": "stream",
     "text": [
      "[0.22295224 1.07105168 0.79087418]\n",
      "6\n"
     ]
    },
    {
     "name": "stderr",
     "output_type": "stream",
     "text": [
      "Info: Params [0.19525144 0.77778393 0.36342377] gave 177.29922812057993\n"
     ]
    },
    {
     "name": "stdout",
     "output_type": "stream",
     "text": [
      "[0.19525144 0.77778393 0.36342377]\n",
      "7\n"
     ]
    },
    {
     "name": "stderr",
     "output_type": "stream",
     "text": [
      "Info: Params [0.23801107 0.74949687 0.67750764] gave 162.7634510409062\n"
     ]
    },
    {
     "name": "stdout",
     "output_type": "stream",
     "text": [
      "[0.23801107 0.74949687 0.67750764]\n",
      "8\n"
     ]
    },
    {
     "name": "stderr",
     "output_type": "stream",
     "text": [
      "Info: Params [0.         0.83620007 0.15013504] gave 203.61469035572404\n"
     ]
    },
    {
     "name": "stdout",
     "output_type": "stream",
     "text": [
      "[0.         0.83620007 0.15013504]\n",
      "9\n"
     ]
    },
    {
     "name": "stderr",
     "output_type": "stream",
     "text": [
      "Info: Params [0.         1.56603825 0.10188296] gave 442.3493070164141\n"
     ]
    },
    {
     "name": "stdout",
     "output_type": "stream",
     "text": [
      "[0.         1.56603825 0.10188296]\n",
      "10\n"
     ]
    },
    {
     "name": "stderr",
     "output_type": "stream",
     "text": [
      "Info: Params [0.67008912 1.09117036 0.98122442] gave 222.58397791071002\n"
     ]
    },
    {
     "name": "stdout",
     "output_type": "stream",
     "text": [
      "[0.67008912 1.09117036 0.98122442]\n",
      "11\n"
     ]
    },
    {
     "name": "stderr",
     "output_type": "stream",
     "text": [
      "Info: Params [0.         0.7513594  0.37072725] gave 158.81295479097344\n"
     ]
    },
    {
     "name": "stdout",
     "output_type": "stream",
     "text": [
      "[0.         0.7513594  0.37072725]\n",
      "12\n"
     ]
    },
    {
     "name": "stderr",
     "output_type": "stream",
     "text": [
      "Info: Params [0.30468418 1.03569726 0.76081263] gave 258.2803368293658\n"
     ]
    },
    {
     "name": "stdout",
     "output_type": "stream",
     "text": [
      "[0.30468418 1.03569726 0.76081263]\n",
      "13\n"
     ]
    },
    {
     "name": "stderr",
     "output_type": "stream",
     "text": [
      "Info: Params [0.21262404 1.56610892 0.81649302] gave 380.57688544596743\n"
     ]
    },
    {
     "name": "stdout",
     "output_type": "stream",
     "text": [
      "[0.21262404 1.56610892 0.81649302]\n",
      "14\n"
     ]
    },
    {
     "name": "stderr",
     "output_type": "stream",
     "text": [
      "Info: Params [0.10283735 1.22626365 0.10207122] gave 329.9549687367523\n"
     ]
    },
    {
     "name": "stdout",
     "output_type": "stream",
     "text": [
      "[0.10283735 1.22626365 0.10207122]\n",
      "15\n"
     ]
    },
    {
     "name": "stderr",
     "output_type": "stream",
     "text": [
      "Info: Params [0.02580698 1.00666601 0.71866278] gave 256.7594504017985\n"
     ]
    },
    {
     "name": "stdout",
     "output_type": "stream",
     "text": [
      "[0.02580698 1.00666601 0.71866278]\n",
      "16\n"
     ]
    },
    {
     "name": "stderr",
     "output_type": "stream",
     "text": [
      "Info: Params [0.26218393 1.43129952 0.13412207] gave 357.3225026038969\n"
     ]
    },
    {
     "name": "stdout",
     "output_type": "stream",
     "text": [
      "[0.26218393 1.43129952 0.13412207]\n",
      "17\n"
     ]
    },
    {
     "name": "stderr",
     "output_type": "stream",
     "text": [
      "Info: Params [0.25975829 0.92934282 0.21391021] gave 220.58214423162184\n"
     ]
    },
    {
     "name": "stdout",
     "output_type": "stream",
     "text": [
      "[0.25975829 0.92934282 0.21391021]\n",
      "18\n"
     ]
    },
    {
     "name": "stderr",
     "output_type": "stream",
     "text": [
      "Info: Params [0.21863712 1.42571446 0.94260562] gave 365.31059264528085\n"
     ]
    },
    {
     "name": "stdout",
     "output_type": "stream",
     "text": [
      "[0.21863712 1.42571446 0.94260562]\n",
      "19\n"
     ]
    },
    {
     "name": "stderr",
     "output_type": "stream",
     "text": [
      "Info: Params [0.2402931 1.2266744 0.651852 ] gave 309.7491194278297\n"
     ]
    },
    {
     "name": "stdout",
     "output_type": "stream",
     "text": [
      "[0.2402931 1.2266744 0.651852 ]\n",
      "20\n"
     ]
    },
    {
     "name": "stderr",
     "output_type": "stream",
     "text": [
      "Info: Params [0.24484846 1.54924488 0.23235423] gave 380.58278753511354\n"
     ]
    },
    {
     "name": "stdout",
     "output_type": "stream",
     "text": [
      "[0.24484846 1.54924488 0.23235423]\n",
      "21\n"
     ]
    },
    {
     "name": "stderr",
     "output_type": "stream",
     "text": [
      "Info: Params [0.         0.97043766 0.30490875] gave 253.65511241773527\n"
     ]
    },
    {
     "name": "stdout",
     "output_type": "stream",
     "text": [
      "[0.         0.97043766 0.30490875]\n",
      "22\n"
     ]
    },
    {
     "name": "stderr",
     "output_type": "stream",
     "text": [
      "Info: Params [0.23164095 0.77944196 0.3044187 ] gave 174.20399254712328\n"
     ]
    },
    {
     "name": "stdout",
     "output_type": "stream",
     "text": [
      "[0.23164095 0.77944196 0.3044187 ]\n",
      "23\n"
     ]
    },
    {
     "name": "stderr",
     "output_type": "stream",
     "text": [
      "Info: Params [0.19469964 2.63442915 0.95317406] gave 522.1739353056603\n"
     ]
    },
    {
     "name": "stdout",
     "output_type": "stream",
     "text": [
      "[0.19469964 2.63442915 0.95317406]\n",
      "24\n"
     ]
    },
    {
     "name": "stderr",
     "output_type": "stream",
     "text": [
      "Info: Params [0.37872489 0.62089825 0.3852395 ] gave 94.69974381651973\n"
     ]
    },
    {
     "name": "stdout",
     "output_type": "stream",
     "text": [
      "[0.37872489 0.62089825 0.3852395 ]\n",
      "25\n"
     ]
    },
    {
     "name": "stderr",
     "output_type": "stream",
     "text": [
      "Info: Params [0.29819218 0.84680613 0.4412281 ] gave 204.2350433379114\n"
     ]
    },
    {
     "name": "stdout",
     "output_type": "stream",
     "text": [
      "[0.29819218 0.84680613 0.4412281 ]\n",
      "26\n"
     ]
    },
    {
     "name": "stderr",
     "output_type": "stream",
     "text": [
      "Info: Params [0.2344798  1.38609828 0.42173258] gave 345.7921893457048\n"
     ]
    },
    {
     "name": "stdout",
     "output_type": "stream",
     "text": [
      "[0.2344798  1.38609828 0.42173258]\n",
      "27\n"
     ]
    },
    {
     "name": "stderr",
     "output_type": "stream",
     "text": [
      "Info: Params [0.16221724 1.29046783 0.10006219] gave 452.48085342828796\n"
     ]
    },
    {
     "name": "stdout",
     "output_type": "stream",
     "text": [
      "[0.16221724 1.29046783 0.10006219]\n",
      "28\n"
     ]
    },
    {
     "name": "stderr",
     "output_type": "stream",
     "text": [
      "Info: Params [0.12211627 1.95860903 0.99153767] gave 463.9175509934768\n"
     ]
    },
    {
     "name": "stdout",
     "output_type": "stream",
     "text": [
      "[0.12211627 1.95860903 0.99153767]\n",
      "29\n"
     ]
    },
    {
     "name": "stderr",
     "output_type": "stream",
     "text": [
      "Info: Params [0.19308117 2.79799419 0.99349412] gave 529.6892474965241\n"
     ]
    },
    {
     "name": "stdout",
     "output_type": "stream",
     "text": [
      "[0.19308117 2.79799419 0.99349412]\n",
      "30\n"
     ]
    },
    {
     "name": "stderr",
     "output_type": "stream",
     "text": [
      "Info: Params [0.13219876 0.75232679 0.11475778] gave 172.34034931106305\n"
     ]
    },
    {
     "name": "stdout",
     "output_type": "stream",
     "text": [
      "[0.13219876 0.75232679 0.11475778]\n",
      "31\n"
     ]
    },
    {
     "name": "stderr",
     "output_type": "stream",
     "text": [
      "Info: Params [0.18296503 1.26265884 0.10090394] gave 400.2003690578479\n"
     ]
    },
    {
     "name": "stdout",
     "output_type": "stream",
     "text": [
      "[0.18296503 1.26265884 0.10090394]\n",
      "32\n"
     ]
    },
    {
     "name": "stderr",
     "output_type": "stream",
     "text": [
      "Info: Params [0.         0.63301782 0.10684345] gave 126.00428123065569\n"
     ]
    },
    {
     "name": "stdout",
     "output_type": "stream",
     "text": [
      "[0.         0.63301782 0.10684345]\n",
      "33\n"
     ]
    },
    {
     "name": "stderr",
     "output_type": "stream",
     "text": [
      "Info: Params [0.04606019 1.10940599 0.14206843] gave 293.6837963443947\n"
     ]
    },
    {
     "name": "stdout",
     "output_type": "stream",
     "text": [
      "[0.04606019 1.10940599 0.14206843]\n",
      "34\n"
     ]
    },
    {
     "name": "stderr",
     "output_type": "stream",
     "text": [
      "Info: Params [0.26841741 1.48364161 0.7995572 ] gave 370.9803837844914\n"
     ]
    },
    {
     "name": "stdout",
     "output_type": "stream",
     "text": [
      "[0.26841741 1.48364161 0.7995572 ]\n",
      "35\n"
     ]
    },
    {
     "name": "stderr",
     "output_type": "stream",
     "text": [
      "Info: Params [0.38440278 2.50197812 0.37372883] gave 475.13598555603465\n"
     ]
    },
    {
     "name": "stdout",
     "output_type": "stream",
     "text": [
      "[0.38440278 2.50197812 0.37372883]\n",
      "36\n"
     ]
    },
    {
     "name": "stderr",
     "output_type": "stream",
     "text": [
      "Info: Params [0.18904089 1.5492761  0.99293889] gave 386.74118250602965\n"
     ]
    },
    {
     "name": "stdout",
     "output_type": "stream",
     "text": [
      "[0.18904089 1.5492761  0.99293889]\n",
      "37\n"
     ]
    },
    {
     "name": "stderr",
     "output_type": "stream",
     "text": [
      "Info: Params [0.27347563 1.30324538 0.10075635] gave 442.98284644473455\n"
     ]
    },
    {
     "name": "stdout",
     "output_type": "stream",
     "text": [
      "[0.27347563 1.30324538 0.10075635]\n"
     ]
    }
   ],
   "source": [
    "par_fitted_A = np.zeros((sample_size,3))\n",
    "for i in range(38):\n",
    "    print(i)\n",
    "    \n",
    "    path = os.path.join(data_dir+str(i+1)+\".csv\")\n",
    "    df = pd.read_csv(path, sep = \",\")\n",
    "    df = df[df[\"Cond\"]==\"Speed\"] # A condition\n",
    "    df = df[df[\"Time\"]<30]\n",
    "    \n",
    "    samp = Sample.from_pandas_dataframe(df, rt_column_name=\"Time\", correct_column_name=\"Correct\")\n",
    "\n",
    "    model_fit = Model(name='Simple model (fitted)',\n",
    "                  drift=DriftConstant(drift=Fittable(minval=0, maxval=1)),\n",
    "                  noise=NoiseConstant(noise=1),\n",
    "                  bound=BoundConstant(B=Fittable(minval=0.5, maxval=10)),\n",
    "                  overlay=OverlayNonDecision(nondectime=Fittable(minval=0.1, maxval=1)),\n",
    "                  dx=.001, dt=.001, T_dur=30)\n",
    "                  #dx=.001, dt=.001, T_dur=3)\n",
    "\n",
    "    fit_adjust_model(samp, model_fit,\n",
    "                     fitting_method=\"differential_evolution\",\n",
    "                     lossfunction=LossRobustBIC, verbose=False)\n",
    "\n",
    "    par_fitted_A[i,0] = np.array(model_fit.parameters()['drift']['drift'])\n",
    "    par_fitted_A[i,1] = np.array(model_fit.parameters()['bound']['B'])\n",
    "    par_fitted_A[i,2] = np.array(model_fit.parameters()['overlay']['nondectime'])\n",
    "    \n",
    "    print(par_fitted_A[i,:])\n"
   ]
  },
  {
   "cell_type": "code",
   "execution_count": 28,
   "id": "2184fa54",
   "metadata": {},
   "outputs": [
    {
     "name": "stdout",
     "output_type": "stream",
     "text": [
      "0\n"
     ]
    },
    {
     "name": "stderr",
     "output_type": "stream",
     "text": [
      "Info: Params [0.09424904 3.51216052 0.99096057] gave 623.3880250590573\n"
     ]
    },
    {
     "name": "stdout",
     "output_type": "stream",
     "text": [
      "[0.09424904 3.51216052 0.99096057]\n",
      "1\n"
     ]
    },
    {
     "name": "stderr",
     "output_type": "stream",
     "text": [
      "Info: Params [0.20274004 3.11400604 0.98272614] gave 561.7228189751231\n"
     ]
    },
    {
     "name": "stdout",
     "output_type": "stream",
     "text": [
      "[0.20274004 3.11400604 0.98272614]\n",
      "2\n"
     ]
    },
    {
     "name": "stderr",
     "output_type": "stream",
     "text": [
      "Info: Params [0.03855837 1.05234777 0.39081916] gave 260.0231735771655\n"
     ]
    },
    {
     "name": "stdout",
     "output_type": "stream",
     "text": [
      "[0.03855837 1.05234777 0.39081916]\n",
      "3\n"
     ]
    },
    {
     "name": "stderr",
     "output_type": "stream",
     "text": [
      "Info: Params [0.10144859 1.78104628 0.6780494 ] gave 443.7821432679989\n"
     ]
    },
    {
     "name": "stdout",
     "output_type": "stream",
     "text": [
      "[0.10144859 1.78104628 0.6780494 ]\n",
      "4\n"
     ]
    },
    {
     "name": "stderr",
     "output_type": "stream",
     "text": [
      "Info: Params [0.13348194 3.17344291 0.99313717] gave 597.3525372383009\n"
     ]
    },
    {
     "name": "stdout",
     "output_type": "stream",
     "text": [
      "[0.13348194 3.17344291 0.99313717]\n",
      "5\n"
     ]
    },
    {
     "name": "stderr",
     "output_type": "stream",
     "text": [
      "Info: Params [0.1483139  3.64729909 0.98535976] gave 616.5973824793676\n"
     ]
    },
    {
     "name": "stdout",
     "output_type": "stream",
     "text": [
      "[0.1483139  3.64729909 0.98535976]\n",
      "6\n"
     ]
    },
    {
     "name": "stderr",
     "output_type": "stream",
     "text": [
      "Info: Params [0.25937618 1.71643861 0.9996837 ] gave 403.5817858555142\n"
     ]
    },
    {
     "name": "stdout",
     "output_type": "stream",
     "text": [
      "[0.25937618 1.71643861 0.9996837 ]\n",
      "7\n"
     ]
    },
    {
     "name": "stderr",
     "output_type": "stream",
     "text": [
      "Info: Params [0.25233401 1.59797227 0.6170513 ] gave 392.68337769106216\n"
     ]
    },
    {
     "name": "stdout",
     "output_type": "stream",
     "text": [
      "[0.25233401 1.59797227 0.6170513 ]\n",
      "8\n"
     ]
    },
    {
     "name": "stderr",
     "output_type": "stream",
     "text": [
      "Info: Params [0.01578159 1.2062666  0.10090708] gave 419.30411957732366\n"
     ]
    },
    {
     "name": "stdout",
     "output_type": "stream",
     "text": [
      "[0.01578159 1.2062666  0.10090708]\n",
      "9\n"
     ]
    },
    {
     "name": "stderr",
     "output_type": "stream",
     "text": [
      "Info: Params [0.11543624 1.83289957 0.10189934] gave 487.0412407099102\n"
     ]
    },
    {
     "name": "stdout",
     "output_type": "stream",
     "text": [
      "[0.11543624 1.83289957 0.10189934]\n",
      "10\n"
     ]
    },
    {
     "name": "stderr",
     "output_type": "stream",
     "text": [
      "Info: Params [0.22645137 3.34550908 0.99058849] gave 571.0267244242066\n"
     ]
    },
    {
     "name": "stdout",
     "output_type": "stream",
     "text": [
      "[0.22645137 3.34550908 0.99058849]\n",
      "11\n"
     ]
    },
    {
     "name": "stderr",
     "output_type": "stream",
     "text": [
      "Info: Params [0.09585041 4.60206624 0.89300844] gave 611.5789896576205\n"
     ]
    },
    {
     "name": "stdout",
     "output_type": "stream",
     "text": [
      "[0.09585041 4.60206624 0.89300844]\n",
      "12\n"
     ]
    },
    {
     "name": "stderr",
     "output_type": "stream",
     "text": [
      "Info: Params [0.26591506 1.76400237 0.99538606] gave 413.47446721874286\n"
     ]
    },
    {
     "name": "stdout",
     "output_type": "stream",
     "text": [
      "[0.26591506 1.76400237 0.99538606]\n",
      "13\n"
     ]
    },
    {
     "name": "stderr",
     "output_type": "stream",
     "text": [
      "Info: Params [0.21038999 3.39174289 0.94390206] gave 571.6919259619286\n"
     ]
    },
    {
     "name": "stdout",
     "output_type": "stream",
     "text": [
      "[0.21038999 3.39174289 0.94390206]\n",
      "14\n"
     ]
    },
    {
     "name": "stderr",
     "output_type": "stream",
     "text": [
      "Info: Params [0.18610321 2.85870221 0.86993324] gave 565.1850842290781\n"
     ]
    },
    {
     "name": "stdout",
     "output_type": "stream",
     "text": [
      "[0.18610321 2.85870221 0.86993324]\n",
      "15\n"
     ]
    },
    {
     "name": "stderr",
     "output_type": "stream",
     "text": [
      "Info: Params [0.11038404 4.09654789 0.97139577] gave 645.732846443616\n"
     ]
    },
    {
     "name": "stdout",
     "output_type": "stream",
     "text": [
      "[0.11038404 4.09654789 0.97139577]\n",
      "16\n"
     ]
    },
    {
     "name": "stderr",
     "output_type": "stream",
     "text": [
      "Info: Params [0.20761948 1.58828069 0.99176436] gave 386.28529369688755\n"
     ]
    },
    {
     "name": "stdout",
     "output_type": "stream",
     "text": [
      "[0.20761948 1.58828069 0.99176436]\n",
      "17\n"
     ]
    },
    {
     "name": "stderr",
     "output_type": "stream",
     "text": [
      "Info: Params [0.1451767  1.92213952 0.10841881] gave 471.93559940328856\n"
     ]
    },
    {
     "name": "stdout",
     "output_type": "stream",
     "text": [
      "[0.1451767  1.92213952 0.10841881]\n",
      "18\n"
     ]
    },
    {
     "name": "stderr",
     "output_type": "stream",
     "text": [
      "Info: Params [0.12371635 1.86186193 0.93887544] gave 459.87821687891795\n"
     ]
    },
    {
     "name": "stdout",
     "output_type": "stream",
     "text": [
      "[0.12371635 1.86186193 0.93887544]\n",
      "19\n"
     ]
    },
    {
     "name": "stderr",
     "output_type": "stream",
     "text": [
      "Info: Params [0.25881239 4.98061195 0.98688917] gave 617.2337142056156\n"
     ]
    },
    {
     "name": "stdout",
     "output_type": "stream",
     "text": [
      "[0.25881239 4.98061195 0.98688917]\n",
      "20\n"
     ]
    },
    {
     "name": "stderr",
     "output_type": "stream",
     "text": [
      "Info: Params [0.149075   1.23040081 0.89684944] gave 318.3648937472392\n"
     ]
    },
    {
     "name": "stdout",
     "output_type": "stream",
     "text": [
      "[0.149075   1.23040081 0.89684944]\n",
      "21\n"
     ]
    },
    {
     "name": "stderr",
     "output_type": "stream",
     "text": [
      "Info: Params [0.         0.93425446 0.55650298] gave 244.82825693932375\n"
     ]
    },
    {
     "name": "stdout",
     "output_type": "stream",
     "text": [
      "[0.         0.93425446 0.55650298]\n",
      "22\n"
     ]
    },
    {
     "name": "stderr",
     "output_type": "stream",
     "text": [
      "Info: Params [0.19008031 2.19552269 0.98311218] gave 503.16850167062825\n"
     ]
    },
    {
     "name": "stdout",
     "output_type": "stream",
     "text": [
      "[0.19008031 2.19552269 0.98311218]\n",
      "23\n"
     ]
    },
    {
     "name": "stderr",
     "output_type": "stream",
     "text": [
      "Info: Params [0.17469323 3.05101237 0.90342731] gave 574.3488297063902\n"
     ]
    },
    {
     "name": "stdout",
     "output_type": "stream",
     "text": [
      "[0.17469323 3.05101237 0.90342731]\n",
      "24\n"
     ]
    },
    {
     "name": "stderr",
     "output_type": "stream",
     "text": [
      "Info: Params [0.13651539 0.93734213 0.5713526 ] gave 236.1200004372556\n"
     ]
    },
    {
     "name": "stdout",
     "output_type": "stream",
     "text": [
      "[0.13651539 0.93734213 0.5713526 ]\n",
      "25\n"
     ]
    },
    {
     "name": "stderr",
     "output_type": "stream",
     "text": [
      "Info: Params [0.07745261 1.62676552 0.10070013] gave 1097.690417423965\n"
     ]
    },
    {
     "name": "stdout",
     "output_type": "stream",
     "text": [
      "[0.07745261 1.62676552 0.10070013]\n",
      "26\n"
     ]
    },
    {
     "name": "stderr",
     "output_type": "stream",
     "text": [
      "Info: Params [0.18869727 2.82289045 0.99867688] gave 547.563661368086\n"
     ]
    },
    {
     "name": "stdout",
     "output_type": "stream",
     "text": [
      "[0.18869727 2.82289045 0.99867688]\n",
      "27\n"
     ]
    },
    {
     "name": "stderr",
     "output_type": "stream",
     "text": [
      "Info: Params [0.22337311 3.62638097 0.95878757] gave 581.5252034827921\n"
     ]
    },
    {
     "name": "stdout",
     "output_type": "stream",
     "text": [
      "[0.22337311 3.62638097 0.95878757]\n",
      "28\n"
     ]
    },
    {
     "name": "stderr",
     "output_type": "stream",
     "text": [
      "Info: Params [0.11134767 3.99692982 0.82615737] gave 646.176513015879\n"
     ]
    },
    {
     "name": "stdout",
     "output_type": "stream",
     "text": [
      "[0.11134767 3.99692982 0.82615737]\n",
      "29\n"
     ]
    },
    {
     "name": "stderr",
     "output_type": "stream",
     "text": [
      "Info: Params [0.20457342 2.50102519 0.97386688] gave 492.7599645570974\n"
     ]
    },
    {
     "name": "stdout",
     "output_type": "stream",
     "text": [
      "[0.20457342 2.50102519 0.97386688]\n",
      "30\n"
     ]
    },
    {
     "name": "stderr",
     "output_type": "stream",
     "text": [
      "Info: Params [0.29129061 1.9741785  0.78041677] gave 438.01435222831583\n"
     ]
    },
    {
     "name": "stdout",
     "output_type": "stream",
     "text": [
      "[0.29129061 1.9741785  0.78041677]\n",
      "31\n"
     ]
    },
    {
     "name": "stderr",
     "output_type": "stream",
     "text": [
      "Info: Params [0.14676485 2.97081193 0.1012757 ] gave 614.0207343208008\n"
     ]
    },
    {
     "name": "stdout",
     "output_type": "stream",
     "text": [
      "[0.14676485 2.97081193 0.1012757 ]\n",
      "32\n"
     ]
    },
    {
     "name": "stderr",
     "output_type": "stream",
     "text": [
      "Info: Params [0.45766817 1.76613296 0.49967686] gave 379.268555003343\n"
     ]
    },
    {
     "name": "stdout",
     "output_type": "stream",
     "text": [
      "[0.45766817 1.76613296 0.49967686]\n",
      "33\n"
     ]
    },
    {
     "name": "stderr",
     "output_type": "stream",
     "text": [
      "Info: Params [0.09792797 1.69629955 0.9879937 ] gave 407.0779248243274\n"
     ]
    },
    {
     "name": "stdout",
     "output_type": "stream",
     "text": [
      "[0.09792797 1.69629955 0.9879937 ]\n",
      "34\n"
     ]
    },
    {
     "name": "stderr",
     "output_type": "stream",
     "text": [
      "Info: Params [0.32233564 3.51735882 0.9467968 ] gave 542.096723019996\n"
     ]
    },
    {
     "name": "stdout",
     "output_type": "stream",
     "text": [
      "[0.32233564 3.51735882 0.9467968 ]\n",
      "35\n"
     ]
    },
    {
     "name": "stderr",
     "output_type": "stream",
     "text": [
      "Info: Params [0.22748328 3.29180546 0.59551423] gave 587.0961710638218\n"
     ]
    },
    {
     "name": "stdout",
     "output_type": "stream",
     "text": [
      "[0.22748328 3.29180546 0.59551423]\n",
      "36\n"
     ]
    },
    {
     "name": "stderr",
     "output_type": "stream",
     "text": [
      "Info: Params [0.10690787 1.62785945 0.9994573 ] gave 382.6254517917067\n"
     ]
    },
    {
     "name": "stdout",
     "output_type": "stream",
     "text": [
      "[0.10690787 1.62785945 0.9994573 ]\n",
      "37\n"
     ]
    },
    {
     "name": "stderr",
     "output_type": "stream",
     "text": [
      "Info: Params [0.13006683 3.41163002 0.13160115] gave 620.2886577828915\n"
     ]
    },
    {
     "name": "stdout",
     "output_type": "stream",
     "text": [
      "[0.13006683 3.41163002 0.13160115]\n"
     ]
    }
   ],
   "source": [
    "par_fitted_B = np.zeros((sample_size,3))\n",
    "for i in range(sample_size):\n",
    "    print(i)\n",
    "    \n",
    "    path = os.path.join(data_dir+str(i+1)+\".csv\")\n",
    "    df = pd.read_csv(path, sep = \",\")\n",
    "    df = df[df[\"Cond\"]==\"Accuracy\"] # A condition\n",
    "    df = df[df[\"Time\"]<30]\n",
    "    \n",
    "    samp = Sample.from_pandas_dataframe(df, rt_column_name=\"Time\", correct_column_name=\"Correct\")\n",
    "\n",
    "    model_fit = Model(name='Simple model (fitted)',\n",
    "                  drift=DriftConstant(drift=Fittable(minval=0, maxval=1)),\n",
    "                  noise=NoiseConstant(noise=1),\n",
    "                  bound=BoundConstant(B=Fittable(minval=0.5, maxval=10)),\n",
    "                  overlay=OverlayNonDecision(nondectime=Fittable(minval=0.1, maxval=1)),\n",
    "                  dx=.001, dt=.001, T_dur=30)\n",
    "                  #dx=.001, dt=.001, T_dur=3)\n",
    "    fit_adjust_model(samp, model_fit,\n",
    "                     fitting_method=\"differential_evolution\",\n",
    "                     lossfunction=LossRobustBIC, verbose=False)\n",
    "\n",
    "    par_fitted_B[i,0] = np.array(model_fit.parameters()['drift']['drift'])\n",
    "    par_fitted_B[i,1] = np.array(model_fit.parameters()['bound']['B'])\n",
    "    par_fitted_B[i,2] = np.array(model_fit.parameters()['overlay']['nondectime'])\n",
    "    \n",
    "    print(par_fitted_B[i,:])\n"
   ]
  },
  {
   "cell_type": "code",
   "execution_count": 47,
   "id": "eff36227",
   "metadata": {},
   "outputs": [],
   "source": [
    "my_array = np.concatenate((par_fitted_A, par_fitted_B), axis = 0)\n",
    "df_SAT = pd.DataFrame(my_array, columns = ['Drift Rate','Boundary Separation','Non-decision Time'])\n",
    "df_SAT[\"SAT\"] = [\"Speed\"]*sample_size + [\"Accuracy\"]*sample_size\n",
    "\n",
    "df_SAT.to_csv(\"DDMresultLerche2017.csv\")"
   ]
  },
  {
   "cell_type": "code",
   "execution_count": 61,
   "id": "31cb0057",
   "metadata": {},
   "outputs": [],
   "source": [
    "df_SAT = pd.read_csv(('DDMresultLerche2017.csv'))"
   ]
  },
  {
   "cell_type": "code",
   "execution_count": 62,
   "id": "bc6df241",
   "metadata": {},
   "outputs": [],
   "source": [
    "S = np.array(df_SAT.loc[(df_SAT['SAT'] == \"Speed\")][[\"Drift Rate\", \"Boundary Separation\", \"Non-decision Time\"]])\n",
    "A = np.array(df_SAT.loc[(df_SAT['SAT'] == \"Accuracy\")][[\"Drift Rate\", \"Boundary Separation\", \"Non-decision Time\"]])\n",
    "dif = S-A\n",
    "df_dif = pd.DataFrame(dif,columns = [\"Drift Rate\", \"Boundary Separation\", \"Non-decision Time\"])"
   ]
  },
  {
   "cell_type": "code",
   "execution_count": 63,
   "id": "95ccf100",
   "metadata": {},
   "outputs": [],
   "source": [
    "df_SAT_melted = pd.melt(df_SAT, id_vars = [\"SAT\"], value_vars=['Drift Rate', 'Boundary Separation','Non-decision Time'],\n",
    "                       var_name = \"Parameter\", value_name = \"Value\")\n",
    "df_dif_melted = pd.melt(df_dif, value_vars=['Drift Rate', 'Boundary Separation','Non-decision Time'],\n",
    "                       var_name = \"Parameter\", value_name = \"Difference\")"
   ]
  },
  {
   "cell_type": "code",
   "execution_count": 64,
   "id": "c0989ca0",
   "metadata": {},
   "outputs": [],
   "source": [
    "df_dif_melted.to_csv(\"DDMdifResultLerche2017.csv\") \n"
   ]
  },
  {
   "cell_type": "code",
   "execution_count": 50,
   "id": "34adf388",
   "metadata": {},
   "outputs": [
    {
     "data": {
      "text/plain": [
       "<seaborn.axisgrid.FacetGrid at 0x7feea8132bd0>"
      ]
     },
     "execution_count": 50,
     "metadata": {},
     "output_type": "execute_result"
    },
    {
     "data": {
      "image/png": "[encoded data removed]",
      "text/plain": [
       "<Figure size 813.5x600 with 1 Axes>"
      ]
     },
     "metadata": {},
     "output_type": "display_data"
    }
   ],
   "source": [
    "sns.catplot(data=df_SAT_melted, x=\"Parameter\", y=\"Value\", hue=\"SAT\", kind=\"box\",\n",
    "            height=6, aspect=7/6)"
   ]
  },
  {
   "cell_type": "code",
   "execution_count": 51,
   "id": "adee873a",
   "metadata": {},
   "outputs": [
    {
     "data": {
      "text/plain": [
       "<seaborn.axisgrid.FacetGrid at 0x7fee9818d2d0>"
      ]
     },
     "execution_count": 51,
     "metadata": {},
     "output_type": "execute_result"
    },
    {
     "data": {
      "image/png": "[encoded data removed]",
      "text/plain": [
       "<Figure size 700x600 with 1 Axes>"
      ]
     },
     "metadata": {},
     "output_type": "display_data"
    }
   ],
   "source": [
    "sns.catplot(data=df_dif_melted, x=\"Parameter\", y=\"Difference\", kind=\"box\",\n",
    "            height=6, aspect=7/6)"
   ]
  },
  {
   "cell_type": "code",
   "execution_count": null,
   "id": "633d0fb5",
   "metadata": {},
   "outputs": [],
   "source": []
  },
  {
   "cell_type": "code",
   "execution_count": null,
   "id": "92115f1d",
   "metadata": {},
   "outputs": [],
   "source": [
    "df_SAT.to_csv(\"DDMresultLerche2017.csv\")"
   ]
  },
  {
   "cell_type": "markdown",
   "id": "d18802d6",
   "metadata": {},
   "source": [
    "## DDM-OUM: use Dutilh 2018 DDM parameters - let inhibition and boundary vary"
   ]
  },
  {
   "cell_type": "code",
   "execution_count": 22,
   "id": "6abe7513",
   "metadata": {},
   "outputs": [
    {
     "data": {
      "text/html": [
       "<div>\n",
       "<style scoped>\n",
       "    .dataframe tbody tr th:only-of-type {\n",
       "        vertical-align: middle;\n",
       "    }\n",
       "\n",
       "    .dataframe tbody tr th {\n",
       "        vertical-align: top;\n",
       "    }\n",
       "\n",
       "    .dataframe thead th {\n",
       "        text-align: right;\n",
       "    }\n",
       "</style>\n",
       "<table border=\"1\" class=\"dataframe\">\n",
       "  <thead>\n",
       "    <tr style=\"text-align: right;\">\n",
       "      <th></th>\n",
       "      <th>Unnamed: 0</th>\n",
       "      <th>Drift Rate</th>\n",
       "      <th>Boundary Separation</th>\n",
       "      <th>Non-decision Time</th>\n",
       "      <th>SAT</th>\n",
       "    </tr>\n",
       "  </thead>\n",
       "  <tbody>\n",
       "    <tr>\n",
       "      <th>0</th>\n",
       "      <td>0</td>\n",
       "      <td>4.886592</td>\n",
       "      <td>1.173918</td>\n",
       "      <td>0.343236</td>\n",
       "      <td>1</td>\n",
       "    </tr>\n",
       "    <tr>\n",
       "      <th>1</th>\n",
       "      <td>1</td>\n",
       "      <td>5.255924</td>\n",
       "      <td>1.083176</td>\n",
       "      <td>0.340134</td>\n",
       "      <td>1</td>\n",
       "    </tr>\n",
       "    <tr>\n",
       "      <th>2</th>\n",
       "      <td>2</td>\n",
       "      <td>4.993867</td>\n",
       "      <td>1.047623</td>\n",
       "      <td>0.257719</td>\n",
       "      <td>1</td>\n",
       "    </tr>\n",
       "    <tr>\n",
       "      <th>3</th>\n",
       "      <td>3</td>\n",
       "      <td>1.769413</td>\n",
       "      <td>0.899000</td>\n",
       "      <td>0.264103</td>\n",
       "      <td>1</td>\n",
       "    </tr>\n",
       "    <tr>\n",
       "      <th>4</th>\n",
       "      <td>4</td>\n",
       "      <td>2.576097</td>\n",
       "      <td>0.602602</td>\n",
       "      <td>0.227779</td>\n",
       "      <td>1</td>\n",
       "    </tr>\n",
       "    <tr>\n",
       "      <th>5</th>\n",
       "      <td>5</td>\n",
       "      <td>2.445525</td>\n",
       "      <td>0.910601</td>\n",
       "      <td>0.251856</td>\n",
       "      <td>1</td>\n",
       "    </tr>\n",
       "    <tr>\n",
       "      <th>6</th>\n",
       "      <td>6</td>\n",
       "      <td>3.639097</td>\n",
       "      <td>1.175035</td>\n",
       "      <td>0.244861</td>\n",
       "      <td>1</td>\n",
       "    </tr>\n",
       "    <tr>\n",
       "      <th>7</th>\n",
       "      <td>7</td>\n",
       "      <td>3.017418</td>\n",
       "      <td>1.208609</td>\n",
       "      <td>0.202474</td>\n",
       "      <td>1</td>\n",
       "    </tr>\n",
       "    <tr>\n",
       "      <th>8</th>\n",
       "      <td>8</td>\n",
       "      <td>2.906562</td>\n",
       "      <td>0.939030</td>\n",
       "      <td>0.225931</td>\n",
       "      <td>1</td>\n",
       "    </tr>\n",
       "    <tr>\n",
       "      <th>9</th>\n",
       "      <td>9</td>\n",
       "      <td>1.132213</td>\n",
       "      <td>0.718812</td>\n",
       "      <td>0.209710</td>\n",
       "      <td>1</td>\n",
       "    </tr>\n",
       "    <tr>\n",
       "      <th>10</th>\n",
       "      <td>10</td>\n",
       "      <td>2.635567</td>\n",
       "      <td>1.051056</td>\n",
       "      <td>0.224764</td>\n",
       "      <td>1</td>\n",
       "    </tr>\n",
       "    <tr>\n",
       "      <th>11</th>\n",
       "      <td>11</td>\n",
       "      <td>1.504640</td>\n",
       "      <td>1.017252</td>\n",
       "      <td>0.226386</td>\n",
       "      <td>1</td>\n",
       "    </tr>\n",
       "    <tr>\n",
       "      <th>12</th>\n",
       "      <td>12</td>\n",
       "      <td>1.950719</td>\n",
       "      <td>0.850818</td>\n",
       "      <td>0.212590</td>\n",
       "      <td>1</td>\n",
       "    </tr>\n",
       "    <tr>\n",
       "      <th>13</th>\n",
       "      <td>13</td>\n",
       "      <td>2.635819</td>\n",
       "      <td>0.831973</td>\n",
       "      <td>0.325877</td>\n",
       "      <td>1</td>\n",
       "    </tr>\n",
       "    <tr>\n",
       "      <th>14</th>\n",
       "      <td>14</td>\n",
       "      <td>3.446589</td>\n",
       "      <td>1.447738</td>\n",
       "      <td>0.188644</td>\n",
       "      <td>1</td>\n",
       "    </tr>\n",
       "    <tr>\n",
       "      <th>15</th>\n",
       "      <td>15</td>\n",
       "      <td>3.975775</td>\n",
       "      <td>1.083399</td>\n",
       "      <td>0.288078</td>\n",
       "      <td>1</td>\n",
       "    </tr>\n",
       "    <tr>\n",
       "      <th>16</th>\n",
       "      <td>16</td>\n",
       "      <td>3.096995</td>\n",
       "      <td>0.531685</td>\n",
       "      <td>0.293465</td>\n",
       "      <td>1</td>\n",
       "    </tr>\n",
       "    <tr>\n",
       "      <th>17</th>\n",
       "      <td>17</td>\n",
       "      <td>1.998917</td>\n",
       "      <td>0.970440</td>\n",
       "      <td>0.376311</td>\n",
       "      <td>1</td>\n",
       "    </tr>\n",
       "    <tr>\n",
       "      <th>18</th>\n",
       "      <td>18</td>\n",
       "      <td>5.608196</td>\n",
       "      <td>1.309766</td>\n",
       "      <td>0.242469</td>\n",
       "      <td>1</td>\n",
       "    </tr>\n",
       "    <tr>\n",
       "      <th>19</th>\n",
       "      <td>19</td>\n",
       "      <td>3.419665</td>\n",
       "      <td>1.192999</td>\n",
       "      <td>0.240389</td>\n",
       "      <td>1</td>\n",
       "    </tr>\n",
       "    <tr>\n",
       "      <th>20</th>\n",
       "      <td>20</td>\n",
       "      <td>2.568594</td>\n",
       "      <td>1.192447</td>\n",
       "      <td>0.350024</td>\n",
       "      <td>2</td>\n",
       "    </tr>\n",
       "    <tr>\n",
       "      <th>21</th>\n",
       "      <td>21</td>\n",
       "      <td>2.043069</td>\n",
       "      <td>1.284007</td>\n",
       "      <td>0.400768</td>\n",
       "      <td>2</td>\n",
       "    </tr>\n",
       "    <tr>\n",
       "      <th>22</th>\n",
       "      <td>22</td>\n",
       "      <td>2.634181</td>\n",
       "      <td>1.364765</td>\n",
       "      <td>0.294074</td>\n",
       "      <td>2</td>\n",
       "    </tr>\n",
       "    <tr>\n",
       "      <th>23</th>\n",
       "      <td>23</td>\n",
       "      <td>1.168613</td>\n",
       "      <td>1.228126</td>\n",
       "      <td>0.320078</td>\n",
       "      <td>2</td>\n",
       "    </tr>\n",
       "    <tr>\n",
       "      <th>24</th>\n",
       "      <td>24</td>\n",
       "      <td>3.955953</td>\n",
       "      <td>1.471572</td>\n",
       "      <td>0.302286</td>\n",
       "      <td>2</td>\n",
       "    </tr>\n",
       "    <tr>\n",
       "      <th>25</th>\n",
       "      <td>25</td>\n",
       "      <td>1.103077</td>\n",
       "      <td>0.708867</td>\n",
       "      <td>0.339180</td>\n",
       "      <td>2</td>\n",
       "    </tr>\n",
       "    <tr>\n",
       "      <th>26</th>\n",
       "      <td>26</td>\n",
       "      <td>2.738548</td>\n",
       "      <td>1.230578</td>\n",
       "      <td>0.259883</td>\n",
       "      <td>2</td>\n",
       "    </tr>\n",
       "    <tr>\n",
       "      <th>27</th>\n",
       "      <td>27</td>\n",
       "      <td>2.535457</td>\n",
       "      <td>1.950990</td>\n",
       "      <td>0.268052</td>\n",
       "      <td>2</td>\n",
       "    </tr>\n",
       "    <tr>\n",
       "      <th>28</th>\n",
       "      <td>28</td>\n",
       "      <td>2.154656</td>\n",
       "      <td>1.367244</td>\n",
       "      <td>0.319832</td>\n",
       "      <td>2</td>\n",
       "    </tr>\n",
       "    <tr>\n",
       "      <th>29</th>\n",
       "      <td>29</td>\n",
       "      <td>1.634549</td>\n",
       "      <td>1.414872</td>\n",
       "      <td>0.210216</td>\n",
       "      <td>2</td>\n",
       "    </tr>\n",
       "    <tr>\n",
       "      <th>30</th>\n",
       "      <td>30</td>\n",
       "      <td>1.989852</td>\n",
       "      <td>1.179680</td>\n",
       "      <td>0.251234</td>\n",
       "      <td>2</td>\n",
       "    </tr>\n",
       "    <tr>\n",
       "      <th>31</th>\n",
       "      <td>31</td>\n",
       "      <td>1.776725</td>\n",
       "      <td>1.460912</td>\n",
       "      <td>0.473201</td>\n",
       "      <td>2</td>\n",
       "    </tr>\n",
       "    <tr>\n",
       "      <th>32</th>\n",
       "      <td>32</td>\n",
       "      <td>1.698432</td>\n",
       "      <td>0.938577</td>\n",
       "      <td>0.322362</td>\n",
       "      <td>2</td>\n",
       "    </tr>\n",
       "    <tr>\n",
       "      <th>33</th>\n",
       "      <td>33</td>\n",
       "      <td>2.588800</td>\n",
       "      <td>1.446248</td>\n",
       "      <td>0.530569</td>\n",
       "      <td>2</td>\n",
       "    </tr>\n",
       "    <tr>\n",
       "      <th>34</th>\n",
       "      <td>34</td>\n",
       "      <td>3.043268</td>\n",
       "      <td>1.368593</td>\n",
       "      <td>0.291047</td>\n",
       "      <td>2</td>\n",
       "    </tr>\n",
       "    <tr>\n",
       "      <th>35</th>\n",
       "      <td>35</td>\n",
       "      <td>2.354314</td>\n",
       "      <td>0.780920</td>\n",
       "      <td>0.375502</td>\n",
       "      <td>2</td>\n",
       "    </tr>\n",
       "    <tr>\n",
       "      <th>36</th>\n",
       "      <td>36</td>\n",
       "      <td>3.451852</td>\n",
       "      <td>1.281830</td>\n",
       "      <td>0.347887</td>\n",
       "      <td>2</td>\n",
       "    </tr>\n",
       "    <tr>\n",
       "      <th>37</th>\n",
       "      <td>37</td>\n",
       "      <td>1.066938</td>\n",
       "      <td>1.717642</td>\n",
       "      <td>0.413234</td>\n",
       "      <td>2</td>\n",
       "    </tr>\n",
       "    <tr>\n",
       "      <th>38</th>\n",
       "      <td>38</td>\n",
       "      <td>3.013793</td>\n",
       "      <td>1.386990</td>\n",
       "      <td>0.369393</td>\n",
       "      <td>2</td>\n",
       "    </tr>\n",
       "    <tr>\n",
       "      <th>39</th>\n",
       "      <td>39</td>\n",
       "      <td>2.257032</td>\n",
       "      <td>1.534635</td>\n",
       "      <td>0.329166</td>\n",
       "      <td>2</td>\n",
       "    </tr>\n",
       "  </tbody>\n",
       "</table>\n",
       "</div>"
      ],
      "text/plain": [
       "    Unnamed: 0  Drift Rate  Boundary Separation  Non-decision Time  SAT\n",
       "0            0    4.886592             1.173918           0.343236    1\n",
       "1            1    5.255924             1.083176           0.340134    1\n",
       "2            2    4.993867             1.047623           0.257719    1\n",
       "3            3    1.769413             0.899000           0.264103    1\n",
       "4            4    2.576097             0.602602           0.227779    1\n",
       "5            5    2.445525             0.910601           0.251856    1\n",
       "6            6    3.639097             1.175035           0.244861    1\n",
       "7            7    3.017418             1.208609           0.202474    1\n",
       "8            8    2.906562             0.939030           0.225931    1\n",
       "9            9    1.132213             0.718812           0.209710    1\n",
       "10          10    2.635567             1.051056           0.224764    1\n",
       "11          11    1.504640             1.017252           0.226386    1\n",
       "12          12    1.950719             0.850818           0.212590    1\n",
       "13          13    2.635819             0.831973           0.325877    1\n",
       "14          14    3.446589             1.447738           0.188644    1\n",
       "15          15    3.975775             1.083399           0.288078    1\n",
       "16          16    3.096995             0.531685           0.293465    1\n",
       "17          17    1.998917             0.970440           0.376311    1\n",
       "18          18    5.608196             1.309766           0.242469    1\n",
       "19          19    3.419665             1.192999           0.240389    1\n",
       "20          20    2.568594             1.192447           0.350024    2\n",
       "21          21    2.043069             1.284007           0.400768    2\n",
       "22          22    2.634181             1.364765           0.294074    2\n",
       "23          23    1.168613             1.228126           0.320078    2\n",
       "24          24    3.955953             1.471572           0.302286    2\n",
       "25          25    1.103077             0.708867           0.339180    2\n",
       "26          26    2.738548             1.230578           0.259883    2\n",
       "27          27    2.535457             1.950990           0.268052    2\n",
       "28          28    2.154656             1.367244           0.319832    2\n",
       "29          29    1.634549             1.414872           0.210216    2\n",
       "30          30    1.989852             1.179680           0.251234    2\n",
       "31          31    1.776725             1.460912           0.473201    2\n",
       "32          32    1.698432             0.938577           0.322362    2\n",
       "33          33    2.588800             1.446248           0.530569    2\n",
       "34          34    3.043268             1.368593           0.291047    2\n",
       "35          35    2.354314             0.780920           0.375502    2\n",
       "36          36    3.451852             1.281830           0.347887    2\n",
       "37          37    1.066938             1.717642           0.413234    2\n",
       "38          38    3.013793             1.386990           0.369393    2\n",
       "39          39    2.257032             1.534635           0.329166    2"
      ]
     },
     "execution_count": 22,
     "metadata": {},
     "output_type": "execute_result"
    }
   ],
   "source": [
    "df_Dutilh2018 = pd.read_csv('DDMresultDutilh.csv')\n",
    "df_Dutilh2018"
   ]
  },
  {
   "cell_type": "code",
   "execution_count": 30,
   "id": "26dddedf",
   "metadata": {},
   "outputs": [
    {
     "name": "stdout",
     "output_type": "stream",
     "text": [
      "0\n"
     ]
    },
    {
     "name": "stderr",
     "output_type": "stream",
     "text": [
      "Info: Params [4.64144202 0.27949574 1.10421328 0.35710912] gave -1938.9813279025893\n"
     ]
    },
    {
     "name": "stdout",
     "output_type": "stream",
     "text": [
      "   SAT  participant  Drift Rate  Boundary Separation  Non-decision Time  \\\n",
      "2    1            1    4.641442             1.104213           0.357109   \n",
      "\n",
      "   Effective Inhibition  \n",
      "2              0.279496  \n",
      "1\n"
     ]
    },
    {
     "name": "stderr",
     "output_type": "stream",
     "text": [
      "Info: Params [4.8125522  4.36289306 4.46552285 0.15832253] gave -2307.8627146930808\n"
     ]
    },
    {
     "name": "stdout",
     "output_type": "stream",
     "text": [
      "   SAT  participant  Drift Rate  Boundary Separation  Non-decision Time  \\\n",
      "2    1            2    4.812552             4.465523           0.158323   \n",
      "\n",
      "   Effective Inhibition  \n",
      "2              4.362893  \n",
      "2\n"
     ]
    },
    {
     "name": "stderr",
     "output_type": "stream",
     "text": [
      "Info: Params [4.22611554 3.56699522 1.36413885 0.23979738] gave -2088.048271049306\n"
     ]
    },
    {
     "name": "stdout",
     "output_type": "stream",
     "text": [
      "   SAT  participant  Drift Rate  Boundary Separation  Non-decision Time  \\\n",
      "2    1            3    4.226116             1.364139           0.239797   \n",
      "\n",
      "   Effective Inhibition  \n",
      "2              3.566995  \n",
      "3\n"
     ]
    },
    {
     "name": "stderr",
     "output_type": "stream",
     "text": [
      "Info: Params [ 1.81476423 -2.68288025  0.6939418   0.29282955] gave 506.08757798483526\n"
     ]
    },
    {
     "name": "stdout",
     "output_type": "stream",
     "text": [
      "   SAT  participant  Drift Rate  Boundary Separation  Non-decision Time  \\\n",
      "2    1            4    1.814764             0.693942            0.29283   \n",
      "\n",
      "   Effective Inhibition  \n",
      "2              -2.68288  \n",
      "4\n"
     ]
    },
    {
     "name": "stderr",
     "output_type": "stream",
     "text": [
      "Info: Params [ 2.61602706 -0.94794394  0.57561981  0.23156235] gave -1094.16335219224\n"
     ]
    },
    {
     "name": "stdout",
     "output_type": "stream",
     "text": [
      "   SAT  participant  Drift Rate  Boundary Separation  Non-decision Time  \\\n",
      "2    1            5    2.616027              0.57562           0.231562   \n",
      "\n",
      "   Effective Inhibition  \n",
      "2             -0.947944  \n",
      "5\n"
     ]
    },
    {
     "name": "stderr",
     "output_type": "stream",
     "text": [
      "Info: Params [ 2.89273287 -3.04363152  0.76186623  0.27096958] gave -444.5870611207619\n"
     ]
    },
    {
     "name": "stdout",
     "output_type": "stream",
     "text": [
      "   SAT  participant  Drift Rate  Boundary Separation  Non-decision Time  \\\n",
      "2    1            6    2.892733             0.761866            0.27097   \n",
      "\n",
      "   Effective Inhibition  \n",
      "2             -3.043632  \n",
      "6\n"
     ]
    },
    {
     "name": "stderr",
     "output_type": "stream",
     "text": [
      "Info: Params [ 4.40618295 -2.04148437  1.07827869  0.25552757] gave -1175.9623474184618\n"
     ]
    },
    {
     "name": "stdout",
     "output_type": "stream",
     "text": [
      "   SAT  participant  Drift Rate  Boundary Separation  Non-decision Time  \\\n",
      "2    1            7    4.406183             1.078279           0.255528   \n",
      "\n",
      "   Effective Inhibition  \n",
      "2             -2.041484  \n",
      "7\n"
     ]
    },
    {
     "name": "stderr",
     "output_type": "stream",
     "text": [
      "Info: Params [2.88460471 0.25770818 1.14295313 0.21621349] gave -642.5732414606322\n"
     ]
    },
    {
     "name": "stdout",
     "output_type": "stream",
     "text": [
      "   SAT  participant  Drift Rate  Boundary Separation  Non-decision Time  \\\n",
      "2    1            8    2.884605             1.142953           0.216213   \n",
      "\n",
      "   Effective Inhibition  \n",
      "2              0.257708  \n",
      "8\n"
     ]
    },
    {
     "name": "stderr",
     "output_type": "stream",
     "text": [
      "Info: Params [2.81852404 0.29027889 0.91364091 0.233302  ] gave -840.8658145368277\n"
     ]
    },
    {
     "name": "stdout",
     "output_type": "stream",
     "text": [
      "   SAT  participant  Drift Rate  Boundary Separation  Non-decision Time  \\\n",
      "2    1            9    2.818524             0.913641           0.233302   \n",
      "\n",
      "   Effective Inhibition  \n",
      "2              0.290279  \n",
      "9\n"
     ]
    },
    {
     "name": "stderr",
     "output_type": "stream",
     "text": [
      "Info: Params [ 1.13807747 -0.87752492  0.67385838  0.21654848] gave 962.0882766193872\n"
     ]
    },
    {
     "name": "stdout",
     "output_type": "stream",
     "text": [
      "   SAT  participant  Drift Rate  Boundary Separation  Non-decision Time  \\\n",
      "2    1           10    1.138077             0.673858           0.216548   \n",
      "\n",
      "   Effective Inhibition  \n",
      "2             -0.877525  \n",
      "10\n"
     ]
    },
    {
     "name": "stderr",
     "output_type": "stream",
     "text": [
      "Info: Params [ 3.08551396 -1.63941983  0.95910697  0.23680589] gave -486.3926719410282\n"
     ]
    },
    {
     "name": "stdout",
     "output_type": "stream",
     "text": [
      "   SAT  participant  Drift Rate  Boundary Separation  Non-decision Time  \\\n",
      "2    1           11    3.085514             0.959107           0.236806   \n",
      "\n",
      "   Effective Inhibition  \n",
      "2              -1.63942  \n",
      "11\n"
     ]
    },
    {
     "name": "stderr",
     "output_type": "stream",
     "text": [
      "Info: Params [1.53344037 0.40416463 1.09840325 0.22119222] gave 940.1935852638111\n"
     ]
    },
    {
     "name": "stdout",
     "output_type": "stream",
     "text": [
      "   SAT  participant  Drift Rate  Boundary Separation  Non-decision Time  \\\n",
      "2    1           12     1.53344             1.098403           0.221192   \n",
      "\n",
      "   Effective Inhibition  \n",
      "2              0.404165  \n",
      "12\n"
     ]
    },
    {
     "name": "stderr",
     "output_type": "stream",
     "text": [
      "Info: Params [1.9655926  0.3731387  0.87904171 0.20528304] gave 20.770366114277806\n"
     ]
    },
    {
     "name": "stdout",
     "output_type": "stream",
     "text": [
      "   SAT  participant  Drift Rate  Boundary Separation  Non-decision Time  \\\n",
      "2    1           13    1.965593             0.879042           0.205283   \n",
      "\n",
      "   Effective Inhibition  \n",
      "2              0.373139  \n",
      "13\n"
     ]
    },
    {
     "name": "stderr",
     "output_type": "stream",
     "text": [
      "Info: Params [2.54436007 1.09137292 0.98838324 0.30825064] gave -772.4807271688085\n"
     ]
    },
    {
     "name": "stdout",
     "output_type": "stream",
     "text": [
      "   SAT  participant  Drift Rate  Boundary Separation  Non-decision Time  \\\n",
      "2    1           14     2.54436             0.988383           0.308251   \n",
      "\n",
      "   Effective Inhibition  \n",
      "2              1.091373  \n",
      "14\n"
     ]
    },
    {
     "name": "stderr",
     "output_type": "stream",
     "text": [
      "Info: Params [3.55634788 0.05760739 1.44425017 0.19294063] gave -844.1124098725942\n"
     ]
    },
    {
     "name": "stdout",
     "output_type": "stream",
     "text": [
      "   SAT  participant  Drift Rate  Boundary Separation  Non-decision Time  \\\n",
      "2    1           15    3.556348              1.44425           0.192941   \n",
      "\n",
      "   Effective Inhibition  \n",
      "2              0.057607  \n",
      "15\n"
     ]
    },
    {
     "name": "stderr",
     "output_type": "stream",
     "text": [
      "Info: Params [3.91140515 0.064528   1.00922564 0.30586078] gave -1517.78214923517\n"
     ]
    },
    {
     "name": "stdout",
     "output_type": "stream",
     "text": [
      "   SAT  participant  Drift Rate  Boundary Separation  Non-decision Time  \\\n",
      "2    1           16    3.911405             1.009226           0.305861   \n",
      "\n",
      "   Effective Inhibition  \n",
      "2              0.064528  \n",
      "16\n"
     ]
    },
    {
     "name": "stderr",
     "output_type": "stream",
     "text": [
      "Info: Params [ 3.27653076 -0.66237224  0.52119677  0.29420014] gave -1852.9136029579854\n"
     ]
    },
    {
     "name": "stdout",
     "output_type": "stream",
     "text": [
      "   SAT  participant  Drift Rate  Boundary Separation  Non-decision Time  \\\n",
      "2    1           17    3.276531             0.521197             0.2942   \n",
      "\n",
      "   Effective Inhibition  \n",
      "2             -0.662372  \n",
      "17\n"
     ]
    },
    {
     "name": "stderr",
     "output_type": "stream",
     "text": [
      "Info: Params [ 2.19211235 -0.69636499  0.90373542  0.39572062] gave 53.459087007976734\n",
      "Warning: Setting undecided probability from -0.000000 to 0\n"
     ]
    },
    {
     "name": "stdout",
     "output_type": "stream",
     "text": [
      "   SAT  participant  Drift Rate  Boundary Separation  Non-decision Time  \\\n",
      "2    1           18    2.192112             0.903735           0.395721   \n",
      "\n",
      "   Effective Inhibition  \n",
      "2             -0.696365  \n",
      "18\n"
     ]
    },
    {
     "name": "stderr",
     "output_type": "stream",
     "text": [
      "Info: Params [5.22559329 1.72951277 1.71243393 0.21292389] gave -2205.995302282408\n"
     ]
    },
    {
     "name": "stdout",
     "output_type": "stream",
     "text": [
      "   SAT  participant  Drift Rate  Boundary Separation  Non-decision Time  \\\n",
      "2    1           19    5.225593             1.712434           0.212924   \n",
      "\n",
      "   Effective Inhibition  \n",
      "2              1.729513  \n",
      "19\n"
     ]
    },
    {
     "name": "stderr",
     "output_type": "stream",
     "text": [
      "Info: Params [ 5.32696563 -3.36972117  1.20431404  0.24416914] gave -947.6187940395554\n"
     ]
    },
    {
     "name": "stdout",
     "output_type": "stream",
     "text": [
      "   SAT  participant  Drift Rate  Boundary Separation  Non-decision Time  \\\n",
      "2    1           20    5.326966             1.204314           0.244169   \n",
      "\n",
      "   Effective Inhibition  \n",
      "2             -3.369721  \n",
      "20\n"
     ]
    },
    {
     "name": "stderr",
     "output_type": "stream",
     "text": [
      "Info: Params [ 2.83512364 -1.21940787  1.04569372  0.36889407] gave -214.4337682257472\n"
     ]
    },
    {
     "name": "stdout",
     "output_type": "stream",
     "text": [
      "   SAT  participant  Drift Rate  Boundary Separation  Non-decision Time  \\\n",
      "2    2           21    2.835124             1.045694           0.368894   \n",
      "\n",
      "   Effective Inhibition  \n",
      "2             -1.219408  \n",
      "21\n"
     ]
    },
    {
     "name": "stderr",
     "output_type": "stream",
     "text": [
      "Info: Params [ 2.21257395 -1.11724634  1.04857933  0.44633449] gave 452.9949192438303\n"
     ]
    },
    {
     "name": "stdout",
     "output_type": "stream",
     "text": [
      "   SAT  participant  Drift Rate  Boundary Separation  Non-decision Time  \\\n",
      "2    2           22    2.212574             1.048579           0.446334   \n",
      "\n",
      "   Effective Inhibition  \n",
      "2             -1.117246  \n",
      "22\n"
     ]
    },
    {
     "name": "stderr",
     "output_type": "stream",
     "text": [
      "Info: Params [ 5.96745989 -4.72651435  1.38203665  0.289911  ] gave 71.0427814518789\n"
     ]
    },
    {
     "name": "stdout",
     "output_type": "stream",
     "text": [
      "   SAT  participant  Drift Rate  Boundary Separation  Non-decision Time  \\\n",
      "2    2           23     5.96746             1.382037           0.289911   \n",
      "\n",
      "   Effective Inhibition  \n",
      "2             -4.726514  \n",
      "23\n"
     ]
    },
    {
     "name": "stderr",
     "output_type": "stream",
     "text": [
      "Info: Params [1.27083224 0.30242089 1.29784348 0.31687683] gave 1591.150759153586\n"
     ]
    },
    {
     "name": "stdout",
     "output_type": "stream",
     "text": [
      "   SAT  participant  Drift Rate  Boundary Separation  Non-decision Time  \\\n",
      "2    2           24    1.270832             1.297843           0.316877   \n",
      "\n",
      "   Effective Inhibition  \n",
      "2              0.302421  \n",
      "24\n"
     ]
    },
    {
     "name": "stderr",
     "output_type": "stream",
     "text": [
      "Info: Params [3.75141001 0.64347099 1.58898205 0.29448506] gave -1098.6941450409959\n"
     ]
    },
    {
     "name": "stdout",
     "output_type": "stream",
     "text": [
      "   SAT  participant  Drift Rate  Boundary Separation  Non-decision Time  \\\n",
      "2    2           25     3.75141             1.588982           0.294485   \n",
      "\n",
      "   Effective Inhibition  \n",
      "2              0.643471  \n",
      "25\n"
     ]
    },
    {
     "name": "stderr",
     "output_type": "stream",
     "text": [
      "Info: Params [1.16042596 1.78135353 0.87565934 0.32475759] gave 845.1405555913782\n"
     ]
    },
    {
     "name": "stdout",
     "output_type": "stream",
     "text": [
      "   SAT  participant  Drift Rate  Boundary Separation  Non-decision Time  \\\n",
      "2    2           26    1.160426             0.875659           0.324758   \n",
      "\n",
      "   Effective Inhibition  \n",
      "2              1.781354  \n",
      "26\n"
     ]
    },
    {
     "name": "stderr",
     "output_type": "stream",
     "text": [
      "Info: Params [2.4212787  0.86233536 1.34915642 0.24121258] gave -228.88230602459095\n"
     ]
    },
    {
     "name": "stdout",
     "output_type": "stream",
     "text": [
      "   SAT  participant  Drift Rate  Boundary Separation  Non-decision Time  \\\n",
      "2    2           27    2.421279             1.349156           0.241213   \n",
      "\n",
      "   Effective Inhibition  \n",
      "2              0.862335  \n",
      "27\n"
     ]
    },
    {
     "name": "stderr",
     "output_type": "stream",
     "text": [
      "Info: Params [ 2.86560874 -0.34618612  2.05854769  0.23852319] gave 504.06733369716545\n"
     ]
    },
    {
     "name": "stdout",
     "output_type": "stream",
     "text": [
      "   SAT  participant  Drift Rate  Boundary Separation  Non-decision Time  \\\n",
      "2    2           28    2.865609             2.058548           0.238523   \n",
      "\n",
      "   Effective Inhibition  \n",
      "2             -0.346186  \n",
      "28\n"
     ]
    },
    {
     "name": "stderr",
     "output_type": "stream",
     "text": [
      "Info: Params [2.12959875 0.20328411 1.43871231 0.30460853] gave 456.0229940768943\n"
     ]
    },
    {
     "name": "stdout",
     "output_type": "stream",
     "text": [
      "   SAT  participant  Drift Rate  Boundary Separation  Non-decision Time  \\\n",
      "2    2           29    2.129599             1.438712           0.304609   \n",
      "\n",
      "   Effective Inhibition  \n",
      "2              0.203284  \n",
      "29\n"
     ]
    },
    {
     "name": "stderr",
     "output_type": "stream",
     "text": [
      "Info: Params [1.73802843 0.02215357 1.43046608 0.21067666] gave 1073.4230417396684\n"
     ]
    },
    {
     "name": "stdout",
     "output_type": "stream",
     "text": [
      "   SAT  participant  Drift Rate  Boundary Separation  Non-decision Time  \\\n",
      "2    2           30    1.738028             1.430466           0.210677   \n",
      "\n",
      "   Effective Inhibition  \n",
      "2              0.022154  \n",
      "30\n"
     ]
    },
    {
     "name": "stderr",
     "output_type": "stream",
     "text": [
      "Info: Params [1.97425069 0.18278411 1.26525487 0.24040623] gave 514.7298521837149\n"
     ]
    },
    {
     "name": "stdout",
     "output_type": "stream",
     "text": [
      "   SAT  participant  Drift Rate  Boundary Separation  Non-decision Time  \\\n",
      "2    2           31    1.974251             1.265255           0.240406   \n",
      "\n",
      "   Effective Inhibition  \n",
      "2              0.182784  \n",
      "31\n"
     ]
    },
    {
     "name": "stderr",
     "output_type": "stream",
     "text": [
      "Info: Params [1.80850732 0.1025909  1.4554723  0.48908035] gave 967.3420197617969\n"
     ]
    },
    {
     "name": "stdout",
     "output_type": "stream",
     "text": [
      "   SAT  participant  Drift Rate  Boundary Separation  Non-decision Time  \\\n",
      "2    2           32    1.808507             1.455472            0.48908   \n",
      "\n",
      "   Effective Inhibition  \n",
      "2              0.102591  \n",
      "32\n"
     ]
    },
    {
     "name": "stderr",
     "output_type": "stream",
     "text": [
      "Info: Params [ 1.86504603 -1.37344615  0.80359163  0.34252151] gave 450.82452215377384\n"
     ]
    },
    {
     "name": "stdout",
     "output_type": "stream",
     "text": [
      "   SAT  participant  Drift Rate  Boundary Separation  Non-decision Time  \\\n",
      "2    2           33    1.865046             0.803592           0.342522   \n",
      "\n",
      "   Effective Inhibition  \n",
      "2             -1.373446  \n",
      "33\n"
     ]
    },
    {
     "name": "stderr",
     "output_type": "stream",
     "text": [
      "Info: Params [ 3.29118766 -2.31277874  1.12614689  0.58687779] gave 27.52244653792395\n"
     ]
    },
    {
     "name": "stdout",
     "output_type": "stream",
     "text": [
      "   SAT  participant  Drift Rate  Boundary Separation  Non-decision Time  \\\n",
      "2    2           34    3.291188             1.126147           0.586878   \n",
      "\n",
      "   Effective Inhibition  \n",
      "2             -2.312779  \n",
      "34\n"
     ]
    },
    {
     "name": "stderr",
     "output_type": "stream",
     "text": [
      "Info: Params [ 3.43730295 -1.32496527  1.20369062  0.31209483] gave -433.0149911428832\n"
     ]
    },
    {
     "name": "stdout",
     "output_type": "stream",
     "text": [
      "   SAT  participant  Drift Rate  Boundary Separation  Non-decision Time  \\\n",
      "2    2           35    3.437303             1.203691           0.312095   \n",
      "\n",
      "   Effective Inhibition  \n",
      "2             -1.324965  \n",
      "35\n"
     ]
    },
    {
     "name": "stderr",
     "output_type": "stream",
     "text": [
      "Info: Params [ 2.36199217 -0.41921896  0.73395201  0.38760891] gave -525.2046250899159\n"
     ]
    },
    {
     "name": "stdout",
     "output_type": "stream",
     "text": [
      "   SAT  participant  Drift Rate  Boundary Separation  Non-decision Time  \\\n",
      "2    2           36    2.361992             0.733952           0.387609   \n",
      "\n",
      "   Effective Inhibition  \n",
      "2             -0.419219  \n",
      "36\n"
     ]
    },
    {
     "name": "stderr",
     "output_type": "stream",
     "text": [
      "Info: Params [3.46009238 0.28329579 1.36822675 0.33425007] gave -916.9565621353316\n"
     ]
    },
    {
     "name": "stdout",
     "output_type": "stream",
     "text": [
      "   SAT  participant  Drift Rate  Boundary Separation  Non-decision Time  \\\n",
      "2    2           37    3.460092             1.368227            0.33425   \n",
      "\n",
      "   Effective Inhibition  \n",
      "2              0.283296  \n",
      "37\n"
     ]
    },
    {
     "name": "stderr",
     "output_type": "stream",
     "text": [
      "Info: Params [1.33644793 0.24806959 1.82374515 0.4487866 ] gave 1647.2933142017682\n"
     ]
    },
    {
     "name": "stdout",
     "output_type": "stream",
     "text": [
      "   SAT  participant  Drift Rate  Boundary Separation  Non-decision Time  \\\n",
      "2    2           38    1.336448             1.823745           0.448787   \n",
      "\n",
      "   Effective Inhibition  \n",
      "2               0.24807  \n",
      "38\n"
     ]
    },
    {
     "name": "stderr",
     "output_type": "stream",
     "text": [
      "Info: Params [ 3.27288863 -0.63652256  1.30848165  0.38745113] gave -446.851646701654\n"
     ]
    },
    {
     "name": "stdout",
     "output_type": "stream",
     "text": [
      "   SAT  participant  Drift Rate  Boundary Separation  Non-decision Time  \\\n",
      "2    2           39    3.272889             1.308482           0.387451   \n",
      "\n",
      "   Effective Inhibition  \n",
      "2             -0.636523  \n",
      "39\n"
     ]
    },
    {
     "name": "stderr",
     "output_type": "stream",
     "text": [
      "Info: Params [2.11134108 0.20471604 1.48266072 0.32788111] gave 519.3495282954743\n"
     ]
    },
    {
     "name": "stdout",
     "output_type": "stream",
     "text": [
      "   SAT  participant  Drift Rate  Boundary Separation  Non-decision Time  \\\n",
      "2    2           40    2.111341             1.482661           0.327881   \n",
      "\n",
      "   Effective Inhibition  \n",
      "2              0.204716  \n"
     ]
    }
   ],
   "source": [
    "#data_dir = \"/Users/wangjiashun/Desktop/SAT-Rafiei/data/data_sub\"\n",
    "df_all = pd.DataFrame(columns = ['Participant', 'v','a','ter','k','SAT'],)\n",
    "\n",
    "for Participant in range(40):\n",
    "\n",
    "    print(Participant)\n",
    "\n",
    "    model = Model(name='Simple model (fitted)',\n",
    "                  drift=DriftConstant(drift=df_Dutilh2018[\"Drift Rate\"][Participant]),   \n",
    "                  noise=NoiseConstant(noise=1),\n",
    "                  bound=BoundConstant(B = df_Dutilh2018[\"Boundary Separation\"][Participant]),\n",
    "                  overlay=OverlayNonDecision(nondectime = df_Dutilh2018[\"Non-decision Time\"][Participant]),\n",
    "                  dx=.001, dt=.001, T_dur=3)\n",
    "\n",
    "    sol = model.solve()\n",
    "    samp = sol.resample(1000)\n",
    "\n",
    "\n",
    "    model_fit = Model(name='Simple model (fitted)',\n",
    "                  drift=DriftLinear(drift=Fittable(minval=0, maxval=6),\n",
    "                                    t = 0,\n",
    "                                    x=Fittable(minval=-10, maxval=15)),\n",
    "                  noise=NoiseConstant(noise=1),\n",
    "                  bound=BoundConstant(B=Fittable(minval=0.5, maxval=8)),\n",
    "                  overlay=OverlayNonDecision(nondectime=Fittable(minval=0.1, maxval=1)),\n",
    "                  dx=.001, dt=.001, T_dur=3)\n",
    "\n",
    "    fit_adjust_model(samp, model_fit,\n",
    "                     fitting_method=\"differential_evolution\",\n",
    "                     lossfunction=LossRobustBIC, verbose=False)\n",
    "\n",
    "    df_sub = pd.DataFrame(columns = ['Frequency', 'SAT', 'Participant', 'v','a','ter','k'],)\n",
    "\n",
    "    df_sub = pd.DataFrame({\n",
    "                           'SAT':df_Dutilh2018[\"SAT\"][Participant], \n",
    "                           'participant': Participant + 1,\n",
    "                           'Drift Rate': np.array(model_fit.parameters()['drift']['drift']), \n",
    "                           'Boundary Separation': np.array(model_fit.parameters()['bound']['B']),\n",
    "                           'Non-decision Time': np.array(model_fit.parameters()['overlay']['nondectime']),\n",
    "                           'Effective Inhibition': np.array(model_fit.parameters()['drift']['x'])\n",
    "                          }, index=[i])\n",
    "\n",
    "    df_all = df_all.append(df_sub)\n",
    "\n",
    "    print(df_sub)\n"
   ]
  },
  {
   "cell_type": "code",
   "execution_count": null,
   "id": "d24dff60",
   "metadata": {},
   "outputs": [],
   "source": [
    "df_SAT = pd.melt(df_all, \n",
    "                 id_vars=['participant', 'SAT'], \n",
    "                 value_vars=['Drift Rate','Boundary Separation','Non-decision Time','Effective Inhibition'])"
   ]
  },
  {
   "cell_type": "code",
   "execution_count": 33,
   "id": "56ccf92b",
   "metadata": {},
   "outputs": [
    {
     "data": {
      "text/plain": [
       "<seaborn.axisgrid.FacetGrid at 0x7f8348036910>"
      ]
     },
     "execution_count": 33,
     "metadata": {},
     "output_type": "execute_result"
    },
    {
     "data": {
      "image/png": "[encoded data removed]",
      "text/plain": [
       "<Figure size 858.875x600 with 1 Axes>"
      ]
     },
     "metadata": {},
     "output_type": "display_data"
    }
   ],
   "source": [
    "sns.catplot(data=df_SAT, x=\"variable\", y=\"value\", hue=\"SAT\", kind=\"box\",\n",
    "            height=6, aspect=8/6)"
   ]
  },
  {
   "cell_type": "code",
   "execution_count": 36,
   "id": "90a013d7",
   "metadata": {},
   "outputs": [
    {
     "data": {
      "text/plain": [
       "Ttest_relResult(statistic=2.328944732969312, pvalue=0.03105070524050918)"
      ]
     },
     "execution_count": 36,
     "metadata": {},
     "output_type": "execute_result"
    }
   ],
   "source": [
    "import scipy\n",
    "scipy.stats.ttest_rel(df_SAT[:20]['value'], df_SAT[20:40]['value'])"
   ]
  },
  {
   "cell_type": "code",
   "execution_count": 38,
   "id": "75bc00b6",
   "metadata": {},
   "outputs": [
    {
     "data": {
      "text/plain": [
       "Ttest_relResult(statistic=-0.6185541416934783, pvalue=0.5435552020330445)"
      ]
     },
     "execution_count": 38,
     "metadata": {},
     "output_type": "execute_result"
    }
   ],
   "source": [
    "scipy.stats.ttest_rel(df_SAT[40:60]['value'], df_SAT[60:80]['value'])"
   ]
  },
  {
   "cell_type": "code",
   "execution_count": 39,
   "id": "f3ea59bb",
   "metadata": {},
   "outputs": [
    {
     "data": {
      "text/plain": [
       "Ttest_relResult(statistic=-4.29945450775912, pvalue=0.00038685827758349055)"
      ]
     },
     "execution_count": 39,
     "metadata": {},
     "output_type": "execute_result"
    }
   ],
   "source": [
    "scipy.stats.ttest_rel(df_SAT[80:100]['value'], df_SAT[100:120]['value'])"
   ]
  },
  {
   "cell_type": "code",
   "execution_count": 40,
   "id": "ae903453",
   "metadata": {},
   "outputs": [
    {
     "data": {
      "text/plain": [
       "Ttest_relResult(statistic=0.3700632381703128, pvalue=0.7154283242987596)"
      ]
     },
     "execution_count": 40,
     "metadata": {},
     "output_type": "execute_result"
    }
   ],
   "source": [
    "scipy.stats.ttest_rel(df_SAT[120:140]['value'], df_SAT[140:160]['value'])"
   ]
  },
  {
   "cell_type": "code",
   "execution_count": null,
   "id": "d2efc9c8",
   "metadata": {},
   "outputs": [],
   "source": []
  }
 ],
 "metadata": {
  "kernelspec": {
   "display_name": "Python 3 (ipykernel)",
   "language": "python",
   "name": "python3"
  },
  "language_info": {
   "codemirror_mode": {
    "name": "ipython",
    "version": 3
   },
   "file_extension": ".py",
   "mimetype": "text/x-python",
   "name": "python",
   "nbconvert_exporter": "python",
   "pygments_lexer": "ipython3",
   "version": "3.7.15"
  }
 },
 "nbformat": 4,
 "nbformat_minor": 5
}
