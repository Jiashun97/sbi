{
 "cells": [
  {
   "cell_type": "code",
   "execution_count": 1,
   "id": "2cda49de",
   "metadata": {},
   "outputs": [],
   "source": [
    "%run IDM_helper_functions.ipynb"
   ]
  },
  {
   "cell_type": "code",
   "execution_count": 2,
   "id": "71d6acc9",
   "metadata": {},
   "outputs": [],
   "source": [
    "from pyddm import Model\n",
    "from pyddm.models import DriftConstant, DriftLinear, NoiseConstant, BoundConstant, OverlayNonDecision, ICPointSourceCenter\n",
    "from pyddm.functions import fit_adjust_model, display_model\n",
    "\n",
    "from pyddm import Fittable, Fitted, Sample\n",
    "from pyddm.models import LossRobustBIC, LossBIC, LossLikelihood, LossRobustLikelihood,LossSquaredError\n",
    "from pyddm.functions import fit_adjust_model"
   ]
  },
  {
   "cell_type": "code",
   "execution_count": 3,
   "id": "85af9e6b",
   "metadata": {},
   "outputs": [],
   "source": [
    "import pandas as pd\n",
    "import os\n",
    "import pyreadr\n",
    "import seaborn as sns\n",
    "import scipy"
   ]
  },
  {
   "cell_type": "code",
   "execution_count": 15,
   "id": "dc709411",
   "metadata": {},
   "outputs": [
    {
     "data": {
      "text/html": [
       "<div>\n",
       "<style scoped>\n",
       "    .dataframe tbody tr th:only-of-type {\n",
       "        vertical-align: middle;\n",
       "    }\n",
       "\n",
       "    .dataframe tbody tr th {\n",
       "        vertical-align: top;\n",
       "    }\n",
       "\n",
       "    .dataframe thead th {\n",
       "        text-align: right;\n",
       "    }\n",
       "</style>\n",
       "<table border=\"1\" class=\"dataframe\">\n",
       "  <thead>\n",
       "    <tr style=\"text-align: right;\">\n",
       "      <th></th>\n",
       "      <th>s</th>\n",
       "      <th>Diff</th>\n",
       "      <th>Inc</th>\n",
       "      <th>RT</th>\n",
       "      <th>iscorrect</th>\n",
       "    </tr>\n",
       "  </thead>\n",
       "  <tbody>\n",
       "    <tr>\n",
       "      <th>0</th>\n",
       "      <td>1</td>\n",
       "      <td>hard</td>\n",
       "      <td>gain</td>\n",
       "      <td>1.242</td>\n",
       "      <td>0</td>\n",
       "    </tr>\n",
       "    <tr>\n",
       "      <th>1</th>\n",
       "      <td>1</td>\n",
       "      <td>med</td>\n",
       "      <td>gain</td>\n",
       "      <td>0.700</td>\n",
       "      <td>0</td>\n",
       "    </tr>\n",
       "    <tr>\n",
       "      <th>2</th>\n",
       "      <td>1</td>\n",
       "      <td>easy</td>\n",
       "      <td>gain</td>\n",
       "      <td>0.696</td>\n",
       "      <td>1</td>\n",
       "    </tr>\n",
       "    <tr>\n",
       "      <th>3</th>\n",
       "      <td>1</td>\n",
       "      <td>hard</td>\n",
       "      <td>gain</td>\n",
       "      <td>0.589</td>\n",
       "      <td>1</td>\n",
       "    </tr>\n",
       "    <tr>\n",
       "      <th>4</th>\n",
       "      <td>1</td>\n",
       "      <td>hard</td>\n",
       "      <td>gain</td>\n",
       "      <td>0.607</td>\n",
       "      <td>1</td>\n",
       "    </tr>\n",
       "    <tr>\n",
       "      <th>...</th>\n",
       "      <td>...</td>\n",
       "      <td>...</td>\n",
       "      <td>...</td>\n",
       "      <td>...</td>\n",
       "      <td>...</td>\n",
       "    </tr>\n",
       "    <tr>\n",
       "      <th>26626</th>\n",
       "      <td>35</td>\n",
       "      <td>med</td>\n",
       "      <td>loss</td>\n",
       "      <td>0.727</td>\n",
       "      <td>0</td>\n",
       "    </tr>\n",
       "    <tr>\n",
       "      <th>26627</th>\n",
       "      <td>35</td>\n",
       "      <td>easy</td>\n",
       "      <td>loss</td>\n",
       "      <td>0.584</td>\n",
       "      <td>0</td>\n",
       "    </tr>\n",
       "    <tr>\n",
       "      <th>26628</th>\n",
       "      <td>35</td>\n",
       "      <td>easy</td>\n",
       "      <td>loss</td>\n",
       "      <td>0.623</td>\n",
       "      <td>1</td>\n",
       "    </tr>\n",
       "    <tr>\n",
       "      <th>26629</th>\n",
       "      <td>35</td>\n",
       "      <td>easy</td>\n",
       "      <td>loss</td>\n",
       "      <td>0.595</td>\n",
       "      <td>1</td>\n",
       "    </tr>\n",
       "    <tr>\n",
       "      <th>26630</th>\n",
       "      <td>35</td>\n",
       "      <td>hard</td>\n",
       "      <td>loss</td>\n",
       "      <td>0.841</td>\n",
       "      <td>1</td>\n",
       "    </tr>\n",
       "  </tbody>\n",
       "</table>\n",
       "<p>26631 rows × 5 columns</p>\n",
       "</div>"
      ],
      "text/plain": [
       "        s  Diff   Inc     RT  iscorrect\n",
       "0       1  hard  gain  1.242          0\n",
       "1       1   med  gain  0.700          0\n",
       "2       1  easy  gain  0.696          1\n",
       "3       1  hard  gain  0.589          1\n",
       "4       1  hard  gain  0.607          1\n",
       "...    ..   ...   ...    ...        ...\n",
       "26626  35   med  loss  0.727          0\n",
       "26627  35  easy  loss  0.584          0\n",
       "26628  35  easy  loss  0.623          1\n",
       "26629  35  easy  loss  0.595          1\n",
       "26630  35  hard  loss  0.841          1\n",
       "\n",
       "[26631 rows x 5 columns]"
      ]
     },
     "execution_count": 15,
     "metadata": {},
     "output_type": "execute_result"
    }
   ],
   "source": [
    "data_dir = \"/Users/wangjiashun/Desktop/Ballard2019/trimmed_data.csv\"\n",
    "sample_size = 35\n",
    "df = pd.read_csv(data_dir, sep = \",\")\n",
    "df = df[['s', 'Diff', 'Inc', \"RT\", \"iscorrect\"]] # RT max 2.015\n",
    "df"
   ]
  },
  {
   "cell_type": "code",
   "execution_count": 36,
   "id": "2c2cb45c",
   "metadata": {},
   "outputs": [],
   "source": [
    "Difficulty = [\"med\", \"easy\", \"hard\"]\n",
    "Incentive = [\"gain\", \"loss\", \"none\"]"
   ]
  },
  {
   "cell_type": "code",
   "execution_count": 24,
   "id": "d687fe45",
   "metadata": {},
   "outputs": [],
   "source": []
  },
  {
   "cell_type": "code",
   "execution_count": 38,
   "id": "3b69d901",
   "metadata": {},
   "outputs": [
    {
     "data": {
      "text/html": [
       "<div>\n",
       "<style scoped>\n",
       "    .dataframe tbody tr th:only-of-type {\n",
       "        vertical-align: middle;\n",
       "    }\n",
       "\n",
       "    .dataframe tbody tr th {\n",
       "        vertical-align: top;\n",
       "    }\n",
       "\n",
       "    .dataframe thead th {\n",
       "        text-align: right;\n",
       "    }\n",
       "</style>\n",
       "<table border=\"1\" class=\"dataframe\">\n",
       "  <thead>\n",
       "    <tr style=\"text-align: right;\">\n",
       "      <th></th>\n",
       "      <th>s</th>\n",
       "      <th>Diff</th>\n",
       "      <th>Inc</th>\n",
       "      <th>RT</th>\n",
       "      <th>iscorrect</th>\n",
       "    </tr>\n",
       "  </thead>\n",
       "  <tbody>\n",
       "    <tr>\n",
       "      <th>1</th>\n",
       "      <td>1</td>\n",
       "      <td>med</td>\n",
       "      <td>gain</td>\n",
       "      <td>0.700</td>\n",
       "      <td>0</td>\n",
       "    </tr>\n",
       "    <tr>\n",
       "      <th>8</th>\n",
       "      <td>1</td>\n",
       "      <td>med</td>\n",
       "      <td>gain</td>\n",
       "      <td>0.682</td>\n",
       "      <td>0</td>\n",
       "    </tr>\n",
       "    <tr>\n",
       "      <th>17</th>\n",
       "      <td>1</td>\n",
       "      <td>med</td>\n",
       "      <td>gain</td>\n",
       "      <td>0.504</td>\n",
       "      <td>0</td>\n",
       "    </tr>\n",
       "    <tr>\n",
       "      <th>19</th>\n",
       "      <td>1</td>\n",
       "      <td>med</td>\n",
       "      <td>gain</td>\n",
       "      <td>0.824</td>\n",
       "      <td>0</td>\n",
       "    </tr>\n",
       "    <tr>\n",
       "      <th>21</th>\n",
       "      <td>1</td>\n",
       "      <td>med</td>\n",
       "      <td>gain</td>\n",
       "      <td>0.570</td>\n",
       "      <td>1</td>\n",
       "    </tr>\n",
       "    <tr>\n",
       "      <th>...</th>\n",
       "      <td>...</td>\n",
       "      <td>...</td>\n",
       "      <td>...</td>\n",
       "      <td>...</td>\n",
       "      <td>...</td>\n",
       "    </tr>\n",
       "    <tr>\n",
       "      <th>739</th>\n",
       "      <td>1</td>\n",
       "      <td>med</td>\n",
       "      <td>gain</td>\n",
       "      <td>0.943</td>\n",
       "      <td>0</td>\n",
       "    </tr>\n",
       "    <tr>\n",
       "      <th>742</th>\n",
       "      <td>1</td>\n",
       "      <td>med</td>\n",
       "      <td>gain</td>\n",
       "      <td>1.210</td>\n",
       "      <td>1</td>\n",
       "    </tr>\n",
       "    <tr>\n",
       "      <th>743</th>\n",
       "      <td>1</td>\n",
       "      <td>med</td>\n",
       "      <td>gain</td>\n",
       "      <td>0.953</td>\n",
       "      <td>0</td>\n",
       "    </tr>\n",
       "    <tr>\n",
       "      <th>744</th>\n",
       "      <td>1</td>\n",
       "      <td>med</td>\n",
       "      <td>gain</td>\n",
       "      <td>1.823</td>\n",
       "      <td>1</td>\n",
       "    </tr>\n",
       "    <tr>\n",
       "      <th>750</th>\n",
       "      <td>1</td>\n",
       "      <td>med</td>\n",
       "      <td>gain</td>\n",
       "      <td>0.877</td>\n",
       "      <td>0</td>\n",
       "    </tr>\n",
       "  </tbody>\n",
       "</table>\n",
       "<p>86 rows × 5 columns</p>\n",
       "</div>"
      ],
      "text/plain": [
       "     s Diff   Inc     RT  iscorrect\n",
       "1    1  med  gain  0.700          0\n",
       "8    1  med  gain  0.682          0\n",
       "17   1  med  gain  0.504          0\n",
       "19   1  med  gain  0.824          0\n",
       "21   1  med  gain  0.570          1\n",
       "..  ..  ...   ...    ...        ...\n",
       "739  1  med  gain  0.943          0\n",
       "742  1  med  gain  1.210          1\n",
       "743  1  med  gain  0.953          0\n",
       "744  1  med  gain  1.823          1\n",
       "750  1  med  gain  0.877          0\n",
       "\n",
       "[86 rows x 5 columns]"
      ]
     },
     "execution_count": 38,
     "metadata": {},
     "output_type": "execute_result"
    }
   ],
   "source": [
    "df_sub_cond"
   ]
  },
  {
   "cell_type": "code",
   "execution_count": null,
   "id": "75d34f1f",
   "metadata": {},
   "outputs": [],
   "source": []
  },
  {
   "cell_type": "code",
   "execution_count": 40,
   "id": "c0ea6859",
   "metadata": {},
   "outputs": [
    {
     "name": "stdout",
     "output_type": "stream",
     "text": [
      "0\n"
     ]
    },
    {
     "name": "stderr",
     "output_type": "stream",
     "text": [
      "Info: Params [0.09109849 3.08377562 2.80280686 0.11422898] gave 173.16107246413756\n"
     ]
    },
    {
     "name": "stdout",
     "output_type": "stream",
     "text": [
      "   Participant Difficulty Incentive  Drift Rate  Boundary Separation  \\\n",
      "1            1        med      gain    0.091098             2.802807   \n",
      "\n",
      "   Non-decision Time  Effective Inhibition  \n",
      "1           0.114229              3.083776  \n",
      "0\n"
     ]
    },
    {
     "name": "stderr",
     "output_type": "stream",
     "text": [
      "Info: Params [0.14198909 2.05528995 2.29385409 0.18492374] gave 221.25646800561114\n"
     ]
    },
    {
     "name": "stdout",
     "output_type": "stream",
     "text": [
      "   Participant Difficulty Incentive  Drift Rate  Boundary Separation  \\\n",
      "1            1        med      loss    0.141989             2.293854   \n",
      "\n",
      "   Non-decision Time  Effective Inhibition  \n",
      "1           0.184924               2.05529  \n",
      "0\n"
     ]
    },
    {
     "name": "stderr",
     "output_type": "stream",
     "text": [
      "Info: Params [0.04365379 2.21729335 2.96074909 0.13967087] gave 214.85557396543095\n"
     ]
    },
    {
     "name": "stdout",
     "output_type": "stream",
     "text": [
      "   Participant Difficulty Incentive  Drift Rate  Boundary Separation  \\\n",
      "1            1        med      none    0.043654             2.960749   \n",
      "\n",
      "   Non-decision Time  Effective Inhibition  \n",
      "1           0.139671              2.217293  \n",
      "1\n"
     ]
    },
    {
     "name": "stderr",
     "output_type": "stream",
     "text": [
      "Info: Params [0.29726173 3.07381843 2.96247902 0.28872739] gave 162.51911359564932\n"
     ]
    },
    {
     "name": "stdout",
     "output_type": "stream",
     "text": [
      "   Participant Difficulty Incentive  Drift Rate  Boundary Separation  \\\n",
      "2            2        med      gain    0.297262             2.962479   \n",
      "\n",
      "   Non-decision Time  Effective Inhibition  \n",
      "2           0.288727              3.073818  \n",
      "1\n"
     ]
    },
    {
     "name": "stderr",
     "output_type": "stream",
     "text": [
      "Info: Params [0.09674417 2.66325553 2.80284417 0.22169062] gave 190.55813330681875\n"
     ]
    },
    {
     "name": "stdout",
     "output_type": "stream",
     "text": [
      "   Participant Difficulty Incentive  Drift Rate  Boundary Separation  \\\n",
      "2            2        med      loss    0.096744             2.802844   \n",
      "\n",
      "   Non-decision Time  Effective Inhibition  \n",
      "2           0.221691              2.663256  \n",
      "1\n"
     ]
    },
    {
     "name": "stderr",
     "output_type": "stream",
     "text": [
      "Info: Params [0.07547214 2.35862147 2.73933388 0.10090906] gave 208.39552026418355\n"
     ]
    },
    {
     "name": "stdout",
     "output_type": "stream",
     "text": [
      "   Participant Difficulty Incentive  Drift Rate  Boundary Separation  \\\n",
      "2            2        med      none    0.075472             2.739334   \n",
      "\n",
      "   Non-decision Time  Effective Inhibition  \n",
      "2           0.100909              2.358621  \n",
      "2\n"
     ]
    },
    {
     "name": "stderr",
     "output_type": "stream",
     "text": [
      "Info: Params [ 0.20415829 -0.12941774  0.56435645  0.21905712] gave 94.71269317104768\n"
     ]
    },
    {
     "name": "stdout",
     "output_type": "stream",
     "text": [
      "   Participant Difficulty Incentive  Drift Rate  Boundary Separation  \\\n",
      "3            3        med      gain    0.204158             0.564356   \n",
      "\n",
      "   Non-decision Time  Effective Inhibition  \n",
      "3           0.219057             -0.129418  \n",
      "2\n"
     ]
    },
    {
     "name": "stderr",
     "output_type": "stream",
     "text": [
      "Info: Params [0.17805916 6.81688138 1.11805627 0.17534838] gave 24.176218037498323\n"
     ]
    },
    {
     "name": "stdout",
     "output_type": "stream",
     "text": [
      "   Participant Difficulty Incentive  Drift Rate  Boundary Separation  \\\n",
      "3            3        med      loss    0.178059             1.118056   \n",
      "\n",
      "   Non-decision Time  Effective Inhibition  \n",
      "3           0.175348              6.816881  \n",
      "2\n"
     ]
    },
    {
     "name": "stderr",
     "output_type": "stream",
     "text": [
      "Info: Params [0.11227677 8.52966664 0.64851716 0.21939528] gave -17.676180186671242\n"
     ]
    },
    {
     "name": "stdout",
     "output_type": "stream",
     "text": [
      "   Participant Difficulty Incentive  Drift Rate  Boundary Separation  \\\n",
      "3            3        med      none    0.112277             0.648517   \n",
      "\n",
      "   Non-decision Time  Effective Inhibition  \n",
      "3           0.219395              8.529667  \n",
      "3\n"
     ]
    },
    {
     "name": "stderr",
     "output_type": "stream",
     "text": [
      "Info: Params [0.43008876 4.02245084 2.95022186 0.1389056 ] gave 108.35843116413858\n"
     ]
    },
    {
     "name": "stdout",
     "output_type": "stream",
     "text": [
      "   Participant Difficulty Incentive  Drift Rate  Boundary Separation  \\\n",
      "4            4        med      gain    0.430089             2.950222   \n",
      "\n",
      "   Non-decision Time  Effective Inhibition  \n",
      "4           0.138906              4.022451  \n",
      "3\n"
     ]
    },
    {
     "name": "stderr",
     "output_type": "stream",
     "text": [
      "Info: Params [0.39264535 3.3011843  1.81279245 0.10087997] gave 149.4655229786074\n"
     ]
    },
    {
     "name": "stdout",
     "output_type": "stream",
     "text": [
      "   Participant Difficulty Incentive  Drift Rate  Boundary Separation  \\\n",
      "4            4        med      loss    0.392645             1.812792   \n",
      "\n",
      "   Non-decision Time  Effective Inhibition  \n",
      "4            0.10088              3.301184  \n",
      "3\n"
     ]
    },
    {
     "name": "stderr",
     "output_type": "stream",
     "text": [
      "Info: Params [0.42334728 0.32704828 0.75951817 0.21700071] gave 165.6633959383972\n"
     ]
    },
    {
     "name": "stdout",
     "output_type": "stream",
     "text": [
      "   Participant Difficulty Incentive  Drift Rate  Boundary Separation  \\\n",
      "4            4        med      none    0.423347             0.759518   \n",
      "\n",
      "   Non-decision Time  Effective Inhibition  \n",
      "4           0.217001              0.327048  \n",
      "4\n"
     ]
    },
    {
     "name": "stderr",
     "output_type": "stream",
     "text": [
      "Info: Params [0.         3.37790139 0.93722436 0.28432471] gave 121.22644238845925\n"
     ]
    },
    {
     "name": "stdout",
     "output_type": "stream",
     "text": [
      "   Participant Difficulty Incentive  Drift Rate  Boundary Separation  \\\n",
      "5            5        med      gain         0.0             0.937224   \n",
      "\n",
      "   Non-decision Time  Effective Inhibition  \n",
      "5           0.284325              3.377901  \n",
      "4\n"
     ]
    },
    {
     "name": "stderr",
     "output_type": "stream",
     "text": [
      "Info: Params [0.03919278 4.3641624  1.39058126 0.27924168] gave 107.77650536371695\n"
     ]
    },
    {
     "name": "stdout",
     "output_type": "stream",
     "text": [
      "   Participant Difficulty Incentive  Drift Rate  Boundary Separation  \\\n",
      "5            5        med      loss    0.039193             1.390581   \n",
      "\n",
      "   Non-decision Time  Effective Inhibition  \n",
      "5           0.279242              4.364162  \n",
      "4\n"
     ]
    },
    {
     "name": "stderr",
     "output_type": "stream",
     "text": [
      "Info: Params [ 0.10561838 -1.52372631  0.50175914  0.39823402] gave 80.87143965612995\n"
     ]
    },
    {
     "name": "stdout",
     "output_type": "stream",
     "text": [
      "   Participant Difficulty Incentive  Drift Rate  Boundary Separation  \\\n",
      "5            5        med      none    0.105618             0.501759   \n",
      "\n",
      "   Non-decision Time  Effective Inhibition  \n",
      "5           0.398234             -1.523726  \n",
      "5\n"
     ]
    },
    {
     "name": "stderr",
     "output_type": "stream",
     "text": [
      "Info: Params [0.43875671 2.69797193 2.58633946 0.106166  ] gave 168.72755746472205\n"
     ]
    },
    {
     "name": "stdout",
     "output_type": "stream",
     "text": [
      "   Participant Difficulty Incentive  Drift Rate  Boundary Separation  \\\n",
      "6            6        med      gain    0.438757             2.586339   \n",
      "\n",
      "   Non-decision Time  Effective Inhibition  \n",
      "6           0.106166              2.697972  \n",
      "5\n"
     ]
    },
    {
     "name": "stderr",
     "output_type": "stream",
     "text": [
      "Info: Params [0.08424532 2.79861945 2.62127875 0.10123764] gave 185.95676293288585\n"
     ]
    },
    {
     "name": "stdout",
     "output_type": "stream",
     "text": [
      "   Participant Difficulty Incentive  Drift Rate  Boundary Separation  \\\n",
      "6            6        med      loss    0.084245             2.621279   \n",
      "\n",
      "   Non-decision Time  Effective Inhibition  \n",
      "6           0.101238              2.798619  \n",
      "5\n"
     ]
    },
    {
     "name": "stderr",
     "output_type": "stream",
     "text": [
      "Info: Params [0.34864348 2.10234685 1.68718458 0.10094784] gave 102.71381290352969\n"
     ]
    },
    {
     "name": "stdout",
     "output_type": "stream",
     "text": [
      "   Participant Difficulty Incentive  Drift Rate  Boundary Separation  \\\n",
      "6            6        med      none    0.348643             1.687185   \n",
      "\n",
      "   Non-decision Time  Effective Inhibition  \n",
      "6           0.100948              2.102347  \n",
      "6\n"
     ]
    },
    {
     "name": "stderr",
     "output_type": "stream",
     "text": [
      "Info: Params [0.06878503 2.28857915 1.74209393 0.10062897] gave 210.87224510395436\n"
     ]
    },
    {
     "name": "stdout",
     "output_type": "stream",
     "text": [
      "   Participant Difficulty Incentive  Drift Rate  Boundary Separation  \\\n",
      "7            7        med      gain    0.068785             1.742094   \n",
      "\n",
      "   Non-decision Time  Effective Inhibition  \n",
      "7           0.100629              2.288579  \n",
      "6\n"
     ]
    },
    {
     "name": "stderr",
     "output_type": "stream",
     "text": [
      "Info: Params [0.         3.20852303 2.5684133  0.12173482] gave 162.16400224622222\n"
     ]
    },
    {
     "name": "stdout",
     "output_type": "stream",
     "text": [
      "   Participant Difficulty Incentive  Drift Rate  Boundary Separation  \\\n",
      "7            7        med      loss         0.0             2.568413   \n",
      "\n",
      "   Non-decision Time  Effective Inhibition  \n",
      "7           0.121735              3.208523  \n",
      "6\n"
     ]
    },
    {
     "name": "stderr",
     "output_type": "stream",
     "text": [
      "Info: Params [0.21594957 2.26354547 1.53795116 0.10569619] gave 205.5282456270876\n"
     ]
    },
    {
     "name": "stdout",
     "output_type": "stream",
     "text": [
      "   Participant Difficulty Incentive  Drift Rate  Boundary Separation  \\\n",
      "7            7        med      none     0.21595             1.537951   \n",
      "\n",
      "   Non-decision Time  Effective Inhibition  \n",
      "7           0.105696              2.263545  \n",
      "7\n"
     ]
    },
    {
     "name": "stderr",
     "output_type": "stream",
     "text": [
      "Info: Params [1.16182676 3.87496835 1.48637995 0.45685561] gave 67.3399284916046\n"
     ]
    },
    {
     "name": "stdout",
     "output_type": "stream",
     "text": [
      "   Participant Difficulty Incentive  Drift Rate  Boundary Separation  \\\n",
      "8            8        med      gain    1.161827              1.48638   \n",
      "\n",
      "   Non-decision Time  Effective Inhibition  \n",
      "8           0.456856              3.874968  \n",
      "7\n"
     ]
    },
    {
     "name": "stderr",
     "output_type": "stream",
     "text": [
      "Info: Params [1.17881765 4.64993739 1.04437189 0.48093734] gave 39.734442456104304\n"
     ]
    },
    {
     "name": "stdout",
     "output_type": "stream",
     "text": [
      "   Participant Difficulty Incentive  Drift Rate  Boundary Separation  \\\n",
      "8            8        med      loss    1.178818             1.044372   \n",
      "\n",
      "   Non-decision Time  Effective Inhibition  \n",
      "8           0.480937              4.649937  \n",
      "7\n"
     ]
    },
    {
     "name": "stderr",
     "output_type": "stream",
     "text": [
      "Info: Params [0.86670463 4.93775377 2.97294859 0.26896593] gave 62.070520125936255\n"
     ]
    },
    {
     "name": "stdout",
     "output_type": "stream",
     "text": [
      "   Participant Difficulty Incentive  Drift Rate  Boundary Separation  \\\n",
      "8            8        med      none    0.866705             2.972949   \n",
      "\n",
      "   Non-decision Time  Effective Inhibition  \n",
      "8           0.268966              4.937754  \n",
      "8\n"
     ]
    },
    {
     "name": "stderr",
     "output_type": "stream",
     "text": [
      "Info: Params [0.         5.70326116 1.13000921 0.19371821] gave 59.080034911842084\n"
     ]
    },
    {
     "name": "stdout",
     "output_type": "stream",
     "text": [
      "   Participant Difficulty Incentive  Drift Rate  Boundary Separation  \\\n",
      "9            9        med      gain         0.0             1.130009   \n",
      "\n",
      "   Non-decision Time  Effective Inhibition  \n",
      "9           0.193718              5.703261  \n",
      "8\n"
     ]
    },
    {
     "name": "stderr",
     "output_type": "stream",
     "text": [
      "Info: Params [0.         5.13653382 1.73333453 0.10321781] gave 75.77475435537892\n"
     ]
    },
    {
     "name": "stdout",
     "output_type": "stream",
     "text": [
      "   Participant Difficulty Incentive  Drift Rate  Boundary Separation  \\\n",
      "9            9        med      loss         0.0             1.733335   \n",
      "\n",
      "   Non-decision Time  Effective Inhibition  \n",
      "9           0.103218              5.136534  \n",
      "8\n"
     ]
    },
    {
     "name": "stderr",
     "output_type": "stream",
     "text": [
      "Info: Params [0.         4.95448032 1.58039874 0.10007969] gave 88.3433240087071\n"
     ]
    },
    {
     "name": "stdout",
     "output_type": "stream",
     "text": [
      "   Participant Difficulty Incentive  Drift Rate  Boundary Separation  \\\n",
      "9            9        med      none         0.0             1.580399   \n",
      "\n",
      "   Non-decision Time  Effective Inhibition  \n",
      "9            0.10008               4.95448  \n",
      "9\n"
     ]
    },
    {
     "name": "stderr",
     "output_type": "stream",
     "text": [
      "Info: Params [0.39406297 4.25436267 2.92983254 0.28109608] gave 103.93630242317715\n"
     ]
    },
    {
     "name": "stdout",
     "output_type": "stream",
     "text": [
      "    Participant Difficulty Incentive  Drift Rate  Boundary Separation  \\\n",
      "10           10        med      gain    0.394063             2.929833   \n",
      "\n",
      "    Non-decision Time  Effective Inhibition  \n",
      "10           0.281096              4.254363  \n",
      "9\n"
     ]
    },
    {
     "name": "stderr",
     "output_type": "stream",
     "text": [
      "Info: Params [0.0990876  4.52698899 2.99575081 0.13135552] gave 97.93569600490443\n"
     ]
    },
    {
     "name": "stdout",
     "output_type": "stream",
     "text": [
      "    Participant Difficulty Incentive  Drift Rate  Boundary Separation  \\\n",
      "10           10        med      loss    0.099088             2.995751   \n",
      "\n",
      "    Non-decision Time  Effective Inhibition  \n",
      "10           0.131356              4.526989  \n",
      "9\n"
     ]
    },
    {
     "name": "stderr",
     "output_type": "stream",
     "text": [
      "Info: Params [0.31127401 3.73991501 2.81459373 0.14420557] gave 129.56138505010242\n"
     ]
    },
    {
     "name": "stdout",
     "output_type": "stream",
     "text": [
      "    Participant Difficulty Incentive  Drift Rate  Boundary Separation  \\\n",
      "10           10        med      none    0.311274             2.814594   \n",
      "\n",
      "    Non-decision Time  Effective Inhibition  \n",
      "10           0.144206              3.739915  \n",
      "10\n"
     ]
    },
    {
     "name": "stderr",
     "output_type": "stream",
     "text": [
      "Info: Params [1.36544667 2.03629703 1.87224207 0.29480576] gave 124.37950294211234\n"
     ]
    },
    {
     "name": "stdout",
     "output_type": "stream",
     "text": [
      "    Participant Difficulty Incentive  Drift Rate  Boundary Separation  \\\n",
      "11           11        med      gain    1.365447             1.872242   \n",
      "\n",
      "    Non-decision Time  Effective Inhibition  \n",
      "11           0.294806              2.036297  \n",
      "10\n"
     ]
    },
    {
     "name": "stderr",
     "output_type": "stream",
     "text": [
      "Info: Params [1.35920915 2.56139419 2.9207463  0.1480157 ] gave 114.35508295336888\n"
     ]
    },
    {
     "name": "stdout",
     "output_type": "stream",
     "text": [
      "    Participant Difficulty Incentive  Drift Rate  Boundary Separation  \\\n",
      "11           11        med      loss    1.359209             2.920746   \n",
      "\n",
      "    Non-decision Time  Effective Inhibition  \n",
      "11           0.148016              2.561394  \n",
      "10\n"
     ]
    },
    {
     "name": "stderr",
     "output_type": "stream",
     "text": [
      "Info: Params [1.2940671  1.89359657 2.85644227 0.20037565] gave 136.3976696186891\n"
     ]
    },
    {
     "name": "stdout",
     "output_type": "stream",
     "text": [
      "    Participant Difficulty Incentive  Drift Rate  Boundary Separation  \\\n",
      "11           11        med      none    1.294067             2.856442   \n",
      "\n",
      "    Non-decision Time  Effective Inhibition  \n",
      "11           0.200376              1.893597  \n",
      "11\n"
     ]
    },
    {
     "name": "stderr",
     "output_type": "stream",
     "text": [
      "Info: Params [ 0.06623077 -1.80579372  0.5125271   0.2241239 ] gave 92.50286100997766\n"
     ]
    },
    {
     "name": "stdout",
     "output_type": "stream",
     "text": [
      "    Participant Difficulty Incentive  Drift Rate  Boundary Separation  \\\n",
      "12           12        med      gain    0.066231             0.512527   \n",
      "\n",
      "    Non-decision Time  Effective Inhibition  \n",
      "12           0.224124             -1.805794  \n",
      "11\n"
     ]
    },
    {
     "name": "stderr",
     "output_type": "stream",
     "text": [
      "Info: Params [ 0.01647543 -2.23252709  0.50217005  0.24031012] gave 88.42664293249456\n"
     ]
    },
    {
     "name": "stdout",
     "output_type": "stream",
     "text": [
      "    Participant Difficulty Incentive  Drift Rate  Boundary Separation  \\\n",
      "12           12        med      loss    0.016475              0.50217   \n",
      "\n",
      "    Non-decision Time  Effective Inhibition  \n",
      "12            0.24031             -2.232527  \n",
      "11\n"
     ]
    },
    {
     "name": "stderr",
     "output_type": "stream",
     "text": [
      "Info: Params [ 0.         -3.28785651  0.52399718  0.27563332] gave 132.37413732945527\n"
     ]
    },
    {
     "name": "stdout",
     "output_type": "stream",
     "text": [
      "    Participant Difficulty Incentive  Drift Rate  Boundary Separation  \\\n",
      "12           12        med      none         0.0             0.523997   \n",
      "\n",
      "    Non-decision Time  Effective Inhibition  \n",
      "12           0.275633             -3.287857  \n",
      "12\n"
     ]
    },
    {
     "name": "stderr",
     "output_type": "stream",
     "text": [
      "Info: Params [ 0.618895   -0.68622835  0.79379459  0.42390969] gave 204.69846317053515\n"
     ]
    },
    {
     "name": "stdout",
     "output_type": "stream",
     "text": [
      "    Participant Difficulty Incentive  Drift Rate  Boundary Separation  \\\n",
      "13           13        med      gain    0.618895             0.793795   \n",
      "\n",
      "    Non-decision Time  Effective Inhibition  \n",
      "13            0.42391             -0.686228  \n",
      "12\n"
     ]
    },
    {
     "name": "stderr",
     "output_type": "stream",
     "text": [
      "Info: Params [1.3075569  2.88574632 1.69587436 0.25758978] gave 98.40101011305313\n"
     ]
    },
    {
     "name": "stdout",
     "output_type": "stream",
     "text": [
      "    Participant Difficulty Incentive  Drift Rate  Boundary Separation  \\\n",
      "13           13        med      loss    1.307557             1.695874   \n",
      "\n",
      "    Non-decision Time  Effective Inhibition  \n",
      "13            0.25759              2.885746  \n",
      "12\n"
     ]
    },
    {
     "name": "stderr",
     "output_type": "stream",
     "text": [
      "Info: Params [0.77522345 1.05799121 0.81528372 0.37504919] gave 141.37837423565804\n"
     ]
    },
    {
     "name": "stdout",
     "output_type": "stream",
     "text": [
      "    Participant Difficulty Incentive  Drift Rate  Boundary Separation  \\\n",
      "13           13        med      none    0.775223             0.815284   \n",
      "\n",
      "    Non-decision Time  Effective Inhibition  \n",
      "13           0.375049              1.057991  \n",
      "13\n"
     ]
    },
    {
     "name": "stderr",
     "output_type": "stream",
     "text": [
      "Info: Params [1.1574372  2.99086518 2.77940301 0.10087887] gave 105.95103290747221\n"
     ]
    },
    {
     "name": "stdout",
     "output_type": "stream",
     "text": [
      "    Participant Difficulty Incentive  Drift Rate  Boundary Separation  \\\n",
      "14           14        med      gain    1.157437             2.779403   \n",
      "\n",
      "    Non-decision Time  Effective Inhibition  \n",
      "14           0.100879              2.990865  \n",
      "13\n"
     ]
    },
    {
     "name": "stderr",
     "output_type": "stream",
     "text": [
      "Info: Params [0.         1.68361117 2.12568687 0.10334368] gave 249.94955271523057\n"
     ]
    },
    {
     "name": "stdout",
     "output_type": "stream",
     "text": [
      "    Participant Difficulty Incentive  Drift Rate  Boundary Separation  \\\n",
      "14           14        med      loss         0.0             2.125687   \n",
      "\n",
      "    Non-decision Time  Effective Inhibition  \n",
      "14           0.103344              1.683611  \n",
      "13\n"
     ]
    },
    {
     "name": "stderr",
     "output_type": "stream",
     "text": [
      "Info: Params [1.01236156 0.98023342 1.03161035 0.37796098] gave 150.4979522647391\n"
     ]
    },
    {
     "name": "stdout",
     "output_type": "stream",
     "text": [
      "    Participant Difficulty Incentive  Drift Rate  Boundary Separation  \\\n",
      "14           14        med      none    1.012362              1.03161   \n",
      "\n",
      "    Non-decision Time  Effective Inhibition  \n",
      "14           0.377961              0.980233  \n",
      "14\n"
     ]
    },
    {
     "name": "stderr",
     "output_type": "stream",
     "text": [
      "Info: Params [1.05323657 2.01866609 1.36900072 0.32919127] gave 144.2307831292799\n"
     ]
    },
    {
     "name": "stdout",
     "output_type": "stream",
     "text": [
      "    Participant Difficulty Incentive  Drift Rate  Boundary Separation  \\\n",
      "15           15        med      gain    1.053237             1.369001   \n",
      "\n",
      "    Non-decision Time  Effective Inhibition  \n",
      "15           0.329191              2.018666  \n",
      "14\n"
     ]
    },
    {
     "name": "stderr",
     "output_type": "stream",
     "text": [
      "Info: Params [ 1.04521727 -2.3447092   0.62646434  0.40491789] gave 120.57246029883635\n"
     ]
    },
    {
     "name": "stdout",
     "output_type": "stream",
     "text": [
      "    Participant Difficulty Incentive  Drift Rate  Boundary Separation  \\\n",
      "15           15        med      loss    1.045217             0.626464   \n",
      "\n",
      "    Non-decision Time  Effective Inhibition  \n",
      "15           0.404918             -2.344709  \n",
      "14\n"
     ]
    },
    {
     "name": "stderr",
     "output_type": "stream",
     "text": [
      "Info: Params [1.33091618 2.35661947 2.78971983 0.24495874] gave 116.7982490700901\n"
     ]
    },
    {
     "name": "stdout",
     "output_type": "stream",
     "text": [
      "    Participant Difficulty Incentive  Drift Rate  Boundary Separation  \\\n",
      "15           15        med      none    1.330916              2.78972   \n",
      "\n",
      "    Non-decision Time  Effective Inhibition  \n",
      "15           0.244959              2.356619  \n",
      "15\n"
     ]
    },
    {
     "name": "stderr",
     "output_type": "stream",
     "text": [
      "Info: Params [ 0.36624071 -9.05148843  0.50014144  0.20007557] gave 131.91153709704813\n"
     ]
    },
    {
     "name": "stdout",
     "output_type": "stream",
     "text": [
      "    Participant Difficulty Incentive  Drift Rate  Boundary Separation  \\\n",
      "16           16        med      gain    0.366241             0.500141   \n",
      "\n",
      "    Non-decision Time  Effective Inhibition  \n",
      "16           0.200076             -9.051488  \n",
      "15\n"
     ]
    },
    {
     "name": "stderr",
     "output_type": "stream",
     "text": [
      "Info: Params [ 0.14693643 -9.4767078   0.50382775  0.19939694] gave 142.57995659142915\n"
     ]
    },
    {
     "name": "stdout",
     "output_type": "stream",
     "text": [
      "    Participant Difficulty Incentive  Drift Rate  Boundary Separation  \\\n",
      "16           16        med      loss    0.146936             0.503828   \n",
      "\n",
      "    Non-decision Time  Effective Inhibition  \n",
      "16           0.199397             -9.476708  \n",
      "15\n"
     ]
    },
    {
     "name": "stderr",
     "output_type": "stream",
     "text": [
      "Info: Params [ 0.32711388 -5.78947302  0.50231956  0.21390227] gave 111.63454889318594\n"
     ]
    },
    {
     "name": "stdout",
     "output_type": "stream",
     "text": [
      "    Participant Difficulty Incentive  Drift Rate  Boundary Separation  \\\n",
      "16           16        med      none    0.327114              0.50232   \n",
      "\n",
      "    Non-decision Time  Effective Inhibition  \n",
      "16           0.213902             -5.789473  \n",
      "16\n"
     ]
    },
    {
     "name": "stderr",
     "output_type": "stream",
     "text": [
      "Info: Params [0.07234936 0.9135791  0.83931558 0.26503428] gave 194.02912946787495\n"
     ]
    },
    {
     "name": "stdout",
     "output_type": "stream",
     "text": [
      "    Participant Difficulty Incentive  Drift Rate  Boundary Separation  \\\n",
      "17           17        med      gain    0.072349             0.839316   \n",
      "\n",
      "    Non-decision Time  Effective Inhibition  \n",
      "17           0.265034              0.913579  \n",
      "16\n"
     ]
    },
    {
     "name": "stderr",
     "output_type": "stream",
     "text": [
      "Info: Params [ 0.23503041 -2.47757777  0.59094561  0.41696325] gave 171.38567778350895\n"
     ]
    },
    {
     "name": "stdout",
     "output_type": "stream",
     "text": [
      "    Participant Difficulty Incentive  Drift Rate  Boundary Separation  \\\n",
      "17           17        med      loss     0.23503             0.590946   \n",
      "\n",
      "    Non-decision Time  Effective Inhibition  \n",
      "17           0.416963             -2.477578  \n",
      "16\n"
     ]
    },
    {
     "name": "stderr",
     "output_type": "stream",
     "text": [
      "Info: Params [0.0088095  2.87801218 1.05711722 0.2062976 ] gave 154.30425067071693\n"
     ]
    },
    {
     "name": "stdout",
     "output_type": "stream",
     "text": [
      "    Participant Difficulty Incentive  Drift Rate  Boundary Separation  \\\n",
      "17           17        med      none     0.00881             1.057117   \n",
      "\n",
      "    Non-decision Time  Effective Inhibition  \n",
      "17           0.206298              2.878012  \n",
      "17\n"
     ]
    },
    {
     "name": "stderr",
     "output_type": "stream",
     "text": [
      "Info: Params [1.55431114 3.00678436 1.07786023 0.35740353] gave 37.469655902637946\n"
     ]
    },
    {
     "name": "stdout",
     "output_type": "stream",
     "text": [
      "    Participant Difficulty Incentive  Drift Rate  Boundary Separation  \\\n",
      "18           18        med      gain    1.554311              1.07786   \n",
      "\n",
      "    Non-decision Time  Effective Inhibition  \n",
      "18           0.357404              3.006784  \n",
      "17\n"
     ]
    },
    {
     "name": "stderr",
     "output_type": "stream",
     "text": [
      "Info: Params [0.         0.92090911 0.72950729 0.38081008] gave 107.60730280739689\n"
     ]
    },
    {
     "name": "stdout",
     "output_type": "stream",
     "text": [
      "    Participant Difficulty Incentive  Drift Rate  Boundary Separation  \\\n",
      "18           18        med      loss         0.0             0.729507   \n",
      "\n",
      "    Non-decision Time  Effective Inhibition  \n",
      "18            0.38081              0.920909  \n",
      "17\n"
     ]
    },
    {
     "name": "stderr",
     "output_type": "stream",
     "text": [
      "Info: Params [0.94339156 4.32528775 1.80042472 0.1604738 ] gave 67.940682109054\n"
     ]
    },
    {
     "name": "stdout",
     "output_type": "stream",
     "text": [
      "    Participant Difficulty Incentive  Drift Rate  Boundary Separation  \\\n",
      "18           18        med      none    0.943392             1.800425   \n",
      "\n",
      "    Non-decision Time  Effective Inhibition  \n",
      "18           0.160474              4.325288  \n",
      "18\n"
     ]
    },
    {
     "name": "stderr",
     "output_type": "stream",
     "text": [
      "Info: Params [ 0.03560088 -5.80211852  0.52673389  0.21579228] gave 143.12648993303767\n"
     ]
    },
    {
     "name": "stdout",
     "output_type": "stream",
     "text": [
      "    Participant Difficulty Incentive  Drift Rate  Boundary Separation  \\\n",
      "19           19        med      gain    0.035601             0.526734   \n",
      "\n",
      "    Non-decision Time  Effective Inhibition  \n",
      "19           0.215792             -5.802119  \n",
      "18\n"
     ]
    },
    {
     "name": "stderr",
     "output_type": "stream",
     "text": [
      "Info: Params [0.14737457 2.60779221 1.74216641 0.10074279] gave 137.04287500918664\n"
     ]
    },
    {
     "name": "stdout",
     "output_type": "stream",
     "text": [
      "    Participant Difficulty Incentive  Drift Rate  Boundary Separation  \\\n",
      "19           19        med      loss    0.147375             1.742166   \n",
      "\n",
      "    Non-decision Time  Effective Inhibition  \n",
      "19           0.100743              2.607792  \n",
      "18\n"
     ]
    },
    {
     "name": "stderr",
     "output_type": "stream",
     "text": [
      "Info: Params [0.08751174 2.45509829 1.38285209 0.10659074] gave 174.10595585052138\n"
     ]
    },
    {
     "name": "stdout",
     "output_type": "stream",
     "text": [
      "    Participant Difficulty Incentive  Drift Rate  Boundary Separation  \\\n",
      "19           19        med      none    0.087512             1.382852   \n",
      "\n",
      "    Non-decision Time  Effective Inhibition  \n",
      "19           0.106591              2.455098  \n",
      "19\n"
     ]
    },
    {
     "name": "stderr",
     "output_type": "stream",
     "text": [
      "Info: Params [0.25335104 2.55168191 2.36154733 0.10403758] gave 204.38310037077818\n"
     ]
    },
    {
     "name": "stdout",
     "output_type": "stream",
     "text": [
      "    Participant Difficulty Incentive  Drift Rate  Boundary Separation  \\\n",
      "20           20        med      gain    0.253351             2.361547   \n",
      "\n",
      "    Non-decision Time  Effective Inhibition  \n",
      "20           0.104038              2.551682  \n",
      "19\n"
     ]
    },
    {
     "name": "stderr",
     "output_type": "stream",
     "text": [
      "Info: Params [0.17790188 2.96098191 2.00598046 0.10184126] gave 175.63518661822292\n"
     ]
    },
    {
     "name": "stdout",
     "output_type": "stream",
     "text": [
      "    Participant Difficulty Incentive  Drift Rate  Boundary Separation  \\\n",
      "20           20        med      loss    0.177902              2.00598   \n",
      "\n",
      "    Non-decision Time  Effective Inhibition  \n",
      "20           0.101841              2.960982  \n",
      "19\n"
     ]
    },
    {
     "name": "stderr",
     "output_type": "stream",
     "text": [
      "Info: Params [0.47117872 3.23636658 2.5432219  0.10546773] gave 164.13363022210766\n"
     ]
    },
    {
     "name": "stdout",
     "output_type": "stream",
     "text": [
      "    Participant Difficulty Incentive  Drift Rate  Boundary Separation  \\\n",
      "20           20        med      none    0.471179             2.543222   \n",
      "\n",
      "    Non-decision Time  Effective Inhibition  \n",
      "20           0.105468              3.236367  \n",
      "20\n"
     ]
    },
    {
     "name": "stderr",
     "output_type": "stream",
     "text": [
      "Info: Params [ 1.06910306 -6.28544915  0.55905939  0.46445789] gave 165.07010586297818\n"
     ]
    },
    {
     "name": "stdout",
     "output_type": "stream",
     "text": [
      "    Participant Difficulty Incentive  Drift Rate  Boundary Separation  \\\n",
      "21           21        med      gain    1.069103             0.559059   \n",
      "\n",
      "    Non-decision Time  Effective Inhibition  \n",
      "21           0.464458             -6.285449  \n",
      "20\n"
     ]
    },
    {
     "name": "stderr",
     "output_type": "stream",
     "text": [
      "Info: Params [1.09670179 2.76116994 1.66479269 0.28792261] gave 136.14668453381748\n"
     ]
    },
    {
     "name": "stdout",
     "output_type": "stream",
     "text": [
      "    Participant Difficulty Incentive  Drift Rate  Boundary Separation  \\\n",
      "21           21        med      loss    1.096702             1.664793   \n",
      "\n",
      "    Non-decision Time  Effective Inhibition  \n",
      "21           0.287923               2.76117  \n",
      "20\n"
     ]
    },
    {
     "name": "stderr",
     "output_type": "stream",
     "text": [
      "Info: Params [0.7744253  3.26823521 2.08801861 0.24399257] gave 127.91246052948028\n"
     ]
    },
    {
     "name": "stdout",
     "output_type": "stream",
     "text": [
      "    Participant Difficulty Incentive  Drift Rate  Boundary Separation  \\\n",
      "21           21        med      none    0.774425             2.088019   \n",
      "\n",
      "    Non-decision Time  Effective Inhibition  \n",
      "21           0.243993              3.268235  \n",
      "21\n"
     ]
    },
    {
     "name": "stderr",
     "output_type": "stream",
     "text": [
      "Info: Params [1.31304465 5.06385991 2.99939289 0.21257592] gave 24.33615917500051\n"
     ]
    },
    {
     "name": "stdout",
     "output_type": "stream",
     "text": [
      "    Participant Difficulty Incentive  Drift Rate  Boundary Separation  \\\n",
      "22           22        med      gain    1.313045             2.999393   \n",
      "\n",
      "    Non-decision Time  Effective Inhibition  \n",
      "22           0.212576               5.06386  \n",
      "21\n"
     ]
    },
    {
     "name": "stderr",
     "output_type": "stream",
     "text": [
      "Info: Params [0.7703381  3.02843359 1.16304546 0.36061938] gave 128.3002847342544\n"
     ]
    },
    {
     "name": "stdout",
     "output_type": "stream",
     "text": [
      "    Participant Difficulty Incentive  Drift Rate  Boundary Separation  \\\n",
      "22           22        med      loss    0.770338             1.163045   \n",
      "\n",
      "    Non-decision Time  Effective Inhibition  \n",
      "22           0.360619              3.028434  \n",
      "21\n"
     ]
    },
    {
     "name": "stderr",
     "output_type": "stream",
     "text": [
      "Info: Params [1.42922925 3.50287142 1.2292188  0.34811378] gave 65.54721279772566\n"
     ]
    },
    {
     "name": "stdout",
     "output_type": "stream",
     "text": [
      "    Participant Difficulty Incentive  Drift Rate  Boundary Separation  \\\n",
      "22           22        med      none    1.429229             1.229219   \n",
      "\n",
      "    Non-decision Time  Effective Inhibition  \n",
      "22           0.348114              3.502871  \n",
      "22\n"
     ]
    },
    {
     "name": "stderr",
     "output_type": "stream",
     "text": [
      "Info: Params [0.05811128 2.09995086 1.34160663 0.10594747] gave 183.82709468117542\n"
     ]
    },
    {
     "name": "stdout",
     "output_type": "stream",
     "text": [
      "    Participant Difficulty Incentive  Drift Rate  Boundary Separation  \\\n",
      "23           23        med      gain    0.058111             1.341607   \n",
      "\n",
      "    Non-decision Time  Effective Inhibition  \n",
      "23           0.105947              2.099951  \n",
      "22\n"
     ]
    },
    {
     "name": "stderr",
     "output_type": "stream",
     "text": [
      "Info: Params [0.16238457 1.86654    1.23276922 0.10061941] gave 185.10020986354408\n"
     ]
    },
    {
     "name": "stdout",
     "output_type": "stream",
     "text": [
      "    Participant Difficulty Incentive  Drift Rate  Boundary Separation  \\\n",
      "23           23        med      loss    0.162385             1.232769   \n",
      "\n",
      "    Non-decision Time  Effective Inhibition  \n",
      "23           0.100619               1.86654  \n",
      "22\n"
     ]
    },
    {
     "name": "stderr",
     "output_type": "stream",
     "text": [
      "Info: Params [0.         2.84343922 1.90369442 0.1018797 ] gave 186.78162516152312\n"
     ]
    },
    {
     "name": "stdout",
     "output_type": "stream",
     "text": [
      "    Participant Difficulty Incentive  Drift Rate  Boundary Separation  \\\n",
      "23           23        med      none         0.0             1.903694   \n",
      "\n",
      "    Non-decision Time  Effective Inhibition  \n",
      "23            0.10188              2.843439  \n",
      "23\n"
     ]
    },
    {
     "name": "stderr",
     "output_type": "stream",
     "text": [
      "Info: Params [0.13241647 3.41306559 2.98968973 0.30069562] gave 148.30771692489213\n"
     ]
    },
    {
     "name": "stdout",
     "output_type": "stream",
     "text": [
      "    Participant Difficulty Incentive  Drift Rate  Boundary Separation  \\\n",
      "24           24        med      gain    0.132416              2.98969   \n",
      "\n",
      "    Non-decision Time  Effective Inhibition  \n",
      "24           0.300696              3.413066  \n",
      "23\n"
     ]
    },
    {
     "name": "stderr",
     "output_type": "stream",
     "text": [
      "Info: Params [0.         4.08147591 2.92178296 0.36339314] gave 125.59555384470082\n"
     ]
    },
    {
     "name": "stdout",
     "output_type": "stream",
     "text": [
      "    Participant Difficulty Incentive  Drift Rate  Boundary Separation  \\\n",
      "24           24        med      loss         0.0             2.921783   \n",
      "\n",
      "    Non-decision Time  Effective Inhibition  \n",
      "24           0.363393              4.081476  \n",
      "23\n"
     ]
    },
    {
     "name": "stderr",
     "output_type": "stream",
     "text": [
      "Info: Params [0.09601487 3.24876529 2.99920209 0.13038832] gave 120.87917388783586\n"
     ]
    },
    {
     "name": "stdout",
     "output_type": "stream",
     "text": [
      "    Participant Difficulty Incentive  Drift Rate  Boundary Separation  \\\n",
      "24           24        med      none    0.096015             2.999202   \n",
      "\n",
      "    Non-decision Time  Effective Inhibition  \n",
      "24           0.130388              3.248765  \n",
      "24\n"
     ]
    },
    {
     "name": "stderr",
     "output_type": "stream",
     "text": [
      "Info: Params [ 1.20338412 -2.71338715  0.52397604  0.3901154 ] gave 55.62494307008439\n"
     ]
    },
    {
     "name": "stdout",
     "output_type": "stream",
     "text": [
      "    Participant Difficulty Incentive  Drift Rate  Boundary Separation  \\\n",
      "25           25        med      gain    1.203384             0.523976   \n",
      "\n",
      "    Non-decision Time  Effective Inhibition  \n",
      "25           0.390115             -2.713387  \n",
      "24\n"
     ]
    },
    {
     "name": "stderr",
     "output_type": "stream",
     "text": [
      "Info: Params [1.53188012 2.94008805 1.21188277 0.27552659] gave 54.64101331817201\n"
     ]
    },
    {
     "name": "stdout",
     "output_type": "stream",
     "text": [
      "    Participant Difficulty Incentive  Drift Rate  Boundary Separation  \\\n",
      "25           25        med      loss     1.53188             1.211883   \n",
      "\n",
      "    Non-decision Time  Effective Inhibition  \n",
      "25           0.275527              2.940088  \n",
      "24\n"
     ]
    },
    {
     "name": "stderr",
     "output_type": "stream",
     "text": [
      "Info: Params [0.64550563 2.75749263 0.72676815 0.34718766] gave 81.5166435316554\n"
     ]
    },
    {
     "name": "stdout",
     "output_type": "stream",
     "text": [
      "    Participant Difficulty Incentive  Drift Rate  Boundary Separation  \\\n",
      "25           25        med      none    0.645506             0.726768   \n",
      "\n",
      "    Non-decision Time  Effective Inhibition  \n",
      "25           0.347188              2.757493  \n",
      "25\n"
     ]
    },
    {
     "name": "stderr",
     "output_type": "stream",
     "text": [
      "Info: Params [0.90045219 3.23817009 1.86276209 0.28067063] gave 112.79814361083169\n"
     ]
    },
    {
     "name": "stdout",
     "output_type": "stream",
     "text": [
      "    Participant Difficulty Incentive  Drift Rate  Boundary Separation  \\\n",
      "26           26        med      gain    0.900452             1.862762   \n",
      "\n",
      "    Non-decision Time  Effective Inhibition  \n",
      "26           0.280671               3.23817  \n",
      "25\n"
     ]
    },
    {
     "name": "stderr",
     "output_type": "stream",
     "text": [
      "Info: Params [0.93742561 3.98704338 1.7927886  0.20285109] gave 86.49452902337973\n"
     ]
    },
    {
     "name": "stdout",
     "output_type": "stream",
     "text": [
      "    Participant Difficulty Incentive  Drift Rate  Boundary Separation  \\\n",
      "26           26        med      loss    0.937426             1.792789   \n",
      "\n",
      "    Non-decision Time  Effective Inhibition  \n",
      "26           0.202851              3.987043  \n",
      "25\n"
     ]
    },
    {
     "name": "stderr",
     "output_type": "stream",
     "text": [
      "Info: Params [1.10730058 3.41931818 2.99358255 0.23426652] gave 108.74208589169521\n"
     ]
    },
    {
     "name": "stdout",
     "output_type": "stream",
     "text": [
      "    Participant Difficulty Incentive  Drift Rate  Boundary Separation  \\\n",
      "26           26        med      none    1.107301             2.993583   \n",
      "\n",
      "    Non-decision Time  Effective Inhibition  \n",
      "26           0.234267              3.419318  \n",
      "26\n"
     ]
    },
    {
     "name": "stderr",
     "output_type": "stream",
     "text": [
      "Info: Params [1.23722462 2.48152592 1.93414488 0.29945546] gave 112.89793983228648\n"
     ]
    },
    {
     "name": "stdout",
     "output_type": "stream",
     "text": [
      "    Participant Difficulty Incentive  Drift Rate  Boundary Separation  \\\n",
      "27           27        med      gain    1.237225             1.934145   \n",
      "\n",
      "    Non-decision Time  Effective Inhibition  \n",
      "27           0.299455              2.481526  \n",
      "26\n"
     ]
    },
    {
     "name": "stderr",
     "output_type": "stream",
     "text": [
      "Info: Params [0.7232132  2.77831759 1.70528886 0.40551538] gave 146.32912585005576\n"
     ]
    },
    {
     "name": "stdout",
     "output_type": "stream",
     "text": [
      "    Participant Difficulty Incentive  Drift Rate  Boundary Separation  \\\n",
      "27           27        med      loss    0.723213             1.705289   \n",
      "\n",
      "    Non-decision Time  Effective Inhibition  \n",
      "27           0.405515              2.778318  \n",
      "26\n"
     ]
    },
    {
     "name": "stderr",
     "output_type": "stream",
     "text": [
      "Info: Params [1.19110497 0.59733615 0.87924497 0.50145963] gave 113.9330883426553\n"
     ]
    },
    {
     "name": "stdout",
     "output_type": "stream",
     "text": [
      "    Participant Difficulty Incentive  Drift Rate  Boundary Separation  \\\n",
      "27           27        med      none    1.191105             0.879245   \n",
      "\n",
      "    Non-decision Time  Effective Inhibition  \n",
      "27            0.50146              0.597336  \n",
      "27\n"
     ]
    },
    {
     "name": "stderr",
     "output_type": "stream",
     "text": [
      "Info: Params [0.         2.23447805 2.26600558 0.1012908 ] gave 224.80746174217398\n"
     ]
    },
    {
     "name": "stdout",
     "output_type": "stream",
     "text": [
      "    Participant Difficulty Incentive  Drift Rate  Boundary Separation  \\\n",
      "28           28        med      gain         0.0             2.266006   \n",
      "\n",
      "    Non-decision Time  Effective Inhibition  \n",
      "28           0.101291              2.234478  \n",
      "27\n"
     ]
    },
    {
     "name": "stderr",
     "output_type": "stream",
     "text": [
      "Info: Params [0.04399672 2.25884581 2.13776092 0.10048689] gave 218.02697529742412\n"
     ]
    },
    {
     "name": "stdout",
     "output_type": "stream",
     "text": [
      "    Participant Difficulty Incentive  Drift Rate  Boundary Separation  \\\n",
      "28           28        med      loss    0.043997             2.137761   \n",
      "\n",
      "    Non-decision Time  Effective Inhibition  \n",
      "28           0.100487              2.258846  \n",
      "27\n"
     ]
    },
    {
     "name": "stderr",
     "output_type": "stream",
     "text": [
      "Info: Params [0.22234301 2.11768338 2.02348284 0.1027226 ] gave 216.4836192118974\n"
     ]
    },
    {
     "name": "stdout",
     "output_type": "stream",
     "text": [
      "    Participant Difficulty Incentive  Drift Rate  Boundary Separation  \\\n",
      "28           28        med      none    0.222343             2.023483   \n",
      "\n",
      "    Non-decision Time  Effective Inhibition  \n",
      "28           0.102723              2.117683  \n",
      "28\n"
     ]
    },
    {
     "name": "stderr",
     "output_type": "stream",
     "text": [
      "Info: Params [0.83767511 3.28809005 2.36393991 0.28050367] gave 133.20740096641\n"
     ]
    },
    {
     "name": "stdout",
     "output_type": "stream",
     "text": [
      "    Participant Difficulty Incentive  Drift Rate  Boundary Separation  \\\n",
      "29           29        med      gain    0.837675              2.36394   \n",
      "\n",
      "    Non-decision Time  Effective Inhibition  \n",
      "29           0.280504               3.28809  \n",
      "28\n"
     ]
    },
    {
     "name": "stderr",
     "output_type": "stream",
     "text": [
      "Info: Params [0.         1.63696509 1.64044623 0.10014196] gave 247.86363989341814\n"
     ]
    },
    {
     "name": "stdout",
     "output_type": "stream",
     "text": [
      "    Participant Difficulty Incentive  Drift Rate  Boundary Separation  \\\n",
      "29           29        med      loss         0.0             1.640446   \n",
      "\n",
      "    Non-decision Time  Effective Inhibition  \n",
      "29           0.100142              1.636965  \n",
      "28\n"
     ]
    },
    {
     "name": "stderr",
     "output_type": "stream",
     "text": [
      "Info: Params [0.46149353 2.13836624 2.93696029 0.20913673] gave 206.26808302841852\n"
     ]
    },
    {
     "name": "stdout",
     "output_type": "stream",
     "text": [
      "    Participant Difficulty Incentive  Drift Rate  Boundary Separation  \\\n",
      "29           29        med      none    0.461494              2.93696   \n",
      "\n",
      "    Non-decision Time  Effective Inhibition  \n",
      "29           0.209137              2.138366  \n",
      "29\n"
     ]
    },
    {
     "name": "stderr",
     "output_type": "stream",
     "text": [
      "Info: Params [1.59673989 2.31363204 1.06217685 0.45878392] gave 41.67740960867671\n"
     ]
    },
    {
     "name": "stdout",
     "output_type": "stream",
     "text": [
      "    Participant Difficulty Incentive  Drift Rate  Boundary Separation  \\\n",
      "30           30        med      gain     1.59674             1.062177   \n",
      "\n",
      "    Non-decision Time  Effective Inhibition  \n",
      "30           0.458784              2.313632  \n",
      "29\n"
     ]
    },
    {
     "name": "stderr",
     "output_type": "stream",
     "text": [
      "Info: Params [0.65820708 3.25301082 2.8909576  0.17234207] gave 142.87951954308366\n"
     ]
    },
    {
     "name": "stdout",
     "output_type": "stream",
     "text": [
      "    Participant Difficulty Incentive  Drift Rate  Boundary Separation  \\\n",
      "30           30        med      loss    0.658207             2.890958   \n",
      "\n",
      "    Non-decision Time  Effective Inhibition  \n",
      "30           0.172342              3.253011  \n",
      "29\n"
     ]
    },
    {
     "name": "stderr",
     "output_type": "stream",
     "text": [
      "Info: Params [0.99024485 3.42218277 1.25561881 0.42087896] gave 80.96772826426908\n"
     ]
    },
    {
     "name": "stdout",
     "output_type": "stream",
     "text": [
      "    Participant Difficulty Incentive  Drift Rate  Boundary Separation  \\\n",
      "30           30        med      none    0.990245             1.255619   \n",
      "\n",
      "    Non-decision Time  Effective Inhibition  \n",
      "30           0.420879              3.422183  \n",
      "30\n"
     ]
    },
    {
     "name": "stderr",
     "output_type": "stream",
     "text": [
      "Info: Params [0.13201376 2.62099058 2.96875    0.17393575] gave 193.1548964173333\n"
     ]
    },
    {
     "name": "stdout",
     "output_type": "stream",
     "text": [
      "    Participant Difficulty Incentive  Drift Rate  Boundary Separation  \\\n",
      "31           31        med      gain    0.132014              2.96875   \n",
      "\n",
      "    Non-decision Time  Effective Inhibition  \n",
      "31           0.173936              2.620991  \n",
      "30\n"
     ]
    },
    {
     "name": "stderr",
     "output_type": "stream",
     "text": [
      "Info: Params [0.54506844 1.82677683 1.52162298 0.23092196] gave 201.83221691572527\n"
     ]
    },
    {
     "name": "stdout",
     "output_type": "stream",
     "text": [
      "    Participant Difficulty Incentive  Drift Rate  Boundary Separation  \\\n",
      "31           31        med      loss    0.545068             1.521623   \n",
      "\n",
      "    Non-decision Time  Effective Inhibition  \n",
      "31           0.230922              1.826777  \n",
      "30\n"
     ]
    },
    {
     "name": "stderr",
     "output_type": "stream",
     "text": [
      "Info: Params [0.43481648 2.5411453  2.89749367 0.24985909] gave 174.6228817431438\n"
     ]
    },
    {
     "name": "stdout",
     "output_type": "stream",
     "text": [
      "    Participant Difficulty Incentive  Drift Rate  Boundary Separation  \\\n",
      "31           31        med      none    0.434816             2.897494   \n",
      "\n",
      "    Non-decision Time  Effective Inhibition  \n",
      "31           0.249859              2.541145  \n",
      "31\n"
     ]
    },
    {
     "name": "stderr",
     "output_type": "stream",
     "text": [
      "Info: Params [1.02461195 2.70842659 1.19850935 0.3784331 ] gave 107.50229218726983\n"
     ]
    },
    {
     "name": "stdout",
     "output_type": "stream",
     "text": [
      "    Participant Difficulty Incentive  Drift Rate  Boundary Separation  \\\n",
      "32           32        med      gain    1.024612             1.198509   \n",
      "\n",
      "    Non-decision Time  Effective Inhibition  \n",
      "32           0.378433              2.708427  \n",
      "31\n"
     ]
    },
    {
     "name": "stderr",
     "output_type": "stream",
     "text": [
      "Info: Params [0.68932241 2.42587013 2.41687038 0.13069528] gave 178.07126023398237\n"
     ]
    },
    {
     "name": "stdout",
     "output_type": "stream",
     "text": [
      "    Participant Difficulty Incentive  Drift Rate  Boundary Separation  \\\n",
      "32           32        med      loss    0.689322              2.41687   \n",
      "\n",
      "    Non-decision Time  Effective Inhibition  \n",
      "32           0.130695               2.42587  \n",
      "31\n"
     ]
    },
    {
     "name": "stderr",
     "output_type": "stream",
     "text": [
      "Info: Params [1.19776687 1.93219183 0.80216066 0.44376117] gave 69.48040393900992\n"
     ]
    },
    {
     "name": "stdout",
     "output_type": "stream",
     "text": [
      "    Participant Difficulty Incentive  Drift Rate  Boundary Separation  \\\n",
      "32           32        med      none    1.197767             0.802161   \n",
      "\n",
      "    Non-decision Time  Effective Inhibition  \n",
      "32           0.443761              1.932192  \n",
      "32\n"
     ]
    },
    {
     "name": "stderr",
     "output_type": "stream",
     "text": [
      "Info: Params [0.16283353 1.87172641 1.08205253 0.19913779] gave 197.89964181884855\n"
     ]
    },
    {
     "name": "stdout",
     "output_type": "stream",
     "text": [
      "    Participant Difficulty Incentive  Drift Rate  Boundary Separation  \\\n",
      "33           33        med      gain    0.162834             1.082053   \n",
      "\n",
      "    Non-decision Time  Effective Inhibition  \n",
      "33           0.199138              1.871726  \n",
      "32\n"
     ]
    },
    {
     "name": "stderr",
     "output_type": "stream",
     "text": [
      "Info: Params [0.         2.4560552  1.07638464 0.16817672] gave 166.34634900972188\n"
     ]
    },
    {
     "name": "stdout",
     "output_type": "stream",
     "text": [
      "    Participant Difficulty Incentive  Drift Rate  Boundary Separation  \\\n",
      "33           33        med      loss         0.0             1.076385   \n",
      "\n",
      "    Non-decision Time  Effective Inhibition  \n",
      "33           0.168177              2.456055  \n",
      "32\n"
     ]
    },
    {
     "name": "stderr",
     "output_type": "stream",
     "text": [
      "Info: Params [0.15121319 3.38197838 1.27140699 0.17803893] gave 146.49854663796708\n"
     ]
    },
    {
     "name": "stdout",
     "output_type": "stream",
     "text": [
      "    Participant Difficulty Incentive  Drift Rate  Boundary Separation  \\\n",
      "33           33        med      none    0.151213             1.271407   \n",
      "\n",
      "    Non-decision Time  Effective Inhibition  \n",
      "33           0.178039              3.381978  \n",
      "33\n"
     ]
    },
    {
     "name": "stderr",
     "output_type": "stream",
     "text": [
      "Info: Params [1.0212845  4.64487376 1.53206648 0.39616878] gave 46.01086254211758\n"
     ]
    },
    {
     "name": "stdout",
     "output_type": "stream",
     "text": [
      "    Participant Difficulty Incentive  Drift Rate  Boundary Separation  \\\n",
      "34           34        med      gain    1.021285             1.532066   \n",
      "\n",
      "    Non-decision Time  Effective Inhibition  \n",
      "34           0.396169              4.644874  \n",
      "33\n"
     ]
    },
    {
     "name": "stderr",
     "output_type": "stream",
     "text": [
      "Info: Params [0.75540962 3.28212554 2.20454083 0.21761386] gave 122.87595824054867\n"
     ]
    },
    {
     "name": "stdout",
     "output_type": "stream",
     "text": [
      "    Participant Difficulty Incentive  Drift Rate  Boundary Separation  \\\n",
      "34           34        med      loss     0.75541             2.204541   \n",
      "\n",
      "    Non-decision Time  Effective Inhibition  \n",
      "34           0.217614              3.282126  \n",
      "33\n"
     ]
    },
    {
     "name": "stderr",
     "output_type": "stream",
     "text": [
      "Info: Params [1.08064503 4.70619712 2.8462688  0.30556131] gave 54.772625675607244\n"
     ]
    },
    {
     "name": "stdout",
     "output_type": "stream",
     "text": [
      "    Participant Difficulty Incentive  Drift Rate  Boundary Separation  \\\n",
      "34           34        med      none    1.080645             2.846269   \n",
      "\n",
      "    Non-decision Time  Effective Inhibition  \n",
      "34           0.305561              4.706197  \n",
      "34\n"
     ]
    },
    {
     "name": "stderr",
     "output_type": "stream",
     "text": [
      "Info: Params [0.23765655 3.38340027 2.1930888  0.10389837] gave 150.67254172059384\n"
     ]
    },
    {
     "name": "stdout",
     "output_type": "stream",
     "text": [
      "    Participant Difficulty Incentive  Drift Rate  Boundary Separation  \\\n",
      "35           35        med      gain    0.237657             2.193089   \n",
      "\n",
      "    Non-decision Time  Effective Inhibition  \n",
      "35           0.103898                3.3834  \n",
      "34\n"
     ]
    },
    {
     "name": "stderr",
     "output_type": "stream",
     "text": [
      "Info: Params [0.08426382 1.92057361 0.94977385 0.24412642] gave 177.7453796460462\n"
     ]
    },
    {
     "name": "stdout",
     "output_type": "stream",
     "text": [
      "    Participant Difficulty Incentive  Drift Rate  Boundary Separation  \\\n",
      "35           35        med      loss    0.084264             0.949774   \n",
      "\n",
      "    Non-decision Time  Effective Inhibition  \n",
      "35           0.244126              1.920574  \n",
      "34\n"
     ]
    },
    {
     "name": "stderr",
     "output_type": "stream",
     "text": [
      "Info: Params [0.07915458 2.97329229 1.71831807 0.11491229] gave 177.55706028531682\n"
     ]
    },
    {
     "name": "stdout",
     "output_type": "stream",
     "text": [
      "    Participant Difficulty Incentive  Drift Rate  Boundary Separation  \\\n",
      "35           35        med      none    0.079155             1.718318   \n",
      "\n",
      "    Non-decision Time  Effective Inhibition  \n",
      "35           0.114912              2.973292  \n"
     ]
    }
   ],
   "source": [
    "#data_dir = \"/Users/wangjiashun/Desktop/SAT-Rafiei/data/data_sub\"\n",
    "df_all = pd.DataFrame(columns = ['Participant', 'Difficulty','Incentive', 'Drift Rate',\n",
    "                                 'Boundary Separation','Non-decision Time','Effective Inhibition'],)\n",
    "\n",
    "#i=1\n",
    "for i in range(35):\n",
    "    for j in range(1):\n",
    "        for k in range(3):\n",
    "\n",
    "            print(i)\n",
    "            df_sub = df[df[\"s\"]==(i+1)]\n",
    "            df_sub_cond = df_sub[df_sub[\"Diff\"]==Difficulty[j]]\n",
    "            df_sub_cond = df_sub_cond[df_sub_cond[\"Inc\"]==Incentive[k]]\n",
    "            \n",
    "            samp = Sample.from_pandas_dataframe(df_sub_cond, rt_column_name=\"RT\", correct_column_name=\"iscorrect\")\n",
    "\n",
    "            model_fit = Model(name='Simple model (fitted)',\n",
    "                          drift=DriftLinear(drift=Fittable(minval=0, maxval=4),\n",
    "                                            t = 0,\n",
    "                                            x=Fittable(minval=-10, maxval=10)),\n",
    "                          noise=NoiseConstant(noise=1),\n",
    "                          bound=BoundConstant(B=Fittable(minval=0.5, maxval=3)),\n",
    "                          overlay=OverlayNonDecision(nondectime=Fittable(minval=0.1, maxval=1)),\n",
    "                          dx=.001, dt=.001, T_dur=2.1)\n",
    "\n",
    "            fit_adjust_model(samp, model_fit,\n",
    "                             fitting_method=\"differential_evolution\",\n",
    "                             lossfunction=LossRobustBIC, verbose=False)\n",
    "\n",
    "            df_sub = pd.DataFrame(columns = ['Frequency', 'SAT', 'Participant', 'v','a','ter','k'],)\n",
    "\n",
    "            df_sub = pd.DataFrame({\n",
    "                                   'Participant': i+1,\n",
    "                                   'Difficulty': Difficulty[j],\n",
    "                                   'Incentive': Incentive[k],\n",
    "                                   'Drift Rate': np.array(model_fit.parameters()['drift']['drift']), \n",
    "                                   'Boundary Separation': np.array(model_fit.parameters()['bound']['B']),\n",
    "                                   'Non-decision Time': np.array(model_fit.parameters()['overlay']['nondectime']),\n",
    "                                   'Effective Inhibition': np.array(model_fit.parameters()['drift']['x'])\n",
    "                                  }, index=[i+1])\n",
    "\n",
    "            df_all = df_all.append(df_sub)\n",
    "            df_all.to_csv(\"OUMresultBallard2019.csv\")\n",
    "            print(df_sub)\n"
   ]
  },
  {
   "cell_type": "code",
   "execution_count": 83,
   "id": "fbb33721",
   "metadata": {
    "scrolled": true
   },
   "outputs": [],
   "source": [
    "df_all = pd.read_csv(\"OUMresultBallard2019.csv\")\n"
   ]
  },
  {
   "cell_type": "code",
   "execution_count": 84,
   "id": "4b3f4eb3",
   "metadata": {},
   "outputs": [
    {
     "data": {
      "text/html": [
       "<div>\n",
       "<style scoped>\n",
       "    .dataframe tbody tr th:only-of-type {\n",
       "        vertical-align: middle;\n",
       "    }\n",
       "\n",
       "    .dataframe tbody tr th {\n",
       "        vertical-align: top;\n",
       "    }\n",
       "\n",
       "    .dataframe thead th {\n",
       "        text-align: right;\n",
       "    }\n",
       "</style>\n",
       "<table border=\"1\" class=\"dataframe\">\n",
       "  <thead>\n",
       "    <tr style=\"text-align: right;\">\n",
       "      <th></th>\n",
       "      <th>Unnamed: 0</th>\n",
       "      <th>Participant</th>\n",
       "      <th>Difficulty</th>\n",
       "      <th>Incentive</th>\n",
       "      <th>Drift Rate</th>\n",
       "      <th>Boundary Separation</th>\n",
       "      <th>Non-decision Time</th>\n",
       "      <th>Effective Inhibition</th>\n",
       "    </tr>\n",
       "  </thead>\n",
       "  <tbody>\n",
       "    <tr>\n",
       "      <th>0</th>\n",
       "      <td>1</td>\n",
       "      <td>1</td>\n",
       "      <td>med</td>\n",
       "      <td>gain</td>\n",
       "      <td>0.091098</td>\n",
       "      <td>2.802807</td>\n",
       "      <td>0.114229</td>\n",
       "      <td>3.083776</td>\n",
       "    </tr>\n",
       "    <tr>\n",
       "      <th>1</th>\n",
       "      <td>1</td>\n",
       "      <td>1</td>\n",
       "      <td>med</td>\n",
       "      <td>loss</td>\n",
       "      <td>0.141989</td>\n",
       "      <td>2.293854</td>\n",
       "      <td>0.184924</td>\n",
       "      <td>2.055290</td>\n",
       "    </tr>\n",
       "    <tr>\n",
       "      <th>2</th>\n",
       "      <td>1</td>\n",
       "      <td>1</td>\n",
       "      <td>med</td>\n",
       "      <td>none</td>\n",
       "      <td>0.043654</td>\n",
       "      <td>2.960749</td>\n",
       "      <td>0.139671</td>\n",
       "      <td>2.217293</td>\n",
       "    </tr>\n",
       "    <tr>\n",
       "      <th>3</th>\n",
       "      <td>2</td>\n",
       "      <td>2</td>\n",
       "      <td>med</td>\n",
       "      <td>gain</td>\n",
       "      <td>0.297262</td>\n",
       "      <td>2.962479</td>\n",
       "      <td>0.288727</td>\n",
       "      <td>3.073818</td>\n",
       "    </tr>\n",
       "    <tr>\n",
       "      <th>4</th>\n",
       "      <td>2</td>\n",
       "      <td>2</td>\n",
       "      <td>med</td>\n",
       "      <td>loss</td>\n",
       "      <td>0.096744</td>\n",
       "      <td>2.802844</td>\n",
       "      <td>0.221691</td>\n",
       "      <td>2.663256</td>\n",
       "    </tr>\n",
       "    <tr>\n",
       "      <th>...</th>\n",
       "      <td>...</td>\n",
       "      <td>...</td>\n",
       "      <td>...</td>\n",
       "      <td>...</td>\n",
       "      <td>...</td>\n",
       "      <td>...</td>\n",
       "      <td>...</td>\n",
       "      <td>...</td>\n",
       "    </tr>\n",
       "    <tr>\n",
       "      <th>100</th>\n",
       "      <td>34</td>\n",
       "      <td>34</td>\n",
       "      <td>med</td>\n",
       "      <td>loss</td>\n",
       "      <td>0.755410</td>\n",
       "      <td>2.204541</td>\n",
       "      <td>0.217614</td>\n",
       "      <td>3.282126</td>\n",
       "    </tr>\n",
       "    <tr>\n",
       "      <th>101</th>\n",
       "      <td>34</td>\n",
       "      <td>34</td>\n",
       "      <td>med</td>\n",
       "      <td>none</td>\n",
       "      <td>1.080645</td>\n",
       "      <td>2.846269</td>\n",
       "      <td>0.305561</td>\n",
       "      <td>4.706197</td>\n",
       "    </tr>\n",
       "    <tr>\n",
       "      <th>102</th>\n",
       "      <td>35</td>\n",
       "      <td>35</td>\n",
       "      <td>med</td>\n",
       "      <td>gain</td>\n",
       "      <td>0.237657</td>\n",
       "      <td>2.193089</td>\n",
       "      <td>0.103898</td>\n",
       "      <td>3.383400</td>\n",
       "    </tr>\n",
       "    <tr>\n",
       "      <th>103</th>\n",
       "      <td>35</td>\n",
       "      <td>35</td>\n",
       "      <td>med</td>\n",
       "      <td>loss</td>\n",
       "      <td>0.084264</td>\n",
       "      <td>0.949774</td>\n",
       "      <td>0.244126</td>\n",
       "      <td>1.920574</td>\n",
       "    </tr>\n",
       "    <tr>\n",
       "      <th>104</th>\n",
       "      <td>35</td>\n",
       "      <td>35</td>\n",
       "      <td>med</td>\n",
       "      <td>none</td>\n",
       "      <td>0.079155</td>\n",
       "      <td>1.718318</td>\n",
       "      <td>0.114912</td>\n",
       "      <td>2.973292</td>\n",
       "    </tr>\n",
       "  </tbody>\n",
       "</table>\n",
       "<p>105 rows × 8 columns</p>\n",
       "</div>"
      ],
      "text/plain": [
       "     Unnamed: 0  Participant Difficulty Incentive  Drift Rate  \\\n",
       "0             1            1        med      gain    0.091098   \n",
       "1             1            1        med      loss    0.141989   \n",
       "2             1            1        med      none    0.043654   \n",
       "3             2            2        med      gain    0.297262   \n",
       "4             2            2        med      loss    0.096744   \n",
       "..          ...          ...        ...       ...         ...   \n",
       "100          34           34        med      loss    0.755410   \n",
       "101          34           34        med      none    1.080645   \n",
       "102          35           35        med      gain    0.237657   \n",
       "103          35           35        med      loss    0.084264   \n",
       "104          35           35        med      none    0.079155   \n",
       "\n",
       "     Boundary Separation  Non-decision Time  Effective Inhibition  \n",
       "0               2.802807           0.114229              3.083776  \n",
       "1               2.293854           0.184924              2.055290  \n",
       "2               2.960749           0.139671              2.217293  \n",
       "3               2.962479           0.288727              3.073818  \n",
       "4               2.802844           0.221691              2.663256  \n",
       "..                   ...                ...                   ...  \n",
       "100             2.204541           0.217614              3.282126  \n",
       "101             2.846269           0.305561              4.706197  \n",
       "102             2.193089           0.103898              3.383400  \n",
       "103             0.949774           0.244126              1.920574  \n",
       "104             1.718318           0.114912              2.973292  \n",
       "\n",
       "[105 rows x 8 columns]"
      ]
     },
     "execution_count": 84,
     "metadata": {},
     "output_type": "execute_result"
    }
   ],
   "source": [
    "df_all"
   ]
  },
  {
   "cell_type": "code",
   "execution_count": 73,
   "id": "5027708a",
   "metadata": {},
   "outputs": [],
   "source": [
    "df_all[\"Drift Rate\"] = (df_all[\"Drift Rate\"] - np.mean(df_all[\"Drift Rate\"]))/np.std(df_all[\"Drift Rate\"])"
   ]
  },
  {
   "cell_type": "code",
   "execution_count": 62,
   "id": "a822dd5f",
   "metadata": {},
   "outputs": [],
   "source": [
    "df_all[\"Boundary Separation\"] = (df_all[\"Boundary Separation\"] - np.mean(df_all[\"Boundary Separation\"]))/np.std(df_all[\"Boundary Separation\"])\n",
    "df_all[\"Non-decision Time\"] = (df_all[\"Non-decision Time\"] - np.mean(df_all[\"Non-decision Time\"]))/np.std(df_all[\"Non-decision Time\"])\n",
    "df_all[\"Effective Inhibition\"] = (df_all[\"Effective Inhibition\"] - np.mean(df_all[\"Effective Inhibition\"]))/np.std(df_all[\"Effective Inhibition\"])"
   ]
  },
  {
   "cell_type": "code",
   "execution_count": 63,
   "id": "1755c1e2",
   "metadata": {},
   "outputs": [],
   "source": [
    "df_all_melted = pd.melt(df_all, id_vars=['Participant', 'Incentive'], value_vars=['Drift Rate', 'Boundary Separation','Non-decision Time','Effective Inhibition'])"
   ]
  },
  {
   "cell_type": "code",
   "execution_count": 64,
   "id": "8c24608d",
   "metadata": {},
   "outputs": [
    {
     "data": {
      "text/plain": [
       "<seaborn.axisgrid.FacetGrid at 0x7f8930a78910>"
      ]
     },
     "execution_count": 64,
     "metadata": {},
     "output_type": "execute_result"
    },
    {
     "data": {
      "image/png": "[encoded data removed]",
      "text/plain": [
       "<Figure size 884.5x600 with 1 Axes>"
      ]
     },
     "metadata": {},
     "output_type": "display_data"
    }
   ],
   "source": [
    "sns.catplot(data=df_all_melted, x=\"variable\", y=\"value\", hue=\"Incentive\", kind=\"box\", hue_order = [\"none\", \"gain\", \"loss\"],\n",
    "            height=6, aspect=8/6)"
   ]
  },
  {
   "cell_type": "code",
   "execution_count": null,
   "id": "c555a517",
   "metadata": {},
   "outputs": [],
   "source": []
  },
  {
   "cell_type": "code",
   "execution_count": 85,
   "id": "9843b6c1",
   "metadata": {},
   "outputs": [
    {
     "name": "stdout",
     "output_type": "stream",
     "text": [
      "Ttest_relResult(statistic=0.4764230565620508, pvalue=0.6368205961844047)\n"
     ]
    }
   ],
   "source": [
    "print(scipy.stats.ttest_rel(df_all[df_all[\"Incentive\"]==\"none\"]['Effective Inhibition'],\n",
    "                            df_all[df_all[\"Incentive\"]==\"loss\"]['Effective Inhibition']))\n"
   ]
  },
  {
   "cell_type": "code",
   "execution_count": 86,
   "id": "642438ee",
   "metadata": {},
   "outputs": [
    {
     "name": "stdout",
     "output_type": "stream",
     "text": [
      "                 Anova\n",
      "=======================================\n",
      "          F Value Num DF  Den DF Pr > F\n",
      "---------------------------------------\n",
      "Incentive  4.1524 2.0000 68.0000 0.0199\n",
      "=======================================\n",
      "\n",
      "                 Anova\n",
      "=======================================\n",
      "          F Value Num DF  Den DF Pr > F\n",
      "---------------------------------------\n",
      "Incentive  0.1196 2.0000 68.0000 0.8875\n",
      "=======================================\n",
      "\n",
      "                 Anova\n",
      "=======================================\n",
      "          F Value Num DF  Den DF Pr > F\n",
      "---------------------------------------\n",
      "Incentive  1.6560 2.0000 68.0000 0.1985\n",
      "=======================================\n",
      "\n",
      "                 Anova\n",
      "=======================================\n",
      "          F Value Num DF  Den DF Pr > F\n",
      "---------------------------------------\n",
      "Incentive  1.2117 2.0000 68.0000 0.3040\n",
      "=======================================\n",
      "\n"
     ]
    }
   ],
   "source": [
    "from statsmodels.stats.anova import AnovaRM\n",
    "\n",
    "#perform the repeated measures ANOVA\n",
    "print(AnovaRM(data=df_all, depvar='Drift Rate', subject='Participant', within=['Incentive']).fit())\n",
    "print(AnovaRM(data=df_all, depvar='Boundary Separation', subject='Participant', within=['Incentive']).fit())\n",
    "print(AnovaRM(data=df_all, depvar='Non-decision Time', subject='Participant', within=['Incentive']).fit())\n",
    "print(AnovaRM(data=df_all, depvar='Effective Inhibition', subject='Participant', within=['Incentive']).fit())\n"
   ]
  },
  {
   "cell_type": "code",
   "execution_count": 50,
   "id": "32bca191",
   "metadata": {},
   "outputs": [
    {
     "name": "stdout",
     "output_type": "stream",
     "text": [
      "0\n"
     ]
    },
    {
     "name": "stderr",
     "output_type": "stream",
     "text": [
      "Info: Params [1.13095302e-08 8.13640629e-01 3.30565143e-01] gave 193.0800071945955\n"
     ]
    },
    {
     "name": "stdout",
     "output_type": "stream",
     "text": [
      "   Participant Difficulty Incentive    Drift Rate  Boundary Separation  \\\n",
      "1            1        med      gain  1.130953e-08             0.813641   \n",
      "\n",
      "   Non-decision Time  \n",
      "1           0.330565  \n",
      "0\n"
     ]
    },
    {
     "name": "stderr",
     "output_type": "stream",
     "text": [
      "Info: Params [0.15266898 0.95498621 0.36545315] gave 233.44753497870622\n"
     ]
    },
    {
     "name": "stdout",
     "output_type": "stream",
     "text": [
      "   Participant Difficulty Incentive  Drift Rate  Boundary Separation  \\\n",
      "1            1        med      loss    0.152669             0.954986   \n",
      "\n",
      "   Non-decision Time  \n",
      "1           0.365453  \n",
      "0\n"
     ]
    },
    {
     "name": "stderr",
     "output_type": "stream",
     "text": [
      "Info: Params [0.09469882 0.94809847 0.39403482] gave 238.52355804713127\n"
     ]
    },
    {
     "name": "stdout",
     "output_type": "stream",
     "text": [
      "   Participant Difficulty Incentive  Drift Rate  Boundary Separation  \\\n",
      "1            1        med      none    0.094699             0.948098   \n",
      "\n",
      "   Non-decision Time  \n",
      "1           0.394035  \n",
      "1\n"
     ]
    },
    {
     "name": "stderr",
     "output_type": "stream",
     "text": [
      "Info: Params [0.28400793 0.8083813  0.52502603] gave 182.818769512023\n"
     ]
    },
    {
     "name": "stdout",
     "output_type": "stream",
     "text": [
      "   Participant Difficulty Incentive  Drift Rate  Boundary Separation  \\\n",
      "2            2        med      gain    0.284008             0.808381   \n",
      "\n",
      "   Non-decision Time  \n",
      "2           0.525026  \n",
      "1\n"
     ]
    },
    {
     "name": "stderr",
     "output_type": "stream",
     "text": [
      "Info: Params [0.19588818 0.81485535 0.50761845] gave 198.14810971652705\n"
     ]
    },
    {
     "name": "stdout",
     "output_type": "stream",
     "text": [
      "   Participant Difficulty Incentive  Drift Rate  Boundary Separation  \\\n",
      "2            2        med      loss    0.195888             0.814855   \n",
      "\n",
      "   Non-decision Time  \n",
      "2           0.507618  \n",
      "1\n"
     ]
    },
    {
     "name": "stderr",
     "output_type": "stream",
     "text": [
      "Info: Params [0.15667151 1.0093338  0.18832442] gave 252.73249735655727\n"
     ]
    },
    {
     "name": "stdout",
     "output_type": "stream",
     "text": [
      "   Participant Difficulty Incentive  Drift Rate  Boundary Separation  \\\n",
      "2            2        med      none    0.156672             1.009334   \n",
      "\n",
      "   Non-decision Time  \n",
      "2           0.188324  \n",
      "2\n"
     ]
    },
    {
     "name": "stderr",
     "output_type": "stream",
     "text": [
      "Info: Params [0.20339045 0.57139598 0.21767819] gave 90.15396020455084\n"
     ]
    },
    {
     "name": "stdout",
     "output_type": "stream",
     "text": [
      "   Participant Difficulty Incentive  Drift Rate  Boundary Separation  \\\n",
      "3            3        med      gain     0.20339             0.571396   \n",
      "\n",
      "   Non-decision Time  \n",
      "3           0.217678  \n",
      "2\n"
     ]
    },
    {
     "name": "stderr",
     "output_type": "stream",
     "text": [
      "Info: Params [0.10993038 0.5        0.23320545] gave 25.44152684574393\n"
     ]
    },
    {
     "name": "stdout",
     "output_type": "stream",
     "text": [
      "   Participant Difficulty Incentive  Drift Rate  Boundary Separation  \\\n",
      "3            3        med      loss     0.10993                  0.5   \n",
      "\n",
      "   Non-decision Time  \n",
      "3           0.233205  \n",
      "2\n"
     ]
    },
    {
     "name": "stderr",
     "output_type": "stream",
     "text": [
      "Info: Params [0.14537702 0.5        0.22410027] gave -9.401281338730747\n"
     ]
    },
    {
     "name": "stdout",
     "output_type": "stream",
     "text": [
      "   Participant Difficulty Incentive  Drift Rate  Boundary Separation  \\\n",
      "3            3        med      none    0.145377                  0.5   \n",
      "\n",
      "   Non-decision Time  \n",
      "3             0.2241  \n",
      "3\n"
     ]
    },
    {
     "name": "stderr",
     "output_type": "stream",
     "text": [
      "Info: Params [0.50661021 0.76962825 0.28766263] gave 146.9907058285896\n"
     ]
    },
    {
     "name": "stdout",
     "output_type": "stream",
     "text": [
      "   Participant Difficulty Incentive  Drift Rate  Boundary Separation  \\\n",
      "4            4        med      gain     0.50661             0.769628   \n",
      "\n",
      "   Non-decision Time  \n",
      "4           0.287663  \n",
      "3\n"
     ]
    },
    {
     "name": "stderr",
     "output_type": "stream",
     "text": [
      "Info: Params [0.45672852 0.74176032 0.22588688] gave 159.21733362865234\n"
     ]
    },
    {
     "name": "stdout",
     "output_type": "stream",
     "text": [
      "   Participant Difficulty Incentive  Drift Rate  Boundary Separation  \\\n",
      "4            4        med      loss    0.456729              0.74176   \n",
      "\n",
      "   Non-decision Time  \n",
      "4           0.225887  \n",
      "3\n"
     ]
    },
    {
     "name": "stderr",
     "output_type": "stream",
     "text": [
      "Info: Params [0.42835508 0.73106659 0.22533414] gave 161.0593027862119\n"
     ]
    },
    {
     "name": "stdout",
     "output_type": "stream",
     "text": [
      "   Participant Difficulty Incentive  Drift Rate  Boundary Separation  \\\n",
      "4            4        med      none    0.428355             0.731067   \n",
      "\n",
      "   Non-decision Time  \n",
      "4           0.225334  \n",
      "4\n"
     ]
    },
    {
     "name": "stderr",
     "output_type": "stream",
     "text": [
      "Info: Params [0.         0.62320607 0.32305052] gave 119.23101269779339\n"
     ]
    },
    {
     "name": "stdout",
     "output_type": "stream",
     "text": [
      "   Participant Difficulty Incentive  Drift Rate  Boundary Separation  \\\n",
      "5            5        med      gain         0.0             0.623206   \n",
      "\n",
      "   Non-decision Time  \n",
      "5           0.323051  \n",
      "4\n"
     ]
    },
    {
     "name": "stderr",
     "output_type": "stream",
     "text": [
      "Info: Params [0.         0.60444853 0.38236882] gave 108.47955230291754\n"
     ]
    },
    {
     "name": "stdout",
     "output_type": "stream",
     "text": [
      "   Participant Difficulty Incentive  Drift Rate  Boundary Separation  \\\n",
      "5            5        med      loss         0.0             0.604449   \n",
      "\n",
      "   Non-decision Time  \n",
      "5           0.382369  \n",
      "4\n"
     ]
    },
    {
     "name": "stderr",
     "output_type": "stream",
     "text": [
      "Info: Params [0.10236918 0.53338442 0.39501985] gave 76.88331254354271\n"
     ]
    },
    {
     "name": "stdout",
     "output_type": "stream",
     "text": [
      "   Participant Difficulty Incentive  Drift Rate  Boundary Separation  \\\n",
      "5            5        med      none    0.102369             0.533384   \n",
      "\n",
      "   Non-decision Time  \n",
      "5            0.39502  \n",
      "5\n"
     ]
    },
    {
     "name": "stderr",
     "output_type": "stream",
     "text": [
      "Info: Params [0.55372073 0.87853032 0.27969205] gave 193.42313250591374\n"
     ]
    },
    {
     "name": "stdout",
     "output_type": "stream",
     "text": [
      "   Participant Difficulty Incentive  Drift Rate  Boundary Separation  \\\n",
      "6            6        med      gain    0.553721              0.87853   \n",
      "\n",
      "   Non-decision Time  \n",
      "6           0.279692  \n",
      "5\n"
     ]
    },
    {
     "name": "stderr",
     "output_type": "stream",
     "text": [
      "Info: Params [0.         0.91014464 0.19878811] gave 233.61599166995603\n"
     ]
    },
    {
     "name": "stdout",
     "output_type": "stream",
     "text": [
      "   Participant Difficulty Incentive  Drift Rate  Boundary Separation  \\\n",
      "6            6        med      loss         0.0             0.910145   \n",
      "\n",
      "   Non-decision Time  \n",
      "6           0.198788  \n",
      "5\n"
     ]
    },
    {
     "name": "stderr",
     "output_type": "stream",
     "text": [
      "Info: Params [0.42829864 0.89147301 0.19576876] gave 104.43286759476196\n"
     ]
    },
    {
     "name": "stdout",
     "output_type": "stream",
     "text": [
      "   Participant Difficulty Incentive  Drift Rate  Boundary Separation  \\\n",
      "6            6        med      none    0.428299             0.891473   \n",
      "\n",
      "   Non-decision Time  \n",
      "6           0.195769  \n",
      "6\n"
     ]
    },
    {
     "name": "stderr",
     "output_type": "stream",
     "text": [
      "Info: Params [0.06947525 0.86608186 0.20349481] gave 225.08920287184185\n"
     ]
    },
    {
     "name": "stdout",
     "output_type": "stream",
     "text": [
      "   Participant Difficulty Incentive  Drift Rate  Boundary Separation  \\\n",
      "7            7        med      gain    0.069475             0.866082   \n",
      "\n",
      "   Non-decision Time  \n",
      "7           0.203495  \n",
      "6\n"
     ]
    },
    {
     "name": "stderr",
     "output_type": "stream",
     "text": [
      "Info: Params [0.         0.72720309 0.379386  ] gave 166.0212522675096\n"
     ]
    },
    {
     "name": "stdout",
     "output_type": "stream",
     "text": [
      "   Participant Difficulty Incentive  Drift Rate  Boundary Separation  \\\n",
      "7            7        med      loss         0.0             0.727203   \n",
      "\n",
      "   Non-decision Time  \n",
      "7           0.379386  \n",
      "6\n"
     ]
    },
    {
     "name": "stderr",
     "output_type": "stream",
     "text": [
      "Info: Params [0.27569149 0.82531876 0.21742972] gave 205.65106232849473\n"
     ]
    },
    {
     "name": "stdout",
     "output_type": "stream",
     "text": [
      "   Participant Difficulty Incentive  Drift Rate  Boundary Separation  \\\n",
      "7            7        med      none    0.275691             0.825319   \n",
      "\n",
      "   Non-decision Time  \n",
      "7            0.21743  \n",
      "7\n"
     ]
    },
    {
     "name": "stderr",
     "output_type": "stream",
     "text": [
      "Info: Params [1.12780663 0.67488197 0.54692736] gave 70.70576969943427\n"
     ]
    },
    {
     "name": "stdout",
     "output_type": "stream",
     "text": [
      "   Participant Difficulty Incentive  Drift Rate  Boundary Separation  \\\n",
      "8            8        med      gain    1.127807             0.674882   \n",
      "\n",
      "   Non-decision Time  \n",
      "8           0.546927  \n",
      "7\n"
     ]
    },
    {
     "name": "stderr",
     "output_type": "stream",
     "text": [
      "Info: Params [1.10114338 0.60554099 0.51652642] gave 44.17248414060183\n"
     ]
    },
    {
     "name": "stdout",
     "output_type": "stream",
     "text": [
      "   Participant Difficulty Incentive  Drift Rate  Boundary Separation  \\\n",
      "8            8        med      loss    1.101143             0.605541   \n",
      "\n",
      "   Non-decision Time  \n",
      "8           0.516526  \n",
      "7\n"
     ]
    },
    {
     "name": "stderr",
     "output_type": "stream",
     "text": [
      "Info: Params [0.8366819  0.66457538 0.44162901] gave 86.86286541936688\n"
     ]
    },
    {
     "name": "stdout",
     "output_type": "stream",
     "text": [
      "   Participant Difficulty Incentive  Drift Rate  Boundary Separation  \\\n",
      "8            8        med      none    0.836682             0.664575   \n",
      "\n",
      "   Non-decision Time  \n",
      "8           0.441629  \n",
      "8\n"
     ]
    },
    {
     "name": "stderr",
     "output_type": "stream",
     "text": [
      "Info: Params [0.         0.54085835 0.25240027] gave 63.21539449796544\n"
     ]
    },
    {
     "name": "stdout",
     "output_type": "stream",
     "text": [
      "   Participant Difficulty Incentive  Drift Rate  Boundary Separation  \\\n",
      "9            9        med      gain         0.0             0.540858   \n",
      "\n",
      "   Non-decision Time  \n",
      "9             0.2524  \n",
      "8\n"
     ]
    },
    {
     "name": "stderr",
     "output_type": "stream",
     "text": [
      "Info: Params [0.         0.580602   0.22737314] gave 82.38202304122171\n"
     ]
    },
    {
     "name": "stdout",
     "output_type": "stream",
     "text": [
      "   Participant Difficulty Incentive  Drift Rate  Boundary Separation  \\\n",
      "9            9        med      loss         0.0             0.580602   \n",
      "\n",
      "   Non-decision Time  \n",
      "9           0.227373  \n",
      "8\n"
     ]
    },
    {
     "name": "stderr",
     "output_type": "stream",
     "text": [
      "Info: Params [0.         0.58319574 0.21436943] gave 93.50957703953443\n"
     ]
    },
    {
     "name": "stdout",
     "output_type": "stream",
     "text": [
      "   Participant Difficulty Incentive  Drift Rate  Boundary Separation  \\\n",
      "9            9        med      none         0.0             0.583196   \n",
      "\n",
      "   Non-decision Time  \n",
      "9           0.214369  \n",
      "9\n"
     ]
    },
    {
     "name": "stderr",
     "output_type": "stream",
     "text": [
      "Info: Params [0.4683931  0.67372943 0.49287451] gave 124.87916363513003\n"
     ]
    },
    {
     "name": "stdout",
     "output_type": "stream",
     "text": [
      "    Participant Difficulty Incentive  Drift Rate  Boundary Separation  \\\n",
      "10           10        med      gain    0.468393             0.673729   \n",
      "\n",
      "    Non-decision Time  \n",
      "10           0.492875  \n",
      "9\n"
     ]
    },
    {
     "name": "stderr",
     "output_type": "stream",
     "text": [
      "Info: Params [0.14273141 0.67579753 0.31624949] gave 132.31469107932097\n"
     ]
    },
    {
     "name": "stdout",
     "output_type": "stream",
     "text": [
      "    Participant Difficulty Incentive  Drift Rate  Boundary Separation  \\\n",
      "10           10        med      loss    0.142731             0.675798   \n",
      "\n",
      "    Non-decision Time  \n",
      "10           0.316249  \n",
      "9\n"
     ]
    },
    {
     "name": "stderr",
     "output_type": "stream",
     "text": [
      "Info: Params [0.29804223 0.72460693 0.34533316] gave 156.99882430722687\n"
     ]
    },
    {
     "name": "stdout",
     "output_type": "stream",
     "text": [
      "    Participant Difficulty Incentive  Drift Rate  Boundary Separation  \\\n",
      "10           10        med      none    0.298042             0.724607   \n",
      "\n",
      "    Non-decision Time  \n",
      "10           0.345333  \n",
      "10\n"
     ]
    },
    {
     "name": "stderr",
     "output_type": "stream",
     "text": [
      "Info: Params [1.25787717 0.94282483 0.42722709] gave 125.06276900714948\n"
     ]
    },
    {
     "name": "stdout",
     "output_type": "stream",
     "text": [
      "    Participant Difficulty Incentive  Drift Rate  Boundary Separation  \\\n",
      "11           11        med      gain    1.257877             0.942825   \n",
      "\n",
      "    Non-decision Time  \n",
      "11           0.427227  \n",
      "10\n"
     ]
    },
    {
     "name": "stderr",
     "output_type": "stream",
     "text": [
      "Info: Params [1.14626327 0.85074227 0.42287651] gave 119.76607196048471\n"
     ]
    },
    {
     "name": "stdout",
     "output_type": "stream",
     "text": [
      "    Participant Difficulty Incentive  Drift Rate  Boundary Separation  \\\n",
      "11           11        med      loss    1.146263             0.850742   \n",
      "\n",
      "    Non-decision Time  \n",
      "11           0.422877  \n",
      "10\n"
     ]
    },
    {
     "name": "stderr",
     "output_type": "stream",
     "text": [
      "Info: Params [1.19142092 1.00109584 0.47122183] gave 142.0242552543639\n"
     ]
    },
    {
     "name": "stdout",
     "output_type": "stream",
     "text": [
      "    Participant Difficulty Incentive  Drift Rate  Boundary Separation  \\\n",
      "11           11        med      none    1.191421             1.001096   \n",
      "\n",
      "    Non-decision Time  \n",
      "11           0.471222  \n",
      "11\n"
     ]
    },
    {
     "name": "stderr",
     "output_type": "stream",
     "text": [
      "Info: Params [0.06091355 0.56508821 0.21753182] gave 88.05856979220503\n"
     ]
    },
    {
     "name": "stdout",
     "output_type": "stream",
     "text": [
      "    Participant Difficulty Incentive  Drift Rate  Boundary Separation  \\\n",
      "12           12        med      gain    0.060914             0.565088   \n",
      "\n",
      "    Non-decision Time  \n",
      "12           0.217532  \n",
      "11\n"
     ]
    },
    {
     "name": "stderr",
     "output_type": "stream",
     "text": [
      "Info: Params [0.02115822 0.55525077 0.23557926] gave 84.75457515787363\n"
     ]
    },
    {
     "name": "stdout",
     "output_type": "stream",
     "text": [
      "    Participant Difficulty Incentive  Drift Rate  Boundary Separation  \\\n",
      "12           12        med      loss    0.021158             0.555251   \n",
      "\n",
      "    Non-decision Time  \n",
      "12           0.235579  \n",
      "11\n"
     ]
    },
    {
     "name": "stderr",
     "output_type": "stream",
     "text": [
      "Info: Params [0.         0.62649693 0.26294718] gave 128.463275852911\n"
     ]
    },
    {
     "name": "stdout",
     "output_type": "stream",
     "text": [
      "    Participant Difficulty Incentive  Drift Rate  Boundary Separation  \\\n",
      "12           12        med      none         0.0             0.626497   \n",
      "\n",
      "    Non-decision Time  \n",
      "12           0.262947  \n",
      "12\n"
     ]
    },
    {
     "name": "stderr",
     "output_type": "stream",
     "text": [
      "Info: Params [0.60578902 0.87066308 0.39774443] gave 200.14054147076865\n"
     ]
    },
    {
     "name": "stdout",
     "output_type": "stream",
     "text": [
      "    Participant Difficulty Incentive  Drift Rate  Boundary Separation  \\\n",
      "13           13        med      gain    0.605789             0.870663   \n",
      "\n",
      "    Non-decision Time  \n",
      "13           0.397744  \n",
      "12\n"
     ]
    },
    {
     "name": "stderr",
     "output_type": "stream",
     "text": [
      "Info: Params [1.20153597 0.79547313 0.36952829] gave 100.17028318648055\n"
     ]
    },
    {
     "name": "stdout",
     "output_type": "stream",
     "text": [
      "    Participant Difficulty Incentive  Drift Rate  Boundary Separation  \\\n",
      "13           13        med      loss    1.201536             0.795473   \n",
      "\n",
      "    Non-decision Time  \n",
      "13           0.369528  \n",
      "12\n"
     ]
    },
    {
     "name": "stderr",
     "output_type": "stream",
     "text": [
      "Info: Params [0.77408177 0.720973   0.39133371] gave 136.67125525794665\n"
     ]
    },
    {
     "name": "stdout",
     "output_type": "stream",
     "text": [
      "    Participant Difficulty Incentive  Drift Rate  Boundary Separation  \\\n",
      "13           13        med      none    0.774082             0.720973   \n",
      "\n",
      "    Non-decision Time  \n",
      "13           0.391334  \n",
      "13\n"
     ]
    },
    {
     "name": "stderr",
     "output_type": "stream",
     "text": [
      "Info: Params [1.04809996 0.86038604 0.28266876] gave 130.22294348567124\n"
     ]
    },
    {
     "name": "stdout",
     "output_type": "stream",
     "text": [
      "    Participant Difficulty Incentive  Drift Rate  Boundary Separation  \\\n",
      "14           14        med      gain      1.0481             0.860386   \n",
      "\n",
      "    Non-decision Time  \n",
      "14           0.282669  \n",
      "13\n"
     ]
    },
    {
     "name": "stderr",
     "output_type": "stream",
     "text": [
      "Info: Params [0.         0.96029786 0.34047055] gave 255.33020164991007\n"
     ]
    },
    {
     "name": "stdout",
     "output_type": "stream",
     "text": [
      "    Participant Difficulty Incentive  Drift Rate  Boundary Separation  \\\n",
      "14           14        med      loss         0.0             0.960298   \n",
      "\n",
      "    Non-decision Time  \n",
      "14           0.340471  \n",
      "13\n"
     ]
    },
    {
     "name": "stderr",
     "output_type": "stream",
     "text": [
      "Info: Params [1.03040654 0.88722976 0.3969171 ] gave 146.676941475483\n"
     ]
    },
    {
     "name": "stdout",
     "output_type": "stream",
     "text": [
      "    Participant Difficulty Incentive  Drift Rate  Boundary Separation  \\\n",
      "14           14        med      none    1.030407              0.88723   \n",
      "\n",
      "    Non-decision Time  \n",
      "14           0.396917  \n",
      "14\n"
     ]
    },
    {
     "name": "stderr",
     "output_type": "stream",
     "text": [
      "Info: Params [1.00477339 0.81991151 0.43205523] gave 140.62638586076685\n"
     ]
    },
    {
     "name": "stdout",
     "output_type": "stream",
     "text": [
      "    Participant Difficulty Incentive  Drift Rate  Boundary Separation  \\\n",
      "15           15        med      gain    1.004773             0.819912   \n",
      "\n",
      "    Non-decision Time  \n",
      "15           0.432055  \n",
      "14\n"
     ]
    },
    {
     "name": "stderr",
     "output_type": "stream",
     "text": [
      "Info: Params [0.99779065 0.75249452 0.38594735] gave 116.78430995945173\n"
     ]
    },
    {
     "name": "stdout",
     "output_type": "stream",
     "text": [
      "    Participant Difficulty Incentive  Drift Rate  Boundary Separation  \\\n",
      "15           15        med      loss    0.997791             0.752495   \n",
      "\n",
      "    Non-decision Time  \n",
      "15           0.385947  \n",
      "14\n"
     ]
    },
    {
     "name": "stderr",
     "output_type": "stream",
     "text": [
      "Info: Params [1.24139008 0.9199942  0.48980047] gave 121.03528022940358\n"
     ]
    },
    {
     "name": "stdout",
     "output_type": "stream",
     "text": [
      "    Participant Difficulty Incentive  Drift Rate  Boundary Separation  \\\n",
      "15           15        med      none     1.24139             0.919994   \n",
      "\n",
      "    Non-decision Time  \n",
      "15             0.4898  \n",
      "15\n"
     ]
    },
    {
     "name": "stderr",
     "output_type": "stream",
     "text": [
      "Info: Params [0.28564945 0.82957355 0.13811312] gave 131.65734586581706\n"
     ]
    },
    {
     "name": "stdout",
     "output_type": "stream",
     "text": [
      "    Participant Difficulty Incentive  Drift Rate  Boundary Separation  \\\n",
      "16           16        med      gain    0.285649             0.829574   \n",
      "\n",
      "    Non-decision Time  \n",
      "16           0.138113  \n",
      "15\n"
     ]
    },
    {
     "name": "stderr",
     "output_type": "stream",
     "text": [
      "Info: Params [0.11502166 0.87563682 0.12566726] gave 141.4565141075303\n"
     ]
    },
    {
     "name": "stdout",
     "output_type": "stream",
     "text": [
      "    Participant Difficulty Incentive  Drift Rate  Boundary Separation  \\\n",
      "16           16        med      loss    0.115022             0.875637   \n",
      "\n",
      "    Non-decision Time  \n",
      "16           0.125667  \n",
      "15\n"
     ]
    },
    {
     "name": "stderr",
     "output_type": "stream",
     "text": [
      "Info: Params [0.29057353 0.6846155  0.18339163] gave 109.15075094229445\n"
     ]
    },
    {
     "name": "stdout",
     "output_type": "stream",
     "text": [
      "    Participant Difficulty Incentive  Drift Rate  Boundary Separation  \\\n",
      "16           16        med      none    0.290574             0.684616   \n",
      "\n",
      "    Non-decision Time  \n",
      "16           0.183392  \n",
      "16\n"
     ]
    },
    {
     "name": "stderr",
     "output_type": "stream",
     "text": [
      "Info: Params [0.07505911 0.74976511 0.28213366] gave 189.56206893152049\n"
     ]
    },
    {
     "name": "stdout",
     "output_type": "stream",
     "text": [
      "    Participant Difficulty Incentive  Drift Rate  Boundary Separation  \\\n",
      "17           17        med      gain    0.075059             0.749765   \n",
      "\n",
      "    Non-decision Time  \n",
      "17           0.282134  \n",
      "16\n"
     ]
    },
    {
     "name": "stderr",
     "output_type": "stream",
     "text": [
      "Info: Params [0.21989611 0.69620701 0.40026284] gave 168.5653124836901\n"
     ]
    },
    {
     "name": "stdout",
     "output_type": "stream",
     "text": [
      "    Participant Difficulty Incentive  Drift Rate  Boundary Separation  \\\n",
      "17           17        med      loss    0.219896             0.696207   \n",
      "\n",
      "    Non-decision Time  \n",
      "17           0.400263  \n",
      "16\n"
     ]
    },
    {
     "name": "stderr",
     "output_type": "stream",
     "text": [
      "Info: Params [0.01676624 0.67835448 0.26055181] gave 151.72594456115732\n"
     ]
    },
    {
     "name": "stdout",
     "output_type": "stream",
     "text": [
      "    Participant Difficulty Incentive  Drift Rate  Boundary Separation  \\\n",
      "17           17        med      none    0.016766             0.678354   \n",
      "\n",
      "    Non-decision Time  \n",
      "17           0.260552  \n",
      "17\n"
     ]
    },
    {
     "name": "stderr",
     "output_type": "stream",
     "text": [
      "Info: Params [1.54538569 0.70297414 0.39824893] gave 36.19819038792589\n"
     ]
    },
    {
     "name": "stdout",
     "output_type": "stream",
     "text": [
      "    Participant Difficulty Incentive  Drift Rate  Boundary Separation  \\\n",
      "18           18        med      gain    1.545386             0.702974   \n",
      "\n",
      "    Non-decision Time  \n",
      "18           0.398249  \n",
      "17\n"
     ]
    },
    {
     "name": "stderr",
     "output_type": "stream",
     "text": [
      "Info: Params [0.         0.66748464 0.39037819] gave 103.290288093005\n"
     ]
    },
    {
     "name": "stdout",
     "output_type": "stream",
     "text": [
      "    Participant Difficulty Incentive  Drift Rate  Boundary Separation  \\\n",
      "18           18        med      loss         0.0             0.667485   \n",
      "\n",
      "    Non-decision Time  \n",
      "18           0.390378  \n",
      "17\n"
     ]
    },
    {
     "name": "stderr",
     "output_type": "stream",
     "text": [
      "Info: Params [1.00398911 0.69499055 0.25701451] gave 79.83930005863363\n"
     ]
    },
    {
     "name": "stdout",
     "output_type": "stream",
     "text": [
      "    Participant Difficulty Incentive  Drift Rate  Boundary Separation  \\\n",
      "18           18        med      none    1.003989             0.694991   \n",
      "\n",
      "    Non-decision Time  \n",
      "18           0.257015  \n",
      "18\n"
     ]
    },
    {
     "name": "stderr",
     "output_type": "stream",
     "text": [
      "Info: Params [0.04136912 0.7402643  0.18319628] gave 140.04371216971327\n"
     ]
    },
    {
     "name": "stdout",
     "output_type": "stream",
     "text": [
      "    Participant Difficulty Incentive  Drift Rate  Boundary Separation  \\\n",
      "19           19        med      gain    0.041369             0.740264   \n",
      "\n",
      "    Non-decision Time  \n",
      "19           0.183196  \n",
      "18\n"
     ]
    },
    {
     "name": "stderr",
     "output_type": "stream",
     "text": [
      "Info: Params [0.17033249 0.83231526 0.19720124] gave 144.79611639999646\n"
     ]
    },
    {
     "name": "stdout",
     "output_type": "stream",
     "text": [
      "    Participant Difficulty Incentive  Drift Rate  Boundary Separation  \\\n",
      "19           19        med      loss    0.170332             0.832315   \n",
      "\n",
      "    Non-decision Time  \n",
      "19           0.197201  \n",
      "18\n"
     ]
    },
    {
     "name": "stderr",
     "output_type": "stream",
     "text": [
      "Info: Params [0.0673358  0.78541211 0.19546769] gave 174.98006960194158\n"
     ]
    },
    {
     "name": "stdout",
     "output_type": "stream",
     "text": [
      "    Participant Difficulty Incentive  Drift Rate  Boundary Separation  \\\n",
      "19           19        med      none    0.067336             0.785412   \n",
      "\n",
      "    Non-decision Time  \n",
      "19           0.195468  \n",
      "19\n"
     ]
    },
    {
     "name": "stderr",
     "output_type": "stream",
     "text": [
      "Info: Params [0.21212136 0.82580931 0.33452475] gave 213.43986122073855\n"
     ]
    },
    {
     "name": "stdout",
     "output_type": "stream",
     "text": [
      "    Participant Difficulty Incentive  Drift Rate  Boundary Separation  \\\n",
      "20           20        med      gain    0.212121             0.825809   \n",
      "\n",
      "    Non-decision Time  \n",
      "20           0.334525  \n",
      "19\n"
     ]
    },
    {
     "name": "stderr",
     "output_type": "stream",
     "text": [
      "Info: Params [0.26387403 0.75937832 0.28364439] gave 179.42988380678807\n"
     ]
    },
    {
     "name": "stdout",
     "output_type": "stream",
     "text": [
      "    Participant Difficulty Incentive  Drift Rate  Boundary Separation  \\\n",
      "20           20        med      loss    0.263874             0.759378   \n",
      "\n",
      "    Non-decision Time  \n",
      "20           0.283644  \n",
      "19\n"
     ]
    },
    {
     "name": "stderr",
     "output_type": "stream",
     "text": [
      "Info: Params [0.30896856 0.77994486 0.29985027] gave 180.3327613290814\n"
     ]
    },
    {
     "name": "stdout",
     "output_type": "stream",
     "text": [
      "    Participant Difficulty Incentive  Drift Rate  Boundary Separation  \\\n",
      "20           20        med      none    0.308969             0.779945   \n",
      "\n",
      "    Non-decision Time  \n",
      "20            0.29985  \n",
      "20\n"
     ]
    },
    {
     "name": "stderr",
     "output_type": "stream",
     "text": [
      "Info: Params [0.92009523 0.85052023 0.41481614] gave 163.1132656393819\n"
     ]
    },
    {
     "name": "stdout",
     "output_type": "stream",
     "text": [
      "    Participant Difficulty Incentive  Drift Rate  Boundary Separation  \\\n",
      "21           21        med      gain    0.920095              0.85052   \n",
      "\n",
      "    Non-decision Time  \n",
      "21           0.414816  \n",
      "20\n"
     ]
    },
    {
     "name": "stderr",
     "output_type": "stream",
     "text": [
      "Info: Params [0.88989346 0.73732807 0.44749721] gave 130.49326931579859\n"
     ]
    },
    {
     "name": "stdout",
     "output_type": "stream",
     "text": [
      "    Participant Difficulty Incentive  Drift Rate  Boundary Separation  \\\n",
      "21           21        med      loss    0.889893             0.737328   \n",
      "\n",
      "    Non-decision Time  \n",
      "21           0.447497  \n",
      "20\n"
     ]
    },
    {
     "name": "stderr",
     "output_type": "stream",
     "text": [
      "Info: Params [0.79097338 0.77801893 0.39066117] gave 135.9445090414183\n"
     ]
    },
    {
     "name": "stdout",
     "output_type": "stream",
     "text": [
      "    Participant Difficulty Incentive  Drift Rate  Boundary Separation  \\\n",
      "21           21        med      none    0.790973             0.778019   \n",
      "\n",
      "    Non-decision Time  \n",
      "21           0.390661  \n",
      "21\n"
     ]
    },
    {
     "name": "stderr",
     "output_type": "stream",
     "text": [
      "Info: Params [1.33570334 0.67909393 0.37664361] gave 43.67718072898903\n"
     ]
    },
    {
     "name": "stdout",
     "output_type": "stream",
     "text": [
      "    Participant Difficulty Incentive  Drift Rate  Boundary Separation  \\\n",
      "22           22        med      gain    1.335703             0.679094   \n",
      "\n",
      "    Non-decision Time  \n",
      "22           0.376644  \n",
      "21\n"
     ]
    },
    {
     "name": "stderr",
     "output_type": "stream",
     "text": [
      "Info: Params [0.70009451 0.69515884 0.42438983] gave 126.39253108116453\n"
     ]
    },
    {
     "name": "stdout",
     "output_type": "stream",
     "text": [
      "    Participant Difficulty Incentive  Drift Rate  Boundary Separation  \\\n",
      "22           22        med      loss    0.700095             0.695159   \n",
      "\n",
      "    Non-decision Time  \n",
      "22            0.42439  \n",
      "21\n"
     ]
    },
    {
     "name": "stderr",
     "output_type": "stream",
     "text": [
      "Info: Params [1.25602777 0.67497298 0.41899578] gave 64.63601521197563\n"
     ]
    },
    {
     "name": "stdout",
     "output_type": "stream",
     "text": [
      "    Participant Difficulty Incentive  Drift Rate  Boundary Separation  \\\n",
      "22           22        med      none    1.256028             0.674973   \n",
      "\n",
      "    Non-decision Time  \n",
      "22           0.418996  \n",
      "22\n"
     ]
    },
    {
     "name": "stderr",
     "output_type": "stream",
     "text": [
      "Info: Params [0.0835433  0.82108048 0.19286927] gave 182.1266529516769\n"
     ]
    },
    {
     "name": "stdout",
     "output_type": "stream",
     "text": [
      "    Participant Difficulty Incentive  Drift Rate  Boundary Separation  \\\n",
      "23           23        med      gain    0.083543              0.82108   \n",
      "\n",
      "    Non-decision Time  \n",
      "23           0.192869  \n",
      "22\n"
     ]
    },
    {
     "name": "stderr",
     "output_type": "stream",
     "text": [
      "Info: Params [0.16707804 0.82549923 0.16792136] gave 183.35862286130336\n"
     ]
    },
    {
     "name": "stdout",
     "output_type": "stream",
     "text": [
      "    Participant Difficulty Incentive  Drift Rate  Boundary Separation  \\\n",
      "23           23        med      loss    0.167078             0.825499   \n",
      "\n",
      "    Non-decision Time  \n",
      "23           0.167921  \n",
      "22\n"
     ]
    },
    {
     "name": "stderr",
     "output_type": "stream",
     "text": [
      "Info: Params [0.0294042  0.78939442 0.24394072] gave 199.51178468095105\n"
     ]
    },
    {
     "name": "stdout",
     "output_type": "stream",
     "text": [
      "    Participant Difficulty Incentive  Drift Rate  Boundary Separation  \\\n",
      "23           23        med      none    0.029404             0.789394   \n",
      "\n",
      "    Non-decision Time  \n",
      "23           0.243941  \n",
      "23\n"
     ]
    },
    {
     "name": "stderr",
     "output_type": "stream",
     "text": [
      "Info: Params [0.20105438 0.81153275 0.47658659] gave 186.90993867664213\n"
     ]
    },
    {
     "name": "stdout",
     "output_type": "stream",
     "text": [
      "    Participant Difficulty Incentive  Drift Rate  Boundary Separation  \\\n",
      "24           24        med      gain    0.201054             0.811533   \n",
      "\n",
      "    Non-decision Time  \n",
      "24           0.476587  \n",
      "23\n"
     ]
    },
    {
     "name": "stderr",
     "output_type": "stream",
     "text": [
      "Info: Params [0.         0.69449447 0.57890391] gave 145.77496337126595\n"
     ]
    },
    {
     "name": "stdout",
     "output_type": "stream",
     "text": [
      "    Participant Difficulty Incentive  Drift Rate  Boundary Separation  \\\n",
      "24           24        med      loss         0.0             0.694494   \n",
      "\n",
      "    Non-decision Time  \n",
      "24           0.578904  \n",
      "23\n"
     ]
    },
    {
     "name": "stderr",
     "output_type": "stream",
     "text": [
      "Info: Params [0.14614904 0.80288032 0.3411613 ] gave 142.23389743925247\n"
     ]
    },
    {
     "name": "stdout",
     "output_type": "stream",
     "text": [
      "    Participant Difficulty Incentive  Drift Rate  Boundary Separation  \\\n",
      "24           24        med      none    0.146149              0.80288   \n",
      "\n",
      "    Non-decision Time  \n",
      "24           0.341161  \n",
      "24\n"
     ]
    },
    {
     "name": "stderr",
     "output_type": "stream",
     "text": [
      "Info: Params [1.17132915 0.60651586 0.38079713] gave 51.23912675603617\n"
     ]
    },
    {
     "name": "stdout",
     "output_type": "stream",
     "text": [
      "    Participant Difficulty Incentive  Drift Rate  Boundary Separation  \\\n",
      "25           25        med      gain    1.171329             0.606516   \n",
      "\n",
      "    Non-decision Time  \n",
      "25           0.380797  \n",
      "24\n"
     ]
    },
    {
     "name": "stderr",
     "output_type": "stream",
     "text": [
      "Info: Params [1.45955261 0.71768287 0.34024428] gave 53.01094676563353\n"
     ]
    },
    {
     "name": "stdout",
     "output_type": "stream",
     "text": [
      "    Participant Difficulty Incentive  Drift Rate  Boundary Separation  \\\n",
      "25           25        med      loss    1.459553             0.717683   \n",
      "\n",
      "    Non-decision Time  \n",
      "25           0.340244  \n",
      "24\n"
     ]
    },
    {
     "name": "stderr",
     "output_type": "stream",
     "text": [
      "Info: Params [0.63079772 0.58271467 0.36242828] gave 77.5379824101261\n"
     ]
    },
    {
     "name": "stdout",
     "output_type": "stream",
     "text": [
      "    Participant Difficulty Incentive  Drift Rate  Boundary Separation  \\\n",
      "25           25        med      none    0.630798             0.582715   \n",
      "\n",
      "    Non-decision Time  \n",
      "25           0.362428  \n",
      "25\n"
     ]
    },
    {
     "name": "stderr",
     "output_type": "stream",
     "text": [
      "Info: Params [0.93309101 0.75684376 0.41201934] gave 118.27072253168829\n"
     ]
    },
    {
     "name": "stdout",
     "output_type": "stream",
     "text": [
      "    Participant Difficulty Incentive  Drift Rate  Boundary Separation  \\\n",
      "26           26        med      gain    0.933091             0.756844   \n",
      "\n",
      "    Non-decision Time  \n",
      "26           0.412019  \n",
      "25\n"
     ]
    },
    {
     "name": "stderr",
     "output_type": "stream",
     "text": [
      "Info: Params [0.96681665 0.69204737 0.32026141] gave 92.1561337661876\n"
     ]
    },
    {
     "name": "stdout",
     "output_type": "stream",
     "text": [
      "    Participant Difficulty Incentive  Drift Rate  Boundary Separation  \\\n",
      "26           26        med      loss    0.966817             0.692047   \n",
      "\n",
      "    Non-decision Time  \n",
      "26           0.320261  \n",
      "25\n"
     ]
    },
    {
     "name": "stderr",
     "output_type": "stream",
     "text": [
      "Info: Params [0.84314624 0.74544891 0.47475876] gave 125.33528391824149\n"
     ]
    },
    {
     "name": "stdout",
     "output_type": "stream",
     "text": [
      "    Participant Difficulty Incentive  Drift Rate  Boundary Separation  \\\n",
      "26           26        med      none    0.843146             0.745449   \n",
      "\n",
      "    Non-decision Time  \n",
      "26           0.474759  \n",
      "26\n"
     ]
    },
    {
     "name": "stderr",
     "output_type": "stream",
     "text": [
      "Info: Params [1.13778014 0.81768467 0.46821277] gave 115.41878737383061\n"
     ]
    },
    {
     "name": "stdout",
     "output_type": "stream",
     "text": [
      "    Participant Difficulty Incentive  Drift Rate  Boundary Separation  \\\n",
      "27           27        med      gain     1.13778             0.817685   \n",
      "\n",
      "    Non-decision Time  \n",
      "27           0.468213  \n",
      "26\n"
     ]
    },
    {
     "name": "stderr",
     "output_type": "stream",
     "text": [
      "Info: Params [0.70043207 0.7818012  0.53507483] gave 148.92838681779398\n"
     ]
    },
    {
     "name": "stdout",
     "output_type": "stream",
     "text": [
      "    Participant Difficulty Incentive  Drift Rate  Boundary Separation  \\\n",
      "27           27        med      loss    0.700432             0.781801   \n",
      "\n",
      "    Non-decision Time  \n",
      "27           0.535075  \n",
      "26\n"
     ]
    },
    {
     "name": "stderr",
     "output_type": "stream",
     "text": [
      "Info: Params [1.19640581 0.81351894 0.5118345 ] gave 109.60142182393264\n"
     ]
    },
    {
     "name": "stdout",
     "output_type": "stream",
     "text": [
      "    Participant Difficulty Incentive  Drift Rate  Boundary Separation  \\\n",
      "27           27        med      none    1.196406             0.813519   \n",
      "\n",
      "    Non-decision Time  \n",
      "27           0.511834  \n",
      "27\n"
     ]
    },
    {
     "name": "stderr",
     "output_type": "stream",
     "text": [
      "Info: Params [0.         0.92418294 0.2671601 ] gave 243.10876535043994\n"
     ]
    },
    {
     "name": "stdout",
     "output_type": "stream",
     "text": [
      "    Participant Difficulty Incentive  Drift Rate  Boundary Separation  \\\n",
      "28           28        med      gain         0.0             0.924183   \n",
      "\n",
      "    Non-decision Time  \n",
      "28            0.26716  \n",
      "27\n"
     ]
    },
    {
     "name": "stderr",
     "output_type": "stream",
     "text": [
      "Info: Params [0.11032166 0.88021844 0.28554091] gave 228.0384296537265\n"
     ]
    },
    {
     "name": "stdout",
     "output_type": "stream",
     "text": [
      "    Participant Difficulty Incentive  Drift Rate  Boundary Separation  \\\n",
      "28           28        med      loss    0.110322             0.880218   \n",
      "\n",
      "    Non-decision Time  \n",
      "28           0.285541  \n",
      "27\n"
     ]
    },
    {
     "name": "stderr",
     "output_type": "stream",
     "text": [
      "Info: Params [0.23442003 0.90812945 0.25865786] gave 228.8981484849962\n"
     ]
    },
    {
     "name": "stdout",
     "output_type": "stream",
     "text": [
      "    Participant Difficulty Incentive  Drift Rate  Boundary Separation  \\\n",
      "28           28        med      none     0.23442             0.908129   \n",
      "\n",
      "    Non-decision Time  \n",
      "28           0.258658  \n",
      "28\n"
     ]
    },
    {
     "name": "stderr",
     "output_type": "stream",
     "text": [
      "Info: Params [0.74287061 0.71856334 0.51062101] gave 132.68621636935413\n"
     ]
    },
    {
     "name": "stdout",
     "output_type": "stream",
     "text": [
      "    Participant Difficulty Incentive  Drift Rate  Boundary Separation  \\\n",
      "29           29        med      gain    0.742871             0.718563   \n",
      "\n",
      "    Non-decision Time  \n",
      "29           0.510621  \n",
      "28\n"
     ]
    },
    {
     "name": "stderr",
     "output_type": "stream",
     "text": [
      "Info: Params [0.         0.98110211 0.18296147] gave 256.0023241962394\n"
     ]
    },
    {
     "name": "stdout",
     "output_type": "stream",
     "text": [
      "    Participant Difficulty Incentive  Drift Rate  Boundary Separation  \\\n",
      "29           29        med      loss         0.0             0.981102   \n",
      "\n",
      "    Non-decision Time  \n",
      "29           0.182961  \n",
      "28\n"
     ]
    },
    {
     "name": "stderr",
     "output_type": "stream",
     "text": [
      "Info: Params [0.43675355 0.90529464 0.52057428] gave 225.07601586129456\n"
     ]
    },
    {
     "name": "stdout",
     "output_type": "stream",
     "text": [
      "    Participant Difficulty Incentive  Drift Rate  Boundary Separation  \\\n",
      "29           29        med      none    0.436754             0.905295   \n",
      "\n",
      "    Non-decision Time  \n",
      "29           0.520574  \n",
      "29\n"
     ]
    },
    {
     "name": "stderr",
     "output_type": "stream",
     "text": [
      "Info: Params [1.63839145 0.7775277  0.48325492] gave 39.9848535564678\n"
     ]
    },
    {
     "name": "stdout",
     "output_type": "stream",
     "text": [
      "    Participant Difficulty Incentive  Drift Rate  Boundary Separation  \\\n",
      "30           30        med      gain    1.638391             0.777528   \n",
      "\n",
      "    Non-decision Time  \n",
      "30           0.483255  \n",
      "29\n"
     ]
    },
    {
     "name": "stderr",
     "output_type": "stream",
     "text": [
      "Info: Params [0.38484569 0.77129498 0.39547304] gave 171.16695771787084\n"
     ]
    },
    {
     "name": "stdout",
     "output_type": "stream",
     "text": [
      "    Participant Difficulty Incentive  Drift Rate  Boundary Separation  \\\n",
      "30           30        med      loss    0.384846             0.771295   \n",
      "\n",
      "    Non-decision Time  \n",
      "30           0.395473  \n",
      "29\n"
     ]
    },
    {
     "name": "stderr",
     "output_type": "stream",
     "text": [
      "Info: Params [1.06837411 0.6808894  0.49170567] gave 81.4687028198587\n"
     ]
    },
    {
     "name": "stdout",
     "output_type": "stream",
     "text": [
      "    Participant Difficulty Incentive  Drift Rate  Boundary Separation  \\\n",
      "30           30        med      none    1.068374             0.680889   \n",
      "\n",
      "    Non-decision Time  \n",
      "30           0.491706  \n",
      "30\n"
     ]
    },
    {
     "name": "stderr",
     "output_type": "stream",
     "text": [
      "Info: Params [0.13001274 0.85671632 0.44341721] gave 212.01339185991648\n"
     ]
    },
    {
     "name": "stdout",
     "output_type": "stream",
     "text": [
      "    Participant Difficulty Incentive  Drift Rate  Boundary Separation  \\\n",
      "31           31        med      gain    0.130013             0.856716   \n",
      "\n",
      "    Non-decision Time  \n",
      "31           0.443417  \n",
      "30\n"
     ]
    },
    {
     "name": "stderr",
     "output_type": "stream",
     "text": [
      "Info: Params [0.5835729  0.90664078 0.33207726] gave 201.68323520670398\n"
     ]
    },
    {
     "name": "stdout",
     "output_type": "stream",
     "text": [
      "    Participant Difficulty Incentive  Drift Rate  Boundary Separation  \\\n",
      "31           31        med      loss    0.583573             0.906641   \n",
      "\n",
      "    Non-decision Time  \n",
      "31           0.332077  \n",
      "30\n"
     ]
    },
    {
     "name": "stderr",
     "output_type": "stream",
     "text": [
      "Info: Params [0.54593794 0.93494043 0.441817  ] gave 203.45688947095346\n"
     ]
    },
    {
     "name": "stdout",
     "output_type": "stream",
     "text": [
      "    Participant Difficulty Incentive  Drift Rate  Boundary Separation  \\\n",
      "31           31        med      none    0.545938              0.93494   \n",
      "\n",
      "    Non-decision Time  \n",
      "31           0.441817  \n",
      "31\n"
     ]
    },
    {
     "name": "stderr",
     "output_type": "stream",
     "text": [
      "Info: Params [0.99623466 0.75249732 0.43114835] gave 107.32683917118085\n"
     ]
    },
    {
     "name": "stdout",
     "output_type": "stream",
     "text": [
      "    Participant Difficulty Incentive  Drift Rate  Boundary Separation  \\\n",
      "32           32        med      gain    0.996235             0.752497   \n",
      "\n",
      "    Non-decision Time  \n",
      "32           0.431148  \n",
      "31\n"
     ]
    },
    {
     "name": "stderr",
     "output_type": "stream",
     "text": [
      "Info: Params [0.68448275 0.88890509 0.33668687] gave 188.03865430807014\n"
     ]
    },
    {
     "name": "stdout",
     "output_type": "stream",
     "text": [
      "    Participant Difficulty Incentive  Drift Rate  Boundary Separation  \\\n",
      "32           32        med      loss    0.684483             0.888905   \n",
      "\n",
      "    Non-decision Time  \n",
      "32           0.336687  \n",
      "31\n"
     ]
    },
    {
     "name": "stderr",
     "output_type": "stream",
     "text": [
      "Info: Params [1.20050811 0.66212307 0.46084656] gave 65.07698541842987\n"
     ]
    },
    {
     "name": "stdout",
     "output_type": "stream",
     "text": [
      "    Participant Difficulty Incentive  Drift Rate  Boundary Separation  \\\n",
      "32           32        med      none    1.200508             0.662123   \n",
      "\n",
      "    Non-decision Time  \n",
      "32           0.460847  \n",
      "32\n"
     ]
    },
    {
     "name": "stderr",
     "output_type": "stream",
     "text": [
      "Info: Params [0.16492815 0.77639934 0.25107136] gave 194.1237306299364\n"
     ]
    },
    {
     "name": "stdout",
     "output_type": "stream",
     "text": [
      "    Participant Difficulty Incentive  Drift Rate  Boundary Separation  \\\n",
      "33           33        med      gain    0.164928             0.776399   \n",
      "\n",
      "    Non-decision Time  \n",
      "33           0.251071  \n",
      "32\n"
     ]
    },
    {
     "name": "stderr",
     "output_type": "stream",
     "text": [
      "Info: Params [0.049816   0.72331544 0.21954162] gave 164.46101503923248\n"
     ]
    },
    {
     "name": "stdout",
     "output_type": "stream",
     "text": [
      "    Participant Difficulty Incentive  Drift Rate  Boundary Separation  \\\n",
      "33           33        med      loss    0.049816             0.723315   \n",
      "\n",
      "    Non-decision Time  \n",
      "33           0.219542  \n",
      "32\n"
     ]
    },
    {
     "name": "stderr",
     "output_type": "stream",
     "text": [
      "Info: Params [0.06892289 0.66751454 0.2658056 ] gave 144.34876277357117\n"
     ]
    },
    {
     "name": "stdout",
     "output_type": "stream",
     "text": [
      "    Participant Difficulty Incentive  Drift Rate  Boundary Separation  \\\n",
      "33           33        med      none    0.068923             0.667515   \n",
      "\n",
      "    Non-decision Time  \n",
      "33           0.265806  \n",
      "33\n"
     ]
    },
    {
     "name": "stderr",
     "output_type": "stream",
     "text": [
      "Info: Params [1.12041265 0.63178307 0.48359897] gave 53.28084368632996\n"
     ]
    },
    {
     "name": "stdout",
     "output_type": "stream",
     "text": [
      "    Participant Difficulty Incentive  Drift Rate  Boundary Separation  \\\n",
      "34           34        med      gain    1.120413             0.631783   \n",
      "\n",
      "    Non-decision Time  \n",
      "34           0.483599  \n",
      "33\n"
     ]
    },
    {
     "name": "stderr",
     "output_type": "stream",
     "text": [
      "Info: Params [0.82445252 0.80818669 0.35123126] gave 139.30057826207673\n"
     ]
    },
    {
     "name": "stdout",
     "output_type": "stream",
     "text": [
      "    Participant Difficulty Incentive  Drift Rate  Boundary Separation  \\\n",
      "34           34        med      loss    0.824453             0.808187   \n",
      "\n",
      "    Non-decision Time  \n",
      "34           0.351231  \n",
      "33\n"
     ]
    },
    {
     "name": "stderr",
     "output_type": "stream",
     "text": [
      "Info: Params [1.0797685  0.7091795  0.46019393] gave 77.2488996028618\n"
     ]
    },
    {
     "name": "stdout",
     "output_type": "stream",
     "text": [
      "    Participant Difficulty Incentive  Drift Rate  Boundary Separation  \\\n",
      "34           34        med      none    1.079769             0.709179   \n",
      "\n",
      "    Non-decision Time  \n",
      "34           0.460194  \n",
      "34\n"
     ]
    },
    {
     "name": "stderr",
     "output_type": "stream",
     "text": [
      "Info: Params [0.34014319 0.75963709 0.2612948 ] gave 166.88543513147815\n"
     ]
    },
    {
     "name": "stdout",
     "output_type": "stream",
     "text": [
      "    Participant Difficulty Incentive  Drift Rate  Boundary Separation  \\\n",
      "35           35        med      gain    0.340143             0.759637   \n",
      "\n",
      "    Non-decision Time  \n",
      "35           0.261295  \n",
      "34\n"
     ]
    },
    {
     "name": "stderr",
     "output_type": "stream",
     "text": [
      "Info: Params [0.09491543 0.72224815 0.2802782 ] gave 173.76597238798936\n"
     ]
    },
    {
     "name": "stdout",
     "output_type": "stream",
     "text": [
      "    Participant Difficulty Incentive  Drift Rate  Boundary Separation  \\\n",
      "35           35        med      loss    0.094915             0.722248   \n",
      "\n",
      "    Non-decision Time  \n",
      "35           0.280278  \n",
      "34\n"
     ]
    },
    {
     "name": "stderr",
     "output_type": "stream",
     "text": [
      "Info: Params [0.12362625 0.73883673 0.26416267] gave 179.13584540443804\n"
     ]
    },
    {
     "name": "stdout",
     "output_type": "stream",
     "text": [
      "    Participant Difficulty Incentive  Drift Rate  Boundary Separation  \\\n",
      "35           35        med      none    0.123626             0.738837   \n",
      "\n",
      "    Non-decision Time  \n",
      "35           0.264163  \n"
     ]
    }
   ],
   "source": [
    "# use DDM to perform same analysis\n",
    "#data_dir = \"/Users/wangjiashun/Desktop/SAT-Rafiei/data/data_sub\"\n",
    "df_all = pd.DataFrame(columns = ['Participant', 'Difficulty','Incentive', 'Drift Rate',\n",
    "                                 'Boundary Separation','Non-decision Time'],)\n",
    "\n",
    "#i=1\n",
    "for i in range(35):\n",
    "    for j in range(1):\n",
    "        for k in range(3):\n",
    "\n",
    "            print(i)\n",
    "            df_sub = df[df[\"s\"]==(i+1)]\n",
    "            df_sub_cond = df_sub[df_sub[\"Diff\"]==Difficulty[j]]\n",
    "            df_sub_cond = df_sub_cond[df_sub_cond[\"Inc\"]==Incentive[k]]\n",
    "            \n",
    "            samp = Sample.from_pandas_dataframe(df_sub_cond, rt_column_name=\"RT\", correct_column_name=\"iscorrect\")\n",
    "\n",
    "            model_fit = Model(name='Simple model (fitted)',\n",
    "                          drift=DriftConstant(drift=Fittable(minval=0, maxval=4)),\n",
    "                          noise=NoiseConstant(noise=1),\n",
    "                          bound=BoundConstant(B=Fittable(minval=0.5, maxval=3)),\n",
    "                          overlay=OverlayNonDecision(nondectime=Fittable(minval=0.1, maxval=1)),\n",
    "                          dx=.001, dt=.001, T_dur=2.1)\n",
    "\n",
    "            fit_adjust_model(samp, model_fit,\n",
    "                             fitting_method=\"differential_evolution\",\n",
    "                             lossfunction=LossRobustBIC, verbose=False)\n",
    "\n",
    "            df_sub = pd.DataFrame(columns = ['Frequency', 'SAT', 'Participant', 'v','a','ter','k'],)\n",
    "\n",
    "            df_sub = pd.DataFrame({\n",
    "                                   'Participant': i+1,\n",
    "                                   'Difficulty': Difficulty[j],\n",
    "                                   'Incentive': Incentive[k],\n",
    "                                   'Drift Rate': np.array(model_fit.parameters()['drift']['drift']), \n",
    "                                   'Boundary Separation': np.array(model_fit.parameters()['bound']['B']),\n",
    "                                   'Non-decision Time': np.array(model_fit.parameters()['overlay']['nondectime'])\n",
    "                                  }, index=[i+1])\n",
    "\n",
    "            df_all = df_all.append(df_sub)\n",
    "            df_all.to_csv(\"DDMresultBallard2019.csv\")\n",
    "            print(df_sub)\n"
   ]
  },
  {
   "cell_type": "code",
   "execution_count": 68,
   "id": "8832c5fa",
   "metadata": {},
   "outputs": [],
   "source": [
    "df_all = pd.read_csv(\"DDMresultBallard2019.csv\")\n",
    "\n",
    "df_all_melted = pd.melt(df_all, id_vars=['Participant', 'Incentive'], value_vars=['Drift Rate', 'Boundary Separation','Non-decision Time'])"
   ]
  },
  {
   "cell_type": "code",
   "execution_count": 53,
   "id": "062e920e",
   "metadata": {},
   "outputs": [
    {
     "data": {
      "text/plain": [
       "<seaborn.axisgrid.FacetGrid at 0x7f8913f8e050>"
      ]
     },
     "execution_count": 53,
     "metadata": {},
     "output_type": "execute_result"
    },
    {
     "data": {
      "image/png": "[encoded data removed]",
      "text/plain": [
       "<Figure size 884.5x600 with 1 Axes>"
      ]
     },
     "metadata": {},
     "output_type": "display_data"
    }
   ],
   "source": [
    "sns.catplot(data=df_all_melted, x=\"variable\", y=\"value\", hue=\"Incentive\", kind=\"box\", hue_order = [\"none\", \"gain\", \"loss\"],\n",
    "            height=6, aspect=8/6)"
   ]
  },
  {
   "cell_type": "code",
   "execution_count": 69,
   "id": "6e99311e",
   "metadata": {},
   "outputs": [
    {
     "name": "stdout",
     "output_type": "stream",
     "text": [
      "                 Anova\n",
      "=======================================\n",
      "          F Value Num DF  Den DF Pr > F\n",
      "---------------------------------------\n",
      "Incentive  4.8846 2.0000 68.0000 0.0104\n",
      "=======================================\n",
      "\n",
      "                 Anova\n",
      "=======================================\n",
      "          F Value Num DF  Den DF Pr > F\n",
      "---------------------------------------\n",
      "Incentive  0.0221 2.0000 68.0000 0.9782\n",
      "=======================================\n",
      "\n",
      "                 Anova\n",
      "=======================================\n",
      "          F Value Num DF  Den DF Pr > F\n",
      "---------------------------------------\n",
      "Incentive  0.7711 2.0000 68.0000 0.4665\n",
      "=======================================\n",
      "\n"
     ]
    }
   ],
   "source": [
    "from statsmodels.stats.anova import AnovaRM\n",
    "\n",
    "#perform the repeated measures ANOVA\n",
    "print(AnovaRM(data=df_all, depvar='Drift Rate', subject='Participant', within=['Incentive']).fit())\n",
    "print(AnovaRM(data=df_all, depvar='Boundary Separation', subject='Participant', within=['Incentive']).fit())\n",
    "print(AnovaRM(data=df_all, depvar='Non-decision Time', subject='Participant', within=['Incentive']).fit())\n"
   ]
  },
  {
   "cell_type": "code",
   "execution_count": null,
   "id": "b131c778",
   "metadata": {},
   "outputs": [],
   "source": []
  }
 ],
 "metadata": {
  "kernelspec": {
   "display_name": "Python 3 (ipykernel)",
   "language": "python",
   "name": "python3"
  },
  "language_info": {
   "codemirror_mode": {
    "name": "ipython",
    "version": 3
   },
   "file_extension": ".py",
   "mimetype": "text/x-python",
   "name": "python",
   "nbconvert_exporter": "python",
   "pygments_lexer": "ipython3",
   "version": "3.7.15"
  }
 },
 "nbformat": 4,
 "nbformat_minor": 5
}
