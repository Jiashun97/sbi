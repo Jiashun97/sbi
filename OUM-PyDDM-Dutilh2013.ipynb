{
 "cells": [
  {
   "cell_type": "code",
   "execution_count": 3,
   "id": "2cda49de",
   "metadata": {},
   "outputs": [],
   "source": [
    "%run IDM_helper_functions.ipynb"
   ]
  },
  {
   "cell_type": "code",
   "execution_count": 4,
   "id": "71d6acc9",
   "metadata": {},
   "outputs": [],
   "source": [
    "from pyddm import Model\n",
    "from pyddm.models import DriftConstant, DriftLinear, NoiseConstant, BoundConstant, OverlayNonDecision, ICPointSourceCenter\n",
    "from pyddm.functions import fit_adjust_model, display_model\n",
    "\n",
    "from pyddm import Fittable, Fitted, Sample\n",
    "from pyddm.models import LossRobustBIC, LossBIC, LossLikelihood, LossRobustLikelihood,LossSquaredError\n",
    "from pyddm.functions import fit_adjust_model"
   ]
  },
  {
   "cell_type": "code",
   "execution_count": 5,
   "id": "85af9e6b",
   "metadata": {},
   "outputs": [],
   "source": [
    "import pandas as pd\n",
    "import os\n",
    "import pyreadr\n",
    "import seaborn as sns\n",
    "import scipy"
   ]
  },
  {
   "cell_type": "code",
   "execution_count": 11,
   "id": "dc709411",
   "metadata": {},
   "outputs": [],
   "source": [
    "data_dir = \"/Users/wangjiashun/Desktop/Evans2021/Dutilh2013/dataBySubject/sub\"\n",
    "sample_size = 32"
   ]
  },
  {
   "cell_type": "code",
   "execution_count": 21,
   "id": "d687fe45",
   "metadata": {},
   "outputs": [
    {
     "data": {
      "text/html": [
       "<div>\n",
       "<style scoped>\n",
       "    .dataframe tbody tr th:only-of-type {\n",
       "        vertical-align: middle;\n",
       "    }\n",
       "\n",
       "    .dataframe tbody tr th {\n",
       "        vertical-align: top;\n",
       "    }\n",
       "\n",
       "    .dataframe thead th {\n",
       "        text-align: right;\n",
       "    }\n",
       "</style>\n",
       "<table border=\"1\" class=\"dataframe\">\n",
       "  <thead>\n",
       "    <tr style=\"text-align: right;\">\n",
       "      <th></th>\n",
       "      <th>Time</th>\n",
       "      <th>Correct</th>\n",
       "      <th>Stim</th>\n",
       "      <th>Cond</th>\n",
       "    </tr>\n",
       "  </thead>\n",
       "  <tbody>\n",
       "    <tr>\n",
       "      <th>0</th>\n",
       "      <td>0.6433</td>\n",
       "      <td>True</td>\n",
       "      <td>Stim1</td>\n",
       "      <td>accuracy</td>\n",
       "    </tr>\n",
       "    <tr>\n",
       "      <th>1</th>\n",
       "      <td>0.6524</td>\n",
       "      <td>True</td>\n",
       "      <td>Stim1</td>\n",
       "      <td>accuracy</td>\n",
       "    </tr>\n",
       "    <tr>\n",
       "      <th>2</th>\n",
       "      <td>0.6480</td>\n",
       "      <td>True</td>\n",
       "      <td>Stim2</td>\n",
       "      <td>accuracy</td>\n",
       "    </tr>\n",
       "    <tr>\n",
       "      <th>3</th>\n",
       "      <td>0.6839</td>\n",
       "      <td>False</td>\n",
       "      <td>Stim2</td>\n",
       "      <td>accuracy</td>\n",
       "    </tr>\n",
       "    <tr>\n",
       "      <th>4</th>\n",
       "      <td>0.8687</td>\n",
       "      <td>False</td>\n",
       "      <td>Stim2</td>\n",
       "      <td>accuracy</td>\n",
       "    </tr>\n",
       "    <tr>\n",
       "      <th>...</th>\n",
       "      <td>...</td>\n",
       "      <td>...</td>\n",
       "      <td>...</td>\n",
       "      <td>...</td>\n",
       "    </tr>\n",
       "    <tr>\n",
       "      <th>1477</th>\n",
       "      <td>0.5820</td>\n",
       "      <td>True</td>\n",
       "      <td>Stim1</td>\n",
       "      <td>accuracy</td>\n",
       "    </tr>\n",
       "    <tr>\n",
       "      <th>1478</th>\n",
       "      <td>0.8664</td>\n",
       "      <td>True</td>\n",
       "      <td>Stim1</td>\n",
       "      <td>accuracy</td>\n",
       "    </tr>\n",
       "    <tr>\n",
       "      <th>1479</th>\n",
       "      <td>0.9743</td>\n",
       "      <td>True</td>\n",
       "      <td>Stim1</td>\n",
       "      <td>accuracy</td>\n",
       "    </tr>\n",
       "    <tr>\n",
       "      <th>1480</th>\n",
       "      <td>0.5926</td>\n",
       "      <td>True</td>\n",
       "      <td>Stim1</td>\n",
       "      <td>accuracy</td>\n",
       "    </tr>\n",
       "    <tr>\n",
       "      <th>1481</th>\n",
       "      <td>0.8177</td>\n",
       "      <td>True</td>\n",
       "      <td>Stim2</td>\n",
       "      <td>accuracy</td>\n",
       "    </tr>\n",
       "  </tbody>\n",
       "</table>\n",
       "<p>532 rows × 4 columns</p>\n",
       "</div>"
      ],
      "text/plain": [
       "        Time  Correct   Stim      Cond\n",
       "0     0.6433     True  Stim1  accuracy\n",
       "1     0.6524     True  Stim1  accuracy\n",
       "2     0.6480     True  Stim2  accuracy\n",
       "3     0.6839    False  Stim2  accuracy\n",
       "4     0.8687    False  Stim2  accuracy\n",
       "...      ...      ...    ...       ...\n",
       "1477  0.5820     True  Stim1  accuracy\n",
       "1478  0.8664     True  Stim1  accuracy\n",
       "1479  0.9743     True  Stim1  accuracy\n",
       "1480  0.5926     True  Stim1  accuracy\n",
       "1481  0.8177     True  Stim2  accuracy\n",
       "\n",
       "[532 rows x 4 columns]"
      ]
     },
     "execution_count": 21,
     "metadata": {},
     "output_type": "execute_result"
    }
   ],
   "source": [
    "df"
   ]
  },
  {
   "cell_type": "code",
   "execution_count": null,
   "id": "3b69d901",
   "metadata": {},
   "outputs": [],
   "source": []
  },
  {
   "cell_type": "code",
   "execution_count": 19,
   "id": "c0ea6859",
   "metadata": {},
   "outputs": [],
   "source": [
    "path = os.path.join(data_dir+str(i+1)+\".csv\")\n",
    "df = pd.read_csv(path, sep = \",\")\n"
   ]
  },
  {
   "cell_type": "code",
   "execution_count": 42,
   "id": "fbb33721",
   "metadata": {
    "scrolled": true
   },
   "outputs": [
    {
     "name": "stdout",
     "output_type": "stream",
     "text": [
      "0\n"
     ]
    },
    {
     "name": "stderr",
     "output_type": "stream",
     "text": [
      "Info: Params [0.15791379 9.10549926 4.50825752 0.1008066 ] gave -336.41812164106597\n"
     ]
    },
    {
     "name": "stdout",
     "output_type": "stream",
     "text": [
      "[0.15791379 4.50825752 0.1008066  9.10549926]\n",
      "1\n"
     ]
    },
    {
     "name": "stderr",
     "output_type": "stream",
     "text": [
      "Info: Params [2.03318423 3.44214048 0.68376101 0.33339001] gave -204.04938728690712\n"
     ]
    },
    {
     "name": "stdout",
     "output_type": "stream",
     "text": [
      "[2.03318423 0.68376101 0.33339001 3.44214048]\n",
      "2\n"
     ]
    },
    {
     "name": "stderr",
     "output_type": "stream",
     "text": [
      "Info: Params [0.         2.25866367 1.37815704 0.10213174] gave 347.33868046572576\n"
     ]
    },
    {
     "name": "stdout",
     "output_type": "stream",
     "text": [
      "[0.         1.37815704 0.10213174 2.25866367]\n",
      "3\n"
     ]
    },
    {
     "name": "stderr",
     "output_type": "stream",
     "text": [
      "Info: Params [3.68583599 3.10939084 0.91223631 0.30743599] gave -148.223794247723\n"
     ]
    },
    {
     "name": "stdout",
     "output_type": "stream",
     "text": [
      "[3.68583599 0.91223631 0.30743599 3.10939084]\n",
      "4\n"
     ]
    },
    {
     "name": "stderr",
     "output_type": "stream",
     "text": [
      "Info: Params [1.95318633 3.90179147 1.30323032 0.18667298] gave -72.54492500056958\n"
     ]
    },
    {
     "name": "stdout",
     "output_type": "stream",
     "text": [
      "[1.95318633 1.30323032 0.18667298 3.90179147]\n",
      "5\n"
     ]
    },
    {
     "name": "stderr",
     "output_type": "stream",
     "text": [
      "Info: Params [1.27119366 7.23752765 1.90403051 0.18386342] gave -171.0024649330095\n"
     ]
    },
    {
     "name": "stdout",
     "output_type": "stream",
     "text": [
      "[1.27119366 1.90403051 0.18386342 7.23752765]\n",
      "6\n"
     ]
    },
    {
     "name": "stderr",
     "output_type": "stream",
     "text": [
      "Info: Params [1.17275323 6.86738003 1.23867661 0.17755556] gave -273.00127205934496\n"
     ]
    },
    {
     "name": "stdout",
     "output_type": "stream",
     "text": [
      "[1.17275323 1.23867661 0.17755556 6.86738003]\n",
      "7\n"
     ]
    },
    {
     "name": "stderr",
     "output_type": "stream",
     "text": [
      "Info: Params [1.22457753 5.502223   2.13249841 0.10068294] gave -15.40029457168714\n"
     ]
    },
    {
     "name": "stdout",
     "output_type": "stream",
     "text": [
      "[1.22457753 2.13249841 0.10068294 5.502223  ]\n",
      "8\n"
     ]
    },
    {
     "name": "stderr",
     "output_type": "stream",
     "text": [
      "Info: Params [0.74692793 4.76224556 2.14000764 0.10005155] gave 112.73297066659137\n"
     ]
    },
    {
     "name": "stdout",
     "output_type": "stream",
     "text": [
      "[0.74692793 2.14000764 0.10005155 4.76224556]\n",
      "9\n"
     ]
    },
    {
     "name": "stderr",
     "output_type": "stream",
     "text": [
      "Info: Params [0.01285694 7.1363672  1.2214412  0.10022575] gave 43.28632341290282\n"
     ]
    },
    {
     "name": "stdout",
     "output_type": "stream",
     "text": [
      "[0.01285694 1.2214412  0.10022575 7.1363672 ]\n",
      "10\n"
     ]
    },
    {
     "name": "stderr",
     "output_type": "stream",
     "text": [
      "Info: Params [2.58251582 5.53878551 6.22687347 0.10455031] gave -56.68517337162204\n"
     ]
    },
    {
     "name": "stdout",
     "output_type": "stream",
     "text": [
      "[2.58251582 6.22687347 0.10455031 5.53878551]\n",
      "11\n"
     ]
    },
    {
     "name": "stderr",
     "output_type": "stream",
     "text": [
      "Info: Params [2.22187222 6.52689498 0.84082149 0.29637885] gave -463.35436324364224\n"
     ]
    },
    {
     "name": "stdout",
     "output_type": "stream",
     "text": [
      "[2.22187222 0.84082149 0.29637885 6.52689498]\n",
      "12\n"
     ]
    },
    {
     "name": "stderr",
     "output_type": "stream",
     "text": [
      "Info: Params [3.70173118 5.41206676 1.27016361 0.25634744] gave -436.95881184694497\n"
     ]
    },
    {
     "name": "stdout",
     "output_type": "stream",
     "text": [
      "[3.70173118 1.27016361 0.25634744 5.41206676]\n",
      "13\n"
     ]
    },
    {
     "name": "stderr",
     "output_type": "stream",
     "text": [
      "Info: Params [1.45822081 5.40394829 0.76702324 0.22260492] gave -229.92934831808626\n"
     ]
    },
    {
     "name": "stdout",
     "output_type": "stream",
     "text": [
      "[1.45822081 0.76702324 0.22260492 5.40394829]\n",
      "14\n"
     ]
    },
    {
     "name": "stderr",
     "output_type": "stream",
     "text": [
      "Info: Params [0.31690461 7.94651225 5.13691191 0.10032678] gave -39.18182462500693\n"
     ]
    },
    {
     "name": "stdout",
     "output_type": "stream",
     "text": [
      "[0.31690461 5.13691191 0.10032678 7.94651225]\n",
      "15\n"
     ]
    },
    {
     "name": "stderr",
     "output_type": "stream",
     "text": [
      "Info: Params [2.71119843 5.86680177 0.9323384  0.30778585] gave -261.6919000352991\n"
     ]
    },
    {
     "name": "stdout",
     "output_type": "stream",
     "text": [
      "[2.71119843 0.9323384  0.30778585 5.86680177]\n",
      "16\n"
     ]
    },
    {
     "name": "stderr",
     "output_type": "stream",
     "text": [
      "Info: Params [0.46498389 5.53985106 1.28060186 0.10079121] gave 311.75949932005125\n"
     ]
    },
    {
     "name": "stdout",
     "output_type": "stream",
     "text": [
      "[0.46498389 1.28060186 0.10079121 5.53985106]\n",
      "17\n"
     ]
    },
    {
     "name": "stderr",
     "output_type": "stream",
     "text": [
      "Info: Params [2.65666246 7.17561527 1.03488074 0.23681733] gave -639.5866757969549\n"
     ]
    },
    {
     "name": "stdout",
     "output_type": "stream",
     "text": [
      "[2.65666246 1.03488074 0.23681733 7.17561527]\n",
      "18\n"
     ]
    },
    {
     "name": "stderr",
     "output_type": "stream",
     "text": [
      "Info: Params [1.60737701 5.3704385  0.71485362 0.25292582] gave -152.2879847908558\n"
     ]
    },
    {
     "name": "stdout",
     "output_type": "stream",
     "text": [
      "[1.60737701 0.71485362 0.25292582 5.3704385 ]\n",
      "19\n"
     ]
    },
    {
     "name": "stderr",
     "output_type": "stream",
     "text": [
      "Info: Params [1.27769995 8.60669496 2.93794616 0.10633285] gave -500.8992843057202\n"
     ]
    },
    {
     "name": "stdout",
     "output_type": "stream",
     "text": [
      "[1.27769995 2.93794616 0.10633285 8.60669496]\n",
      "20\n"
     ]
    },
    {
     "name": "stderr",
     "output_type": "stream",
     "text": [
      "Info: Params [ 0.28407058 10.91905342  2.70438976  0.10611026] gave -322.14962523650337\n"
     ]
    },
    {
     "name": "stdout",
     "output_type": "stream",
     "text": [
      "[ 0.28407058  2.70438976  0.10611026 10.91905342]\n",
      "21\n"
     ]
    },
    {
     "name": "stderr",
     "output_type": "stream",
     "text": [
      "Info: Params [0.30408612 6.94748122 1.83986221 0.10085433] gave 68.98884483795095\n"
     ]
    },
    {
     "name": "stdout",
     "output_type": "stream",
     "text": [
      "[0.30408612 1.83986221 0.10085433 6.94748122]\n",
      "22\n"
     ]
    },
    {
     "name": "stderr",
     "output_type": "stream",
     "text": [
      "Info: Params [2.68169777 8.83720663 5.42980095 0.1256885 ] gave -189.86766168139735\n"
     ]
    },
    {
     "name": "stdout",
     "output_type": "stream",
     "text": [
      "[2.68169777 5.42980095 0.1256885  8.83720663]\n",
      "23\n"
     ]
    },
    {
     "name": "stderr",
     "output_type": "stream",
     "text": [
      "Info: Params [ 1.25437476 14.22052887  5.78403042  0.10004136] gave -828.1838368965695\n"
     ]
    },
    {
     "name": "stdout",
     "output_type": "stream",
     "text": [
      "[ 1.25437476  5.78403042  0.10004136 14.22052887]\n",
      "24\n"
     ]
    },
    {
     "name": "stderr",
     "output_type": "stream",
     "text": [
      "Info: Params [ 1.86974719 10.49870452  2.37082015  0.17995218] gave -629.1005245825155\n"
     ]
    },
    {
     "name": "stdout",
     "output_type": "stream",
     "text": [
      "[ 1.86974719  2.37082015  0.17995218 10.49870452]\n",
      "25\n"
     ]
    },
    {
     "name": "stderr",
     "output_type": "stream",
     "text": [
      "Info: Params [0.63062518 8.28058276 1.72881692 0.10044919] gave -306.0210893526522\n"
     ]
    },
    {
     "name": "stdout",
     "output_type": "stream",
     "text": [
      "[0.63062518 1.72881692 0.10044919 8.28058276]\n",
      "26\n"
     ]
    },
    {
     "name": "stderr",
     "output_type": "stream",
     "text": [
      "Info: Params [6.         1.21642869 2.81916413 0.10611304] gave -193.67385094358366\n"
     ]
    },
    {
     "name": "stdout",
     "output_type": "stream",
     "text": [
      "[6.         2.81916413 0.10611304 1.21642869]\n",
      "27\n"
     ]
    },
    {
     "name": "stderr",
     "output_type": "stream",
     "text": [
      "Info: Params [2.31656771 8.44573069 0.85278245 0.23615581] gave -500.04935603100637\n"
     ]
    },
    {
     "name": "stdout",
     "output_type": "stream",
     "text": [
      "[2.31656771 0.85278245 0.23615581 8.44573069]\n",
      "28\n"
     ]
    },
    {
     "name": "stderr",
     "output_type": "stream",
     "text": [
      "Info: Params [ 2.15557868 13.10017443  7.68556066  0.11277821] gave -501.08850928234045\n"
     ]
    },
    {
     "name": "stdout",
     "output_type": "stream",
     "text": [
      "[ 2.15557868  7.68556066  0.11277821 13.10017443]\n",
      "29\n"
     ]
    },
    {
     "name": "stderr",
     "output_type": "stream",
     "text": [
      "Info: Params [2.97230878 4.35049649 0.69984132 0.30113165] gave -443.9121040330863\n"
     ]
    },
    {
     "name": "stdout",
     "output_type": "stream",
     "text": [
      "[2.97230878 0.69984132 0.30113165 4.35049649]\n",
      "30\n"
     ]
    },
    {
     "name": "stderr",
     "output_type": "stream",
     "text": [
      "Info: Params [1.41128511 7.21974525 2.04637606 0.14562699] gave -120.5402756370293\n"
     ]
    },
    {
     "name": "stdout",
     "output_type": "stream",
     "text": [
      "[1.41128511 2.04637606 0.14562699 7.21974525]\n",
      "31\n"
     ]
    },
    {
     "name": "stderr",
     "output_type": "stream",
     "text": [
      "Info: Params [ 1.53953558 10.95138801  1.86547396  0.18614564] gave -733.9789262373596\n"
     ]
    },
    {
     "name": "stdout",
     "output_type": "stream",
     "text": [
      "[ 1.53953558  1.86547396  0.18614564 10.95138801]\n"
     ]
    }
   ],
   "source": [
    "par_fitted_A = np.zeros((sample_size,4))\n",
    "for i in range(sample_size):\n",
    "    print(i)\n",
    "    \n",
    "    path = os.path.join(data_dir+str(i+1)+\".csv\")\n",
    "    df = pd.read_csv(path, sep = \",\")\n",
    "    df = df[df[\"Cond\"]==\"speed\"] # A condition\n",
    "    df = df[df[\"Time\"]<4]\n",
    "    \n",
    "    samp = Sample.from_pandas_dataframe(df, rt_column_name=\"Time\", correct_column_name=\"Correct\")\n",
    "\n",
    "    model_fit = Model(name='Simple model (fitted)',\n",
    "                  drift=DriftLinear(drift=Fittable(minval=0, maxval=6),\n",
    "                                    t = 0,\n",
    "                                    x=Fittable(minval=-20, maxval=20)),\n",
    "                  noise=NoiseConstant(noise=1),\n",
    "                  bound=BoundConstant(B=Fittable(minval=0.5, maxval=10)),\n",
    "                  overlay=OverlayNonDecision(nondectime=Fittable(minval=0.1, maxval=1)),\n",
    "                  dx=.001, dt=.001, T_dur=4)\n",
    "                  #dx=.001, dt=.001, T_dur=3)\n",
    "\n",
    "    fit_adjust_model(samp, model_fit,\n",
    "                     fitting_method=\"differential_evolution\",\n",
    "                     lossfunction=LossRobustBIC, verbose=False)\n",
    "\n",
    "    par_fitted_A[i,0] = np.array(model_fit.parameters()['drift']['drift'])\n",
    "    par_fitted_A[i,1] = np.array(model_fit.parameters()['bound']['B'])\n",
    "    par_fitted_A[i,2] = np.array(model_fit.parameters()['overlay']['nondectime'])\n",
    "    par_fitted_A[i,3] = np.array(model_fit.parameters()['drift']['x'])\n",
    "    \n",
    "    print(par_fitted_A[i,:])\n"
   ]
  },
  {
   "cell_type": "code",
   "execution_count": 31,
   "id": "1755c1e2",
   "metadata": {},
   "outputs": [],
   "source": []
  },
  {
   "cell_type": "code",
   "execution_count": 43,
   "id": "8c24608d",
   "metadata": {
    "scrolled": true
   },
   "outputs": [
    {
     "name": "stdout",
     "output_type": "stream",
     "text": [
      "0\n"
     ]
    },
    {
     "name": "stderr",
     "output_type": "stream",
     "text": [
      "Info: Params [0.8567832  4.82205198 1.76462216 0.23747286] gave 290.2893489262593\n"
     ]
    },
    {
     "name": "stdout",
     "output_type": "stream",
     "text": [
      "[0.8567832  1.76462216 0.23747286 4.82205198]\n",
      "1\n"
     ]
    },
    {
     "name": "stderr",
     "output_type": "stream",
     "text": [
      "Info: Params [1.66588624 5.1966804  1.31372542 0.31016382] gave 4.283995566990129\n"
     ]
    },
    {
     "name": "stdout",
     "output_type": "stream",
     "text": [
      "[1.66588624 1.31372542 0.31016382 5.1966804 ]\n",
      "2\n"
     ]
    },
    {
     "name": "stderr",
     "output_type": "stream",
     "text": [
      "Info: Params [0.         3.7832373  8.31450846 0.12378029] gave 220.78457576756765\n"
     ]
    },
    {
     "name": "stdout",
     "output_type": "stream",
     "text": [
      "[0.         8.31450846 0.12378029 3.7832373 ]\n",
      "3\n"
     ]
    },
    {
     "name": "stderr",
     "output_type": "stream",
     "text": [
      "Info: Params [6.         2.17602752 3.68870277 0.12075847] gave -53.61003394611594\n"
     ]
    },
    {
     "name": "stdout",
     "output_type": "stream",
     "text": [
      "[6.         3.68870277 0.12075847 2.17602752]\n",
      "4\n"
     ]
    },
    {
     "name": "stderr",
     "output_type": "stream",
     "text": [
      "Info: Params [2.20630883 2.28052417 1.01952213 0.28366703] gave -7.10029358533269\n"
     ]
    },
    {
     "name": "stdout",
     "output_type": "stream",
     "text": [
      "[2.20630883 1.01952213 0.28366703 2.28052417]\n",
      "5\n"
     ]
    },
    {
     "name": "stderr",
     "output_type": "stream",
     "text": [
      "Info: Params [1.76679622 4.41974101 3.82716969 0.10126418] gave -15.856189783043288\n"
     ]
    },
    {
     "name": "stdout",
     "output_type": "stream",
     "text": [
      "[1.76679622 3.82716969 0.10126418 4.41974101]\n",
      "6\n"
     ]
    },
    {
     "name": "stderr",
     "output_type": "stream",
     "text": [
      "Info: Params [3.98044166 4.45184427 2.9089645  0.23662128] gave -157.24265873486783\n"
     ]
    },
    {
     "name": "stdout",
     "output_type": "stream",
     "text": [
      "[3.98044166 2.9089645  0.23662128 4.45184427]\n",
      "7\n"
     ]
    },
    {
     "name": "stderr",
     "output_type": "stream",
     "text": [
      "Info: Params [2.14657558 2.25977142 0.86857408 0.26228977] gave -109.37321511968887\n"
     ]
    },
    {
     "name": "stdout",
     "output_type": "stream",
     "text": [
      "[2.14657558 0.86857408 0.26228977 2.25977142]\n",
      "8\n"
     ]
    },
    {
     "name": "stderr",
     "output_type": "stream",
     "text": [
      "Info: Params [1.41598656 4.78007515 1.40864684 0.25135537] gave -2.5810838075988514\n"
     ]
    },
    {
     "name": "stdout",
     "output_type": "stream",
     "text": [
      "[1.41598656 1.40864684 0.25135537 4.78007515]\n",
      "9\n"
     ]
    },
    {
     "name": "stderr",
     "output_type": "stream",
     "text": [
      "Info: Params [0.27351014 3.96243534 1.93750485 0.11077553] gave 222.04471161375116\n"
     ]
    },
    {
     "name": "stdout",
     "output_type": "stream",
     "text": [
      "[0.27351014 1.93750485 0.11077553 3.96243534]\n",
      "10\n"
     ]
    },
    {
     "name": "stderr",
     "output_type": "stream",
     "text": [
      "Info: Params [3.66326184 4.17249273 3.18371868 0.23127464] gave -27.48121823078234\n"
     ]
    },
    {
     "name": "stdout",
     "output_type": "stream",
     "text": [
      "[3.66326184 3.18371868 0.23127464 4.17249273]\n",
      "11\n"
     ]
    },
    {
     "name": "stderr",
     "output_type": "stream",
     "text": [
      "Info: Params [2.75556766 3.2677954  1.04428959 0.29566871] gave -201.07420921248877\n"
     ]
    },
    {
     "name": "stdout",
     "output_type": "stream",
     "text": [
      "[2.75556766 1.04428959 0.29566871 3.2677954 ]\n",
      "12\n"
     ]
    },
    {
     "name": "stderr",
     "output_type": "stream",
     "text": [
      "Info: Params [2.68908815 8.30584688 1.41834585 0.26781732] gave -203.27774519317677\n"
     ]
    },
    {
     "name": "stdout",
     "output_type": "stream",
     "text": [
      "[2.68908815 1.41834585 0.26781732 8.30584688]\n",
      "13\n"
     ]
    },
    {
     "name": "stderr",
     "output_type": "stream",
     "text": [
      "Info: Params [3.14328833 3.04443093 1.19205318 0.26473255] gave -170.78397422915364\n"
     ]
    },
    {
     "name": "stdout",
     "output_type": "stream",
     "text": [
      "[3.14328833 1.19205318 0.26473255 3.04443093]\n",
      "14\n"
     ]
    },
    {
     "name": "stderr",
     "output_type": "stream",
     "text": [
      "Info: Params [0.06748236 4.46456382 3.12899439 0.10520285] gave 430.231167362033\n"
     ]
    },
    {
     "name": "stdout",
     "output_type": "stream",
     "text": [
      "[0.06748236 3.12899439 0.10520285 4.46456382]\n",
      "15\n"
     ]
    },
    {
     "name": "stderr",
     "output_type": "stream",
     "text": [
      "Info: Params [6.         3.98687259 5.73280873 0.10355899] gave -215.5513944714149\n"
     ]
    },
    {
     "name": "stdout",
     "output_type": "stream",
     "text": [
      "[6.         5.73280873 0.10355899 3.98687259]\n",
      "16\n"
     ]
    },
    {
     "name": "stderr",
     "output_type": "stream",
     "text": [
      "Info: Params [1.76230814 2.43729312 1.325572   0.1886433 ] gave 22.78893970896136\n"
     ]
    },
    {
     "name": "stdout",
     "output_type": "stream",
     "text": [
      "[1.76230814 1.325572   0.1886433  2.43729312]\n",
      "17\n"
     ]
    },
    {
     "name": "stderr",
     "output_type": "stream",
     "text": [
      "Info: Params [3.50514595 5.15224711 1.28547165 0.22687979] gave -353.76481156742886\n"
     ]
    },
    {
     "name": "stdout",
     "output_type": "stream",
     "text": [
      "[3.50514595 1.28547165 0.22687979 5.15224711]\n",
      "18\n"
     ]
    },
    {
     "name": "stderr",
     "output_type": "stream",
     "text": [
      "Info: Params [2.64753073 5.11341366 0.961922   0.2576265 ] gave -181.28938037225825\n"
     ]
    },
    {
     "name": "stdout",
     "output_type": "stream",
     "text": [
      "[2.64753073 0.961922   0.2576265  5.11341366]\n",
      "19\n"
     ]
    },
    {
     "name": "stderr",
     "output_type": "stream",
     "text": [
      "Info: Params [2.98341116 4.67172512 1.0850627  0.25269566] gave -384.92024669714937\n"
     ]
    },
    {
     "name": "stdout",
     "output_type": "stream",
     "text": [
      "[2.98341116 1.0850627  0.25269566 4.67172512]\n",
      "20\n"
     ]
    },
    {
     "name": "stderr",
     "output_type": "stream",
     "text": [
      "Info: Params [2.26094524 5.292123   1.98069163 0.18776387] gave -91.2029262261618\n"
     ]
    },
    {
     "name": "stdout",
     "output_type": "stream",
     "text": [
      "[2.26094524 1.98069163 0.18776387 5.292123  ]\n",
      "21\n"
     ]
    },
    {
     "name": "stderr",
     "output_type": "stream",
     "text": [
      "Info: Params [1.23166307 5.476876   1.5977195  0.24434186] gave 11.537612842963128\n"
     ]
    },
    {
     "name": "stdout",
     "output_type": "stream",
     "text": [
      "[1.23166307 1.5977195  0.24434186 5.476876  ]\n",
      "22\n"
     ]
    },
    {
     "name": "stderr",
     "output_type": "stream",
     "text": [
      "Info: Params [6.         5.19598884 4.33773304 0.20430944] gave -55.51279198176272\n"
     ]
    },
    {
     "name": "stdout",
     "output_type": "stream",
     "text": [
      "[6.         4.33773304 0.20430944 5.19598884]\n",
      "23\n"
     ]
    },
    {
     "name": "stderr",
     "output_type": "stream",
     "text": [
      "Info: Params [3.1922535  5.96255318 0.58798612 0.29792884] gave -328.8473140403445\n"
     ]
    },
    {
     "name": "stdout",
     "output_type": "stream",
     "text": [
      "[3.1922535  0.58798612 0.29792884 5.96255318]\n",
      "24\n"
     ]
    },
    {
     "name": "stderr",
     "output_type": "stream",
     "text": [
      "Info: Params [3.6760307  3.41658639 0.72756114 0.31532715] gave -252.02567393824475\n"
     ]
    },
    {
     "name": "stdout",
     "output_type": "stream",
     "text": [
      "[3.6760307  0.72756114 0.31532715 3.41658639]\n",
      "25\n"
     ]
    },
    {
     "name": "stderr",
     "output_type": "stream",
     "text": [
      "Info: Params [2.83224409 3.13662382 0.76333852 0.28511647] gave -256.7233644131558\n"
     ]
    },
    {
     "name": "stdout",
     "output_type": "stream",
     "text": [
      "[2.83224409 0.76333852 0.28511647 3.13662382]\n",
      "26\n"
     ]
    },
    {
     "name": "stderr",
     "output_type": "stream",
     "text": [
      "Info: Params [2.63809232 5.40792187 1.7564337  0.21796932] gave -50.03688441858939\n"
     ]
    },
    {
     "name": "stdout",
     "output_type": "stream",
     "text": [
      "[2.63809232 1.7564337  0.21796932 5.40792187]\n",
      "27\n"
     ]
    },
    {
     "name": "stderr",
     "output_type": "stream",
     "text": [
      "Info: Params [3.62310381 6.88799494 0.81404378 0.27061443] gave -439.64823819920656\n"
     ]
    },
    {
     "name": "stdout",
     "output_type": "stream",
     "text": [
      "[3.62310381 0.81404378 0.27061443 6.88799494]\n",
      "28\n"
     ]
    },
    {
     "name": "stderr",
     "output_type": "stream",
     "text": [
      "Info: Params [3.26951314 4.94354883 0.52170327 0.3069277 ] gave -458.0113688338559\n"
     ]
    },
    {
     "name": "stdout",
     "output_type": "stream",
     "text": [
      "[3.26951314 0.52170327 0.3069277  4.94354883]\n",
      "29\n"
     ]
    },
    {
     "name": "stderr",
     "output_type": "stream",
     "text": [
      "Info: Params [2.7816809  6.36209934 0.99059918 0.289074  ] gave -340.9444572923786\n"
     ]
    },
    {
     "name": "stdout",
     "output_type": "stream",
     "text": [
      "[2.7816809  0.99059918 0.289074   6.36209934]\n",
      "30\n"
     ]
    },
    {
     "name": "stderr",
     "output_type": "stream",
     "text": [
      "Info: Params [3.90306282 5.73879534 3.87038206 0.13012157] gave -216.7746383829837\n"
     ]
    },
    {
     "name": "stdout",
     "output_type": "stream",
     "text": [
      "[3.90306282 3.87038206 0.13012157 5.73879534]\n",
      "31\n"
     ]
    },
    {
     "name": "stderr",
     "output_type": "stream",
     "text": [
      "Info: Params [4.01649544 7.00891963 1.88960218 0.22250651] gave -580.2084186462969\n"
     ]
    },
    {
     "name": "stdout",
     "output_type": "stream",
     "text": [
      "[4.01649544 1.88960218 0.22250651 7.00891963]\n"
     ]
    }
   ],
   "source": [
    "par_fitted_B = np.zeros((sample_size,4))\n",
    "for i in range(sample_size):\n",
    "    print(i)\n",
    "    \n",
    "    path = os.path.join(data_dir+str(i+1)+\".csv\")\n",
    "    df = pd.read_csv(path, sep = \",\")\n",
    "    df = df[df[\"Cond\"]==\"accuracy\"] # A condition\n",
    "    df = df[df[\"Time\"]<4]\n",
    "    \n",
    "    samp = Sample.from_pandas_dataframe(df, rt_column_name=\"Time\", correct_column_name=\"Correct\")\n",
    "    \n",
    "    model_fit = Model(name='Simple model (fitted)',\n",
    "                  drift=DriftLinear(drift=Fittable(minval=0, maxval=6),\n",
    "                                    t = 0,\n",
    "                                    x=Fittable(minval=-20, maxval=20)),\n",
    "                  noise=NoiseConstant(noise=1),\n",
    "                  bound=BoundConstant(B=Fittable(minval=0.5, maxval=10)),\n",
    "                  overlay=OverlayNonDecision(nondectime=Fittable(minval=0.1, maxval=1)),\n",
    "                  dx=.001, dt=.001, T_dur=4)\n",
    "                  #dx=.001, dt=.001, T_dur=3)\n",
    "\n",
    "    fit_adjust_model(samp, model_fit,\n",
    "                     fitting_method=\"differential_evolution\",\n",
    "                     lossfunction=LossRobustBIC, verbose=False)\n",
    "\n",
    "    par_fitted_B[i,0] = np.array(model_fit.parameters()['drift']['drift'])\n",
    "    par_fitted_B[i,1] = np.array(model_fit.parameters()['bound']['B'])\n",
    "    par_fitted_B[i,2] = np.array(model_fit.parameters()['overlay']['nondectime'])\n",
    "    par_fitted_B[i,3] = np.array(model_fit.parameters()['drift']['x'])\n",
    "    \n",
    "    print(par_fitted_B[i,:])\n"
   ]
  },
  {
   "cell_type": "code",
   "execution_count": null,
   "id": "b830d7be",
   "metadata": {},
   "outputs": [],
   "source": []
  },
  {
   "cell_type": "code",
   "execution_count": null,
   "id": "eaaefc60",
   "metadata": {},
   "outputs": [],
   "source": []
  },
  {
   "cell_type": "code",
   "execution_count": 134,
   "id": "35ba3c37",
   "metadata": {
    "scrolled": true
   },
   "outputs": [
    {
     "data": {
      "text/html": [
       "<div>\n",
       "<style scoped>\n",
       "    .dataframe tbody tr th:only-of-type {\n",
       "        vertical-align: middle;\n",
       "    }\n",
       "\n",
       "    .dataframe tbody tr th {\n",
       "        vertical-align: top;\n",
       "    }\n",
       "\n",
       "    .dataframe thead tr th {\n",
       "        text-align: left;\n",
       "    }\n",
       "\n",
       "    .dataframe thead tr:last-of-type th {\n",
       "        text-align: right;\n",
       "    }\n",
       "</style>\n",
       "<table border=\"1\" class=\"dataframe\">\n",
       "  <thead>\n",
       "    <tr>\n",
       "      <th></th>\n",
       "      <th></th>\n",
       "      <th colspan=\"4\" halign=\"left\">values</th>\n",
       "    </tr>\n",
       "    <tr>\n",
       "      <th></th>\n",
       "      <th>parameter</th>\n",
       "      <th>Boundary Seperation</th>\n",
       "      <th>Drift Rate</th>\n",
       "      <th>Effective Inhibition</th>\n",
       "      <th>Non-decision Time</th>\n",
       "    </tr>\n",
       "    <tr>\n",
       "      <th>participant</th>\n",
       "      <th>condition</th>\n",
       "      <th></th>\n",
       "      <th></th>\n",
       "      <th></th>\n",
       "      <th></th>\n",
       "    </tr>\n",
       "  </thead>\n",
       "  <tbody>\n",
       "    <tr>\n",
       "      <th rowspan=\"2\" valign=\"top\">1</th>\n",
       "      <th>Accuracy</th>\n",
       "      <td>1.764622</td>\n",
       "      <td>0.856783</td>\n",
       "      <td>4.822052</td>\n",
       "      <td>0.237473</td>\n",
       "    </tr>\n",
       "    <tr>\n",
       "      <th>Speed</th>\n",
       "      <td>4.508258</td>\n",
       "      <td>0.157914</td>\n",
       "      <td>9.105499</td>\n",
       "      <td>0.100807</td>\n",
       "    </tr>\n",
       "    <tr>\n",
       "      <th rowspan=\"2\" valign=\"top\">2</th>\n",
       "      <th>Accuracy</th>\n",
       "      <td>1.313725</td>\n",
       "      <td>1.665886</td>\n",
       "      <td>5.196680</td>\n",
       "      <td>0.310164</td>\n",
       "    </tr>\n",
       "    <tr>\n",
       "      <th>Speed</th>\n",
       "      <td>0.683761</td>\n",
       "      <td>2.033184</td>\n",
       "      <td>3.442140</td>\n",
       "      <td>0.333390</td>\n",
       "    </tr>\n",
       "    <tr>\n",
       "      <th rowspan=\"2\" valign=\"top\">3</th>\n",
       "      <th>Accuracy</th>\n",
       "      <td>8.314508</td>\n",
       "      <td>0.000000</td>\n",
       "      <td>3.783237</td>\n",
       "      <td>0.123780</td>\n",
       "    </tr>\n",
       "    <tr>\n",
       "      <th>Speed</th>\n",
       "      <td>1.378157</td>\n",
       "      <td>0.000000</td>\n",
       "      <td>2.258664</td>\n",
       "      <td>0.102132</td>\n",
       "    </tr>\n",
       "    <tr>\n",
       "      <th rowspan=\"2\" valign=\"top\">4</th>\n",
       "      <th>Accuracy</th>\n",
       "      <td>3.688703</td>\n",
       "      <td>6.000000</td>\n",
       "      <td>2.176028</td>\n",
       "      <td>0.120758</td>\n",
       "    </tr>\n",
       "    <tr>\n",
       "      <th>Speed</th>\n",
       "      <td>0.912236</td>\n",
       "      <td>3.685836</td>\n",
       "      <td>3.109391</td>\n",
       "      <td>0.307436</td>\n",
       "    </tr>\n",
       "    <tr>\n",
       "      <th rowspan=\"2\" valign=\"top\">5</th>\n",
       "      <th>Accuracy</th>\n",
       "      <td>1.019522</td>\n",
       "      <td>2.206309</td>\n",
       "      <td>2.280524</td>\n",
       "      <td>0.283667</td>\n",
       "    </tr>\n",
       "    <tr>\n",
       "      <th>Speed</th>\n",
       "      <td>1.303230</td>\n",
       "      <td>1.953186</td>\n",
       "      <td>3.901791</td>\n",
       "      <td>0.186673</td>\n",
       "    </tr>\n",
       "    <tr>\n",
       "      <th rowspan=\"2\" valign=\"top\">6</th>\n",
       "      <th>Accuracy</th>\n",
       "      <td>3.827170</td>\n",
       "      <td>1.766796</td>\n",
       "      <td>4.419741</td>\n",
       "      <td>0.101264</td>\n",
       "    </tr>\n",
       "    <tr>\n",
       "      <th>Speed</th>\n",
       "      <td>1.904031</td>\n",
       "      <td>1.271194</td>\n",
       "      <td>7.237528</td>\n",
       "      <td>0.183863</td>\n",
       "    </tr>\n",
       "    <tr>\n",
       "      <th rowspan=\"2\" valign=\"top\">7</th>\n",
       "      <th>Accuracy</th>\n",
       "      <td>2.908965</td>\n",
       "      <td>3.980442</td>\n",
       "      <td>4.451844</td>\n",
       "      <td>0.236621</td>\n",
       "    </tr>\n",
       "    <tr>\n",
       "      <th>Speed</th>\n",
       "      <td>1.238677</td>\n",
       "      <td>1.172753</td>\n",
       "      <td>6.867380</td>\n",
       "      <td>0.177556</td>\n",
       "    </tr>\n",
       "    <tr>\n",
       "      <th rowspan=\"2\" valign=\"top\">8</th>\n",
       "      <th>Accuracy</th>\n",
       "      <td>0.868574</td>\n",
       "      <td>2.146576</td>\n",
       "      <td>2.259771</td>\n",
       "      <td>0.262290</td>\n",
       "    </tr>\n",
       "    <tr>\n",
       "      <th>Speed</th>\n",
       "      <td>2.132498</td>\n",
       "      <td>1.224578</td>\n",
       "      <td>5.502223</td>\n",
       "      <td>0.100683</td>\n",
       "    </tr>\n",
       "    <tr>\n",
       "      <th rowspan=\"2\" valign=\"top\">9</th>\n",
       "      <th>Accuracy</th>\n",
       "      <td>1.408647</td>\n",
       "      <td>1.415987</td>\n",
       "      <td>4.780075</td>\n",
       "      <td>0.251355</td>\n",
       "    </tr>\n",
       "    <tr>\n",
       "      <th>Speed</th>\n",
       "      <td>2.140008</td>\n",
       "      <td>0.746928</td>\n",
       "      <td>4.762246</td>\n",
       "      <td>0.100052</td>\n",
       "    </tr>\n",
       "    <tr>\n",
       "      <th rowspan=\"2\" valign=\"top\">10</th>\n",
       "      <th>Accuracy</th>\n",
       "      <td>1.937505</td>\n",
       "      <td>0.273510</td>\n",
       "      <td>3.962435</td>\n",
       "      <td>0.110776</td>\n",
       "    </tr>\n",
       "    <tr>\n",
       "      <th>Speed</th>\n",
       "      <td>1.221441</td>\n",
       "      <td>0.012857</td>\n",
       "      <td>7.136367</td>\n",
       "      <td>0.100226</td>\n",
       "    </tr>\n",
       "    <tr>\n",
       "      <th rowspan=\"2\" valign=\"top\">11</th>\n",
       "      <th>Accuracy</th>\n",
       "      <td>3.183719</td>\n",
       "      <td>3.663262</td>\n",
       "      <td>4.172493</td>\n",
       "      <td>0.231275</td>\n",
       "    </tr>\n",
       "    <tr>\n",
       "      <th>Speed</th>\n",
       "      <td>6.226873</td>\n",
       "      <td>2.582516</td>\n",
       "      <td>5.538786</td>\n",
       "      <td>0.104550</td>\n",
       "    </tr>\n",
       "    <tr>\n",
       "      <th rowspan=\"2\" valign=\"top\">12</th>\n",
       "      <th>Accuracy</th>\n",
       "      <td>1.044290</td>\n",
       "      <td>2.755568</td>\n",
       "      <td>3.267795</td>\n",
       "      <td>0.295669</td>\n",
       "    </tr>\n",
       "    <tr>\n",
       "      <th>Speed</th>\n",
       "      <td>0.840821</td>\n",
       "      <td>2.221872</td>\n",
       "      <td>6.526895</td>\n",
       "      <td>0.296379</td>\n",
       "    </tr>\n",
       "    <tr>\n",
       "      <th rowspan=\"2\" valign=\"top\">13</th>\n",
       "      <th>Accuracy</th>\n",
       "      <td>1.418346</td>\n",
       "      <td>2.689088</td>\n",
       "      <td>8.305847</td>\n",
       "      <td>0.267817</td>\n",
       "    </tr>\n",
       "    <tr>\n",
       "      <th>Speed</th>\n",
       "      <td>1.270164</td>\n",
       "      <td>3.701731</td>\n",
       "      <td>5.412067</td>\n",
       "      <td>0.256347</td>\n",
       "    </tr>\n",
       "    <tr>\n",
       "      <th rowspan=\"2\" valign=\"top\">14</th>\n",
       "      <th>Accuracy</th>\n",
       "      <td>1.192053</td>\n",
       "      <td>3.143288</td>\n",
       "      <td>3.044431</td>\n",
       "      <td>0.264733</td>\n",
       "    </tr>\n",
       "    <tr>\n",
       "      <th>Speed</th>\n",
       "      <td>0.767023</td>\n",
       "      <td>1.458221</td>\n",
       "      <td>5.403948</td>\n",
       "      <td>0.222605</td>\n",
       "    </tr>\n",
       "    <tr>\n",
       "      <th rowspan=\"2\" valign=\"top\">15</th>\n",
       "      <th>Accuracy</th>\n",
       "      <td>3.128994</td>\n",
       "      <td>0.067482</td>\n",
       "      <td>4.464564</td>\n",
       "      <td>0.105203</td>\n",
       "    </tr>\n",
       "    <tr>\n",
       "      <th>Speed</th>\n",
       "      <td>5.136912</td>\n",
       "      <td>0.316905</td>\n",
       "      <td>7.946512</td>\n",
       "      <td>0.100327</td>\n",
       "    </tr>\n",
       "    <tr>\n",
       "      <th rowspan=\"2\" valign=\"top\">16</th>\n",
       "      <th>Accuracy</th>\n",
       "      <td>5.732809</td>\n",
       "      <td>6.000000</td>\n",
       "      <td>3.986873</td>\n",
       "      <td>0.103559</td>\n",
       "    </tr>\n",
       "    <tr>\n",
       "      <th>Speed</th>\n",
       "      <td>0.932338</td>\n",
       "      <td>2.711198</td>\n",
       "      <td>5.866802</td>\n",
       "      <td>0.307786</td>\n",
       "    </tr>\n",
       "    <tr>\n",
       "      <th rowspan=\"2\" valign=\"top\">17</th>\n",
       "      <th>Accuracy</th>\n",
       "      <td>1.325572</td>\n",
       "      <td>1.762308</td>\n",
       "      <td>2.437293</td>\n",
       "      <td>0.188643</td>\n",
       "    </tr>\n",
       "    <tr>\n",
       "      <th>Speed</th>\n",
       "      <td>1.280602</td>\n",
       "      <td>0.464984</td>\n",
       "      <td>5.539851</td>\n",
       "      <td>0.100791</td>\n",
       "    </tr>\n",
       "    <tr>\n",
       "      <th rowspan=\"2\" valign=\"top\">18</th>\n",
       "      <th>Accuracy</th>\n",
       "      <td>1.285472</td>\n",
       "      <td>3.505146</td>\n",
       "      <td>5.152247</td>\n",
       "      <td>0.226880</td>\n",
       "    </tr>\n",
       "    <tr>\n",
       "      <th>Speed</th>\n",
       "      <td>1.034881</td>\n",
       "      <td>2.656662</td>\n",
       "      <td>7.175615</td>\n",
       "      <td>0.236817</td>\n",
       "    </tr>\n",
       "    <tr>\n",
       "      <th rowspan=\"2\" valign=\"top\">19</th>\n",
       "      <th>Accuracy</th>\n",
       "      <td>0.961922</td>\n",
       "      <td>2.647531</td>\n",
       "      <td>5.113414</td>\n",
       "      <td>0.257626</td>\n",
       "    </tr>\n",
       "    <tr>\n",
       "      <th>Speed</th>\n",
       "      <td>0.714854</td>\n",
       "      <td>1.607377</td>\n",
       "      <td>5.370438</td>\n",
       "      <td>0.252926</td>\n",
       "    </tr>\n",
       "    <tr>\n",
       "      <th rowspan=\"2\" valign=\"top\">20</th>\n",
       "      <th>Accuracy</th>\n",
       "      <td>1.085063</td>\n",
       "      <td>2.983411</td>\n",
       "      <td>4.671725</td>\n",
       "      <td>0.252696</td>\n",
       "    </tr>\n",
       "    <tr>\n",
       "      <th>Speed</th>\n",
       "      <td>2.937946</td>\n",
       "      <td>1.277700</td>\n",
       "      <td>8.606695</td>\n",
       "      <td>0.106333</td>\n",
       "    </tr>\n",
       "    <tr>\n",
       "      <th rowspan=\"2\" valign=\"top\">21</th>\n",
       "      <th>Accuracy</th>\n",
       "      <td>1.980692</td>\n",
       "      <td>2.260945</td>\n",
       "      <td>5.292123</td>\n",
       "      <td>0.187764</td>\n",
       "    </tr>\n",
       "    <tr>\n",
       "      <th>Speed</th>\n",
       "      <td>2.704390</td>\n",
       "      <td>0.284071</td>\n",
       "      <td>10.919053</td>\n",
       "      <td>0.106110</td>\n",
       "    </tr>\n",
       "    <tr>\n",
       "      <th rowspan=\"2\" valign=\"top\">22</th>\n",
       "      <th>Accuracy</th>\n",
       "      <td>1.597720</td>\n",
       "      <td>1.231663</td>\n",
       "      <td>5.476876</td>\n",
       "      <td>0.244342</td>\n",
       "    </tr>\n",
       "    <tr>\n",
       "      <th>Speed</th>\n",
       "      <td>1.839862</td>\n",
       "      <td>0.304086</td>\n",
       "      <td>6.947481</td>\n",
       "      <td>0.100854</td>\n",
       "    </tr>\n",
       "    <tr>\n",
       "      <th rowspan=\"2\" valign=\"top\">23</th>\n",
       "      <th>Accuracy</th>\n",
       "      <td>4.337733</td>\n",
       "      <td>6.000000</td>\n",
       "      <td>5.195989</td>\n",
       "      <td>0.204309</td>\n",
       "    </tr>\n",
       "    <tr>\n",
       "      <th>Speed</th>\n",
       "      <td>5.429801</td>\n",
       "      <td>2.681698</td>\n",
       "      <td>8.837207</td>\n",
       "      <td>0.125688</td>\n",
       "    </tr>\n",
       "    <tr>\n",
       "      <th rowspan=\"2\" valign=\"top\">24</th>\n",
       "      <th>Accuracy</th>\n",
       "      <td>0.587986</td>\n",
       "      <td>3.192254</td>\n",
       "      <td>5.962553</td>\n",
       "      <td>0.297929</td>\n",
       "    </tr>\n",
       "    <tr>\n",
       "      <th>Speed</th>\n",
       "      <td>5.784030</td>\n",
       "      <td>1.254375</td>\n",
       "      <td>14.220529</td>\n",
       "      <td>0.100041</td>\n",
       "    </tr>\n",
       "    <tr>\n",
       "      <th rowspan=\"2\" valign=\"top\">25</th>\n",
       "      <th>Accuracy</th>\n",
       "      <td>0.727561</td>\n",
       "      <td>3.676031</td>\n",
       "      <td>3.416586</td>\n",
       "      <td>0.315327</td>\n",
       "    </tr>\n",
       "    <tr>\n",
       "      <th>Speed</th>\n",
       "      <td>2.370820</td>\n",
       "      <td>1.869747</td>\n",
       "      <td>10.498705</td>\n",
       "      <td>0.179952</td>\n",
       "    </tr>\n",
       "    <tr>\n",
       "      <th rowspan=\"2\" valign=\"top\">26</th>\n",
       "      <th>Accuracy</th>\n",
       "      <td>0.763339</td>\n",
       "      <td>2.832244</td>\n",
       "      <td>3.136624</td>\n",
       "      <td>0.285116</td>\n",
       "    </tr>\n",
       "    <tr>\n",
       "      <th>Speed</th>\n",
       "      <td>1.728817</td>\n",
       "      <td>0.630625</td>\n",
       "      <td>8.280583</td>\n",
       "      <td>0.100449</td>\n",
       "    </tr>\n",
       "    <tr>\n",
       "      <th rowspan=\"2\" valign=\"top\">27</th>\n",
       "      <th>Accuracy</th>\n",
       "      <td>1.756434</td>\n",
       "      <td>2.638092</td>\n",
       "      <td>5.407922</td>\n",
       "      <td>0.217969</td>\n",
       "    </tr>\n",
       "    <tr>\n",
       "      <th>Speed</th>\n",
       "      <td>2.819164</td>\n",
       "      <td>6.000000</td>\n",
       "      <td>1.216429</td>\n",
       "      <td>0.106113</td>\n",
       "    </tr>\n",
       "    <tr>\n",
       "      <th rowspan=\"2\" valign=\"top\">28</th>\n",
       "      <th>Accuracy</th>\n",
       "      <td>0.814044</td>\n",
       "      <td>3.623104</td>\n",
       "      <td>6.887995</td>\n",
       "      <td>0.270614</td>\n",
       "    </tr>\n",
       "    <tr>\n",
       "      <th>Speed</th>\n",
       "      <td>0.852782</td>\n",
       "      <td>2.316568</td>\n",
       "      <td>8.445731</td>\n",
       "      <td>0.236156</td>\n",
       "    </tr>\n",
       "    <tr>\n",
       "      <th rowspan=\"2\" valign=\"top\">29</th>\n",
       "      <th>Accuracy</th>\n",
       "      <td>0.521703</td>\n",
       "      <td>3.269513</td>\n",
       "      <td>4.943549</td>\n",
       "      <td>0.306928</td>\n",
       "    </tr>\n",
       "    <tr>\n",
       "      <th>Speed</th>\n",
       "      <td>7.685561</td>\n",
       "      <td>2.155579</td>\n",
       "      <td>13.100174</td>\n",
       "      <td>0.112778</td>\n",
       "    </tr>\n",
       "    <tr>\n",
       "      <th rowspan=\"2\" valign=\"top\">30</th>\n",
       "      <th>Accuracy</th>\n",
       "      <td>0.990599</td>\n",
       "      <td>2.781681</td>\n",
       "      <td>6.362099</td>\n",
       "      <td>0.289074</td>\n",
       "    </tr>\n",
       "    <tr>\n",
       "      <th>Speed</th>\n",
       "      <td>0.699841</td>\n",
       "      <td>2.972309</td>\n",
       "      <td>4.350496</td>\n",
       "      <td>0.301132</td>\n",
       "    </tr>\n",
       "    <tr>\n",
       "      <th rowspan=\"2\" valign=\"top\">31</th>\n",
       "      <th>Accuracy</th>\n",
       "      <td>3.870382</td>\n",
       "      <td>3.903063</td>\n",
       "      <td>5.738795</td>\n",
       "      <td>0.130122</td>\n",
       "    </tr>\n",
       "    <tr>\n",
       "      <th>Speed</th>\n",
       "      <td>2.046376</td>\n",
       "      <td>1.411285</td>\n",
       "      <td>7.219745</td>\n",
       "      <td>0.145627</td>\n",
       "    </tr>\n",
       "    <tr>\n",
       "      <th rowspan=\"2\" valign=\"top\">32</th>\n",
       "      <th>Accuracy</th>\n",
       "      <td>1.889602</td>\n",
       "      <td>4.016495</td>\n",
       "      <td>7.008920</td>\n",
       "      <td>0.222507</td>\n",
       "    </tr>\n",
       "    <tr>\n",
       "      <th>Speed</th>\n",
       "      <td>1.865474</td>\n",
       "      <td>1.539536</td>\n",
       "      <td>10.951388</td>\n",
       "      <td>0.186146</td>\n",
       "    </tr>\n",
       "  </tbody>\n",
       "</table>\n",
       "</div>"
      ],
      "text/plain": [
       "                                   values                                  \\\n",
       "parameter             Boundary Seperation Drift Rate Effective Inhibition   \n",
       "participant condition                                                       \n",
       "1           Accuracy             1.764622   0.856783             4.822052   \n",
       "            Speed                4.508258   0.157914             9.105499   \n",
       "2           Accuracy             1.313725   1.665886             5.196680   \n",
       "            Speed                0.683761   2.033184             3.442140   \n",
       "3           Accuracy             8.314508   0.000000             3.783237   \n",
       "            Speed                1.378157   0.000000             2.258664   \n",
       "4           Accuracy             3.688703   6.000000             2.176028   \n",
       "            Speed                0.912236   3.685836             3.109391   \n",
       "5           Accuracy             1.019522   2.206309             2.280524   \n",
       "            Speed                1.303230   1.953186             3.901791   \n",
       "6           Accuracy             3.827170   1.766796             4.419741   \n",
       "            Speed                1.904031   1.271194             7.237528   \n",
       "7           Accuracy             2.908965   3.980442             4.451844   \n",
       "            Speed                1.238677   1.172753             6.867380   \n",
       "8           Accuracy             0.868574   2.146576             2.259771   \n",
       "            Speed                2.132498   1.224578             5.502223   \n",
       "9           Accuracy             1.408647   1.415987             4.780075   \n",
       "            Speed                2.140008   0.746928             4.762246   \n",
       "10          Accuracy             1.937505   0.273510             3.962435   \n",
       "            Speed                1.221441   0.012857             7.136367   \n",
       "11          Accuracy             3.183719   3.663262             4.172493   \n",
       "            Speed                6.226873   2.582516             5.538786   \n",
       "12          Accuracy             1.044290   2.755568             3.267795   \n",
       "            Speed                0.840821   2.221872             6.526895   \n",
       "13          Accuracy             1.418346   2.689088             8.305847   \n",
       "            Speed                1.270164   3.701731             5.412067   \n",
       "14          Accuracy             1.192053   3.143288             3.044431   \n",
       "            Speed                0.767023   1.458221             5.403948   \n",
       "15          Accuracy             3.128994   0.067482             4.464564   \n",
       "            Speed                5.136912   0.316905             7.946512   \n",
       "16          Accuracy             5.732809   6.000000             3.986873   \n",
       "            Speed                0.932338   2.711198             5.866802   \n",
       "17          Accuracy             1.325572   1.762308             2.437293   \n",
       "            Speed                1.280602   0.464984             5.539851   \n",
       "18          Accuracy             1.285472   3.505146             5.152247   \n",
       "            Speed                1.034881   2.656662             7.175615   \n",
       "19          Accuracy             0.961922   2.647531             5.113414   \n",
       "            Speed                0.714854   1.607377             5.370438   \n",
       "20          Accuracy             1.085063   2.983411             4.671725   \n",
       "            Speed                2.937946   1.277700             8.606695   \n",
       "21          Accuracy             1.980692   2.260945             5.292123   \n",
       "            Speed                2.704390   0.284071            10.919053   \n",
       "22          Accuracy             1.597720   1.231663             5.476876   \n",
       "            Speed                1.839862   0.304086             6.947481   \n",
       "23          Accuracy             4.337733   6.000000             5.195989   \n",
       "            Speed                5.429801   2.681698             8.837207   \n",
       "24          Accuracy             0.587986   3.192254             5.962553   \n",
       "            Speed                5.784030   1.254375            14.220529   \n",
       "25          Accuracy             0.727561   3.676031             3.416586   \n",
       "            Speed                2.370820   1.869747            10.498705   \n",
       "26          Accuracy             0.763339   2.832244             3.136624   \n",
       "            Speed                1.728817   0.630625             8.280583   \n",
       "27          Accuracy             1.756434   2.638092             5.407922   \n",
       "            Speed                2.819164   6.000000             1.216429   \n",
       "28          Accuracy             0.814044   3.623104             6.887995   \n",
       "            Speed                0.852782   2.316568             8.445731   \n",
       "29          Accuracy             0.521703   3.269513             4.943549   \n",
       "            Speed                7.685561   2.155579            13.100174   \n",
       "30          Accuracy             0.990599   2.781681             6.362099   \n",
       "            Speed                0.699841   2.972309             4.350496   \n",
       "31          Accuracy             3.870382   3.903063             5.738795   \n",
       "            Speed                2.046376   1.411285             7.219745   \n",
       "32          Accuracy             1.889602   4.016495             7.008920   \n",
       "            Speed                1.865474   1.539536            10.951388   \n",
       "\n",
       "                                         \n",
       "parameter             Non-decision Time  \n",
       "participant condition                    \n",
       "1           Accuracy           0.237473  \n",
       "            Speed              0.100807  \n",
       "2           Accuracy           0.310164  \n",
       "            Speed              0.333390  \n",
       "3           Accuracy           0.123780  \n",
       "            Speed              0.102132  \n",
       "4           Accuracy           0.120758  \n",
       "            Speed              0.307436  \n",
       "5           Accuracy           0.283667  \n",
       "            Speed              0.186673  \n",
       "6           Accuracy           0.101264  \n",
       "            Speed              0.183863  \n",
       "7           Accuracy           0.236621  \n",
       "            Speed              0.177556  \n",
       "8           Accuracy           0.262290  \n",
       "            Speed              0.100683  \n",
       "9           Accuracy           0.251355  \n",
       "            Speed              0.100052  \n",
       "10          Accuracy           0.110776  \n",
       "            Speed              0.100226  \n",
       "11          Accuracy           0.231275  \n",
       "            Speed              0.104550  \n",
       "12          Accuracy           0.295669  \n",
       "            Speed              0.296379  \n",
       "13          Accuracy           0.267817  \n",
       "            Speed              0.256347  \n",
       "14          Accuracy           0.264733  \n",
       "            Speed              0.222605  \n",
       "15          Accuracy           0.105203  \n",
       "            Speed              0.100327  \n",
       "16          Accuracy           0.103559  \n",
       "            Speed              0.307786  \n",
       "17          Accuracy           0.188643  \n",
       "            Speed              0.100791  \n",
       "18          Accuracy           0.226880  \n",
       "            Speed              0.236817  \n",
       "19          Accuracy           0.257626  \n",
       "            Speed              0.252926  \n",
       "20          Accuracy           0.252696  \n",
       "            Speed              0.106333  \n",
       "21          Accuracy           0.187764  \n",
       "            Speed              0.106110  \n",
       "22          Accuracy           0.244342  \n",
       "            Speed              0.100854  \n",
       "23          Accuracy           0.204309  \n",
       "            Speed              0.125688  \n",
       "24          Accuracy           0.297929  \n",
       "            Speed              0.100041  \n",
       "25          Accuracy           0.315327  \n",
       "            Speed              0.179952  \n",
       "26          Accuracy           0.285116  \n",
       "            Speed              0.100449  \n",
       "27          Accuracy           0.217969  \n",
       "            Speed              0.106113  \n",
       "28          Accuracy           0.270614  \n",
       "            Speed              0.236156  \n",
       "29          Accuracy           0.306928  \n",
       "            Speed              0.112778  \n",
       "30          Accuracy           0.289074  \n",
       "            Speed              0.301132  \n",
       "31          Accuracy           0.130122  \n",
       "            Speed              0.145627  \n",
       "32          Accuracy           0.222507  \n",
       "            Speed              0.186146  "
      ]
     },
     "execution_count": 134,
     "metadata": {},
     "output_type": "execute_result"
    }
   ],
   "source": [
    "df_SAT"
   ]
  },
  {
   "cell_type": "code",
   "execution_count": 133,
   "id": "32bca191",
   "metadata": {},
   "outputs": [],
   "source": [
    "df_SAT = pd.read_csv(\"OUMresultDutilh2013.csv\")\n",
    "participant = [i for i in range(1,sample_size+1)]*8\n",
    "df_SAT[\"participant\"] = participant\n",
    "\n",
    "df_SAT = df_SAT[[\"values\", \"parameter\",\"condition\", \"participant\"]].pivot(index = [\"participant\", \"condition\"], columns='parameter')"
   ]
  },
  {
   "cell_type": "code",
   "execution_count": 135,
   "id": "a6a6f3ba",
   "metadata": {},
   "outputs": [],
   "source": [
    "df0 = pd.DataFrame(np.array(df_SAT[\"values\"]), \n",
    "                   columns = ['Boundary Separation','Drift Rate',\"Effective Inhibition\",'Non-decision Time'])"
   ]
  },
  {
   "cell_type": "code",
   "execution_count": 136,
   "id": "57e979bd",
   "metadata": {},
   "outputs": [],
   "source": [
    "df0[\"SAT\"] = [\"Accuracy\", \"Speed\"]*sample_size\n",
    "df_SAT = df0\n"
   ]
  },
  {
   "cell_type": "code",
   "execution_count": null,
   "id": "b58c04dc",
   "metadata": {},
   "outputs": [],
   "source": []
  },
  {
   "cell_type": "code",
   "execution_count": 145,
   "id": "bacaa3b0",
   "metadata": {},
   "outputs": [],
   "source": [
    "df_SAT.to_csv(\"OUMresultDutilh2013.csv\")"
   ]
  },
  {
   "cell_type": "code",
   "execution_count": 137,
   "id": "aae768b0",
   "metadata": {},
   "outputs": [],
   "source": [
    "S = np.array(df_SAT.loc[(df_SAT['SAT'] == \"Speed\")][[\"Drift Rate\", \"Boundary Separation\", \"Non-decision Time\", \"Effective Inhibition\"]])\n",
    "A = np.array(df_SAT.loc[(df_SAT['SAT'] == \"Accuracy\")][[\"Drift Rate\", \"Boundary Separation\", \"Non-decision Time\", \"Effective Inhibition\"]])\n",
    "dif = S-A\n",
    "df_dif = pd.DataFrame(dif,columns = [\"Drift Rate\", \"Boundary Separation\", \"Non-decision Time\", \"Effective Inhibition\"])"
   ]
  },
  {
   "cell_type": "code",
   "execution_count": 138,
   "id": "ca675f50",
   "metadata": {},
   "outputs": [],
   "source": [
    "df_SAT_melted = pd.melt(df_SAT, id_vars = [\"SAT\"], value_vars=['Drift Rate', 'Boundary Separation','Non-decision Time', \"Effective Inhibition\"],\n",
    "                       var_name = \"Parameter\", value_name = \"Value\")\n",
    "df_dif_melted = pd.melt(df_dif, value_vars=['Drift Rate', 'Boundary Separation','Non-decision Time', \"Effective Inhibition\"],\n",
    "                       var_name = \"Parameter\", value_name = \"Difference\")"
   ]
  },
  {
   "cell_type": "code",
   "execution_count": 146,
   "id": "34c89519",
   "metadata": {},
   "outputs": [],
   "source": [
    "df_dif_melted.to_csv(\"OUMdifResultDutilh2013.csv\") "
   ]
  },
  {
   "cell_type": "code",
   "execution_count": 144,
   "id": "a57ba47d",
   "metadata": {},
   "outputs": [
    {
     "data": {
      "text/plain": [
       "<seaborn.axisgrid.FacetGrid at 0x7fd6b84d48d0>"
      ]
     },
     "execution_count": 144,
     "metadata": {},
     "output_type": "execute_result"
    },
    {
     "data": {
      "image/png": "[encoded data removed]",
      "text/plain": [
       "<Figure size 813.5x600 with 1 Axes>"
      ]
     },
     "metadata": {},
     "output_type": "display_data"
    }
   ],
   "source": [
    "sns.catplot(data=df_SAT_melted, x=\"Parameter\", y=\"Value\", hue=\"SAT\", kind=\"box\",\n",
    "            height=6, aspect=7/6, hue_order = [\"Speed\", \"Accuracy\"])"
   ]
  },
  {
   "cell_type": "code",
   "execution_count": 142,
   "id": "ac842e74",
   "metadata": {},
   "outputs": [
    {
     "data": {
      "text/plain": [
       "<seaborn.axisgrid.FacetGrid at 0x7fd6eaee6e90>"
      ]
     },
     "execution_count": 142,
     "metadata": {},
     "output_type": "execute_result"
    },
    {
     "data": {
      "image/png": "[encoded data removed]",
      "text/plain": [
       "<Figure size 700x600 with 1 Axes>"
      ]
     },
     "metadata": {},
     "output_type": "display_data"
    }
   ],
   "source": [
    "sns.catplot(data=df_dif_melted, x=\"Parameter\", y=\"Difference\", kind=\"box\",\n",
    "            height=6, aspect=7/6)"
   ]
  },
  {
   "cell_type": "code",
   "execution_count": null,
   "id": "627c3d31",
   "metadata": {},
   "outputs": [],
   "source": []
  },
  {
   "cell_type": "code",
   "execution_count": 36,
   "id": "4d2dedad",
   "metadata": {},
   "outputs": [
    {
     "data": {
      "text/plain": [
       "Ttest_relResult(statistic=-4.373288847464193, pvalue=0.00012819058698248053)"
      ]
     },
     "execution_count": 36,
     "metadata": {},
     "output_type": "execute_result"
    }
   ],
   "source": [
    "scipy.stats.ttest_rel(par_fitted_A[:,0], par_fitted_B[:,0])"
   ]
  },
  {
   "cell_type": "code",
   "execution_count": 37,
   "id": "32d6e0aa",
   "metadata": {},
   "outputs": [
    {
     "data": {
      "text/plain": [
       "Ttest_relResult(statistic=-2.015405745154398, pvalue=0.05260255098892913)"
      ]
     },
     "execution_count": 37,
     "metadata": {},
     "output_type": "execute_result"
    }
   ],
   "source": [
    "scipy.stats.ttest_rel(par_fitted_A[:,1], par_fitted_B[:,1])"
   ]
  },
  {
   "cell_type": "code",
   "execution_count": 38,
   "id": "be106db8",
   "metadata": {},
   "outputs": [
    {
     "data": {
      "text/plain": [
       "Ttest_relResult(statistic=-4.52779143804868, pvalue=8.272628999433037e-05)"
      ]
     },
     "execution_count": 38,
     "metadata": {},
     "output_type": "execute_result"
    }
   ],
   "source": [
    "scipy.stats.ttest_rel(par_fitted_A[:,2], par_fitted_B[:,2])"
   ]
  },
  {
   "cell_type": "code",
   "execution_count": 39,
   "id": "903f01a4",
   "metadata": {},
   "outputs": [
    {
     "ename": "IndexError",
     "evalue": "index 3 is out of bounds for axis 1 with size 3",
     "output_type": "error",
     "traceback": [
      "\u001b[0;31m---------------------------------------------------------------------------\u001b[0m",
      "\u001b[0;31mIndexError\u001b[0m                                Traceback (most recent call last)",
      "\u001b[0;32m/var/folders/5g/vqmn12yd48z6l6jf2s2yy62r0000gn/T/ipykernel_38472/3841299227.py\u001b[0m in \u001b[0;36m<module>\u001b[0;34m\u001b[0m\n\u001b[0;32m----> 1\u001b[0;31m \u001b[0mscipy\u001b[0m\u001b[0;34m.\u001b[0m\u001b[0mstats\u001b[0m\u001b[0;34m.\u001b[0m\u001b[0mttest_rel\u001b[0m\u001b[0;34m(\u001b[0m\u001b[0mpar_fitted_A\u001b[0m\u001b[0;34m[\u001b[0m\u001b[0;34m:\u001b[0m\u001b[0;34m,\u001b[0m\u001b[0;36m3\u001b[0m\u001b[0;34m]\u001b[0m\u001b[0;34m,\u001b[0m \u001b[0mpar_fitted_B\u001b[0m\u001b[0;34m[\u001b[0m\u001b[0;34m:\u001b[0m\u001b[0;34m,\u001b[0m\u001b[0;36m3\u001b[0m\u001b[0;34m]\u001b[0m\u001b[0;34m)\u001b[0m\u001b[0;34m\u001b[0m\u001b[0;34m\u001b[0m\u001b[0m\n\u001b[0m",
      "\u001b[0;31mIndexError\u001b[0m: index 3 is out of bounds for axis 1 with size 3"
     ]
    }
   ],
   "source": [
    "scipy.stats.ttest_rel(par_fitted_A[:,3], par_fitted_B[:,3])"
   ]
  },
  {
   "cell_type": "code",
   "execution_count": null,
   "id": "2d820bf1",
   "metadata": {},
   "outputs": [],
   "source": []
  },
  {
   "cell_type": "markdown",
   "id": "afc60bee",
   "metadata": {},
   "source": [
    "### Fit the same data with DDM"
   ]
  },
  {
   "cell_type": "code",
   "execution_count": 51,
   "id": "acc4fbbf",
   "metadata": {
    "scrolled": true
   },
   "outputs": [
    {
     "name": "stdout",
     "output_type": "stream",
     "text": [
      "0\n"
     ]
    },
    {
     "name": "stderr",
     "output_type": "stream",
     "text": [
      "Info: Params [0.29981234 0.5        0.27211518] gave 89.38291053045344\n"
     ]
    },
    {
     "name": "stdout",
     "output_type": "stream",
     "text": [
      "[0.29981234 0.5        0.27211518]\n",
      "1\n"
     ]
    },
    {
     "name": "stderr",
     "output_type": "stream",
     "text": [
      "Info: Params [2.09496253 0.56096491 0.33974965] gave -202.5246176725654\n"
     ]
    },
    {
     "name": "stdout",
     "output_type": "stream",
     "text": [
      "[2.09496253 0.56096491 0.33974965]\n",
      "2\n"
     ]
    },
    {
     "name": "stderr",
     "output_type": "stream",
     "text": [
      "Info: Params [0.         0.86124798 0.12710588] gave 363.33358611977843\n"
     ]
    },
    {
     "name": "stdout",
     "output_type": "stream",
     "text": [
      "[0.         0.86124798 0.12710588]\n",
      "3\n"
     ]
    },
    {
     "name": "stderr",
     "output_type": "stream",
     "text": [
      "Info: Params [3.90837421 0.73363527 0.31665064] gave -150.6058798184258\n"
     ]
    },
    {
     "name": "stdout",
     "output_type": "stream",
     "text": [
      "[3.90837421 0.73363527 0.31665064]\n",
      "4\n"
     ]
    },
    {
     "name": "stderr",
     "output_type": "stream",
     "text": [
      "Info: Params [2.20118802 0.78788775 0.21386627] gave -58.29277190769074\n"
     ]
    },
    {
     "name": "stdout",
     "output_type": "stream",
     "text": [
      "[2.20118802 0.78788775 0.21386627]\n",
      "5\n"
     ]
    },
    {
     "name": "stderr",
     "output_type": "stream",
     "text": [
      "Info: Params [1.52584055 0.59610647 0.25034656] gave -74.64500986998648\n"
     ]
    },
    {
     "name": "stdout",
     "output_type": "stream",
     "text": [
      "[1.52584055 0.59610647 0.25034656]\n",
      "6\n"
     ]
    },
    {
     "name": "stderr",
     "output_type": "stream",
     "text": [
      "Info: Params [1.46830508 0.54513531 0.22426311] gave -207.28559085926463\n"
     ]
    },
    {
     "name": "stdout",
     "output_type": "stream",
     "text": [
      "[1.46830508 0.54513531 0.22426311]\n",
      "7\n"
     ]
    },
    {
     "name": "stderr",
     "output_type": "stream",
     "text": [
      "Info: Params [1.45104045 0.7350121  0.15977774] gave 104.0710181050005\n"
     ]
    },
    {
     "name": "stdout",
     "output_type": "stream",
     "text": [
      "[1.45104045 0.7350121  0.15977774]\n",
      "8\n"
     ]
    },
    {
     "name": "stderr",
     "output_type": "stream",
     "text": [
      "Info: Params [0.8908402  0.75254657 0.14843772] gave 213.29663654861434\n"
     ]
    },
    {
     "name": "stdout",
     "output_type": "stream",
     "text": [
      "[0.8908402  0.75254657 0.14843772]\n",
      "9\n"
     ]
    },
    {
     "name": "stderr",
     "output_type": "stream",
     "text": [
      "Info: Params [0.         0.52938969 0.14256977] gave 108.34201677195003\n"
     ]
    },
    {
     "name": "stdout",
     "output_type": "stream",
     "text": [
      "[0.         0.52938969 0.14256977]\n",
      "10\n"
     ]
    },
    {
     "name": "stderr",
     "output_type": "stream",
     "text": [
      "Info: Params [3.12179604 1.02779562 0.29258928] gave -43.89221819922012\n"
     ]
    },
    {
     "name": "stdout",
     "output_type": "stream",
     "text": [
      "[3.12179604 1.02779562 0.29258928]\n",
      "11\n"
     ]
    },
    {
     "name": "stderr",
     "output_type": "stream",
     "text": [
      "Info: Params [2.42668582 0.54776129 0.30889727] gave -432.9003677504099\n"
     ]
    },
    {
     "name": "stdout",
     "output_type": "stream",
     "text": [
      "[2.42668582 0.54776129 0.30889727]\n",
      "12\n"
     ]
    },
    {
     "name": "stderr",
     "output_type": "stream",
     "text": [
      "Info: Params [4.11611296 0.77453883 0.28151607] gave -428.7243446233081\n"
     ]
    },
    {
     "name": "stdout",
     "output_type": "stream",
     "text": [
      "[4.11611296 0.77453883 0.28151607]\n",
      "13\n"
     ]
    },
    {
     "name": "stderr",
     "output_type": "stream",
     "text": [
      "Info: Params [1.56794035 0.53467861 0.23208434] gave -205.70220786125165\n"
     ]
    },
    {
     "name": "stdout",
     "output_type": "stream",
     "text": [
      "[1.56794035 0.53467861 0.23208434]\n",
      "14\n"
     ]
    },
    {
     "name": "stderr",
     "output_type": "stream",
     "text": [
      "Info: Params [0.49872348 0.5005978  0.32318302] gave 125.03367358393692\n"
     ]
    },
    {
     "name": "stdout",
     "output_type": "stream",
     "text": [
      "[0.49872348 0.5005978  0.32318302]\n",
      "15\n"
     ]
    },
    {
     "name": "stderr",
     "output_type": "stream",
     "text": [
      "Info: Params [2.88610938 0.6063809  0.32120838] gave -248.86939247016943\n"
     ]
    },
    {
     "name": "stdout",
     "output_type": "stream",
     "text": [
      "[2.88610938 0.6063809  0.32120838]\n",
      "16\n"
     ]
    },
    {
     "name": "stderr",
     "output_type": "stream",
     "text": [
      "Info: Params [0.63941478 0.60999906 0.13910516] gave 458.718277073951\n"
     ]
    },
    {
     "name": "stdout",
     "output_type": "stream",
     "text": [
      "[0.63941478 0.60999906 0.13910516]\n",
      "17\n"
     ]
    },
    {
     "name": "stderr",
     "output_type": "stream",
     "text": [
      "Info: Params [2.86257476 0.57901239 0.25681115] gave -596.5859004377165\n"
     ]
    },
    {
     "name": "stdout",
     "output_type": "stream",
     "text": [
      "[2.86257476 0.57901239 0.25681115]\n",
      "18\n"
     ]
    },
    {
     "name": "stderr",
     "output_type": "stream",
     "text": [
      "Info: Params [1.71842895 0.50866637 0.2640784 ] gave -147.14228066862722\n"
     ]
    },
    {
     "name": "stdout",
     "output_type": "stream",
     "text": [
      "[1.71842895 0.50866637 0.2640784 ]\n",
      "19\n"
     ]
    },
    {
     "name": "stderr",
     "output_type": "stream",
     "text": [
      "Info: Params [1.72006462 0.61032111 0.19056853] gave -256.7372892224167\n"
     ]
    },
    {
     "name": "stdout",
     "output_type": "stream",
     "text": [
      "[1.72006462 0.61032111 0.19056853]\n",
      "20\n"
     ]
    },
    {
     "name": "stderr",
     "output_type": "stream",
     "text": [
      "Info: Params [0.69944275 0.5        0.20582889] gave -162.18951387926154\n"
     ]
    },
    {
     "name": "stdout",
     "output_type": "stream",
     "text": [
      "[0.69944275 0.5        0.20582889]\n",
      "21\n"
     ]
    },
    {
     "name": "stderr",
     "output_type": "stream",
     "text": [
      "Info: Params [0.45101481 0.55326819 0.18284888] gave 474.4282178346599\n"
     ]
    },
    {
     "name": "stdout",
     "output_type": "stream",
     "text": [
      "[0.45101481 0.55326819 0.18284888]\n",
      "22\n"
     ]
    },
    {
     "name": "stderr",
     "output_type": "stream",
     "text": [
      "Info: Params [3.243222   0.83957118 0.23297407] gave -144.1345918934836\n"
     ]
    },
    {
     "name": "stdout",
     "output_type": "stream",
     "text": [
      "[3.243222   0.83957118 0.23297407]\n",
      "23\n"
     ]
    },
    {
     "name": "stderr",
     "output_type": "stream",
     "text": [
      "Info: Params [2.08203334 0.5        0.21340496] gave -655.9712567788748\n"
     ]
    },
    {
     "name": "stdout",
     "output_type": "stream",
     "text": [
      "[2.08203334 0.5        0.21340496]\n",
      "24\n"
     ]
    },
    {
     "name": "stderr",
     "output_type": "stream",
     "text": [
      "Info: Params [2.27757267 0.55508363 0.24469792] gave -509.19193552611847\n"
     ]
    },
    {
     "name": "stdout",
     "output_type": "stream",
     "text": [
      "[2.27757267 0.55508363 0.24469792]\n",
      "25\n"
     ]
    },
    {
     "name": "stderr",
     "output_type": "stream",
     "text": [
      "Info: Params [1.01293195 0.56044823 0.14485683] gave 7.640236840803631\n"
     ]
    },
    {
     "name": "stdout",
     "output_type": "stream",
     "text": [
      "[1.01293195 0.56044823 0.14485683]\n",
      "26\n"
     ]
    },
    {
     "name": "stderr",
     "output_type": "stream",
     "text": [
      "Info: Params [6.         2.06437934 0.14297355] gave -195.68135318908247\n"
     ]
    },
    {
     "name": "stdout",
     "output_type": "stream",
     "text": [
      "[6.         2.06437934 0.14297355]\n",
      "27\n"
     ]
    },
    {
     "name": "stderr",
     "output_type": "stream",
     "text": [
      "Info: Params [2.51773913 0.52203465 0.24351663] gave -455.3675174162236\n"
     ]
    },
    {
     "name": "stdout",
     "output_type": "stream",
     "text": [
      "[2.51773913 0.52203465 0.24351663]\n",
      "28\n"
     ]
    },
    {
     "name": "stderr",
     "output_type": "stream",
     "text": [
      "Info: Params [3.14473603 0.5        0.28091692] gave -473.4175160062951\n"
     ]
    },
    {
     "name": "stdout",
     "output_type": "stream",
     "text": [
      "[3.14473603 0.5        0.28091692]\n",
      "29\n"
     ]
    },
    {
     "name": "stderr",
     "output_type": "stream",
     "text": [
      "Info: Params [3.15170613 0.56867983 0.30634336] gave -438.8761495529578\n"
     ]
    },
    {
     "name": "stdout",
     "output_type": "stream",
     "text": [
      "[3.15170613 0.56867983 0.30634336]\n",
      "30\n"
     ]
    },
    {
     "name": "stderr",
     "output_type": "stream",
     "text": [
      "Info: Params [1.59920414 0.63389661 0.20391072] gave -37.3634954474101\n"
     ]
    },
    {
     "name": "stdout",
     "output_type": "stream",
     "text": [
      "[1.59920414 0.63389661 0.20391072]\n",
      "31\n"
     ]
    },
    {
     "name": "stderr",
     "output_type": "stream",
     "text": [
      "Info: Params [2.01599858 0.51032502 0.24036573] gave -622.4696735356317\n"
     ]
    },
    {
     "name": "stdout",
     "output_type": "stream",
     "text": [
      "[2.01599858 0.51032502 0.24036573]\n"
     ]
    }
   ],
   "source": [
    "par_fitted_A = np.zeros((sample_size,3))\n",
    "for i in range(sample_size):\n",
    "    print(i)\n",
    "    \n",
    "    path = os.path.join(data_dir+str(i+1)+\".csv\")\n",
    "    df = pd.read_csv(path, sep = \",\")\n",
    "    df = df[df[\"Cond\"]==\"speed\"] # A condition\n",
    "    df = df[df[\"Time\"]<4]\n",
    "    \n",
    "    samp = Sample.from_pandas_dataframe(df, rt_column_name=\"Time\", correct_column_name=\"Correct\")\n",
    "\n",
    "    model_fit = Model(name='Simple model (fitted)',\n",
    "                  drift=DriftConstant(drift=Fittable(minval=0, maxval=6)),\n",
    "                  noise=NoiseConstant(noise=1),\n",
    "                  bound=BoundConstant(B=Fittable(minval=0.5, maxval=10)),\n",
    "                  overlay=OverlayNonDecision(nondectime=Fittable(minval=0.1, maxval=1)),\n",
    "                  dx=.001, dt=.001, T_dur=4)\n",
    "                  #dx=.001, dt=.001, T_dur=3)\n",
    "\n",
    "    fit_adjust_model(samp, model_fit,\n",
    "                     fitting_method=\"differential_evolution\",\n",
    "                     lossfunction=LossRobustBIC, verbose=False)\n",
    "\n",
    "    par_fitted_A[i,0] = np.array(model_fit.parameters()['drift']['drift'])\n",
    "    par_fitted_A[i,1] = np.array(model_fit.parameters()['bound']['B'])\n",
    "    par_fitted_A[i,2] = np.array(model_fit.parameters()['overlay']['nondectime'])\n",
    "    \n",
    "    print(par_fitted_A[i,:])\n"
   ]
  },
  {
   "cell_type": "code",
   "execution_count": 52,
   "id": "ab207a4d",
   "metadata": {
    "scrolled": true
   },
   "outputs": [
    {
     "name": "stdout",
     "output_type": "stream",
     "text": [
      "0\n"
     ]
    },
    {
     "name": "stderr",
     "output_type": "stream",
     "text": [
      "Info: Params [0.91662207 0.6874221  0.30899603] gave 424.2986742236805\n"
     ]
    },
    {
     "name": "stdout",
     "output_type": "stream",
     "text": [
      "[0.91662207 0.6874221  0.30899603]\n",
      "1\n"
     ]
    },
    {
     "name": "stderr",
     "output_type": "stream",
     "text": [
      "Info: Params [1.40228409 0.59346502 0.37437741] gave 13.065095503477139\n"
     ]
    },
    {
     "name": "stdout",
     "output_type": "stream",
     "text": [
      "[1.40228409 0.59346502 0.37437741]\n",
      "2\n"
     ]
    },
    {
     "name": "stderr",
     "output_type": "stream",
     "text": [
      "Info: Params [0.         0.76360445 0.56699825] gave 282.98447314512975\n"
     ]
    },
    {
     "name": "stdout",
     "output_type": "stream",
     "text": [
      "[0.         0.76360445 0.56699825]\n",
      "3\n"
     ]
    },
    {
     "name": "stderr",
     "output_type": "stream",
     "text": [
      "Info: Params [6.         1.60331462 0.25262515] gave -55.83333292315558\n"
     ]
    },
    {
     "name": "stdout",
     "output_type": "stream",
     "text": [
      "[6.         1.60331462 0.25262515]\n",
      "4\n"
     ]
    },
    {
     "name": "stderr",
     "output_type": "stream",
     "text": [
      "Info: Params [2.39161843 0.80525798 0.29673408] gave -9.472499957309346\n"
     ]
    },
    {
     "name": "stdout",
     "output_type": "stream",
     "text": [
      "[2.39161843 0.80525798 0.29673408]\n",
      "5\n"
     ]
    },
    {
     "name": "stderr",
     "output_type": "stream",
     "text": [
      "Info: Params [1.83669595 0.86724272 0.26420174] gave 32.02455695693537\n"
     ]
    },
    {
     "name": "stdout",
     "output_type": "stream",
     "text": [
      "[1.83669595 0.86724272 0.26420174]\n",
      "6\n"
     ]
    },
    {
     "name": "stderr",
     "output_type": "stream",
     "text": [
      "Info: Params [4.35691368 0.96905441 0.36149091] gave -162.15009643765126\n"
     ]
    },
    {
     "name": "stdout",
     "output_type": "stream",
     "text": [
      "[4.35691368 0.96905441 0.36149091]\n",
      "7\n"
     ]
    },
    {
     "name": "stderr",
     "output_type": "stream",
     "text": [
      "Info: Params [2.2362139  0.72250572 0.27054287] gave -108.88630063681532\n"
     ]
    },
    {
     "name": "stdout",
     "output_type": "stream",
     "text": [
      "[2.2362139  0.72250572 0.27054287]\n",
      "8\n"
     ]
    },
    {
     "name": "stderr",
     "output_type": "stream",
     "text": [
      "Info: Params [1.58849298 0.67108346 0.30407538] gave 14.25120614267336\n"
     ]
    },
    {
     "name": "stdout",
     "output_type": "stream",
     "text": [
      "[1.58849298 0.67108346 0.30407538]\n",
      "9\n"
     ]
    },
    {
     "name": "stderr",
     "output_type": "stream",
     "text": [
      "Info: Params [0.43258265 0.68891606 0.24815213] gave 238.91754815614365\n"
     ]
    },
    {
     "name": "stdout",
     "output_type": "stream",
     "text": [
      "[0.43258265 0.68891606 0.24815213]\n",
      "10\n"
     ]
    },
    {
     "name": "stderr",
     "output_type": "stream",
     "text": [
      "Info: Params [4.25177049 1.1439029  0.35693975] gave -30.230679397184282\n"
     ]
    },
    {
     "name": "stdout",
     "output_type": "stream",
     "text": [
      "[4.25177049 1.1439029  0.35693975]\n",
      "11\n"
     ]
    },
    {
     "name": "stderr",
     "output_type": "stream",
     "text": [
      "Info: Params [2.90759438 0.74786387 0.31574214] gave -200.14569831703034\n"
     ]
    },
    {
     "name": "stdout",
     "output_type": "stream",
     "text": [
      "[2.90759438 0.74786387 0.31574214]\n",
      "12\n"
     ]
    },
    {
     "name": "stderr",
     "output_type": "stream",
     "text": [
      "Info: Params [3.07914851 0.63503907 0.29505093] gave -185.84464126388522\n"
     ]
    },
    {
     "name": "stdout",
     "output_type": "stream",
     "text": [
      "[3.07914851 0.63503907 0.29505093]\n",
      "13\n"
     ]
    },
    {
     "name": "stderr",
     "output_type": "stream",
     "text": [
      "Info: Params [3.3651564 0.8486674 0.2894607] gave -172.0642211545467\n"
     ]
    },
    {
     "name": "stdout",
     "output_type": "stream",
     "text": [
      "[3.3651564 0.8486674 0.2894607]\n",
      "14\n"
     ]
    },
    {
     "name": "stderr",
     "output_type": "stream",
     "text": [
      "Info: Params [0.12911918 0.68732971 0.31132413] gave 636.8493908052949\n"
     ]
    },
    {
     "name": "stdout",
     "output_type": "stream",
     "text": [
      "[0.12911918 0.68732971 0.31132413]\n",
      "15\n"
     ]
    },
    {
     "name": "stderr",
     "output_type": "stream",
     "text": [
      "Info: Params [6.         1.22767792 0.30476451] gave -216.718588543295\n"
     ]
    },
    {
     "name": "stdout",
     "output_type": "stream",
     "text": [
      "[6.         1.22767792 0.30476451]\n",
      "16\n"
     ]
    },
    {
     "name": "stderr",
     "output_type": "stream",
     "text": [
      "Info: Params [1.94852227 0.90232943 0.21791765] gave 27.691665379208814\n"
     ]
    },
    {
     "name": "stdout",
     "output_type": "stream",
     "text": [
      "[1.94852227 0.90232943 0.21791765]\n",
      "17\n"
     ]
    },
    {
     "name": "stderr",
     "output_type": "stream",
     "text": [
      "Info: Params [4.10709066 0.86957659 0.24140036] gave -340.3238926596694\n"
     ]
    },
    {
     "name": "stdout",
     "output_type": "stream",
     "text": [
      "[4.10709066 0.86957659 0.24140036]\n",
      "18\n"
     ]
    },
    {
     "name": "stderr",
     "output_type": "stream",
     "text": [
      "Info: Params [2.82135858 0.6293661  0.27462095] gave -177.93722193110798\n"
     ]
    },
    {
     "name": "stdout",
     "output_type": "stream",
     "text": [
      "[2.82135858 0.6293661  0.27462095]\n",
      "19\n"
     ]
    },
    {
     "name": "stderr",
     "output_type": "stream",
     "text": [
      "Info: Params [3.20702991 0.73188149 0.26764832] gave -367.0685755279223\n"
     ]
    },
    {
     "name": "stdout",
     "output_type": "stream",
     "text": [
      "[3.20702991 0.73188149 0.26764832]\n",
      "20\n"
     ]
    },
    {
     "name": "stderr",
     "output_type": "stream",
     "text": [
      "Info: Params [2.60471412 0.78648208 0.25580774] gave -74.2129638203156\n"
     ]
    },
    {
     "name": "stdout",
     "output_type": "stream",
     "text": [
      "[2.60471412 0.78648208 0.25580774]\n",
      "21\n"
     ]
    },
    {
     "name": "stderr",
     "output_type": "stream",
     "text": [
      "Info: Params [1.28266246 0.62223857 0.31775106] gave 89.75284960304145\n"
     ]
    },
    {
     "name": "stdout",
     "output_type": "stream",
     "text": [
      "[1.28266246 0.62223857 0.31775106]\n",
      "22\n"
     ]
    },
    {
     "name": "stderr",
     "output_type": "stream",
     "text": [
      "Info: Params [6.         0.98023523 0.35106449] gave -56.74354370546358\n"
     ]
    },
    {
     "name": "stdout",
     "output_type": "stream",
     "text": [
      "[6.         0.98023523 0.35106449]\n",
      "23\n"
     ]
    },
    {
     "name": "stderr",
     "output_type": "stream",
     "text": [
      "Info: Params [3.41741758 0.5        0.29899713] gave -327.0369214669966\n"
     ]
    },
    {
     "name": "stdout",
     "output_type": "stream",
     "text": [
      "[3.41741758 0.5        0.29899713]\n",
      "24\n"
     ]
    },
    {
     "name": "stderr",
     "output_type": "stream",
     "text": [
      "Info: Params [3.85804232 0.61579399 0.3222603 ] gave -254.91271646512314\n"
     ]
    },
    {
     "name": "stdout",
     "output_type": "stream",
     "text": [
      "[3.85804232 0.61579399 0.3222603 ]\n",
      "25\n"
     ]
    },
    {
     "name": "stderr",
     "output_type": "stream",
     "text": [
      "Info: Params [2.99130597 0.62505373 0.29481485] gave -256.75116735611897\n"
     ]
    },
    {
     "name": "stdout",
     "output_type": "stream",
     "text": [
      "[2.99130597 0.62505373 0.29481485]\n",
      "26\n"
     ]
    },
    {
     "name": "stderr",
     "output_type": "stream",
     "text": [
      "Info: Params [3.04951445 0.79654705 0.27129926] gave -47.24611698387588\n"
     ]
    },
    {
     "name": "stdout",
     "output_type": "stream",
     "text": [
      "[3.04951445 0.79654705 0.27129926]\n",
      "27\n"
     ]
    },
    {
     "name": "stderr",
     "output_type": "stream",
     "text": [
      "Info: Params [3.77879679 0.54202734 0.28497732] gave -433.9719703936686\n"
     ]
    },
    {
     "name": "stdout",
     "output_type": "stream",
     "text": [
      "[3.77879679 0.54202734 0.28497732]\n",
      "28\n"
     ]
    },
    {
     "name": "stderr",
     "output_type": "stream",
     "text": [
      "Info: Params [3.59511073 0.5        0.30397613] gave -454.6164544502151\n"
     ]
    },
    {
     "name": "stdout",
     "output_type": "stream",
     "text": [
      "[3.59511073 0.5        0.30397613]\n",
      "29\n"
     ]
    },
    {
     "name": "stderr",
     "output_type": "stream",
     "text": [
      "Info: Params [2.897578   0.62220076 0.30261658] gave -318.6639778248757\n"
     ]
    },
    {
     "name": "stdout",
     "output_type": "stream",
     "text": [
      "[2.897578   0.62220076 0.30261658]\n",
      "30\n"
     ]
    },
    {
     "name": "stderr",
     "output_type": "stream",
     "text": [
      "Info: Params [3.9742166  0.7823623  0.29043826] gave -211.8225069962676\n"
     ]
    },
    {
     "name": "stdout",
     "output_type": "stream",
     "text": [
      "[3.9742166  0.7823623  0.29043826]\n",
      "31\n"
     ]
    },
    {
     "name": "stderr",
     "output_type": "stream",
     "text": [
      "Info: Params [4.76102095 0.86153501 0.26619146] gave -557.4280417232972\n"
     ]
    },
    {
     "name": "stdout",
     "output_type": "stream",
     "text": [
      "[4.76102095 0.86153501 0.26619146]\n"
     ]
    }
   ],
   "source": [
    "par_fitted_B = np.zeros((sample_size,3))\n",
    "for i in range(sample_size):\n",
    "    print(i)\n",
    "    \n",
    "    path = os.path.join(data_dir+str(i+1)+\".csv\")\n",
    "    df = pd.read_csv(path, sep = \",\")\n",
    "    df = df[df[\"Cond\"]==\"accuracy\"] # A condition\n",
    "    df = df[df[\"Time\"]<4]\n",
    "    \n",
    "    samp = Sample.from_pandas_dataframe(df, rt_column_name=\"Time\", correct_column_name=\"Correct\")\n",
    "    \n",
    "    model_fit = Model(name='Simple model (fitted)',\n",
    "                  drift=DriftConstant(drift=Fittable(minval=0, maxval=6)),\n",
    "                  noise=NoiseConstant(noise=1),\n",
    "                  bound=BoundConstant(B=Fittable(minval=0.5, maxval=10)),\n",
    "                  overlay=OverlayNonDecision(nondectime=Fittable(minval=0.1, maxval=1)),\n",
    "                  dx=.001, dt=.001, T_dur=4)\n",
    "                  #dx=.001, dt=.001, T_dur=3)\n",
    "\n",
    "    fit_adjust_model(samp, model_fit,\n",
    "                     fitting_method=\"differential_evolution\",\n",
    "                     lossfunction=LossRobustBIC, verbose=False)\n",
    "\n",
    "    par_fitted_B[i,0] = np.array(model_fit.parameters()['drift']['drift'])\n",
    "    par_fitted_B[i,1] = np.array(model_fit.parameters()['bound']['B'])\n",
    "    par_fitted_B[i,2] = np.array(model_fit.parameters()['overlay']['nondectime'])\n",
    "    \n",
    "    print(par_fitted_B[i,:])\n"
   ]
  },
  {
   "cell_type": "code",
   "execution_count": 53,
   "id": "edca98ca",
   "metadata": {},
   "outputs": [],
   "source": [
    "my_array = np.concatenate((par_fitted_A, par_fitted_B), axis = 0)\n",
    "df_SAT = pd.DataFrame(my_array, columns = ['Drift Rate','Boundary Separation','Non-decision Time'])\n",
    "df_SAT[\"SAT\"] = [\"Speed\"]*sample_size + [\"Accuracy\"]*sample_size\n",
    "df_SAT.to_csv(\"DDMresultDutilh2013.csv\")"
   ]
  },
  {
   "cell_type": "code",
   "execution_count": 147,
   "id": "41072a64",
   "metadata": {},
   "outputs": [],
   "source": [
    "df_SAT = pd.read_csv(('DDMresultDutilh2013.csv'))"
   ]
  },
  {
   "cell_type": "code",
   "execution_count": 148,
   "id": "71162c10",
   "metadata": {},
   "outputs": [],
   "source": [
    "S = np.array(df_SAT.loc[(df_SAT['SAT'] == \"Speed\")][[\"Drift Rate\", \"Boundary Separation\", \"Non-decision Time\"]])\n",
    "A = np.array(df_SAT.loc[(df_SAT['SAT'] == \"Accuracy\")][[\"Drift Rate\", \"Boundary Separation\", \"Non-decision Time\"]])\n",
    "dif = S-A\n",
    "df_dif = pd.DataFrame(dif,columns = [\"Drift Rate\", \"Boundary Separation\", \"Non-decision Time\"])"
   ]
  },
  {
   "cell_type": "code",
   "execution_count": 149,
   "id": "94911b24",
   "metadata": {},
   "outputs": [],
   "source": [
    "df_SAT_melted = pd.melt(df_SAT, id_vars = [\"SAT\"], value_vars=['Drift Rate', 'Boundary Separation','Non-decision Time'],\n",
    "                       var_name = \"Parameter\", value_name = \"Value\")\n",
    "df_dif_melted = pd.melt(df_dif, value_vars=['Drift Rate', 'Boundary Separation','Non-decision Time'],\n",
    "                       var_name = \"Parameter\", value_name = \"Difference\")"
   ]
  },
  {
   "cell_type": "code",
   "execution_count": 150,
   "id": "e05a8f93",
   "metadata": {},
   "outputs": [],
   "source": [
    "df_dif_melted.to_csv(\"DDMdifResultDutilh2013.csv\") \n"
   ]
  },
  {
   "cell_type": "code",
   "execution_count": 58,
   "id": "702bd382",
   "metadata": {},
   "outputs": [
    {
     "data": {
      "text/plain": [
       "<seaborn.axisgrid.FacetGrid at 0x7fd6b843ee50>"
      ]
     },
     "execution_count": 58,
     "metadata": {},
     "output_type": "execute_result"
    },
    {
     "data": {
      "image/png": "[encoded data removed]",
      "text/plain": [
       "<Figure size 813.5x600 with 1 Axes>"
      ]
     },
     "metadata": {},
     "output_type": "display_data"
    }
   ],
   "source": [
    "sns.catplot(data=df_SAT_melted, x=\"Parameter\", y=\"Value\", hue=\"SAT\", kind=\"box\",\n",
    "            height=6, aspect=7/6)"
   ]
  },
  {
   "cell_type": "code",
   "execution_count": 61,
   "id": "0515abc6",
   "metadata": {},
   "outputs": [
    {
     "data": {
      "text/plain": [
       "<seaborn.axisgrid.FacetGrid at 0x7fd6dadb5190>"
      ]
     },
     "execution_count": 61,
     "metadata": {},
     "output_type": "execute_result"
    },
    {
     "data": {
      "image/png": "[encoded data removed]",
      "text/plain": [
       "<Figure size 700x600 with 1 Axes>"
      ]
     },
     "metadata": {},
     "output_type": "display_data"
    }
   ],
   "source": [
    "sns.catplot(data=df_dif_melted, x=\"Parameter\", y=\"Difference\", kind=\"box\",\n",
    "            height=6, aspect=7/6)"
   ]
  },
  {
   "cell_type": "code",
   "execution_count": 53,
   "id": "59af1ff3",
   "metadata": {},
   "outputs": [
    {
     "name": "stdout",
     "output_type": "stream",
     "text": [
      "Ttest_relResult(statistic=4.336639599901696, pvalue=7.818947662829324e-05)\n",
      "Ttest_relResult(statistic=-5.317231618118586, pvalue=3.010032361954742e-06)\n",
      "Ttest_relResult(statistic=-6.611696642074129, pvalue=3.4900999330113256e-08)\n"
     ]
    }
   ],
   "source": [
    "print(scipy.stats.ttest_rel(par_fitted_A[:,0], par_fitted_B[:,0]))\n",
    "print(scipy.stats.ttest_rel(par_fitted_A[:,1], par_fitted_B[:,1]))\n",
    "print(scipy.stats.ttest_rel(par_fitted_A[:,2], par_fitted_B[:,2]))\n",
    "#print(scipy.stats.ttest_rel(par_fitted_A[:,3], par_fitted_B[:,3]))"
   ]
  },
  {
   "cell_type": "code",
   "execution_count": null,
   "id": "6e99311e",
   "metadata": {},
   "outputs": [],
   "source": []
  }
 ],
 "metadata": {
  "kernelspec": {
   "display_name": "Python 3 (ipykernel)",
   "language": "python",
   "name": "python3"
  },
  "language_info": {
   "codemirror_mode": {
    "name": "ipython",
    "version": 3
   },
   "file_extension": ".py",
   "mimetype": "text/x-python",
   "name": "python",
   "nbconvert_exporter": "python",
   "pygments_lexer": "ipython3",
   "version": "3.7.15"
  }
 },
 "nbformat": 4,
 "nbformat_minor": 5
}
