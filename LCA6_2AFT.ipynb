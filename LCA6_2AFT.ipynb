{
 "cells": [
  {
   "cell_type": "code",
   "execution_count": 1,
   "id": "35beed4d",
   "metadata": {},
   "outputs": [],
   "source": [
    "%run IDM_helper_functions.ipynb"
   ]
  },
  {
   "cell_type": "code",
   "execution_count": null,
   "id": "7174fcaa",
   "metadata": {},
   "outputs": [],
   "source": []
  },
  {
   "cell_type": "code",
   "execution_count": null,
   "id": "2c89c05c",
   "metadata": {},
   "outputs": [],
   "source": []
  },
  {
   "cell_type": "code",
   "execution_count": null,
   "id": "e2e6d219",
   "metadata": {},
   "outputs": [],
   "source": []
  },
  {
   "cell_type": "code",
   "execution_count": null,
   "id": "da898fed",
   "metadata": {},
   "outputs": [],
   "source": []
  },
  {
   "cell_type": "markdown",
   "id": "5087a432",
   "metadata": {},
   "source": [
    "## LCA parameter recovery"
   ]
  },
  {
   "cell_type": "code",
   "execution_count": null,
   "id": "7c42592c",
   "metadata": {
    "scrolled": true
   },
   "outputs": [
    {
     "name": "stdout",
     "output_type": "stream",
     "text": [
      "sim0\n",
      "sim1000\n",
      "sim2000\n",
      "sim3000\n",
      "sim4000\n",
      "sim5000\n",
      "sim6000\n",
      "sim7000\n",
      "sim8000\n",
      "sim9000\n",
      "sim10000\n",
      "sim11000\n",
      "sim12000\n"
     ]
    }
   ],
   "source": [
    "# Training data\n",
    "num_simulations = 100000\n",
    "#[0,0.5] for ∆I, [0,2] for I, [0,14] for κ and β, [0,1] for Z, and [0,1]\n",
    "#prior = utils.BoxUniform(low=[0.05,0.05,1,1], high=[0.3,0.25,8,8])\n",
    "\n",
    "prior = utils.BoxUniform(low=[1,1,0,0,0.6,0.2], high=[2,1,0.4,0.4,2,0.5])\n",
    "parameters = prior.sample((num_simulations,))\n",
    "x = simul_LCA_full(np.array(parameters))"
   ]
  },
  {
   "cell_type": "code",
   "execution_count": 31,
   "id": "67a4d066",
   "metadata": {},
   "outputs": [
    {
     "data": {
      "text/plain": [
       "torch.Size([30, 6])"
      ]
     },
     "execution_count": 31,
     "metadata": {},
     "output_type": "execute_result"
    }
   ],
   "source": [
    "parameters.shape"
   ]
  },
  {
   "cell_type": "code",
   "execution_count": null,
   "id": "0655a728",
   "metadata": {
    "scrolled": true
   },
   "outputs": [],
   "source": [
    "# Train MNLE and obtain MCMC-based posterior.\n",
    "\n",
    "trainer = MNLE(prior=prior)\n",
    "trainer = trainer.append_simulations(parameters, x)\n",
    "mnle = trainer.train()"
   ]
  },
  {
   "cell_type": "code",
   "execution_count": null,
   "id": "1d937b86",
   "metadata": {},
   "outputs": [],
   "source": [
    "mcmc_parameters = dict(num_chains=50,thin=10,warmup_steps=50,init_strategy=\"proposal\")"
   ]
  },
  {
   "cell_type": "code",
   "execution_count": 5,
   "id": "93a70797",
   "metadata": {},
   "outputs": [
    {
     "name": "stdout",
     "output_type": "stream",
     "text": [
      "sim0\n"
     ]
    }
   ],
   "source": [
    "# inference with different x_o that has 10 trials\n",
    "#torch.manual_seed(41)\n",
    "num_trials = 100\n",
    "num_samples = 1000\n",
    "parameters_o = prior.sample((1,))\n",
    "#x_o = simul_IDM_mult_trial(np.array(parameters_o))\n",
    "x_o = simul_LCA_full_3AFT(np.array(parameters_o.repeat(num_trials, 1)))"
   ]
  },
  {
   "cell_type": "code",
   "execution_count": 6,
   "id": "b6a6888c",
   "metadata": {},
   "outputs": [
    {
     "name": "stderr",
     "output_type": "stream",
     "text": [
      "C:\\Users\\ra36qix\\Documents\\GitHub\\sbi\\sbi\\utils\\sbiutils.py:316: UserWarning: An x with a batch size of 100 was passed. It will be interpreted as a batch of independent and identically\n",
      "            distributed data X={x_1, ..., x_n}, i.e., data generated based on the\n",
      "            same underlying (unknown) parameter. The resulting posterior will be with\n",
      "            respect to entire batch, i.e,. p(theta | X).\n",
      "  warnings.warn(\n"
     ]
    },
    {
     "data": {
      "application/vnd.jupyter.widget-view+json": {
       "model_id": "fe4044c965644bf480f446a09da1e71d",
       "version_major": 2,
       "version_minor": 0
      },
      "text/plain": [
       "  0%|          | 0/50 [00:00<?, ?it/s]"
      ]
     },
     "metadata": {},
     "output_type": "display_data"
    },
    {
     "data": {
      "application/vnd.jupyter.widget-view+json": {
       "model_id": "7788547a6342403ebce12d7b45ca25ec",
       "version_major": 2,
       "version_minor": 0
      },
      "text/plain": [
       "  0%|          | 0/10100 [00:00<?, ?it/s]"
      ]
     },
     "metadata": {},
     "output_type": "display_data"
    },
    {
     "name": "stderr",
     "output_type": "stream",
     "text": [
      "\n",
      "KeyboardInterrupt\n",
      "\n"
     ]
    }
   ],
   "source": [
    "mnle_posterior = trainer.build_posterior(mnle, prior)\n",
    "\n",
    "mnle_samples = mnle_posterior.sample((num_samples,), x=x_o)"
   ]
  },
  {
   "cell_type": "code",
   "execution_count": null,
   "id": "a92ce97d",
   "metadata": {},
   "outputs": [],
   "source": [
    "def pair_plot(prior, mnle_samples, parameters_o, figsize = (5,5),\n",
    "              contour = 0.7, labels=['I1', 'I2', 'a','Inh','k', 'Ter']):\n"
   ]
  },
  {
   "cell_type": "code",
   "execution_count": null,
   "id": "10bd2fe3",
   "metadata": {},
   "outputs": [],
   "source": []
  },
  {
   "cell_type": "code",
   "execution_count": null,
   "id": "4ab582e6",
   "metadata": {},
   "outputs": [],
   "source": []
  },
  {
   "cell_type": "markdown",
   "id": "9fb64c14",
   "metadata": {},
   "source": [
    "## Simulate from ICA and fit with ICA"
   ]
  },
  {
   "cell_type": "code",
   "execution_count": null,
   "id": "a9b6f97f",
   "metadata": {},
   "outputs": [],
   "source": []
  },
  {
   "cell_type": "code",
   "execution_count": null,
   "id": "0168cf10",
   "metadata": {},
   "outputs": [],
   "source": [
    "prior_LCA = utils.BoxUniform(low=[1,1,0,0,0.6,0.2], high=[2,1,0.4,0.4,2,0.5])\n",
    "LCA_parameters = prior_LCA.sample((20,))\n",
    "\n",
    "n_trials = 1000\n",
    "sim_num = 20\n",
    "\n",
    "par_fitted = np.zeros((sim_num,6))"
   ]
  },
  {
   "cell_type": "code",
   "execution_count": null,
   "id": "762773e2",
   "metadata": {
    "scrolled": true
   },
   "outputs": [],
   "source": [
    "for i in range(sim_num):\n",
    "    print(i)\n",
    "    LCA_o = simul_LCA_full(np.tile(LCA_parameters[i,:], (n_trials,1))) # simulate LCA data\n",
    "    mnle_posterior = trainer.build_posterior(\n",
    "    mcmc_method=\"slice_np_vectorized\", mcmc_parameters=mcmc_parameters, prior = prior\n",
    "    )\n",
    "    \n",
    "    #mnle_samples = mnle_posterior.sample((num_samples,), x=x_o) # fit with IDM\n",
    "    mnle_posterior.set_default_x(LCA_o)\n",
    "    mnle_map = mnle_posterior.map()\n",
    "    print(LCA_parameters[i,:])\n",
    "    print(np.array(mnle_map))\n",
    "    par_fitted[i,:] = np.array(mnle_map)"
   ]
  },
  {
   "cell_type": "code",
   "execution_count": null,
   "id": "71b3f41e",
   "metadata": {
    "scrolled": false
   },
   "outputs": [],
   "source": [
    "par_labels = [\"dI\", \"I\", \"inh\", \"k\",\"a\",\"Ter\"]\n",
    "par_fitted_labels = [\"dI\", \"I\", \"inh\", \"k\",\"a\",\"Ter\"]\n",
    "sim_fit_plot_all(parameters[7:28,:], par_fitted[7:28,:], par_labels, par_fitted_labels)"
   ]
  },
  {
   "cell_type": "code",
   "execution_count": null,
   "id": "f5dc0f60",
   "metadata": {},
   "outputs": [],
   "source": []
  },
  {
   "cell_type": "code",
   "execution_count": null,
   "id": "5c50c970",
   "metadata": {
    "scrolled": true
   },
   "outputs": [],
   "source": []
  },
  {
   "cell_type": "code",
   "execution_count": null,
   "id": "14f28c59",
   "metadata": {},
   "outputs": [],
   "source": []
  },
  {
   "cell_type": "code",
   "execution_count": null,
   "id": "e37e7dd7",
   "metadata": {},
   "outputs": [],
   "source": []
  },
  {
   "cell_type": "code",
   "execution_count": 31,
   "id": "e8a1ca2a",
   "metadata": {},
   "outputs": [],
   "source": []
  },
  {
   "cell_type": "code",
   "execution_count": null,
   "id": "0da7f6a4",
   "metadata": {},
   "outputs": [],
   "source": []
  },
  {
   "cell_type": "code",
   "execution_count": null,
   "id": "aa0a9166",
   "metadata": {},
   "outputs": [],
   "source": []
  },
  {
   "cell_type": "code",
   "execution_count": null,
   "id": "297120ac",
   "metadata": {},
   "outputs": [],
   "source": []
  }
 ],
 "metadata": {
  "kernelspec": {
   "display_name": "Python 3 (ipykernel)",
   "language": "python",
   "name": "python3"
  },
  "language_info": {
   "codemirror_mode": {
    "name": "ipython",
    "version": 3
   },
   "file_extension": ".py",
   "mimetype": "text/x-python",
   "name": "python",
   "nbconvert_exporter": "python",
   "pygments_lexer": "ipython3",
   "version": "3.9.16"
  }
 },
 "nbformat": 4,
 "nbformat_minor": 5
}
