{
 "cells": [
  {
   "cell_type": "code",
   "execution_count": 1,
   "id": "35beed4d",
   "metadata": {},
   "outputs": [],
   "source": [
    "%run IDM_helper_functions.ipynb"
   ]
  },
  {
   "cell_type": "markdown",
   "id": "5087a432",
   "metadata": {},
   "source": [
    "## Train IDM"
   ]
  },
  {
   "cell_type": "code",
   "execution_count": 2,
   "id": "10bd2fe3",
   "metadata": {},
   "outputs": [],
   "source": [
    "from numpy.fft import rfft,irfft\n",
    "import time\n",
    "import numpy as np\n",
    "from scipy.special import erf\n",
    "#from scipy.linalg import circulant\n",
    "import matplotlib.pyplot as plt\n",
    "from scipy.optimize import minimize, curve_fit\n",
    "import cProfile\n",
    "import re\n",
    "import matplotlib.cm as matplotlib_cm\n",
    "import math\n",
    "#import sys\n",
    "import multiprocessing\n",
    "import copy\n",
    "\n"
   ]
  },
  {
   "cell_type": "code",
   "execution_count": 10,
   "id": "362cbe29",
   "metadata": {},
   "outputs": [
    {
     "ename": "NameError",
     "evalue": "name 'B' is not defined",
     "output_type": "error",
     "traceback": [
      "\u001b[0;31m---------------------------------------------------------------------------\u001b[0m",
      "\u001b[0;31mNameError\u001b[0m                                 Traceback (most recent call last)",
      "\u001b[0;32m/var/folders/5g/vqmn12yd48z6l6jf2s2yy62r0000gn/T/ipykernel_48691/1594644525.py\u001b[0m in \u001b[0;36m<module>\u001b[0;34m\u001b[0m\n\u001b[1;32m      3\u001b[0m \u001b[0mdt\u001b[0m \u001b[0;34m=\u001b[0m \u001b[0;36m0.005\u001b[0m\u001b[0;34m\u001b[0m\u001b[0;34m\u001b[0m\u001b[0m\n\u001b[1;32m      4\u001b[0m \u001b[0;34m\u001b[0m\u001b[0m\n\u001b[0;32m----> 5\u001b[0;31m \u001b[0mx_list\u001b[0m \u001b[0;34m=\u001b[0m \u001b[0mnp\u001b[0m\u001b[0;34m.\u001b[0m\u001b[0marange\u001b[0m\u001b[0;34m(\u001b[0m\u001b[0;34m-\u001b[0m\u001b[0mB\u001b[0m\u001b[0;34m,\u001b[0m \u001b[0mB\u001b[0m\u001b[0;34m+\u001b[0m\u001b[0;36m0.1\u001b[0m\u001b[0;34m*\u001b[0m\u001b[0mdx\u001b[0m\u001b[0;34m,\u001b[0m \u001b[0mdx\u001b[0m\u001b[0;34m)\u001b[0m                                                                                    \u001b[0;31m# List of x-grids (Staggered-mesh)\u001b[0m\u001b[0;34m\u001b[0m\u001b[0;34m\u001b[0m\u001b[0m\n\u001b[0m\u001b[1;32m      6\u001b[0m \u001b[0mt_list\u001b[0m \u001b[0;34m=\u001b[0m \u001b[0mnp\u001b[0m\u001b[0;34m.\u001b[0m\u001b[0marange\u001b[0m\u001b[0;34m(\u001b[0m\u001b[0;36m0.\u001b[0m\u001b[0;34m,\u001b[0m \u001b[0mT_dur\u001b[0m\u001b[0;34m,\u001b[0m \u001b[0mdt\u001b[0m\u001b[0;34m)\u001b[0m                                                                                       \u001b[0;31m# t-grids\u001b[0m\u001b[0;34m\u001b[0m\u001b[0;34m\u001b[0m\u001b[0m\n",
      "\u001b[0;31mNameError\u001b[0m: name 'B' is not defined"
     ]
    }
   ],
   "source": [
    "                                                                                     # t-grids"
   ]
  },
  {
   "cell_type": "code",
   "execution_count": 15,
   "id": "4ab582e6",
   "metadata": {},
   "outputs": [],
   "source": [
    "# Function that simulates one trial of the time-varying drift/bound DDM\n",
    "def DDM_pdf_general(params, setting_index, task_index=0):\n",
    "    '''\n",
    "    Now assume f_mu, f_sigma, f_Bound are callable functions\n",
    "    '''\n",
    "    ### Initialization\n",
    "    mu_0_temp          = params[0]                                                                                      # Constant component of drift rate mu.\n",
    "    param_mu_x_temp    = params[1]                                                                                      # Parameter for x_dependence of mu.\n",
    "    param_mu_t_temp    = 0# params[2]                                                                                      # Parameter for t_dependence of mu.\n",
    "    sigma_0_temp       = 1# params[2]                                                                                      # Constant component of noise sigma.\n",
    "    param_sigma_x_temp = 0# params[4]                                                                                      # Parameter for t_dependence of sigma.\n",
    "    param_sigma_t_temp = 0# params[5]                                                                                      # Parameter for t_dependence of sigma.\n",
    "    B_0_temp           = params[2]                                                                                      # Constant component of drift rate mu.\n",
    "    param_B_t_temp     = 0# params[7]                                                                                      # Parameter for t_dependence of B (no x-dep I sps?).\n",
    "    \n",
    "    \n",
    "    ## additional parameters\n",
    "    dx = 0.008                                                                                                              # grid size\n",
    "    T_dur = 3                                                                                                              # [s] Duration of simulation\n",
    "    dt = 0.005  \n",
    "\n",
    "    x_list = np.arange(-B_0_temp, B_0_temp+0.1*dx, dx)                                                                                    # List of x-grids (Staggered-mesh)\n",
    "    t_list = np.arange(0., T_dur, dt)  \n",
    "    \n",
    "    ## Simulation Settings\n",
    "    settings = setting_list[setting_index]                                                                              # Define the condition for mu, sigma, and B, for x&t dependences.\n",
    "    f_mu_setting = settings[0]                                                                                          # Declare the type of DDM model regarding mu. Need to modify f_mu_matrix and f_mu_flux.\n",
    "    f_sigma_setting = settings[1]                                                                                       # Declare the type of DDM model regarding sigma. Need to modify f_sigma_matrix and f_sigma_flux.\n",
    "    f_bound_setting = settings[2]                                                                                       # Declare the type of DDM model regarding boundaries. Specify on f_bound_t.\n",
    "    f_IC_setting = settings[3]                                                                                          # Declare the type of Initial Condition. Specify on f_initial_condition\n",
    "    ### Initialization: Lists\n",
    "    t_list_temp = t_list\n",
    "    pdf_list_curr = np.zeros((len(x_list)))#f_initial_condition(f_IC_setting, x_list)                                                           # Initial condition\n",
    "    pdf_list_prev = np.zeros((len(x_list)))\n",
    "    Prob_list_corr = np.zeros(len(t_list_temp))                                                                         # Probability flux to correct choice\n",
    "    Prob_list_err = np.zeros(len(t_list_temp))                                                                          # Probability flux to erred choice\n",
    "    # traj_mean_pos = np.zeros(len(t_list_temp))                                                                        # Mean position of distribution, if needed.\n",
    "    ### Task specific\n",
    "    param_task=0                                                                                                        # 0 if no extra active tasks/regimes/paradigms, else modify f_mu1_task.\n",
    "    if len(params)>=9:\n",
    "        param_task = params[8]\n",
    "    task_temp = 'Fixed_Duration'# task_list[task_index]\n",
    "    if task_temp == 'Duration_Paradigm':\n",
    "        param_task = [params[8], mu_0_temp]\n",
    "    ##### Looping through time and updating the pdf.\n",
    "    for i_t in range(len(t_list_temp)-1):\n",
    "        pdf_list_prev = copy.copy(pdf_list_curr)                                                                        # Update Previous state.\n",
    "        mu_1_temp = f_mu1_task(t_list_temp[i_t], task_temp, param_task)                                                 # Perturbation to mu due to various tasks specified. Trivial if param_task=0\n",
    "        mu_temp = mu_0_temp + mu_1_temp                                                                                 # Actual mu= drift to be used.\n",
    "        if sum(pdf_list_curr[:])>0.0001:                                                                                # For efficiency only do diffusion if there's at least some densities remaining in the channel.\n",
    "            ## Define the boundaries at current time.\n",
    "            bound_temp = f_bound_t(B_0_temp, param_B_t_temp, t_list_temp[i_t], f_bound_setting)                         # Boundary at current time-step. Can generalize to assymetric bounds\n",
    "            bound_shift = B_0_temp - bound_temp                                                                         # pre-define. Assumed bound_temp < B_0_temp (ie collapsing bounds, not increasing bounds).\n",
    "            # Note that we linearly approximate the bound by the two surrounding grids sandwiching it.\n",
    "            index_temp_inner = int(math.ceil(bound_shift/dx))                                                           # Index for the inner bound (smaller matrix)\n",
    "            index_temp_outer = int(bound_shift/dx)                                                                      # Index for the outer bound (larger matrix)\n",
    "            weight_inner    = (bound_shift - index_temp_outer*dx)/dx                                                    # The weight of the upper bound matrix, approximated linearly. 0 when bound exactly at grids.\n",
    "            weight_outer    =  1. - weight_inner                                                                        # The weight of the lower bound matrix, approximated linearly.\n",
    "\n",
    "            ## Define the diffusion matrix for implicit method\n",
    "            x_list_temp = x_list[index_temp_outer:len(x_list)-index_temp_outer]                                         # List of x-positions still within bounds.\n",
    "            matrix_diffusion = np.diag(np.ones(len(x_list_temp))) + f_mu_matrix(mu_temp, param_mu_x_temp, param_mu_t_temp, x_list_temp, t_list_temp[i_t], f_mu_setting) + f_sigma_matrix(sigma_0_temp, param_sigma_x_temp, param_sigma_t_temp, x_list_temp, t_list_temp[i_t], f_sigma_setting)       #Diffusion Matrix for Implicit Method. Here defined as Outer Matrix, and inder matrix is either trivial or an extracted submatrix.\n",
    "            ### Compute Probability density functions (pdf)\n",
    "            pdf_list_temp_outer = np.linalg.solve(matrix_diffusion  , pdf_list_prev[index_temp_outer:len(x_list)-index_temp_outer])                                                     # Probability density function for outer matrix.\n",
    "            if index_temp_inner == index_temp_outer:\n",
    "                pdf_list_temp_inner = copy.copy(pdf_list_temp_outer)                                                                                                                    # When bound is exactly at a grid, use the most efficient method.\n",
    "            else:\n",
    "                pdf_list_temp_inner = np.linalg.solve(matrix_diffusion[1:-1, 1:-1], pdf_list_prev[index_temp_inner:len(x_list)-index_temp_inner])                                       # Probability density function for inner matrix.\n",
    "            Prob_list_err[i_t+1]  += weight_outer*np.sum(pdf_list_prev[:index_temp_outer])               + weight_inner*np.sum(pdf_list_prev[:index_temp_inner])                        # Pdfs out of bound is considered decisions made.\n",
    "            Prob_list_corr[i_t+1] += weight_outer*np.sum(pdf_list_prev[len(x_list)-index_temp_outer:]) + weight_inner*np.sum(pdf_list_prev[len(x_list)-index_temp_inner:])              # Pdfs out of bound is considered decisions made.\n",
    "            pdf_list_curr = np.zeros((len(x_list)))                                                                     # Reconstruct current proability density function, adding outer and inner contribution to it.\n",
    "            pdf_list_curr[index_temp_outer:len(x_list)-index_temp_outer] += weight_outer*pdf_list_temp_outer\n",
    "            pdf_list_curr[index_temp_inner:len(x_list)-index_temp_inner] += weight_inner*pdf_list_temp_inner\n",
    "\n",
    "        else:\n",
    "            break       #break if the remaining densities are too small....\n",
    "\n",
    "        ### Increase current, transient probability of crossing either bounds, as flux\n",
    "        Prob_list_corr[i_t+1] += weight_outer*pdf_list_temp_outer[-1]* ( f_mu_flux(len(x_list)-1-index_temp_outer, mu_temp, param_mu_x_temp, param_mu_t_temp, x_list, t_list_temp[i_t], f_mu_setting) + f_sigma_flux(len(x_list)-1-index_temp_outer, sigma_0_temp, param_sigma_x_temp, param_sigma_t_temp, x_list, t_list_temp[i_t], f_sigma_setting)) \\\n",
    "                              +  weight_inner*pdf_list_temp_inner[-1]* ( f_mu_flux(len(x_list)-1-index_temp_inner, mu_temp, param_mu_x_temp, param_mu_t_temp, x_list, t_list_temp[i_t], f_mu_setting) + f_sigma_flux(len(x_list)-1-index_temp_inner, sigma_0_temp, param_sigma_x_temp, param_sigma_t_temp, x_list, t_list_temp[i_t], f_sigma_setting))\n",
    "        Prob_list_err[i_t+1]  += weight_outer*pdf_list_temp_outer[ 0]* ( f_mu_flux(              index_temp_outer, mu_temp, param_mu_x_temp, param_mu_t_temp, x_list, t_list_temp[i_t], f_mu_setting) + f_sigma_flux(              index_temp_outer, sigma_0_temp, param_sigma_x_temp, param_sigma_t_temp, x_list, t_list_temp[i_t], f_sigma_setting)) \\\n",
    "                              +  weight_inner*pdf_list_temp_inner[ 0]* ( f_mu_flux(              index_temp_inner, mu_temp, param_mu_x_temp, param_mu_t_temp, x_list, t_list_temp[i_t], f_mu_setting) + f_sigma_flux(              index_temp_inner, sigma_0_temp, param_sigma_x_temp, param_sigma_t_temp, x_list, t_list_temp[i_t], f_sigma_setting))\n",
    "        if bound_temp < dx:                                                                                             # Renormalize when the channel size has <1 grid.\n",
    "            Prob_list_corr[i_t+1] *= (1+ (1-bound_temp/dx))\n",
    "            Prob_list_err[i_t+1]  *= (1+ (1-bound_temp/dx))\n",
    "        # traj_mean_pos[i_t+1] = np.sum(Prob_list_corr)*1. + np.sum(Prob_list_err[:])*-1. + np.sum(pdf_list[:,i_t+1]*x_list)        # To record the mean position.\n",
    "\n",
    "    return Prob_list_corr, Prob_list_err         "
   ]
  },
  {
   "cell_type": "code",
   "execution_count": 16,
   "id": "6b0a2aa7",
   "metadata": {},
   "outputs": [
    {
     "ename": "NameError",
     "evalue": "name 'f_mu1_task' is not defined",
     "output_type": "error",
     "traceback": [
      "\u001b[0;31m---------------------------------------------------------------------------\u001b[0m",
      "\u001b[0;31mNameError\u001b[0m                                 Traceback (most recent call last)",
      "\u001b[0;32m/var/folders/5g/vqmn12yd48z6l6jf2s2yy62r0000gn/T/ipykernel_48691/4075539335.py\u001b[0m in \u001b[0;36m<module>\u001b[0;34m\u001b[0m\n\u001b[1;32m      1\u001b[0m \u001b[0mparams\u001b[0m \u001b[0;34m=\u001b[0m \u001b[0;34m[\u001b[0m\u001b[0;36m1\u001b[0m\u001b[0;34m,\u001b[0m\u001b[0;36m0.2\u001b[0m\u001b[0;34m,\u001b[0m\u001b[0;36m1\u001b[0m\u001b[0;34m]\u001b[0m\u001b[0;34m\u001b[0m\u001b[0;34m\u001b[0m\u001b[0m\n\u001b[1;32m      2\u001b[0m \u001b[0;31m#setting_list[setting_index] = ['linear_xt', 'linear_xt', 'constant', 'point_source_center']\u001b[0m\u001b[0;34m\u001b[0m\u001b[0;34m\u001b[0m\u001b[0;34m\u001b[0m\u001b[0m\n\u001b[0;32m----> 3\u001b[0;31m \u001b[0mDDM_pdf_general\u001b[0m\u001b[0;34m(\u001b[0m\u001b[0mparams\u001b[0m \u001b[0;34m=\u001b[0m \u001b[0mparams\u001b[0m\u001b[0;34m,\u001b[0m \u001b[0msetting_index\u001b[0m\u001b[0;34m=\u001b[0m\u001b[0;36m0\u001b[0m\u001b[0;34m,\u001b[0m \u001b[0mtask_index\u001b[0m\u001b[0;34m=\u001b[0m\u001b[0;36m0\u001b[0m\u001b[0;34m)\u001b[0m\u001b[0;34m\u001b[0m\u001b[0;34m\u001b[0m\u001b[0m\n\u001b[0m",
      "\u001b[0;32m/var/folders/5g/vqmn12yd48z6l6jf2s2yy62r0000gn/T/ipykernel_48691/3099205850.py\u001b[0m in \u001b[0;36mDDM_pdf_general\u001b[0;34m(params, setting_index, task_index)\u001b[0m\n\u001b[1;32m     46\u001b[0m     \u001b[0;32mfor\u001b[0m \u001b[0mi_t\u001b[0m \u001b[0;32min\u001b[0m \u001b[0mrange\u001b[0m\u001b[0;34m(\u001b[0m\u001b[0mlen\u001b[0m\u001b[0;34m(\u001b[0m\u001b[0mt_list_temp\u001b[0m\u001b[0;34m)\u001b[0m\u001b[0;34m-\u001b[0m\u001b[0;36m1\u001b[0m\u001b[0;34m)\u001b[0m\u001b[0;34m:\u001b[0m\u001b[0;34m\u001b[0m\u001b[0;34m\u001b[0m\u001b[0m\n\u001b[1;32m     47\u001b[0m         \u001b[0mpdf_list_prev\u001b[0m \u001b[0;34m=\u001b[0m \u001b[0mcopy\u001b[0m\u001b[0;34m.\u001b[0m\u001b[0mcopy\u001b[0m\u001b[0;34m(\u001b[0m\u001b[0mpdf_list_curr\u001b[0m\u001b[0;34m)\u001b[0m                                                                        \u001b[0;31m# Update Previous state.\u001b[0m\u001b[0;34m\u001b[0m\u001b[0;34m\u001b[0m\u001b[0m\n\u001b[0;32m---> 48\u001b[0;31m         \u001b[0mmu_1_temp\u001b[0m \u001b[0;34m=\u001b[0m \u001b[0mf_mu1_task\u001b[0m\u001b[0;34m(\u001b[0m\u001b[0mt_list_temp\u001b[0m\u001b[0;34m[\u001b[0m\u001b[0mi_t\u001b[0m\u001b[0;34m]\u001b[0m\u001b[0;34m,\u001b[0m \u001b[0mtask_temp\u001b[0m\u001b[0;34m,\u001b[0m \u001b[0mparam_task\u001b[0m\u001b[0;34m)\u001b[0m                                                 \u001b[0;31m# Perturbation to mu due to various tasks specified. Trivial if param_task=0\u001b[0m\u001b[0;34m\u001b[0m\u001b[0;34m\u001b[0m\u001b[0m\n\u001b[0m\u001b[1;32m     49\u001b[0m         \u001b[0mmu_temp\u001b[0m \u001b[0;34m=\u001b[0m \u001b[0mmu_0_temp\u001b[0m \u001b[0;34m+\u001b[0m \u001b[0mmu_1_temp\u001b[0m                                                                                 \u001b[0;31m# Actual mu= drift to be used.\u001b[0m\u001b[0;34m\u001b[0m\u001b[0;34m\u001b[0m\u001b[0m\n\u001b[1;32m     50\u001b[0m         \u001b[0;32mif\u001b[0m \u001b[0msum\u001b[0m\u001b[0;34m(\u001b[0m\u001b[0mpdf_list_curr\u001b[0m\u001b[0;34m[\u001b[0m\u001b[0;34m:\u001b[0m\u001b[0;34m]\u001b[0m\u001b[0;34m)\u001b[0m\u001b[0;34m>\u001b[0m\u001b[0;36m0.0001\u001b[0m\u001b[0;34m:\u001b[0m                                                                                \u001b[0;31m# For efficiency only do diffusion if there's at least some densities remaining in the channel.\u001b[0m\u001b[0;34m\u001b[0m\u001b[0;34m\u001b[0m\u001b[0m\n",
      "\u001b[0;31mNameError\u001b[0m: name 'f_mu1_task' is not defined"
     ]
    }
   ],
   "source": [
    "params = [1,0.2,1]\n",
    "#setting_list[setting_index] = ['linear_xt', 'linear_xt', 'constant', 'point_source_center']\n",
    "DDM_pdf_general(params = params, setting_index=0, task_index=0)"
   ]
  },
  {
   "cell_type": "code",
   "execution_count": 4,
   "id": "0be478c2",
   "metadata": {},
   "outputs": [],
   "source": [
    "setting_list = [['linear_xt', 'linear_xt', 'constant', 'point_source_center'], \n",
    "                ['linear_xt', 'linear_xt', 'constant', 'point_source_center'], \n",
    "                ['linear_xt', 'linear_xt', 'constant', 'point_source_center']] "
   ]
  },
  {
   "cell_type": "code",
   "execution_count": 5,
   "id": "f0d83add",
   "metadata": {},
   "outputs": [
    {
     "data": {
      "text/plain": [
       "['linear_xt', 'linear_xt', 'constant', 'point_source_center']"
      ]
     },
     "execution_count": 5,
     "metadata": {},
     "output_type": "execute_result"
    }
   ],
   "source": [
    "setting_list[0]"
   ]
  },
  {
   "cell_type": "markdown",
   "id": "77dd1042",
   "metadata": {},
   "source": [
    "## Simulate from LCA and fit with IDM"
   ]
  },
  {
   "cell_type": "code",
   "execution_count": 69,
   "id": "7dfcb096",
   "metadata": {},
   "outputs": [
    {
     "name": "stdout",
     "output_type": "stream",
     "text": [
      "sim0\n",
      "tensor(0.9800)\n",
      "tensor([[1.5250, 0.0000],\n",
      "        [1.2400, 0.0000],\n",
      "        [2.1500, 0.0000],\n",
      "        [0.8360, 0.0000],\n",
      "        [3.3680, 0.0000],\n",
      "        [0.7630, 0.0000],\n",
      "        [1.3050, 0.0000],\n",
      "        [0.8190, 0.0000],\n",
      "        [2.1850, 0.0000],\n",
      "        [1.9070, 0.0000]])\n"
     ]
    }
   ],
   "source": [
    "x = simul_LCA_full_simp(np.tile([1,1.5,0.4], (100,1)))\n",
    "print((100-sum(x[:,1]))/100)\n",
    "print(x[0:10,:])\n"
   ]
  },
  {
   "cell_type": "code",
   "execution_count": null,
   "id": "73d44dc4",
   "metadata": {},
   "outputs": [],
   "source": []
  },
  {
   "cell_type": "code",
   "execution_count": 5,
   "id": "439d63d1",
   "metadata": {},
   "outputs": [],
   "source": [
    "#prior_LCA = utils.BoxUniform(low=[0, 0.6, 0, 0.2], high=[1, 1.5, 0.4, 0.5])\n",
    "LCA_parameters = prior.sample((20,))\n",
    "\n",
    "n_trials = 1000\n",
    "sim_num = 20\n",
    "\n",
    "par_fitted = np.zeros((sim_num,4))"
   ]
  },
  {
   "cell_type": "code",
   "execution_count": 6,
   "id": "2b71b69c",
   "metadata": {
    "scrolled": true
   },
   "outputs": [
    {
     "name": "stdout",
     "output_type": "stream",
     "text": [
      "0\n",
      "sim0\n",
      "tensor([0.0966, 1.0640, 0.4251, 0.2489])\n",
      "tensor([[1.0069, 1.0000],\n",
      "        [1.5299, 1.0000],\n",
      "        [0.8419, 0.0000],\n",
      "        [1.2309, 1.0000],\n",
      "        [1.0509, 1.0000],\n",
      "        [1.5799, 0.0000],\n",
      "        [1.8369, 0.0000],\n",
      "        [3.1809, 0.0000],\n",
      "        [3.2489, 1.0000],\n",
      "        [1.6859, 1.0000]])\n"
     ]
    },
    {
     "name": "stderr",
     "output_type": "stream",
     "text": [
      "C:\\Users\\ra36qix\\Documents\\GitHub\\sbi\\sbi\\utils\\sbiutils.py:316: UserWarning: An x with a batch size of 1000 was passed. It will be interpreted as a batch of independent and identically\n",
      "            distributed data X={x_1, ..., x_n}, i.e., data generated based on the\n",
      "            same underlying (unknown) parameter. The resulting posterior will be with\n",
      "            respect to entire batch, i.e,. p(theta | X).\n",
      "  warnings.warn(\n"
     ]
    },
    {
     "name": "stdout",
     "output_type": "stream",
     "text": [
      "[0.10026385 1.1115205  0.45711964 0.24912414]\n",
      "1\n",
      "sim0\n",
      "tensor([0.2621, 1.3431, 0.5477, 0.4438])\n",
      "tensor([[2.9468, 0.0000],\n",
      "        [0.9888, 0.0000],\n",
      "        [2.4718, 0.0000],\n",
      "        [2.4878, 0.0000],\n",
      "        [3.4438, 1.0000],\n",
      "        [3.4438, 0.0000],\n",
      "        [1.6328, 0.0000],\n",
      "        [3.4438, 0.0000],\n",
      "        [1.2748, 0.0000],\n",
      "        [1.3728, 0.0000]])\n",
      "[0.13881858 1.4964802  0.4327244  0.443847  ]\n",
      "2\n",
      "sim0\n",
      "tensor([0.2472, 1.2113, 0.6954, 0.4390])\n",
      "tensor([[3.4390, 0.0000],\n",
      "        [3.2860, 1.0000],\n",
      "        [1.0700, 0.0000],\n",
      "        [2.1250, 0.0000],\n",
      "        [1.0840, 0.0000],\n",
      "        [3.0530, 0.0000],\n",
      "        [1.7630, 0.0000],\n",
      "        [1.4830, 1.0000],\n",
      "        [3.4390, 0.0000],\n",
      "        [3.4390, 1.0000]])\n",
      "[0.17346895 1.4002783  0.4436189  0.4389969 ]\n",
      "3\n",
      "sim0\n",
      "tensor([0.4741, 1.4668, 0.2304, 0.2072])\n",
      "tensor([[2.5312, 0.0000],\n",
      "        [1.1072, 0.0000],\n",
      "        [3.2072, 0.0000],\n",
      "        [1.1392, 0.0000],\n",
      "        [2.7192, 0.0000],\n",
      "        [1.3812, 0.0000],\n",
      "        [3.2072, 1.0000],\n",
      "        [0.5722, 0.0000],\n",
      "        [1.0772, 0.0000],\n",
      "        [2.1742, 0.0000]])\n",
      "[0.44401714 1.4439106  0.5052174  0.20766425]\n",
      "4\n",
      "sim0\n",
      "tensor([0.6650, 1.1930, 0.7214, 0.4331])\n",
      "tensor([[2.2011, 0.0000],\n",
      "        [1.0681, 0.0000],\n",
      "        [1.1111, 1.0000],\n",
      "        [1.8381, 0.0000],\n",
      "        [3.4331, 1.0000],\n",
      "        [1.1741, 0.0000],\n",
      "        [2.8751, 0.0000],\n",
      "        [3.4311, 0.0000],\n",
      "        [0.9241, 0.0000],\n",
      "        [3.4331, 0.0000]])\n",
      "[0.6848006  1.217927   0.998879   0.43317166]\n",
      "5\n",
      "sim0\n",
      "tensor([0.4266, 1.3449, 0.1400, 0.4558])\n",
      "tensor([[0.7818, 0.0000],\n",
      "        [3.4558, 1.0000],\n",
      "        [2.2108, 0.0000],\n",
      "        [2.7818, 0.0000],\n",
      "        [1.0368, 0.0000],\n",
      "        [1.7378, 0.0000],\n",
      "        [0.9188, 0.0000],\n",
      "        [1.1118, 0.0000],\n",
      "        [3.4558, 1.0000],\n",
      "        [2.4548, 1.0000]])\n",
      "[0.40957385 1.3979754  0.27424666 0.45586056]\n",
      "6\n",
      "sim0\n",
      "tensor([0.4926, 0.8244, 0.4904, 0.4433])\n",
      "tensor([[0.5893, 0.0000],\n",
      "        [1.4073, 0.0000],\n",
      "        [0.9383, 0.0000],\n",
      "        [2.3473, 0.0000],\n",
      "        [1.1093, 0.0000],\n",
      "        [0.6153, 0.0000],\n",
      "        [2.0743, 0.0000],\n",
      "        [0.6363, 1.0000],\n",
      "        [1.1523, 0.0000],\n",
      "        [0.6383, 0.0000]])\n",
      "[0.5439997  0.80626786 0.9801649  0.44329685]\n",
      "7\n",
      "sim0\n",
      "tensor([0.6999, 0.9232, 0.1887, 0.4714])\n",
      "tensor([[1.8204, 1.0000],\n",
      "        [1.2444, 0.0000],\n",
      "        [0.9894, 0.0000],\n",
      "        [1.2554, 0.0000],\n",
      "        [1.0324, 0.0000],\n",
      "        [1.0174, 1.0000],\n",
      "        [0.6614, 0.0000],\n",
      "        [0.7184, 0.0000],\n",
      "        [2.5024, 0.0000],\n",
      "        [2.1924, 1.0000]])\n",
      "[0.7183251  0.88760364 0.9273381  0.47126472]\n",
      "8\n",
      "sim0\n",
      "tensor([0.5540, 0.6262, 0.2832, 0.2805])\n",
      "tensor([[0.3755, 1.0000],\n",
      "        [0.5195, 0.0000],\n",
      "        [0.6055, 1.0000],\n",
      "        [0.3965, 1.0000],\n",
      "        [0.5735, 0.0000],\n",
      "        [0.4685, 0.0000],\n",
      "        [0.6675, 0.0000],\n",
      "        [0.5745, 0.0000],\n",
      "        [0.4045, 0.0000],\n",
      "        [1.0835, 0.0000]])\n",
      "[0.5679493  0.61216855 0.9996774  0.285442  ]\n",
      "9\n",
      "sim0\n",
      "tensor([0.8568, 0.9023, 0.3333, 0.3866])\n",
      "tensor([[1.0356, 0.0000],\n",
      "        [0.7526, 1.0000],\n",
      "        [2.1426, 0.0000],\n",
      "        [1.7896, 0.0000],\n",
      "        [1.9646, 0.0000],\n",
      "        [0.7726, 0.0000],\n",
      "        [1.3316, 0.0000],\n",
      "        [0.7236, 0.0000],\n",
      "        [1.0506, 0.0000],\n",
      "        [0.7396, 0.0000]])\n",
      "[0.8661346  0.8995662  0.68937594 0.38693047]\n",
      "10\n",
      "sim0\n",
      "tensor([0.6591, 1.4126, 0.5510, 0.2667])\n",
      "tensor([[3.2667, 1.0000],\n",
      "        [1.2947, 0.0000],\n",
      "        [1.0587, 0.0000],\n",
      "        [2.0197, 0.0000],\n",
      "        [1.7227, 0.0000],\n",
      "        [1.4327, 0.0000],\n",
      "        [2.3367, 0.0000],\n",
      "        [2.0037, 0.0000],\n",
      "        [3.2667, 0.0000],\n",
      "        [3.2667, 0.0000]])\n",
      "[0.6630823  1.4934158  0.78041756 0.26724237]\n",
      "11\n",
      "sim0\n",
      "tensor([0.7949, 0.6033, 0.6370, 0.3633])\n",
      "tensor([[0.6853, 0.0000],\n",
      "        [0.4933, 0.0000],\n",
      "        [1.1543, 1.0000],\n",
      "        [0.4773, 0.0000],\n",
      "        [0.7513, 0.0000],\n",
      "        [0.4523, 0.0000],\n",
      "        [0.5843, 0.0000],\n",
      "        [1.4563, 1.0000],\n",
      "        [0.8133, 0.0000],\n",
      "        [0.9353, 0.0000]])\n",
      "[0.7496666  0.64234483 0.1274277  0.3645289 ]\n",
      "12\n",
      "sim0\n",
      "tensor([0.5266, 0.9372, 0.7108, 0.4132])\n",
      "tensor([[1.5432, 1.0000],\n",
      "        [0.8082, 0.0000],\n",
      "        [1.0032, 0.0000],\n",
      "        [1.2442, 0.0000],\n",
      "        [0.8742, 0.0000],\n",
      "        [0.9762, 0.0000],\n",
      "        [3.3072, 1.0000],\n",
      "        [0.6922, 1.0000],\n",
      "        [3.1752, 1.0000],\n",
      "        [1.6242, 0.0000]])\n",
      "[0.5393685  0.9905911  0.7324797  0.41348183]\n",
      "13\n",
      "sim0\n",
      "tensor([0.8310, 0.6919, 0.5204, 0.2706])\n",
      "tensor([[0.4006, 0.0000],\n",
      "        [1.0586, 1.0000],\n",
      "        [0.7026, 0.0000],\n",
      "        [1.1796, 1.0000],\n",
      "        [0.7006, 1.0000],\n",
      "        [0.6266, 0.0000],\n",
      "        [0.5686, 0.0000],\n",
      "        [0.6136, 0.0000],\n",
      "        [0.4256, 0.0000],\n",
      "        [0.5316, 1.0000]])\n",
      "[0.91704524 0.72276086 0.33462203 0.27084452]\n",
      "14\n",
      "sim0\n",
      "tensor([0.6102, 1.3249, 0.0619, 0.2449])\n",
      "tensor([[3.2449, 0.0000],\n",
      "        [0.8009, 1.0000],\n",
      "        [3.2449, 1.0000],\n",
      "        [1.6579, 0.0000],\n",
      "        [1.6309, 0.0000],\n",
      "        [1.1599, 0.0000],\n",
      "        [1.8249, 0.0000],\n",
      "        [2.8639, 0.0000],\n",
      "        [3.1039, 1.0000],\n",
      "        [1.9629, 0.0000]])\n",
      "[0.5330954  1.337528   0.2202386  0.24521777]\n",
      "15\n",
      "sim0\n",
      "tensor([0.6746, 1.0778, 0.7812, 0.3873])\n",
      "tensor([[3.2853, 0.0000],\n",
      "        [2.2363, 0.0000],\n",
      "        [3.3873, 1.0000],\n",
      "        [1.9063, 0.0000],\n",
      "        [0.7253, 0.0000],\n",
      "        [0.7113, 0.0000],\n",
      "        [1.3203, 0.0000],\n",
      "        [1.3923, 0.0000],\n",
      "        [3.3873, 1.0000],\n",
      "        [0.9603, 0.0000]])\n",
      "[0.6855903 1.1041398 0.8166919 0.3876173]\n",
      "16\n",
      "sim0\n",
      "tensor([0.8449, 0.7889, 0.5492, 0.4260])\n",
      "tensor([[0.6140, 0.0000],\n",
      "        [1.1140, 0.0000],\n",
      "        [0.7640, 1.0000],\n",
      "        [1.1150, 0.0000],\n",
      "        [0.7200, 0.0000],\n",
      "        [0.7630, 0.0000],\n",
      "        [1.4060, 0.0000],\n",
      "        [0.9560, 0.0000],\n",
      "        [0.7910, 1.0000],\n",
      "        [0.7800, 0.0000]])\n",
      "[0.85540295 0.7831296  0.9650333  0.4264838 ]\n",
      "17\n",
      "sim0\n",
      "tensor([0.7699, 0.9304, 0.0688, 0.3054])\n",
      "tensor([[0.7124, 0.0000],\n",
      "        [1.3164, 0.0000],\n",
      "        [0.5534, 0.0000],\n",
      "        [3.0984, 0.0000],\n",
      "        [1.1684, 0.0000],\n",
      "        [1.8174, 0.0000],\n",
      "        [0.5214, 0.0000],\n",
      "        [1.1974, 0.0000],\n",
      "        [0.5764, 0.0000],\n",
      "        [1.4664, 0.0000]])\n",
      "[0.804354   0.86676776 0.78272706 0.30562532]\n",
      "18\n",
      "sim0\n",
      "tensor([0.0058, 1.0874, 0.1389, 0.2034])\n",
      "tensor([[1.3614, 1.0000],\n",
      "        [0.8374, 1.0000],\n",
      "        [1.5634, 1.0000],\n",
      "        [1.5604, 1.0000],\n",
      "        [1.6374, 1.0000],\n",
      "        [0.6184, 0.0000],\n",
      "        [0.5504, 0.0000],\n",
      "        [0.6924, 1.0000],\n",
      "        [0.7104, 1.0000],\n",
      "        [0.9844, 1.0000]])\n",
      "[0.03599419 1.0324286  0.57423675 0.20357409]\n",
      "19\n",
      "sim0\n",
      "tensor([0.4469, 0.7662, 0.2505, 0.4929])\n",
      "tensor([[0.6859, 0.0000],\n",
      "        [2.2709, 0.0000],\n",
      "        [2.0209, 1.0000],\n",
      "        [1.7519, 0.0000],\n",
      "        [0.7939, 1.0000],\n",
      "        [1.6359, 1.0000],\n",
      "        [1.3109, 1.0000],\n",
      "        [0.7149, 1.0000],\n",
      "        [0.5469, 1.0000],\n",
      "        [0.6999, 0.0000]])\n",
      "[0.52636635 0.7960316  0.09329537 0.4930306 ]\n"
     ]
    }
   ],
   "source": [
    "for i in range(sim_num):\n",
    "    print(i)\n",
    "    LCA_o = simul_LCA_full_simp(np.tile(LCA_parameters[i,:], (n_trials,1))) # simulate IDM data\n",
    "    print(LCA_parameters[i,:])\n",
    "    print(LCA_o[0:10,:])\n",
    "    mnle_posterior = trainer.build_posterior(\n",
    "    mcmc_method=\"slice_np_vectorized\", mcmc_parameters=mcmc_parameters, prior = prior\n",
    "    )\n",
    "    \n",
    "    #mnle_samples = mnle_posterior.sample((num_samples,), x=x_o) # fit with IDM\n",
    "    mnle_posterior.set_default_x(LCA_o)\n",
    "    mnle_map = mnle_posterior.map()\n",
    "    print(np.array(mnle_map))\n",
    "    par_fitted[i,:] = np.array(mnle_map)"
   ]
  },
  {
   "cell_type": "code",
   "execution_count": 7,
   "id": "af987101",
   "metadata": {},
   "outputs": [
    {
     "data": {
      "image/png": "[encoded data removed]",
      "text/plain": [
       "<Figure size 800x800 with 16 Axes>"
      ]
     },
     "metadata": {},
     "output_type": "display_data"
    }
   ],
   "source": [
    "par_labels = [\"dI\",\"a\", \"bk\",\"ter\"]\n",
    "par_fitted_labels = [\"dI\",\"a\", \"bk\",\"ter\"]\n",
    "sim_fit_plot_all(LCA_parameters[:,:], par_fitted[:,:], par_labels, par_fitted_labels, \n",
    "                 s = 15, figsize=(8,8))"
   ]
  },
  {
   "cell_type": "code",
   "execution_count": 204,
   "id": "7407f6f6",
   "metadata": {},
   "outputs": [
    {
     "data": {
      "text/plain": [
       "1.5652475842498528"
      ]
     },
     "execution_count": 204,
     "metadata": {},
     "output_type": "execute_result"
    }
   ],
   "source": [
    "3.5*np.sqrt(0.2)"
   ]
  },
  {
   "cell_type": "code",
   "execution_count": 3,
   "id": "68290cb4",
   "metadata": {},
   "outputs": [
    {
     "name": "stdout",
     "output_type": "stream",
     "text": [
      "1.5652475842498528\n",
      "1.118033988749895\n"
     ]
    }
   ],
   "source": [
    "# true parameters\n",
    "dI = -0.5\n",
    "a = 1\n",
    "bk = 0.2\n",
    "Ter = 0\n",
    "\n",
    "b_new = np.sqrt(bk)*(a-dI/bk)\n",
    "z_new = np.sqrt(bk)*(-dI/bk)#???\n",
    "print(b_new)\n",
    "print(z_new)"
   ]
  },
  {
   "cell_type": "code",
   "execution_count": 206,
   "id": "d51ead58",
   "metadata": {},
   "outputs": [
    {
     "name": "stdout",
     "output_type": "stream",
     "text": [
      "sim0\n"
     ]
    },
    {
     "data": {
      "text/plain": [
       "torch.Size([716])"
      ]
     },
     "execution_count": 206,
     "metadata": {},
     "output_type": "execute_result"
    }
   ],
   "source": [
    "# creat data from OU samples using the true parameters\n",
    "num_simulations = 1000\n",
    "prior = utils.BoxUniform(low=[0.5, 1, 0.2, 0], high=[0.5, 1, 0.2, 0])\n",
    "parameters = prior.sample((num_simulations,))\n",
    "x = simul_LCA_full_simp(np.array(parameters))\n",
    "rts = x[x[:,1]==0][:,0]\n",
    "rts.shape"
   ]
  },
  {
   "cell_type": "code",
   "execution_count": 207,
   "id": "11735388",
   "metadata": {},
   "outputs": [
    {
     "data": {
      "text/plain": [
       "torch.Size([296])"
      ]
     },
     "execution_count": 207,
     "metadata": {},
     "output_type": "execute_result"
    }
   ],
   "source": [
    "log_numerator.shape"
   ]
  },
  {
   "cell_type": "code",
   "execution_count": 216,
   "id": "e00e459d",
   "metadata": {},
   "outputs": [
    {
     "data": {
      "text/plain": [
       "0.688134638736401"
      ]
     },
     "execution_count": 216,
     "metadata": {},
     "output_type": "execute_result"
    }
   ],
   "source": [
    "np.log(z_new)"
   ]
  },
  {
   "cell_type": "code",
   "execution_count": 221,
   "id": "327432bc",
   "metadata": {
    "scrolled": false
   },
   "outputs": [
    {
     "data": {
      "text/plain": [
       "[<matplotlib.lines.Line2D at 0x1c7dcb18d30>]"
      ]
     },
     "execution_count": 221,
     "metadata": {},
     "output_type": "execute_result"
    },
    {
     "data": {
      "image/png": "[encoded data removed]",
      "text/plain": [
       "<Figure size 640x480 with 1 Axes>"
      ]
     },
     "metadata": {},
     "output_type": "display_data"
    }
   ],
   "source": [
    "# calculate and plot log-likelihood against Z_new\n",
    "lls = []\n",
    "zs = np.arange(0.01,2,0.001)\n",
    "for i in zs:\n",
    "    z_new = i\n",
    "    rts_new = bk*rts\n",
    "    \n",
    "    inside = -np.exp(-rts_new)*z_new**2/(2*np.sinh(rts_new)) + rts_new/2\n",
    "    log_numerator = np.log(z_new) + inside\n",
    "    denominator = np.sqrt(2*np.pi*np.sinh(rts_new)**3)\n",
    "\n",
    "    ll = sum(log_numerator - np.log(denominator))\n",
    "    lls.append(ll)\n",
    "\n",
    "plt.plot(zs,lls)"
   ]
  },
  {
   "cell_type": "code",
   "execution_count": null,
   "id": "0729bbe1",
   "metadata": {},
   "outputs": [],
   "source": []
  },
  {
   "cell_type": "code",
   "execution_count": 118,
   "id": "0391dce5",
   "metadata": {},
   "outputs": [],
   "source": [
    "def OU_loglikelihood(parameters,rts):\n",
    "    \n",
    "    dI, a, bk = parameters[0], parameters[1], parameters[2]\n",
    "    \n",
    "    z_new = np.sqrt(bk)*(a-dI/bk)\n",
    "    rts_new = bk*rts\n",
    "    \n",
    "    inside = -np.exp(-rts_new)*z_new**2/(2*np.sinh(rts_new)) + rts_new/2\n",
    "    log_numerator = np.log(z_new) + inside\n",
    "    denominator = np.sqrt(2*np.pi*np.sinh(rts_new)**3)\n",
    "    \n",
    "    ll = sum(log_numerator - np.log(denomenator))\n",
    "    return ll\n",
    "    "
   ]
  },
  {
   "cell_type": "code",
   "execution_count": null,
   "id": "c9d2fb49",
   "metadata": {},
   "outputs": [],
   "source": []
  },
  {
   "cell_type": "code",
   "execution_count": 77,
   "id": "08d5f346",
   "metadata": {},
   "outputs": [
    {
     "name": "stdout",
     "output_type": "stream",
     "text": [
      "sim0\n"
     ]
    }
   ],
   "source": []
  },
  {
   "cell_type": "code",
   "execution_count": null,
   "id": "091c6baa",
   "metadata": {},
   "outputs": [],
   "source": []
  },
  {
   "cell_type": "code",
   "execution_count": null,
   "id": "35f779fb",
   "metadata": {},
   "outputs": [],
   "source": []
  },
  {
   "cell_type": "code",
   "execution_count": 140,
   "id": "4ec0eebb",
   "metadata": {},
   "outputs": [],
   "source": [
    "num_simulations_test = 10000\n",
    "lls = []\n",
    "prior_test = utils.BoxUniform(low=[-1, 0.6, 0], high=[0, 1.5, 0.4])\n",
    "parameters_test = prior_test.sample((num_simulations_test,))\n"
   ]
  },
  {
   "cell_type": "code",
   "execution_count": 141,
   "id": "8f88860d",
   "metadata": {},
   "outputs": [],
   "source": [
    "for i in range(num_simulations_test):\n",
    "    lls.append(OU_loglikelihood(parameters = parameters_test[i,:], rts = rts))"
   ]
  },
  {
   "cell_type": "code",
   "execution_count": 144,
   "id": "bd5bf815",
   "metadata": {
    "scrolled": false
   },
   "outputs": [
    {
     "name": "stderr",
     "output_type": "stream",
     "text": [
      "C:\\Users\\ra36qix\\AppData\\Local\\Temp\\ipykernel_12304\\219888512.py:1: RuntimeWarning: invalid value encountered in log\n",
      "  plt.scatter(parameters_test[:,2],np.log(lls))\n"
     ]
    },
    {
     "data": {
      "text/plain": [
       "<matplotlib.collections.PathCollection at 0x1c7d54a76a0>"
      ]
     },
     "execution_count": 144,
     "metadata": {},
     "output_type": "execute_result"
    },
    {
     "data": {
      "image/png": "[encoded data removed]",
      "text/plain": [
       "<Figure size 640x480 with 1 Axes>"
      ]
     },
     "metadata": {},
     "output_type": "display_data"
    }
   ],
   "source": [
    "plt.scatter(parameters_test[:,2],np.log(lls))"
   ]
  },
  {
   "cell_type": "code",
   "execution_count": 156,
   "id": "0b426ab2",
   "metadata": {},
   "outputs": [],
   "source": []
  },
  {
   "cell_type": "code",
   "execution_count": null,
   "id": "5c65d2a5",
   "metadata": {},
   "outputs": [],
   "source": []
  },
  {
   "cell_type": "code",
   "execution_count": null,
   "id": "ec37f28d",
   "metadata": {},
   "outputs": [],
   "source": []
  },
  {
   "cell_type": "code",
   "execution_count": null,
   "id": "1434ca61",
   "metadata": {},
   "outputs": [],
   "source": []
  }
 ],
 "metadata": {
  "kernelspec": {
   "display_name": "Python 3 (ipykernel)",
   "language": "python",
   "name": "python3"
  },
  "language_info": {
   "codemirror_mode": {
    "name": "ipython",
    "version": 3
   },
   "file_extension": ".py",
   "mimetype": "text/x-python",
   "name": "python",
   "nbconvert_exporter": "python",
   "pygments_lexer": "ipython3",
   "version": "3.7.15"
  }
 },
 "nbformat": 4,
 "nbformat_minor": 5
}
