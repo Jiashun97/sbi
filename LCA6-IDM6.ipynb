{
 "cells": [
  {
   "cell_type": "code",
   "execution_count": 76,
   "id": "35beed4d",
   "metadata": {},
   "outputs": [],
   "source": [
    "%run IDM_helper_functions.ipynb"
   ]
  },
  {
   "cell_type": "markdown",
   "id": "5087a432",
   "metadata": {},
   "source": [
    "## Train IDM"
   ]
  },
  {
   "cell_type": "code",
   "execution_count": 3,
   "id": "7c42592c",
   "metadata": {
    "scrolled": true
   },
   "outputs": [
    {
     "name": "stdout",
     "output_type": "stream",
     "text": [
      "sim0\n",
      "sim1000\n",
      "sim2000\n",
      "sim3000\n",
      "sim4000\n",
      "sim5000\n",
      "sim6000\n",
      "sim7000\n",
      "sim8000\n",
      "sim9000\n",
      "sim10000\n",
      "sim11000\n",
      "sim12000\n",
      "sim13000\n",
      "sim14000\n",
      "sim15000\n",
      "sim16000\n",
      "sim17000\n",
      "sim18000\n",
      "sim19000\n",
      "sim20000\n",
      "sim21000\n",
      "sim22000\n",
      "sim23000\n",
      "sim24000\n",
      "sim25000\n",
      "sim26000\n",
      "sim27000\n",
      "sim28000\n",
      "sim29000\n",
      "sim30000\n",
      "sim31000\n",
      "sim32000\n",
      "sim33000\n",
      "sim34000\n",
      "sim35000\n",
      "sim36000\n",
      "sim37000\n",
      "sim38000\n",
      "sim39000\n",
      "sim40000\n",
      "sim41000\n",
      "sim42000\n",
      "sim43000\n",
      "sim44000\n",
      "sim45000\n",
      "sim46000\n",
      "sim47000\n",
      "sim48000\n",
      "sim49000\n",
      "sim50000\n",
      "sim51000\n",
      "sim52000\n",
      "sim53000\n",
      "sim54000\n",
      "sim55000\n",
      "sim56000\n",
      "sim57000\n",
      "sim58000\n",
      "sim59000\n",
      "sim60000\n",
      "sim61000\n",
      "sim62000\n",
      "sim63000\n",
      "sim64000\n",
      "sim65000\n",
      "sim66000\n",
      "sim67000\n",
      "sim68000\n",
      "sim69000\n",
      "sim70000\n",
      "sim71000\n",
      "sim72000\n",
      "sim73000\n",
      "sim74000\n",
      "sim75000\n",
      "sim76000\n",
      "sim77000\n",
      "sim78000\n",
      "sim79000\n",
      "sim80000\n",
      "sim81000\n",
      "sim82000\n",
      "sim83000\n",
      "sim84000\n",
      "sim85000\n",
      "sim86000\n",
      "sim87000\n",
      "sim88000\n",
      "sim89000\n",
      "sim90000\n",
      "sim91000\n",
      "sim92000\n",
      "sim93000\n",
      "sim94000\n",
      "sim95000\n",
      "sim96000\n",
      "sim97000\n",
      "sim98000\n",
      "sim99000\n"
     ]
    }
   ],
   "source": [
    "# Training data  52500, W_neg = 8400\n",
    "n_sim_train = 100000\n",
    "prior = utils.BoxUniform(low=[0,0.2,0.1,0.01,52000, 8200], high=[0.8,0.6,0.6,0.1,53000, 8400])\n",
    "param = prior.sample((n_sim_train,))\n",
    "x_IDM_train = simul_IDM_EM6(np.array(param))"
   ]
  },
  {
   "cell_type": "code",
   "execution_count": null,
   "id": "67a4d066",
   "metadata": {},
   "outputs": [],
   "source": []
  },
  {
   "cell_type": "code",
   "execution_count": 4,
   "id": "0655a728",
   "metadata": {
    "scrolled": true
   },
   "outputs": [
    {
     "name": "stderr",
     "output_type": "stream",
     "text": [
      "C:\\Users\\ra36qix\\Documents\\GitHub\\sbi\\sbi\\neural_nets\\mnle.py:60: UserWarning: The mixed neural likelihood estimator assumes that x contains\n",
      "        continuous data in the first n-1 columns (e.g., reaction times) and\n",
      "        categorical data in the last column (e.g., corresponding choices). If\n",
      "        this is not the case for the passed `x` do not use this function.\n",
      "  warnings.warn(\n"
     ]
    },
    {
     "name": "stdout",
     "output_type": "stream",
     "text": [
      " Neural network successfully converged after 46 epochs."
     ]
    }
   ],
   "source": [
    "# Train MNLE and obtain MCMC-based posterior.\n",
    "\n",
    "trainer = MNLE(prior=prior)\n",
    "trainer = trainer.append_simulations(param, x_IDM_train)\n",
    "mnle = trainer.train()"
   ]
  },
  {
   "cell_type": "code",
   "execution_count": 5,
   "id": "1d937b86",
   "metadata": {},
   "outputs": [],
   "source": [
    "mcmc_parameters = dict(num_chains=10,thin=10,warmup_steps=50,init_strategy=\"proposal\")"
   ]
  },
  {
   "cell_type": "code",
   "execution_count": null,
   "id": "10bd2fe3",
   "metadata": {},
   "outputs": [],
   "source": []
  },
  {
   "cell_type": "code",
   "execution_count": null,
   "id": "4ab582e6",
   "metadata": {},
   "outputs": [],
   "source": []
  },
  {
   "cell_type": "markdown",
   "id": "77dd1042",
   "metadata": {},
   "source": [
    "## Simulate from LCA and fit with IDM"
   ]
  },
  {
   "cell_type": "code",
   "execution_count": null,
   "id": "7dfcb096",
   "metadata": {},
   "outputs": [],
   "source": []
  },
  {
   "cell_type": "code",
   "execution_count": 147,
   "id": "439d63d1",
   "metadata": {},
   "outputs": [],
   "source": [
    "prior_LCA = utils.BoxUniform(low=[1,1,0,0,0.6,0.2], high=[2,1,0.4,0.4,2,0.5])\n",
    "LCA_parameters = prior_LCA.sample((20,))\n",
    "\n",
    "n_trials = 1000\n",
    "sim_num = 20\n",
    "\n",
    "par_fitted = np.zeros((sim_num,6))"
   ]
  },
  {
   "cell_type": "code",
   "execution_count": null,
   "id": "2b71b69c",
   "metadata": {
    "scrolled": true
   },
   "outputs": [
    {
     "name": "stdout",
     "output_type": "stream",
     "text": [
      "0\n",
      "sim0\n",
      "tensor([[0.4624, 0.0000],\n",
      "        [0.5084, 0.0000],\n",
      "        [0.4934, 0.0000],\n",
      "        [0.5604, 0.0000],\n",
      "        [0.8374, 0.0000]])\n"
     ]
    }
   ],
   "source": [
    "for i in range(sim_num):\n",
    "    print(i)\n",
    "    LCA_o = simul_LCA_full(np.tile(LCA_parameters[i,:], (n_trials,1))) # simulate IDM data\n",
    "    print(LCA_o[0:5,:])\n",
    "    mnle_posterior = trainer.build_posterior(\n",
    "    mcmc_method=\"slice_np_vectorized\", mcmc_parameters=mcmc_parameters, prior = prior\n",
    "    )\n",
    "    \n",
    "    #mnle_samples = mnle_posterior.sample((num_samples,), x=x_o) # fit with IDM\n",
    "    mnle_posterior.set_default_x(LCA_o)\n",
    "    mnle_map = mnle_posterior.map()\n",
    "    print(np.array(mnle_map))\n",
    "    par_fitted[i,:] = np.array(mnle_map)"
   ]
  },
  {
   "cell_type": "code",
   "execution_count": 145,
   "id": "af987101",
   "metadata": {},
   "outputs": [
    {
     "name": "stdout",
     "output_type": "stream",
     "text": [
      "tensor([1.9359, 1.0000, 0.2335, 0.1742, 0.9799, 0.0000])\n",
      "torch.Size([762])\n"
     ]
    }
   ],
   "source": [
    "par_labels = [\"dI\", \"I\", \"inh\", \"k\",\"a\",\"Ter\"]\n",
    "par_fitted_labels = [\"C\", \"h\", \"Ter\", \"D\",\"W_Exc\", \"W_Inh\"]\n",
    "sim_fit_plot_all(parameters[:28,:], par_fitted[:28,:], par_labels, par_fitted_labels)\n",
    "\n"
   ]
  },
  {
   "cell_type": "code",
   "execution_count": null,
   "id": "0391dce5",
   "metadata": {},
   "outputs": [],
   "source": [
    "LCA_o_correct = LCA_o[LCA_o[:,1]==0]\n",
    "LCA_o_error = LCA_o[LCA_o[:,1]==1]\n",
    "print(LCA_parameters[i,:])\n",
    "print(LCA_o_correct[:,0].shape)"
   ]
  },
  {
   "cell_type": "code",
   "execution_count": 146,
   "id": "c75e147a",
   "metadata": {},
   "outputs": [
    {
     "data": {
      "image/png": "[encoded data removed]",
      "text/plain": [
       "<Figure size 640x480 with 1 Axes>"
      ]
     },
     "metadata": {},
     "output_type": "display_data"
    }
   ],
   "source": [
    "plt.hist(LCA_o_correct[:,0], bins = 50)\n",
    "plt.show()"
   ]
  },
  {
   "cell_type": "code",
   "execution_count": 125,
   "id": "08d5f346",
   "metadata": {},
   "outputs": [
    {
     "data": {
      "image/png": "[encoded data removed]",
      "text/plain": [
       "<Figure size 640x480 with 1 Axes>"
      ]
     },
     "metadata": {},
     "output_type": "display_data"
    }
   ],
   "source": [
    "plt.hist(LCA_o_error[:,0], bins = 50)\n",
    "plt.show()"
   ]
  },
  {
   "cell_type": "code",
   "execution_count": 42,
   "id": "d7183474",
   "metadata": {},
   "outputs": [
    {
     "data": {
      "text/plain": [
       "tensor([0.2919, 0.9177, 7.9962, 7.1314, 0.4427, 0.2263])"
      ]
     },
     "execution_count": 42,
     "metadata": {},
     "output_type": "execute_result"
    }
   ],
   "source": []
  },
  {
   "cell_type": "code",
   "execution_count": 45,
   "id": "d82ce4be",
   "metadata": {},
   "outputs": [
    {
     "data": {
      "text/plain": [
       "torch.Size([511])"
      ]
     },
     "execution_count": 45,
     "metadata": {},
     "output_type": "execute_result"
    }
   ],
   "source": []
  },
  {
   "cell_type": "code",
   "execution_count": null,
   "id": "18a7ee0b",
   "metadata": {},
   "outputs": [],
   "source": []
  }
 ],
 "metadata": {
  "kernelspec": {
   "display_name": "Python 3 (ipykernel)",
   "language": "python",
   "name": "python3"
  },
  "language_info": {
   "codemirror_mode": {
    "name": "ipython",
    "version": 3
   },
   "file_extension": ".py",
   "mimetype": "text/x-python",
   "name": "python",
   "nbconvert_exporter": "python",
   "pygments_lexer": "ipython3",
   "version": "3.9.16"
  }
 },
 "nbformat": 4,
 "nbformat_minor": 5
}
