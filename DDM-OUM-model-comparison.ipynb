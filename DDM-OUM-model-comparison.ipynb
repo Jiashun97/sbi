{
 "cells": [
  {
   "cell_type": "code",
   "execution_count": 134,
   "id": "d9a03456",
   "metadata": {},
   "outputs": [],
   "source": [
    "import numpy as np\n",
    "import pandas as pd\n",
    "import seaborn as sns\n",
    "import matplotlib.pyplot as plt\n"
   ]
  },
  {
   "cell_type": "markdown",
   "id": "ce0133b6",
   "metadata": {},
   "source": [
    "## Dutilh 2019 "
   ]
  },
  {
   "cell_type": "code",
   "execution_count": 27,
   "id": "935ce94c",
   "metadata": {},
   "outputs": [],
   "source": [
    "OUM_speed = np.array([-276, -218, -381, -28, -244, \n",
    "                     -87, -117, -10, -119, -81, \n",
    "                     -50, -16, 7, -161, -33, \n",
    "                     -187, -361, 27, -265, -90])"
   ]
  },
  {
   "cell_type": "code",
   "execution_count": 28,
   "id": "8b3f8f71",
   "metadata": {},
   "outputs": [],
   "source": [
    "OUM_accuracy = np.array([70, 167, 111, 229, -65,\n",
    "                       110, 17, 227, 185, 310,\n",
    "                       109, 303, 121, 154, -17,\n",
    "                       -92, -3, 424, 20, 242])"
   ]
  },
  {
   "cell_type": "code",
   "execution_count": 29,
   "id": "3e6d1848",
   "metadata": {},
   "outputs": [],
   "source": [
    "OUM = OUM_speed + OUM_accuracy"
   ]
  },
  {
   "cell_type": "code",
   "execution_count": 30,
   "id": "236b769e",
   "metadata": {},
   "outputs": [],
   "source": [
    "DDM_speed = np.array([-229, -180, -337, -4, -227,\n",
    "                     -46, -94, -7, -97, -83,\n",
    "                      -24, 52, 19,-112, -5,\n",
    "                     -176, -358, 62, -257, -71])"
   ]
  },
  {
   "cell_type": "code",
   "execution_count": 31,
   "id": "ddec9191",
   "metadata": {},
   "outputs": [],
   "source": [
    "DDM_accuracy = np.array([75, 175, 120, 229, -69,\n",
    "                        121, 40, 248, 201, 319,\n",
    "                        118, 305, 124, 150, 34,\n",
    "                        -68, -8, 431,51,238])"
   ]
  },
  {
   "cell_type": "code",
   "execution_count": 49,
   "id": "7e33bb80",
   "metadata": {},
   "outputs": [],
   "source": [
    "DDM = DDM_speed + DDM_accuracy"
   ]
  },
  {
   "cell_type": "code",
   "execution_count": 50,
   "id": "8df1a939",
   "metadata": {},
   "outputs": [
    {
     "data": {
      "text/plain": [
       "(20,)"
      ]
     },
     "execution_count": 50,
     "metadata": {},
     "output_type": "execute_result"
    }
   ],
   "source": [
    "DDM.shape"
   ]
  },
  {
   "cell_type": "code",
   "execution_count": 67,
   "id": "21202242",
   "metadata": {},
   "outputs": [],
   "source": [
    "value = list(DDM) + list(OUM)\n",
    "model = [\"DDM\"]*20 + [\"OUM\"]*20"
   ]
  },
  {
   "cell_type": "code",
   "execution_count": 68,
   "id": "4b306b07",
   "metadata": {},
   "outputs": [
    {
     "data": {
      "text/plain": [
       "-3.4"
      ]
     },
     "execution_count": 68,
     "metadata": {},
     "output_type": "execute_result"
    }
   ],
   "source": [
    "np.mean(OUM)"
   ]
  },
  {
   "cell_type": "code",
   "execution_count": 69,
   "id": "52613c72",
   "metadata": {},
   "outputs": [
    {
     "data": {
      "text/plain": [
       "33.0"
      ]
     },
     "execution_count": 69,
     "metadata": {},
     "output_type": "execute_result"
    }
   ],
   "source": [
    "np.mean(DDM)"
   ]
  },
  {
   "cell_type": "code",
   "execution_count": 138,
   "id": "67c45522",
   "metadata": {},
   "outputs": [],
   "source": [
    "df = pd.DataFrame(data = value, columns = [\"BIC\"])"
   ]
  },
  {
   "cell_type": "code",
   "execution_count": 139,
   "id": "c12afde5",
   "metadata": {},
   "outputs": [],
   "source": [
    "df[\"model\"] = model"
   ]
  },
  {
   "cell_type": "code",
   "execution_count": 140,
   "id": "b8754c1b",
   "metadata": {},
   "outputs": [
    {
     "data": {
      "text/html": [
       "<div>\n",
       "<style scoped>\n",
       "    .dataframe tbody tr th:only-of-type {\n",
       "        vertical-align: middle;\n",
       "    }\n",
       "\n",
       "    .dataframe tbody tr th {\n",
       "        vertical-align: top;\n",
       "    }\n",
       "\n",
       "    .dataframe thead th {\n",
       "        text-align: right;\n",
       "    }\n",
       "</style>\n",
       "<table border=\"1\" class=\"dataframe\">\n",
       "  <thead>\n",
       "    <tr style=\"text-align: right;\">\n",
       "      <th></th>\n",
       "      <th>BIC</th>\n",
       "      <th>model</th>\n",
       "    </tr>\n",
       "  </thead>\n",
       "  <tbody>\n",
       "    <tr>\n",
       "      <th>0</th>\n",
       "      <td>-154</td>\n",
       "      <td>DDM</td>\n",
       "    </tr>\n",
       "    <tr>\n",
       "      <th>1</th>\n",
       "      <td>-5</td>\n",
       "      <td>DDM</td>\n",
       "    </tr>\n",
       "    <tr>\n",
       "      <th>2</th>\n",
       "      <td>-217</td>\n",
       "      <td>DDM</td>\n",
       "    </tr>\n",
       "    <tr>\n",
       "      <th>3</th>\n",
       "      <td>225</td>\n",
       "      <td>DDM</td>\n",
       "    </tr>\n",
       "    <tr>\n",
       "      <th>4</th>\n",
       "      <td>-296</td>\n",
       "      <td>DDM</td>\n",
       "    </tr>\n",
       "    <tr>\n",
       "      <th>5</th>\n",
       "      <td>75</td>\n",
       "      <td>DDM</td>\n",
       "    </tr>\n",
       "    <tr>\n",
       "      <th>6</th>\n",
       "      <td>-54</td>\n",
       "      <td>DDM</td>\n",
       "    </tr>\n",
       "    <tr>\n",
       "      <th>7</th>\n",
       "      <td>241</td>\n",
       "      <td>DDM</td>\n",
       "    </tr>\n",
       "    <tr>\n",
       "      <th>8</th>\n",
       "      <td>104</td>\n",
       "      <td>DDM</td>\n",
       "    </tr>\n",
       "    <tr>\n",
       "      <th>9</th>\n",
       "      <td>236</td>\n",
       "      <td>DDM</td>\n",
       "    </tr>\n",
       "    <tr>\n",
       "      <th>10</th>\n",
       "      <td>94</td>\n",
       "      <td>DDM</td>\n",
       "    </tr>\n",
       "    <tr>\n",
       "      <th>11</th>\n",
       "      <td>357</td>\n",
       "      <td>DDM</td>\n",
       "    </tr>\n",
       "    <tr>\n",
       "      <th>12</th>\n",
       "      <td>143</td>\n",
       "      <td>DDM</td>\n",
       "    </tr>\n",
       "    <tr>\n",
       "      <th>13</th>\n",
       "      <td>38</td>\n",
       "      <td>DDM</td>\n",
       "    </tr>\n",
       "    <tr>\n",
       "      <th>14</th>\n",
       "      <td>29</td>\n",
       "      <td>DDM</td>\n",
       "    </tr>\n",
       "    <tr>\n",
       "      <th>15</th>\n",
       "      <td>-244</td>\n",
       "      <td>DDM</td>\n",
       "    </tr>\n",
       "    <tr>\n",
       "      <th>16</th>\n",
       "      <td>-366</td>\n",
       "      <td>DDM</td>\n",
       "    </tr>\n",
       "    <tr>\n",
       "      <th>17</th>\n",
       "      <td>493</td>\n",
       "      <td>DDM</td>\n",
       "    </tr>\n",
       "    <tr>\n",
       "      <th>18</th>\n",
       "      <td>-206</td>\n",
       "      <td>DDM</td>\n",
       "    </tr>\n",
       "    <tr>\n",
       "      <th>19</th>\n",
       "      <td>167</td>\n",
       "      <td>DDM</td>\n",
       "    </tr>\n",
       "    <tr>\n",
       "      <th>20</th>\n",
       "      <td>-206</td>\n",
       "      <td>OUM</td>\n",
       "    </tr>\n",
       "    <tr>\n",
       "      <th>21</th>\n",
       "      <td>-51</td>\n",
       "      <td>OUM</td>\n",
       "    </tr>\n",
       "    <tr>\n",
       "      <th>22</th>\n",
       "      <td>-270</td>\n",
       "      <td>OUM</td>\n",
       "    </tr>\n",
       "    <tr>\n",
       "      <th>23</th>\n",
       "      <td>201</td>\n",
       "      <td>OUM</td>\n",
       "    </tr>\n",
       "    <tr>\n",
       "      <th>24</th>\n",
       "      <td>-309</td>\n",
       "      <td>OUM</td>\n",
       "    </tr>\n",
       "    <tr>\n",
       "      <th>25</th>\n",
       "      <td>23</td>\n",
       "      <td>OUM</td>\n",
       "    </tr>\n",
       "    <tr>\n",
       "      <th>26</th>\n",
       "      <td>-100</td>\n",
       "      <td>OUM</td>\n",
       "    </tr>\n",
       "    <tr>\n",
       "      <th>27</th>\n",
       "      <td>217</td>\n",
       "      <td>OUM</td>\n",
       "    </tr>\n",
       "    <tr>\n",
       "      <th>28</th>\n",
       "      <td>66</td>\n",
       "      <td>OUM</td>\n",
       "    </tr>\n",
       "    <tr>\n",
       "      <th>29</th>\n",
       "      <td>229</td>\n",
       "      <td>OUM</td>\n",
       "    </tr>\n",
       "    <tr>\n",
       "      <th>30</th>\n",
       "      <td>59</td>\n",
       "      <td>OUM</td>\n",
       "    </tr>\n",
       "    <tr>\n",
       "      <th>31</th>\n",
       "      <td>287</td>\n",
       "      <td>OUM</td>\n",
       "    </tr>\n",
       "    <tr>\n",
       "      <th>32</th>\n",
       "      <td>128</td>\n",
       "      <td>OUM</td>\n",
       "    </tr>\n",
       "    <tr>\n",
       "      <th>33</th>\n",
       "      <td>-7</td>\n",
       "      <td>OUM</td>\n",
       "    </tr>\n",
       "    <tr>\n",
       "      <th>34</th>\n",
       "      <td>-50</td>\n",
       "      <td>OUM</td>\n",
       "    </tr>\n",
       "    <tr>\n",
       "      <th>35</th>\n",
       "      <td>-279</td>\n",
       "      <td>OUM</td>\n",
       "    </tr>\n",
       "    <tr>\n",
       "      <th>36</th>\n",
       "      <td>-364</td>\n",
       "      <td>OUM</td>\n",
       "    </tr>\n",
       "    <tr>\n",
       "      <th>37</th>\n",
       "      <td>451</td>\n",
       "      <td>OUM</td>\n",
       "    </tr>\n",
       "    <tr>\n",
       "      <th>38</th>\n",
       "      <td>-245</td>\n",
       "      <td>OUM</td>\n",
       "    </tr>\n",
       "    <tr>\n",
       "      <th>39</th>\n",
       "      <td>152</td>\n",
       "      <td>OUM</td>\n",
       "    </tr>\n",
       "  </tbody>\n",
       "</table>\n",
       "</div>"
      ],
      "text/plain": [
       "    BIC model\n",
       "0  -154   DDM\n",
       "1    -5   DDM\n",
       "2  -217   DDM\n",
       "3   225   DDM\n",
       "4  -296   DDM\n",
       "5    75   DDM\n",
       "6   -54   DDM\n",
       "7   241   DDM\n",
       "8   104   DDM\n",
       "9   236   DDM\n",
       "10   94   DDM\n",
       "11  357   DDM\n",
       "12  143   DDM\n",
       "13   38   DDM\n",
       "14   29   DDM\n",
       "15 -244   DDM\n",
       "16 -366   DDM\n",
       "17  493   DDM\n",
       "18 -206   DDM\n",
       "19  167   DDM\n",
       "20 -206   OUM\n",
       "21  -51   OUM\n",
       "22 -270   OUM\n",
       "23  201   OUM\n",
       "24 -309   OUM\n",
       "25   23   OUM\n",
       "26 -100   OUM\n",
       "27  217   OUM\n",
       "28   66   OUM\n",
       "29  229   OUM\n",
       "30   59   OUM\n",
       "31  287   OUM\n",
       "32  128   OUM\n",
       "33   -7   OUM\n",
       "34  -50   OUM\n",
       "35 -279   OUM\n",
       "36 -364   OUM\n",
       "37  451   OUM\n",
       "38 -245   OUM\n",
       "39  152   OUM"
      ]
     },
     "execution_count": 140,
     "metadata": {},
     "output_type": "execute_result"
    }
   ],
   "source": [
    "df"
   ]
  },
  {
   "cell_type": "code",
   "execution_count": 141,
   "id": "3bfa0f52",
   "metadata": {},
   "outputs": [],
   "source": [
    "p = [i for i in range(1,21)]\n",
    "df[\"participant\"] = p + p"
   ]
  },
  {
   "cell_type": "code",
   "execution_count": 143,
   "id": "bcff9b1b",
   "metadata": {},
   "outputs": [],
   "source": [
    "improve = np.array(df[\"BIC\"][0:20]) - np.array(df[\"BIC\"][20:40])>0\n",
    "change = []\n",
    "for i in np.concatenate((improve,improve)):\n",
    "    if i:\n",
    "        change.append(sns.dark_palette(\"#b285bc\")[5]) \n",
    "    \n",
    "    else:\n",
    "        change.append(sns.dark_palette(\"#79C\")[5]) "
   ]
  },
  {
   "cell_type": "code",
   "execution_count": 144,
   "id": "84f30a33",
   "metadata": {},
   "outputs": [],
   "source": [
    "df[\"change\"] = change"
   ]
  },
  {
   "cell_type": "code",
   "execution_count": null,
   "id": "474b331f",
   "metadata": {},
   "outputs": [],
   "source": []
  },
  {
   "cell_type": "code",
   "execution_count": 146,
   "id": "c1977d6b",
   "metadata": {},
   "outputs": [
    {
     "data": {
      "text/plain": [
       "<seaborn.axisgrid.FacetGrid at 0x7f9940a4fc50>"
      ]
     },
     "execution_count": 146,
     "metadata": {},
     "output_type": "execute_result"
    },
    {
     "data": {
      "image/png": "[encoded data removed]",
      "text/plain": [
       "<Figure size 886.986x600 with 1 Axes>"
      ]
     },
     "metadata": {},
     "output_type": "display_data"
    }
   ],
   "source": [
    "\n",
    "sns.catplot(data=df, x=\"model\", y=\"BIC\", hue = \"participant\", kind=\"point\", palette = change,\n",
    "            height=6, aspect=8/6)\n",
    "\n"
   ]
  },
  {
   "cell_type": "code",
   "execution_count": 74,
   "id": "095618cc",
   "metadata": {},
   "outputs": [
    {
     "data": {
      "text/plain": [
       "<seaborn.axisgrid.FacetGrid at 0x7f9959b7c850>"
      ]
     },
     "execution_count": 74,
     "metadata": {},
     "output_type": "execute_result"
    },
    {
     "data": {
      "image/png": "[encoded data removed]",
      "text/plain": [
       "<Figure size 800x600 with 1 Axes>"
      ]
     },
     "metadata": {},
     "output_type": "display_data"
    }
   ],
   "source": [
    "sns.catplot(data=df, x=\"model\", y=\"value\", kind=\"box\",\n",
    "            height=6, aspect=8/6)"
   ]
  },
  {
   "cell_type": "code",
   "execution_count": null,
   "id": "f4dc15b2",
   "metadata": {},
   "outputs": [],
   "source": []
  }
 ],
 "metadata": {
  "kernelspec": {
   "display_name": "Python 3 (ipykernel)",
   "language": "python",
   "name": "python3"
  },
  "language_info": {
   "codemirror_mode": {
    "name": "ipython",
    "version": 3
   },
   "file_extension": ".py",
   "mimetype": "text/x-python",
   "name": "python",
   "nbconvert_exporter": "python",
   "pygments_lexer": "ipython3",
   "version": "3.7.15"
  }
 },
 "nbformat": 4,
 "nbformat_minor": 5
}
