{
 "cells": [
  {
   "cell_type": "code",
   "execution_count": 2,
   "id": "2cda49de",
   "metadata": {},
   "outputs": [],
   "source": [
    "%run IDM_helper_functions.ipynb"
   ]
  },
  {
   "cell_type": "code",
   "execution_count": 3,
   "id": "71d6acc9",
   "metadata": {},
   "outputs": [],
   "source": [
    "from pyddm import Model\n",
    "from pyddm.models import DriftConstant, DriftLinear, NoiseConstant, BoundConstant, OverlayNonDecision, ICPointSourceCenter\n",
    "from pyddm.functions import fit_adjust_model, display_model\n",
    "\n",
    "from pyddm import Fittable, Fitted, Sample\n",
    "from pyddm.models import LossRobustBIC, LossBIC, LossLikelihood, LossRobustLikelihood,LossSquaredError\n",
    "from pyddm.functions import fit_adjust_model"
   ]
  },
  {
   "cell_type": "code",
   "execution_count": 4,
   "id": "85af9e6b",
   "metadata": {},
   "outputs": [],
   "source": [
    "import pandas as pd\n",
    "import os"
   ]
  },
  {
   "cell_type": "code",
   "execution_count": null,
   "id": "dc709411",
   "metadata": {},
   "outputs": [],
   "source": []
  },
  {
   "cell_type": "code",
   "execution_count": null,
   "id": "d687fe45",
   "metadata": {},
   "outputs": [],
   "source": []
  },
  {
   "cell_type": "code",
   "execution_count": 57,
   "id": "e776257c",
   "metadata": {},
   "outputs": [],
   "source": [
    "data_dir = '/Users/wangjiashun/Desktop/SAT/validation_text_data/exp_3/pp'        \n",
    "sample_size = 20"
   ]
  },
  {
   "cell_type": "code",
   "execution_count": null,
   "id": "f434220f",
   "metadata": {},
   "outputs": [],
   "source": []
  },
  {
   "cell_type": "code",
   "execution_count": 6,
   "id": "c0ea6859",
   "metadata": {},
   "outputs": [],
   "source": [
    "par_fitted_A = np.zeros((20,4))"
   ]
  },
  {
   "cell_type": "code",
   "execution_count": 7,
   "id": "fbb33721",
   "metadata": {},
   "outputs": [
    {
     "name": "stdout",
     "output_type": "stream",
     "text": [
      "0\n"
     ]
    },
    {
     "name": "stderr",
     "output_type": "stream",
     "text": [
      "Info: Params [2.5545841  8.04450724 5.19071713 0.1797678 ] gave -276.04589565006637\n"
     ]
    },
    {
     "name": "stdout",
     "output_type": "stream",
     "text": [
      "[2.5545841  5.19071713 0.1797678  8.04450724]\n",
      "1\n"
     ]
    },
    {
     "name": "stderr",
     "output_type": "stream",
     "text": [
      "Info: Params [2.31573681 6.67268913 4.94210673 0.10036226] gave -217.6423864620553\n"
     ]
    },
    {
     "name": "stdout",
     "output_type": "stream",
     "text": [
      "[2.31573681 4.94210673 0.10036226 6.67268913]\n",
      "2\n"
     ]
    },
    {
     "name": "stderr",
     "output_type": "stream",
     "text": [
      "Info: Params [3.43191094 7.79570032 3.50516145 0.15403477] gave -380.55288175453796\n"
     ]
    },
    {
     "name": "stdout",
     "output_type": "stream",
     "text": [
      "[3.43191094 3.50516145 0.15403477 7.79570032]\n",
      "3\n"
     ]
    },
    {
     "name": "stderr",
     "output_type": "stream",
     "text": [
      "Info: Params [0.81662765 7.3511208  1.5953716  0.17959823] gave -27.919933530780863\n"
     ]
    },
    {
     "name": "stdout",
     "output_type": "stream",
     "text": [
      "[0.81662765 1.5953716  0.17959823 7.3511208 ]\n",
      "4\n"
     ]
    },
    {
     "name": "stderr",
     "output_type": "stream",
     "text": [
      "Info: Params [2.2419554  6.45248436 0.99093129 0.20982615] gave -243.6712890090899\n"
     ]
    },
    {
     "name": "stdout",
     "output_type": "stream",
     "text": [
      "[2.2419554  0.99093129 0.20982615 6.45248436]\n",
      "5\n"
     ]
    },
    {
     "name": "stderr",
     "output_type": "stream",
     "text": [
      "Info: Params [1.36933282 6.92240175 2.00566233 0.15979808] gave -86.72706017736934\n"
     ]
    },
    {
     "name": "stdout",
     "output_type": "stream",
     "text": [
      "[1.36933282 2.00566233 0.15979808 6.92240175]\n",
      "6\n"
     ]
    },
    {
     "name": "stderr",
     "output_type": "stream",
     "text": [
      "Info: Params [1.64545259 5.97060737 1.17419171 0.21366453] gave -116.9364092165042\n"
     ]
    },
    {
     "name": "stdout",
     "output_type": "stream",
     "text": [
      "[1.64545259 1.17419171 0.21366453 5.97060737]\n",
      "7\n"
     ]
    },
    {
     "name": "stderr",
     "output_type": "stream",
     "text": [
      "Info: Params [1.66104931 2.65271881 0.92355061 0.19223377] gave -10.229494512454185\n"
     ]
    },
    {
     "name": "stdout",
     "output_type": "stream",
     "text": [
      "[1.66104931 0.92355061 0.19223377 2.65271881]\n",
      "8\n"
     ]
    },
    {
     "name": "stderr",
     "output_type": "stream",
     "text": [
      "Info: Params [1.56917263 5.94544341 1.3229385  0.18557557] gave -118.741128549827\n"
     ]
    },
    {
     "name": "stdout",
     "output_type": "stream",
     "text": [
      "[1.56917263 1.3229385  0.18557557 5.94544341]\n",
      "9\n"
     ]
    },
    {
     "name": "stderr",
     "output_type": "stream",
     "text": [
      "Info: Params [0.63655966 4.79869419 0.51178155 0.20383785] gave -81.49014185496092\n"
     ]
    },
    {
     "name": "stdout",
     "output_type": "stream",
     "text": [
      "[0.63655966 0.51178155 0.20383785 4.79869419]\n",
      "10\n"
     ]
    },
    {
     "name": "stderr",
     "output_type": "stream",
     "text": [
      "Info: Params [1.28775191 6.15755622 1.27252297 0.18007156] gave -50.04616346747804\n"
     ]
    },
    {
     "name": "stdout",
     "output_type": "stream",
     "text": [
      "[1.28775191 1.27252297 0.18007156 6.15755622]\n",
      "11\n"
     ]
    },
    {
     "name": "stderr",
     "output_type": "stream",
     "text": [
      "Info: Params [0.51865805 7.75010455 3.0507574  0.10040814] gave -15.851861836474487\n"
     ]
    },
    {
     "name": "stdout",
     "output_type": "stream",
     "text": [
      "[0.51865805 3.0507574  0.10040814 7.75010455]\n",
      "12\n"
     ]
    },
    {
     "name": "stderr",
     "output_type": "stream",
     "text": [
      "Info: Params [1.17695945 5.1215995  1.2211623  0.16147885] gave 6.678224364387855\n"
     ]
    },
    {
     "name": "stdout",
     "output_type": "stream",
     "text": [
      "[1.17695945 1.2211623  0.16147885 5.1215995 ]\n",
      "13\n"
     ]
    },
    {
     "name": "stderr",
     "output_type": "stream",
     "text": [
      "Info: Params [1.86423971 6.63161225 1.80437519 0.26615692] gave -160.53856724427771\n"
     ]
    },
    {
     "name": "stdout",
     "output_type": "stream",
     "text": [
      "[1.86423971 1.80437519 0.26615692 6.63161225]\n",
      "14\n"
     ]
    },
    {
     "name": "stderr",
     "output_type": "stream",
     "text": [
      "Info: Params [1.58738201 4.15173038 1.50440052 0.15443142] gave -32.920847783646636\n"
     ]
    },
    {
     "name": "stdout",
     "output_type": "stream",
     "text": [
      "[1.58738201 1.50440052 0.15443142 4.15173038]\n",
      "15\n"
     ]
    },
    {
     "name": "stderr",
     "output_type": "stream",
     "text": [
      "Info: Params [2.33476365 4.35730728 1.00527178 0.27254573] gave -186.5442610473067\n"
     ]
    },
    {
     "name": "stdout",
     "output_type": "stream",
     "text": [
      "[2.33476365 1.00527178 0.27254573 4.35730728]\n",
      "16\n"
     ]
    },
    {
     "name": "stderr",
     "output_type": "stream",
     "text": [
      "Info: Params [3.06109164 4.64369442 0.69377115 0.28690017] gave -361.4331029089796\n"
     ]
    },
    {
     "name": "stdout",
     "output_type": "stream",
     "text": [
      "[3.06109164 0.69377115 0.28690017 4.64369442]\n",
      "17\n"
     ]
    },
    {
     "name": "stderr",
     "output_type": "stream",
     "text": [
      "Info: Params [0.82820404 8.17099807 1.47050726 0.31331225] gave 27.485553307499988\n"
     ]
    },
    {
     "name": "stdout",
     "output_type": "stream",
     "text": [
      "[0.82820404 1.47050726 0.31331225 8.17099807]\n",
      "18\n"
     ]
    },
    {
     "name": "stderr",
     "output_type": "stream",
     "text": [
      "Info: Params [2.68406051 3.79202701 0.8765459  0.23696085] gave -265.3147630601862\n"
     ]
    },
    {
     "name": "stdout",
     "output_type": "stream",
     "text": [
      "[2.68406051 0.8765459  0.23696085 3.79202701]\n",
      "19\n"
     ]
    },
    {
     "name": "stderr",
     "output_type": "stream",
     "text": [
      "Info: Params [1.80571345 4.46653747 1.23392127 0.212527  ] gave -90.28668370799268\n"
     ]
    },
    {
     "name": "stdout",
     "output_type": "stream",
     "text": [
      "[1.80571345 1.23392127 0.212527   4.46653747]\n"
     ]
    }
   ],
   "source": [
    "for i in range(20):\n",
    "    print(i)\n",
    "    \n",
    "    path = os.path.join(data_dir+str(i+1)+\".txt\")\n",
    "    df = pd.read_csv(path, sep = \" \")\n",
    "    df = df[df[\"cond\"]==\"A\"] # A condition\n",
    "    \n",
    "    data_sub = np.stack((np.array((df[\"rt\"])), np.array((df[\"correct\"]))), axis = 1)\n",
    "    samp = Sample.from_numpy_array(data_sub, column_names = [])\n",
    "    \n",
    "    model_fit = Model(name='Simple model (fitted)',\n",
    "                  drift=DriftLinear(drift=Fittable(minval=0, maxval=6),\n",
    "                                    t = 0,\n",
    "                                    x=Fittable(minval=-20, maxval=20)),\n",
    "                  noise=NoiseConstant(noise=1),\n",
    "                  bound=BoundConstant(B=Fittable(minval=0.5, maxval=10)),\n",
    "                  overlay=OverlayNonDecision(nondectime=Fittable(minval=0.1, maxval=1)),\n",
    "                  dx=.001, dt=.001, T_dur=4)\n",
    "                  #dx=.001, dt=.001, T_dur=3)\n",
    "\n",
    "    fit_adjust_model(samp, model_fit,\n",
    "                     fitting_method=\"differential_evolution\",\n",
    "                     lossfunction=LossRobustBIC, verbose=False)\n",
    "\n",
    "    par_fitted_A[i,0] = np.array(model_fit.parameters()['drift']['drift'])\n",
    "    par_fitted_A[i,1] = np.array(model_fit.parameters()['bound']['B'])\n",
    "    par_fitted_A[i,2] = np.array(model_fit.parameters()['overlay']['nondectime'])\n",
    "    par_fitted_A[i,3] = np.array(model_fit.parameters()['drift']['x'])\n",
    "    \n",
    "    print(par_fitted_A[i,:])\n"
   ]
  },
  {
   "cell_type": "code",
   "execution_count": 8,
   "id": "1755c1e2",
   "metadata": {},
   "outputs": [],
   "source": [
    "par_fitted_B = np.zeros((20,4))"
   ]
  },
  {
   "cell_type": "code",
   "execution_count": 9,
   "id": "8c24608d",
   "metadata": {},
   "outputs": [
    {
     "name": "stdout",
     "output_type": "stream",
     "text": [
      "0\n"
     ]
    },
    {
     "name": "stderr",
     "output_type": "stream",
     "text": [
      "Info: Params [1.64452506 3.16814828 1.18018812 0.30001558] gave 70.16414304040691\n"
     ]
    },
    {
     "name": "stdout",
     "output_type": "stream",
     "text": [
      "[1.64452506 1.18018812 0.30001558 3.16814828]\n",
      "1\n"
     ]
    },
    {
     "name": "stderr",
     "output_type": "stream",
     "text": [
      "Info: Params [1.1925654  3.06885243 1.22060242 0.34442601] gave 167.21354168931038\n"
     ]
    },
    {
     "name": "stdout",
     "output_type": "stream",
     "text": [
      "[1.1925654  1.22060242 0.34442601 3.06885243]\n",
      "2\n"
     ]
    },
    {
     "name": "stderr",
     "output_type": "stream",
     "text": [
      "Info: Params [1.58211708 3.27100307 1.4081601  0.21322843] gave 111.37666674780525\n"
     ]
    },
    {
     "name": "stdout",
     "output_type": "stream",
     "text": [
      "[1.58211708 1.4081601  0.21322843 3.27100307]\n",
      "3\n"
     ]
    },
    {
     "name": "stderr",
     "output_type": "stream",
     "text": [
      "Info: Params [0.60583274 3.08210165 0.94696958 0.28515545] gave 228.68646118214645\n"
     ]
    },
    {
     "name": "stdout",
     "output_type": "stream",
     "text": [
      "[0.60583274 0.94696958 0.28515545 3.08210165]\n",
      "4\n"
     ]
    },
    {
     "name": "stderr",
     "output_type": "stream",
     "text": [
      "Info: Params [2.17319356 2.25468488 1.29208358 0.25917267] gave -64.66094069888197\n"
     ]
    },
    {
     "name": "stdout",
     "output_type": "stream",
     "text": [
      "[2.17319356 1.29208358 0.25917267 2.25468488]\n",
      "5\n"
     ]
    },
    {
     "name": "stderr",
     "output_type": "stream",
     "text": [
      "Info: Params [0.95538758 3.40614805 0.95106194 0.30958422] gave 110.0114317869587\n"
     ]
    },
    {
     "name": "stdout",
     "output_type": "stream",
     "text": [
      "[0.95538758 0.95106194 0.30958422 3.40614805]\n",
      "6\n"
     ]
    },
    {
     "name": "stderr",
     "output_type": "stream",
     "text": [
      "Info: Params [1.54832069 4.2770427  1.2397271  0.22020405] gave 16.553923895416286\n"
     ]
    },
    {
     "name": "stdout",
     "output_type": "stream",
     "text": [
      "[1.54832069 1.2397271  0.22020405 4.2770427 ]\n",
      "7\n"
     ]
    },
    {
     "name": "stderr",
     "output_type": "stream",
     "text": [
      "Info: Params [1.37883446 1.98374411 2.14204244 0.15550991] gave 227.19423547454718\n"
     ]
    },
    {
     "name": "stdout",
     "output_type": "stream",
     "text": [
      "[1.37883446 2.14204244 0.15550991 1.98374411]\n",
      "8\n"
     ]
    },
    {
     "name": "stderr",
     "output_type": "stream",
     "text": [
      "Info: Params [1.42026991 2.66512541 1.70535885 0.20830781] gave 185.20683992693915\n"
     ]
    },
    {
     "name": "stdout",
     "output_type": "stream",
     "text": [
      "[1.42026991 1.70535885 0.20830781 2.66512541]\n",
      "9\n"
     ]
    },
    {
     "name": "stderr",
     "output_type": "stream",
     "text": [
      "Info: Params [1.16776815 1.83374392 1.68423044 0.11251007] gave 310.465813820802\n"
     ]
    },
    {
     "name": "stdout",
     "output_type": "stream",
     "text": [
      "[1.16776815 1.68423044 0.11251007 1.83374392]\n",
      "10\n"
     ]
    },
    {
     "name": "stderr",
     "output_type": "stream",
     "text": [
      "Info: Params [1.06629696 4.073452   1.13725134 0.2000049 ] gave 109.46009393772732\n"
     ]
    },
    {
     "name": "stdout",
     "output_type": "stream",
     "text": [
      "[1.06629696 1.13725134 0.2000049  4.073452  ]\n",
      "11\n"
     ]
    },
    {
     "name": "stderr",
     "output_type": "stream",
     "text": [
      "Info: Params [1.19753974 1.8065306  1.61153171 0.3631752 ] gave 302.64953441641836\n"
     ]
    },
    {
     "name": "stdout",
     "output_type": "stream",
     "text": [
      "[1.19753974 1.61153171 0.3631752  1.8065306 ]\n",
      "12\n"
     ]
    },
    {
     "name": "stderr",
     "output_type": "stream",
     "text": [
      "Info: Params [1.25275234 3.20719039 1.02162117 0.28981027] gave 120.87157264212546\n"
     ]
    },
    {
     "name": "stdout",
     "output_type": "stream",
     "text": [
      "[1.25275234 1.02162117 0.28981027 3.20719039]\n",
      "13\n"
     ]
    },
    {
     "name": "stderr",
     "output_type": "stream",
     "text": [
      "Info: Params [1.36827274 2.31789663 1.13446894 0.48304779] gave 153.85233935223775\n"
     ]
    },
    {
     "name": "stdout",
     "output_type": "stream",
     "text": [
      "[1.36827274 1.13446894 0.48304779 2.31789663]\n",
      "14\n"
     ]
    },
    {
     "name": "stderr",
     "output_type": "stream",
     "text": [
      "Info: Params [1.5448168  5.26785183 2.29157948 0.19335122] gave -16.860028868190913\n"
     ]
    },
    {
     "name": "stdout",
     "output_type": "stream",
     "text": [
      "[1.5448168  2.29157948 0.19335122 5.26785183]\n",
      "15\n"
     ]
    },
    {
     "name": "stderr",
     "output_type": "stream",
     "text": [
      "Info: Params [2.05096335 5.23062307 2.00951151 0.26657455] gave -91.96382719465045\n"
     ]
    },
    {
     "name": "stdout",
     "output_type": "stream",
     "text": [
      "[2.05096335 2.00951151 0.26657455 5.23062307]\n",
      "16\n"
     ]
    },
    {
     "name": "stderr",
     "output_type": "stream",
     "text": [
      "Info: Params [ 1.75658362 -0.57846392  0.61743014  0.35116506] gave -2.6640120666121057\n"
     ]
    },
    {
     "name": "stdout",
     "output_type": "stream",
     "text": [
      "[ 1.75658362  0.61743014  0.35116506 -0.57846392]\n",
      "17\n"
     ]
    },
    {
     "name": "stderr",
     "output_type": "stream",
     "text": [
      "Info: Params [0.5791985  2.06641089 1.46199238 0.32699022] gave 424.2178266617752\n"
     ]
    },
    {
     "name": "stdout",
     "output_type": "stream",
     "text": [
      "[0.5791985  1.46199238 0.32699022 2.06641089]\n",
      "18\n"
     ]
    },
    {
     "name": "stderr",
     "output_type": "stream",
     "text": [
      "Info: Params [1.64770181 4.06509121 1.69422442 0.29336905] gave 19.847295712290315\n"
     ]
    },
    {
     "name": "stdout",
     "output_type": "stream",
     "text": [
      "[1.64770181 1.69422442 0.29336905 4.06509121]\n",
      "19\n"
     ]
    },
    {
     "name": "stderr",
     "output_type": "stream",
     "text": [
      "Info: Params [ 1.29776637 -2.89462395  0.65202436  0.35261927] gave 241.95081532765874\n"
     ]
    },
    {
     "name": "stdout",
     "output_type": "stream",
     "text": [
      "[ 1.29776637  0.65202436  0.35261927 -2.89462395]\n"
     ]
    }
   ],
   "source": [
    "for i in range(20):\n",
    "    print(i)\n",
    "    \n",
    "    path = os.path.join(data_dir+str(i+1)+\".txt\")\n",
    "    df = pd.read_csv(path, sep = \" \")\n",
    "    df = df[df[\"cond\"]==\"B\"] # B condition\n",
    "    \n",
    "    data_sub = np.stack((np.array((df[\"rt\"])), np.array((df[\"correct\"]))), axis = 1)\n",
    "    samp = Sample.from_numpy_array(data_sub, column_names = [])\n",
    "    \n",
    "    model_fit = Model(name='Simple model (fitted)',\n",
    "                  drift=DriftLinear(drift=Fittable(minval=0, maxval=6),\n",
    "                                    t = 0,\n",
    "                                    x=Fittable(minval=-20, maxval=20)),\n",
    "                  noise=NoiseConstant(noise=1),\n",
    "                  bound=BoundConstant(B=Fittable(minval=0.5, maxval=10)),\n",
    "                  overlay=OverlayNonDecision(nondectime=Fittable(minval=0.1, maxval=1)),\n",
    "                  dx=.001, dt=.001, T_dur=4)\n",
    "                  #dx=.001, dt=.001, T_dur=3)\n",
    "\n",
    "    fit_adjust_model(samp, model_fit,\n",
    "                     fitting_method=\"differential_evolution\",\n",
    "                     lossfunction=LossRobustBIC, verbose=False)\n",
    "\n",
    "    par_fitted_B[i,0] = np.array(model_fit.parameters()['drift']['drift'])\n",
    "    par_fitted_B[i,1] = np.array(model_fit.parameters()['bound']['B'])\n",
    "    par_fitted_B[i,2] = np.array(model_fit.parameters()['overlay']['nondectime'])\n",
    "    par_fitted_B[i,3] = np.array(model_fit.parameters()['drift']['x'])\n",
    "    \n",
    "    print(par_fitted_B[i,:])\n"
   ]
  },
  {
   "cell_type": "code",
   "execution_count": null,
   "id": "32bca191",
   "metadata": {},
   "outputs": [],
   "source": []
  },
  {
   "cell_type": "code",
   "execution_count": 66,
   "id": "8832c5fa",
   "metadata": {},
   "outputs": [
    {
     "data": {
      "text/html": [
       "<div>\n",
       "<style scoped>\n",
       "    .dataframe tbody tr th:only-of-type {\n",
       "        vertical-align: middle;\n",
       "    }\n",
       "\n",
       "    .dataframe tbody tr th {\n",
       "        vertical-align: top;\n",
       "    }\n",
       "\n",
       "    .dataframe thead th {\n",
       "        text-align: right;\n",
       "    }\n",
       "</style>\n",
       "<table border=\"1\" class=\"dataframe\">\n",
       "  <thead>\n",
       "    <tr style=\"text-align: right;\">\n",
       "      <th></th>\n",
       "      <th>Drift Rate</th>\n",
       "      <th>Boundary Separation</th>\n",
       "      <th>Non-decision Time</th>\n",
       "      <th>Effective Inhibition</th>\n",
       "      <th>SAT</th>\n",
       "    </tr>\n",
       "  </thead>\n",
       "  <tbody>\n",
       "    <tr>\n",
       "      <th>0</th>\n",
       "      <td>2.554584</td>\n",
       "      <td>5.190717</td>\n",
       "      <td>0.179768</td>\n",
       "      <td>8.044507</td>\n",
       "      <td>Speed</td>\n",
       "    </tr>\n",
       "    <tr>\n",
       "      <th>1</th>\n",
       "      <td>2.315737</td>\n",
       "      <td>4.942107</td>\n",
       "      <td>0.100362</td>\n",
       "      <td>6.672689</td>\n",
       "      <td>Speed</td>\n",
       "    </tr>\n",
       "    <tr>\n",
       "      <th>2</th>\n",
       "      <td>3.431911</td>\n",
       "      <td>3.505161</td>\n",
       "      <td>0.154035</td>\n",
       "      <td>7.795700</td>\n",
       "      <td>Speed</td>\n",
       "    </tr>\n",
       "    <tr>\n",
       "      <th>3</th>\n",
       "      <td>0.816628</td>\n",
       "      <td>1.595372</td>\n",
       "      <td>0.179598</td>\n",
       "      <td>7.351121</td>\n",
       "      <td>Speed</td>\n",
       "    </tr>\n",
       "    <tr>\n",
       "      <th>4</th>\n",
       "      <td>2.241955</td>\n",
       "      <td>0.990931</td>\n",
       "      <td>0.209826</td>\n",
       "      <td>6.452484</td>\n",
       "      <td>Speed</td>\n",
       "    </tr>\n",
       "    <tr>\n",
       "      <th>5</th>\n",
       "      <td>1.369333</td>\n",
       "      <td>2.005662</td>\n",
       "      <td>0.159798</td>\n",
       "      <td>6.922402</td>\n",
       "      <td>Speed</td>\n",
       "    </tr>\n",
       "    <tr>\n",
       "      <th>6</th>\n",
       "      <td>1.645453</td>\n",
       "      <td>1.174192</td>\n",
       "      <td>0.213665</td>\n",
       "      <td>5.970607</td>\n",
       "      <td>Speed</td>\n",
       "    </tr>\n",
       "    <tr>\n",
       "      <th>7</th>\n",
       "      <td>1.661049</td>\n",
       "      <td>0.923551</td>\n",
       "      <td>0.192234</td>\n",
       "      <td>2.652719</td>\n",
       "      <td>Speed</td>\n",
       "    </tr>\n",
       "    <tr>\n",
       "      <th>8</th>\n",
       "      <td>1.569173</td>\n",
       "      <td>1.322938</td>\n",
       "      <td>0.185576</td>\n",
       "      <td>5.945443</td>\n",
       "      <td>Speed</td>\n",
       "    </tr>\n",
       "    <tr>\n",
       "      <th>9</th>\n",
       "      <td>0.636560</td>\n",
       "      <td>0.511782</td>\n",
       "      <td>0.203838</td>\n",
       "      <td>4.798694</td>\n",
       "      <td>Speed</td>\n",
       "    </tr>\n",
       "    <tr>\n",
       "      <th>10</th>\n",
       "      <td>1.287752</td>\n",
       "      <td>1.272523</td>\n",
       "      <td>0.180072</td>\n",
       "      <td>6.157556</td>\n",
       "      <td>Speed</td>\n",
       "    </tr>\n",
       "    <tr>\n",
       "      <th>11</th>\n",
       "      <td>0.518658</td>\n",
       "      <td>3.050757</td>\n",
       "      <td>0.100408</td>\n",
       "      <td>7.750105</td>\n",
       "      <td>Speed</td>\n",
       "    </tr>\n",
       "    <tr>\n",
       "      <th>12</th>\n",
       "      <td>1.176959</td>\n",
       "      <td>1.221162</td>\n",
       "      <td>0.161479</td>\n",
       "      <td>5.121600</td>\n",
       "      <td>Speed</td>\n",
       "    </tr>\n",
       "    <tr>\n",
       "      <th>13</th>\n",
       "      <td>1.864240</td>\n",
       "      <td>1.804375</td>\n",
       "      <td>0.266157</td>\n",
       "      <td>6.631612</td>\n",
       "      <td>Speed</td>\n",
       "    </tr>\n",
       "    <tr>\n",
       "      <th>14</th>\n",
       "      <td>1.587382</td>\n",
       "      <td>1.504401</td>\n",
       "      <td>0.154431</td>\n",
       "      <td>4.151730</td>\n",
       "      <td>Speed</td>\n",
       "    </tr>\n",
       "    <tr>\n",
       "      <th>15</th>\n",
       "      <td>2.334764</td>\n",
       "      <td>1.005272</td>\n",
       "      <td>0.272546</td>\n",
       "      <td>4.357307</td>\n",
       "      <td>Speed</td>\n",
       "    </tr>\n",
       "    <tr>\n",
       "      <th>16</th>\n",
       "      <td>3.061092</td>\n",
       "      <td>0.693771</td>\n",
       "      <td>0.286900</td>\n",
       "      <td>4.643694</td>\n",
       "      <td>Speed</td>\n",
       "    </tr>\n",
       "    <tr>\n",
       "      <th>17</th>\n",
       "      <td>0.828204</td>\n",
       "      <td>1.470507</td>\n",
       "      <td>0.313312</td>\n",
       "      <td>8.170998</td>\n",
       "      <td>Speed</td>\n",
       "    </tr>\n",
       "    <tr>\n",
       "      <th>18</th>\n",
       "      <td>2.684061</td>\n",
       "      <td>0.876546</td>\n",
       "      <td>0.236961</td>\n",
       "      <td>3.792027</td>\n",
       "      <td>Speed</td>\n",
       "    </tr>\n",
       "    <tr>\n",
       "      <th>19</th>\n",
       "      <td>1.805713</td>\n",
       "      <td>1.233921</td>\n",
       "      <td>0.212527</td>\n",
       "      <td>4.466537</td>\n",
       "      <td>Speed</td>\n",
       "    </tr>\n",
       "    <tr>\n",
       "      <th>20</th>\n",
       "      <td>1.644525</td>\n",
       "      <td>1.180188</td>\n",
       "      <td>0.300016</td>\n",
       "      <td>3.168148</td>\n",
       "      <td>Accuracy</td>\n",
       "    </tr>\n",
       "    <tr>\n",
       "      <th>21</th>\n",
       "      <td>1.192565</td>\n",
       "      <td>1.220602</td>\n",
       "      <td>0.344426</td>\n",
       "      <td>3.068852</td>\n",
       "      <td>Accuracy</td>\n",
       "    </tr>\n",
       "    <tr>\n",
       "      <th>22</th>\n",
       "      <td>1.582117</td>\n",
       "      <td>1.408160</td>\n",
       "      <td>0.213228</td>\n",
       "      <td>3.271003</td>\n",
       "      <td>Accuracy</td>\n",
       "    </tr>\n",
       "    <tr>\n",
       "      <th>23</th>\n",
       "      <td>0.605833</td>\n",
       "      <td>0.946970</td>\n",
       "      <td>0.285155</td>\n",
       "      <td>3.082102</td>\n",
       "      <td>Accuracy</td>\n",
       "    </tr>\n",
       "    <tr>\n",
       "      <th>24</th>\n",
       "      <td>2.173194</td>\n",
       "      <td>1.292084</td>\n",
       "      <td>0.259173</td>\n",
       "      <td>2.254685</td>\n",
       "      <td>Accuracy</td>\n",
       "    </tr>\n",
       "    <tr>\n",
       "      <th>25</th>\n",
       "      <td>0.955388</td>\n",
       "      <td>0.951062</td>\n",
       "      <td>0.309584</td>\n",
       "      <td>3.406148</td>\n",
       "      <td>Accuracy</td>\n",
       "    </tr>\n",
       "    <tr>\n",
       "      <th>26</th>\n",
       "      <td>1.548321</td>\n",
       "      <td>1.239727</td>\n",
       "      <td>0.220204</td>\n",
       "      <td>4.277043</td>\n",
       "      <td>Accuracy</td>\n",
       "    </tr>\n",
       "    <tr>\n",
       "      <th>27</th>\n",
       "      <td>1.378834</td>\n",
       "      <td>2.142042</td>\n",
       "      <td>0.155510</td>\n",
       "      <td>1.983744</td>\n",
       "      <td>Accuracy</td>\n",
       "    </tr>\n",
       "    <tr>\n",
       "      <th>28</th>\n",
       "      <td>1.420270</td>\n",
       "      <td>1.705359</td>\n",
       "      <td>0.208308</td>\n",
       "      <td>2.665125</td>\n",
       "      <td>Accuracy</td>\n",
       "    </tr>\n",
       "    <tr>\n",
       "      <th>29</th>\n",
       "      <td>1.167768</td>\n",
       "      <td>1.684230</td>\n",
       "      <td>0.112510</td>\n",
       "      <td>1.833744</td>\n",
       "      <td>Accuracy</td>\n",
       "    </tr>\n",
       "    <tr>\n",
       "      <th>30</th>\n",
       "      <td>1.066297</td>\n",
       "      <td>1.137251</td>\n",
       "      <td>0.200005</td>\n",
       "      <td>4.073452</td>\n",
       "      <td>Accuracy</td>\n",
       "    </tr>\n",
       "    <tr>\n",
       "      <th>31</th>\n",
       "      <td>1.197540</td>\n",
       "      <td>1.611532</td>\n",
       "      <td>0.363175</td>\n",
       "      <td>1.806531</td>\n",
       "      <td>Accuracy</td>\n",
       "    </tr>\n",
       "    <tr>\n",
       "      <th>32</th>\n",
       "      <td>1.252752</td>\n",
       "      <td>1.021621</td>\n",
       "      <td>0.289810</td>\n",
       "      <td>3.207190</td>\n",
       "      <td>Accuracy</td>\n",
       "    </tr>\n",
       "    <tr>\n",
       "      <th>33</th>\n",
       "      <td>1.368273</td>\n",
       "      <td>1.134469</td>\n",
       "      <td>0.483048</td>\n",
       "      <td>2.317897</td>\n",
       "      <td>Accuracy</td>\n",
       "    </tr>\n",
       "    <tr>\n",
       "      <th>34</th>\n",
       "      <td>1.544817</td>\n",
       "      <td>2.291579</td>\n",
       "      <td>0.193351</td>\n",
       "      <td>5.267852</td>\n",
       "      <td>Accuracy</td>\n",
       "    </tr>\n",
       "    <tr>\n",
       "      <th>35</th>\n",
       "      <td>2.050963</td>\n",
       "      <td>2.009512</td>\n",
       "      <td>0.266575</td>\n",
       "      <td>5.230623</td>\n",
       "      <td>Accuracy</td>\n",
       "    </tr>\n",
       "    <tr>\n",
       "      <th>36</th>\n",
       "      <td>1.756584</td>\n",
       "      <td>0.617430</td>\n",
       "      <td>0.351165</td>\n",
       "      <td>-0.578464</td>\n",
       "      <td>Accuracy</td>\n",
       "    </tr>\n",
       "    <tr>\n",
       "      <th>37</th>\n",
       "      <td>0.579198</td>\n",
       "      <td>1.461992</td>\n",
       "      <td>0.326990</td>\n",
       "      <td>2.066411</td>\n",
       "      <td>Accuracy</td>\n",
       "    </tr>\n",
       "    <tr>\n",
       "      <th>38</th>\n",
       "      <td>1.647702</td>\n",
       "      <td>1.694224</td>\n",
       "      <td>0.293369</td>\n",
       "      <td>4.065091</td>\n",
       "      <td>Accuracy</td>\n",
       "    </tr>\n",
       "    <tr>\n",
       "      <th>39</th>\n",
       "      <td>1.297766</td>\n",
       "      <td>0.652024</td>\n",
       "      <td>0.352619</td>\n",
       "      <td>-2.894624</td>\n",
       "      <td>Accuracy</td>\n",
       "    </tr>\n",
       "  </tbody>\n",
       "</table>\n",
       "</div>"
      ],
      "text/plain": [
       "    Drift Rate  Boundary Separation  Non-decision Time  Effective Inhibition  \\\n",
       "0     2.554584             5.190717           0.179768              8.044507   \n",
       "1     2.315737             4.942107           0.100362              6.672689   \n",
       "2     3.431911             3.505161           0.154035              7.795700   \n",
       "3     0.816628             1.595372           0.179598              7.351121   \n",
       "4     2.241955             0.990931           0.209826              6.452484   \n",
       "5     1.369333             2.005662           0.159798              6.922402   \n",
       "6     1.645453             1.174192           0.213665              5.970607   \n",
       "7     1.661049             0.923551           0.192234              2.652719   \n",
       "8     1.569173             1.322938           0.185576              5.945443   \n",
       "9     0.636560             0.511782           0.203838              4.798694   \n",
       "10    1.287752             1.272523           0.180072              6.157556   \n",
       "11    0.518658             3.050757           0.100408              7.750105   \n",
       "12    1.176959             1.221162           0.161479              5.121600   \n",
       "13    1.864240             1.804375           0.266157              6.631612   \n",
       "14    1.587382             1.504401           0.154431              4.151730   \n",
       "15    2.334764             1.005272           0.272546              4.357307   \n",
       "16    3.061092             0.693771           0.286900              4.643694   \n",
       "17    0.828204             1.470507           0.313312              8.170998   \n",
       "18    2.684061             0.876546           0.236961              3.792027   \n",
       "19    1.805713             1.233921           0.212527              4.466537   \n",
       "20    1.644525             1.180188           0.300016              3.168148   \n",
       "21    1.192565             1.220602           0.344426              3.068852   \n",
       "22    1.582117             1.408160           0.213228              3.271003   \n",
       "23    0.605833             0.946970           0.285155              3.082102   \n",
       "24    2.173194             1.292084           0.259173              2.254685   \n",
       "25    0.955388             0.951062           0.309584              3.406148   \n",
       "26    1.548321             1.239727           0.220204              4.277043   \n",
       "27    1.378834             2.142042           0.155510              1.983744   \n",
       "28    1.420270             1.705359           0.208308              2.665125   \n",
       "29    1.167768             1.684230           0.112510              1.833744   \n",
       "30    1.066297             1.137251           0.200005              4.073452   \n",
       "31    1.197540             1.611532           0.363175              1.806531   \n",
       "32    1.252752             1.021621           0.289810              3.207190   \n",
       "33    1.368273             1.134469           0.483048              2.317897   \n",
       "34    1.544817             2.291579           0.193351              5.267852   \n",
       "35    2.050963             2.009512           0.266575              5.230623   \n",
       "36    1.756584             0.617430           0.351165             -0.578464   \n",
       "37    0.579198             1.461992           0.326990              2.066411   \n",
       "38    1.647702             1.694224           0.293369              4.065091   \n",
       "39    1.297766             0.652024           0.352619             -2.894624   \n",
       "\n",
       "         SAT  \n",
       "0      Speed  \n",
       "1      Speed  \n",
       "2      Speed  \n",
       "3      Speed  \n",
       "4      Speed  \n",
       "5      Speed  \n",
       "6      Speed  \n",
       "7      Speed  \n",
       "8      Speed  \n",
       "9      Speed  \n",
       "10     Speed  \n",
       "11     Speed  \n",
       "12     Speed  \n",
       "13     Speed  \n",
       "14     Speed  \n",
       "15     Speed  \n",
       "16     Speed  \n",
       "17     Speed  \n",
       "18     Speed  \n",
       "19     Speed  \n",
       "20  Accuracy  \n",
       "21  Accuracy  \n",
       "22  Accuracy  \n",
       "23  Accuracy  \n",
       "24  Accuracy  \n",
       "25  Accuracy  \n",
       "26  Accuracy  \n",
       "27  Accuracy  \n",
       "28  Accuracy  \n",
       "29  Accuracy  \n",
       "30  Accuracy  \n",
       "31  Accuracy  \n",
       "32  Accuracy  \n",
       "33  Accuracy  \n",
       "34  Accuracy  \n",
       "35  Accuracy  \n",
       "36  Accuracy  \n",
       "37  Accuracy  \n",
       "38  Accuracy  \n",
       "39  Accuracy  "
      ]
     },
     "execution_count": 66,
     "metadata": {},
     "output_type": "execute_result"
    }
   ],
   "source": [
    "df_SAT"
   ]
  },
  {
   "cell_type": "code",
   "execution_count": null,
   "id": "37b4a454",
   "metadata": {},
   "outputs": [],
   "source": []
  },
  {
   "cell_type": "code",
   "execution_count": 58,
   "id": "062e920e",
   "metadata": {},
   "outputs": [],
   "source": [
    "my_array = np.concatenate((par_fitted_A, par_fitted_B), axis = 0)\n",
    "df_SAT = pd.DataFrame(my_array, columns = ['Drift Rate','Boundary Separation','Non-decision Time', \"Effective Inhibition\"])\n",
    "df_SAT[\"SAT\"] = [\"Speed\"]*sample_size + [\"Accuracy\"]*sample_size\n",
    "\n",
    "df_SAT.to_csv(\"OUMresultDutilh2019.csv\")"
   ]
  },
  {
   "cell_type": "code",
   "execution_count": 61,
   "id": "35c07340",
   "metadata": {},
   "outputs": [],
   "source": [
    "S = np.array(df_SAT.loc[(df_SAT['SAT'] == \"Speed\")][[\"Drift Rate\", \"Boundary Separation\", \"Non-decision Time\", \"Effective Inhibition\"]])\n",
    "A = np.array(df_SAT.loc[(df_SAT['SAT'] == \"Accuracy\")][[\"Drift Rate\", \"Boundary Separation\", \"Non-decision Time\", \"Effective Inhibition\"]])\n",
    "dif = S-A\n",
    "df_dif = pd.DataFrame(dif,columns = [\"Drift Rate\", \"Boundary Separation\", \"Non-decision Time\", \"Effective Inhibition\"])"
   ]
  },
  {
   "cell_type": "code",
   "execution_count": 62,
   "id": "445cf1ce",
   "metadata": {},
   "outputs": [],
   "source": [
    "df_SAT_melted = pd.melt(df_SAT, id_vars = [\"SAT\"], value_vars=['Drift Rate', 'Boundary Separation','Non-decision Time', \"Effective Inhibition\"],\n",
    "                       var_name = \"Parameter\", value_name = \"Value\")\n",
    "df_dif_melted = pd.melt(df_dif, value_vars=['Drift Rate', 'Boundary Separation','Non-decision Time', \"Effective Inhibition\"],\n",
    "                       var_name = \"Parameter\", value_name = \"Difference\")"
   ]
  },
  {
   "cell_type": "code",
   "execution_count": 63,
   "id": "51e38ab6",
   "metadata": {},
   "outputs": [
    {
     "data": {
      "text/plain": [
       "<seaborn.axisgrid.FacetGrid at 0x7f83bab5df10>"
      ]
     },
     "execution_count": 63,
     "metadata": {},
     "output_type": "execute_result"
    },
    {
     "data": {
      "image/png": "[encoded data removed]",
      "text/plain": [
       "<Figure size 813.5x600 with 1 Axes>"
      ]
     },
     "metadata": {},
     "output_type": "display_data"
    }
   ],
   "source": [
    "sns.catplot(data=df_SAT_melted, x=\"Parameter\", y=\"Value\", hue=\"SAT\", kind=\"box\",\n",
    "            height=6, aspect=7/6)"
   ]
  },
  {
   "cell_type": "code",
   "execution_count": 68,
   "id": "53315607",
   "metadata": {},
   "outputs": [],
   "source": [
    "df_dif_melted.to_csv(\"OUMdifResultDutilh2019.csv\") "
   ]
  },
  {
   "cell_type": "code",
   "execution_count": null,
   "id": "ed426fdf",
   "metadata": {},
   "outputs": [],
   "source": []
  },
  {
   "cell_type": "code",
   "execution_count": 64,
   "id": "efd047aa",
   "metadata": {},
   "outputs": [
    {
     "data": {
      "text/plain": [
       "<seaborn.axisgrid.FacetGrid at 0x7f8378687150>"
      ]
     },
     "execution_count": 64,
     "metadata": {},
     "output_type": "execute_result"
    },
    {
     "data": {
      "image/png": "[encoded data removed]",
      "text/plain": [
       "<Figure size 700x600 with 1 Axes>"
      ]
     },
     "metadata": {},
     "output_type": "display_data"
    }
   ],
   "source": [
    "sns.catplot(data=df_dif_melted, x=\"Parameter\", y=\"Difference\", kind=\"box\",\n",
    "            height=6, aspect=7/6)"
   ]
  },
  {
   "cell_type": "code",
   "execution_count": 13,
   "id": "45828f94",
   "metadata": {},
   "outputs": [],
   "source": []
  },
  {
   "cell_type": "code",
   "execution_count": null,
   "id": "d4106f0d",
   "metadata": {},
   "outputs": [],
   "source": []
  },
  {
   "cell_type": "code",
   "execution_count": null,
   "id": "36e4fde4",
   "metadata": {},
   "outputs": [],
   "source": []
  },
  {
   "cell_type": "code",
   "execution_count": 51,
   "id": "6b80d185",
   "metadata": {},
   "outputs": [
    {
     "data": {
      "text/plain": [
       "0.534296565058134"
      ]
     },
     "execution_count": 51,
     "metadata": {},
     "output_type": "execute_result"
    }
   ],
   "source": [
    "v1 = np.array(df_SAT.loc[(df_SAT['variable'] ==\"Drift Rate\") & (df_SAT['SAT'] == 1)][\"value\"])\n",
    "v2 = np.array(df_SAT.loc[(df_SAT['variable'] ==\"Drift Rate\") & (df_SAT['SAT'] == 2)][\"value\"])\n",
    "dif_v = v1 - v2\n",
    "np.mean(dif_v)/np.std(dif_v)"
   ]
  },
  {
   "cell_type": "code",
   "execution_count": 43,
   "id": "f60cace4",
   "metadata": {},
   "outputs": [
    {
     "data": {
      "text/html": [
       "<div>\n",
       "<style scoped>\n",
       "    .dataframe tbody tr th:only-of-type {\n",
       "        vertical-align: middle;\n",
       "    }\n",
       "\n",
       "    .dataframe tbody tr th {\n",
       "        vertical-align: top;\n",
       "    }\n",
       "\n",
       "    .dataframe thead th {\n",
       "        text-align: right;\n",
       "    }\n",
       "</style>\n",
       "<table border=\"1\" class=\"dataframe\">\n",
       "  <thead>\n",
       "    <tr style=\"text-align: right;\">\n",
       "      <th></th>\n",
       "      <th>participant</th>\n",
       "      <th>SAT</th>\n",
       "      <th>variable</th>\n",
       "      <th>value</th>\n",
       "    </tr>\n",
       "  </thead>\n",
       "  <tbody>\n",
       "    <tr>\n",
       "      <th>0</th>\n",
       "      <td>1.0</td>\n",
       "      <td>1</td>\n",
       "      <td>Drift Rate</td>\n",
       "      <td>4.641442</td>\n",
       "    </tr>\n",
       "    <tr>\n",
       "      <th>1</th>\n",
       "      <td>2.0</td>\n",
       "      <td>1</td>\n",
       "      <td>Drift Rate</td>\n",
       "      <td>4.812552</td>\n",
       "    </tr>\n",
       "    <tr>\n",
       "      <th>2</th>\n",
       "      <td>3.0</td>\n",
       "      <td>1</td>\n",
       "      <td>Drift Rate</td>\n",
       "      <td>4.226116</td>\n",
       "    </tr>\n",
       "    <tr>\n",
       "      <th>3</th>\n",
       "      <td>4.0</td>\n",
       "      <td>1</td>\n",
       "      <td>Drift Rate</td>\n",
       "      <td>1.814764</td>\n",
       "    </tr>\n",
       "    <tr>\n",
       "      <th>4</th>\n",
       "      <td>5.0</td>\n",
       "      <td>1</td>\n",
       "      <td>Drift Rate</td>\n",
       "      <td>2.616027</td>\n",
       "    </tr>\n",
       "    <tr>\n",
       "      <th>5</th>\n",
       "      <td>6.0</td>\n",
       "      <td>1</td>\n",
       "      <td>Drift Rate</td>\n",
       "      <td>2.892733</td>\n",
       "    </tr>\n",
       "    <tr>\n",
       "      <th>6</th>\n",
       "      <td>7.0</td>\n",
       "      <td>1</td>\n",
       "      <td>Drift Rate</td>\n",
       "      <td>4.406183</td>\n",
       "    </tr>\n",
       "    <tr>\n",
       "      <th>7</th>\n",
       "      <td>8.0</td>\n",
       "      <td>1</td>\n",
       "      <td>Drift Rate</td>\n",
       "      <td>2.884605</td>\n",
       "    </tr>\n",
       "    <tr>\n",
       "      <th>8</th>\n",
       "      <td>9.0</td>\n",
       "      <td>1</td>\n",
       "      <td>Drift Rate</td>\n",
       "      <td>2.818524</td>\n",
       "    </tr>\n",
       "    <tr>\n",
       "      <th>9</th>\n",
       "      <td>10.0</td>\n",
       "      <td>1</td>\n",
       "      <td>Drift Rate</td>\n",
       "      <td>1.138077</td>\n",
       "    </tr>\n",
       "    <tr>\n",
       "      <th>10</th>\n",
       "      <td>11.0</td>\n",
       "      <td>1</td>\n",
       "      <td>Drift Rate</td>\n",
       "      <td>3.085514</td>\n",
       "    </tr>\n",
       "    <tr>\n",
       "      <th>11</th>\n",
       "      <td>12.0</td>\n",
       "      <td>1</td>\n",
       "      <td>Drift Rate</td>\n",
       "      <td>1.533440</td>\n",
       "    </tr>\n",
       "    <tr>\n",
       "      <th>12</th>\n",
       "      <td>13.0</td>\n",
       "      <td>1</td>\n",
       "      <td>Drift Rate</td>\n",
       "      <td>1.965593</td>\n",
       "    </tr>\n",
       "    <tr>\n",
       "      <th>13</th>\n",
       "      <td>14.0</td>\n",
       "      <td>1</td>\n",
       "      <td>Drift Rate</td>\n",
       "      <td>2.544360</td>\n",
       "    </tr>\n",
       "    <tr>\n",
       "      <th>14</th>\n",
       "      <td>15.0</td>\n",
       "      <td>1</td>\n",
       "      <td>Drift Rate</td>\n",
       "      <td>3.556348</td>\n",
       "    </tr>\n",
       "    <tr>\n",
       "      <th>15</th>\n",
       "      <td>16.0</td>\n",
       "      <td>1</td>\n",
       "      <td>Drift Rate</td>\n",
       "      <td>3.911405</td>\n",
       "    </tr>\n",
       "    <tr>\n",
       "      <th>16</th>\n",
       "      <td>17.0</td>\n",
       "      <td>1</td>\n",
       "      <td>Drift Rate</td>\n",
       "      <td>3.276531</td>\n",
       "    </tr>\n",
       "    <tr>\n",
       "      <th>17</th>\n",
       "      <td>18.0</td>\n",
       "      <td>1</td>\n",
       "      <td>Drift Rate</td>\n",
       "      <td>2.192112</td>\n",
       "    </tr>\n",
       "    <tr>\n",
       "      <th>18</th>\n",
       "      <td>19.0</td>\n",
       "      <td>1</td>\n",
       "      <td>Drift Rate</td>\n",
       "      <td>5.225593</td>\n",
       "    </tr>\n",
       "    <tr>\n",
       "      <th>19</th>\n",
       "      <td>20.0</td>\n",
       "      <td>1</td>\n",
       "      <td>Drift Rate</td>\n",
       "      <td>5.326966</td>\n",
       "    </tr>\n",
       "    <tr>\n",
       "      <th>20</th>\n",
       "      <td>21.0</td>\n",
       "      <td>2</td>\n",
       "      <td>Drift Rate</td>\n",
       "      <td>2.835124</td>\n",
       "    </tr>\n",
       "    <tr>\n",
       "      <th>21</th>\n",
       "      <td>22.0</td>\n",
       "      <td>2</td>\n",
       "      <td>Drift Rate</td>\n",
       "      <td>2.212574</td>\n",
       "    </tr>\n",
       "    <tr>\n",
       "      <th>22</th>\n",
       "      <td>23.0</td>\n",
       "      <td>2</td>\n",
       "      <td>Drift Rate</td>\n",
       "      <td>5.967460</td>\n",
       "    </tr>\n",
       "    <tr>\n",
       "      <th>23</th>\n",
       "      <td>24.0</td>\n",
       "      <td>2</td>\n",
       "      <td>Drift Rate</td>\n",
       "      <td>1.270832</td>\n",
       "    </tr>\n",
       "    <tr>\n",
       "      <th>24</th>\n",
       "      <td>25.0</td>\n",
       "      <td>2</td>\n",
       "      <td>Drift Rate</td>\n",
       "      <td>3.751410</td>\n",
       "    </tr>\n",
       "    <tr>\n",
       "      <th>25</th>\n",
       "      <td>26.0</td>\n",
       "      <td>2</td>\n",
       "      <td>Drift Rate</td>\n",
       "      <td>1.160426</td>\n",
       "    </tr>\n",
       "    <tr>\n",
       "      <th>26</th>\n",
       "      <td>27.0</td>\n",
       "      <td>2</td>\n",
       "      <td>Drift Rate</td>\n",
       "      <td>2.421279</td>\n",
       "    </tr>\n",
       "    <tr>\n",
       "      <th>27</th>\n",
       "      <td>28.0</td>\n",
       "      <td>2</td>\n",
       "      <td>Drift Rate</td>\n",
       "      <td>2.865609</td>\n",
       "    </tr>\n",
       "    <tr>\n",
       "      <th>28</th>\n",
       "      <td>29.0</td>\n",
       "      <td>2</td>\n",
       "      <td>Drift Rate</td>\n",
       "      <td>2.129599</td>\n",
       "    </tr>\n",
       "    <tr>\n",
       "      <th>29</th>\n",
       "      <td>30.0</td>\n",
       "      <td>2</td>\n",
       "      <td>Drift Rate</td>\n",
       "      <td>1.738028</td>\n",
       "    </tr>\n",
       "    <tr>\n",
       "      <th>30</th>\n",
       "      <td>31.0</td>\n",
       "      <td>2</td>\n",
       "      <td>Drift Rate</td>\n",
       "      <td>1.974251</td>\n",
       "    </tr>\n",
       "    <tr>\n",
       "      <th>31</th>\n",
       "      <td>32.0</td>\n",
       "      <td>2</td>\n",
       "      <td>Drift Rate</td>\n",
       "      <td>1.808507</td>\n",
       "    </tr>\n",
       "    <tr>\n",
       "      <th>32</th>\n",
       "      <td>33.0</td>\n",
       "      <td>2</td>\n",
       "      <td>Drift Rate</td>\n",
       "      <td>1.865046</td>\n",
       "    </tr>\n",
       "    <tr>\n",
       "      <th>33</th>\n",
       "      <td>34.0</td>\n",
       "      <td>2</td>\n",
       "      <td>Drift Rate</td>\n",
       "      <td>3.291188</td>\n",
       "    </tr>\n",
       "    <tr>\n",
       "      <th>34</th>\n",
       "      <td>35.0</td>\n",
       "      <td>2</td>\n",
       "      <td>Drift Rate</td>\n",
       "      <td>3.437303</td>\n",
       "    </tr>\n",
       "    <tr>\n",
       "      <th>35</th>\n",
       "      <td>36.0</td>\n",
       "      <td>2</td>\n",
       "      <td>Drift Rate</td>\n",
       "      <td>2.361992</td>\n",
       "    </tr>\n",
       "    <tr>\n",
       "      <th>36</th>\n",
       "      <td>37.0</td>\n",
       "      <td>2</td>\n",
       "      <td>Drift Rate</td>\n",
       "      <td>3.460092</td>\n",
       "    </tr>\n",
       "    <tr>\n",
       "      <th>37</th>\n",
       "      <td>38.0</td>\n",
       "      <td>2</td>\n",
       "      <td>Drift Rate</td>\n",
       "      <td>1.336448</td>\n",
       "    </tr>\n",
       "    <tr>\n",
       "      <th>38</th>\n",
       "      <td>39.0</td>\n",
       "      <td>2</td>\n",
       "      <td>Drift Rate</td>\n",
       "      <td>3.272889</td>\n",
       "    </tr>\n",
       "    <tr>\n",
       "      <th>39</th>\n",
       "      <td>40.0</td>\n",
       "      <td>2</td>\n",
       "      <td>Drift Rate</td>\n",
       "      <td>2.111341</td>\n",
       "    </tr>\n",
       "  </tbody>\n",
       "</table>\n",
       "</div>"
      ],
      "text/plain": [
       "    participant SAT    variable     value\n",
       "0           1.0   1  Drift Rate  4.641442\n",
       "1           2.0   1  Drift Rate  4.812552\n",
       "2           3.0   1  Drift Rate  4.226116\n",
       "3           4.0   1  Drift Rate  1.814764\n",
       "4           5.0   1  Drift Rate  2.616027\n",
       "5           6.0   1  Drift Rate  2.892733\n",
       "6           7.0   1  Drift Rate  4.406183\n",
       "7           8.0   1  Drift Rate  2.884605\n",
       "8           9.0   1  Drift Rate  2.818524\n",
       "9          10.0   1  Drift Rate  1.138077\n",
       "10         11.0   1  Drift Rate  3.085514\n",
       "11         12.0   1  Drift Rate  1.533440\n",
       "12         13.0   1  Drift Rate  1.965593\n",
       "13         14.0   1  Drift Rate  2.544360\n",
       "14         15.0   1  Drift Rate  3.556348\n",
       "15         16.0   1  Drift Rate  3.911405\n",
       "16         17.0   1  Drift Rate  3.276531\n",
       "17         18.0   1  Drift Rate  2.192112\n",
       "18         19.0   1  Drift Rate  5.225593\n",
       "19         20.0   1  Drift Rate  5.326966\n",
       "20         21.0   2  Drift Rate  2.835124\n",
       "21         22.0   2  Drift Rate  2.212574\n",
       "22         23.0   2  Drift Rate  5.967460\n",
       "23         24.0   2  Drift Rate  1.270832\n",
       "24         25.0   2  Drift Rate  3.751410\n",
       "25         26.0   2  Drift Rate  1.160426\n",
       "26         27.0   2  Drift Rate  2.421279\n",
       "27         28.0   2  Drift Rate  2.865609\n",
       "28         29.0   2  Drift Rate  2.129599\n",
       "29         30.0   2  Drift Rate  1.738028\n",
       "30         31.0   2  Drift Rate  1.974251\n",
       "31         32.0   2  Drift Rate  1.808507\n",
       "32         33.0   2  Drift Rate  1.865046\n",
       "33         34.0   2  Drift Rate  3.291188\n",
       "34         35.0   2  Drift Rate  3.437303\n",
       "35         36.0   2  Drift Rate  2.361992\n",
       "36         37.0   2  Drift Rate  3.460092\n",
       "37         38.0   2  Drift Rate  1.336448\n",
       "38         39.0   2  Drift Rate  3.272889\n",
       "39         40.0   2  Drift Rate  2.111341"
      ]
     },
     "execution_count": 43,
     "metadata": {},
     "output_type": "execute_result"
    }
   ],
   "source": [
    "dif_v = df_SAT[df_SAT[\"variable\"]==\"Drift Rate\"][\"value\"] - df_SAT[df_SAT[\"variable\"]==\"Drift Rate\"][\"value\"]"
   ]
  },
  {
   "cell_type": "code",
   "execution_count": 16,
   "id": "6c427d58",
   "metadata": {},
   "outputs": [],
   "source": [
    "import seaborn as sns\n"
   ]
  },
  {
   "cell_type": "code",
   "execution_count": 53,
   "id": "12c80cba",
   "metadata": {},
   "outputs": [
    {
     "ename": "ValueError",
     "evalue": "Could not interpret input 'parameter'",
     "output_type": "error",
     "traceback": [
      "\u001b[0;31m---------------------------------------------------------------------------\u001b[0m",
      "\u001b[0;31mValueError\u001b[0m                                Traceback (most recent call last)",
      "\u001b[0;32m/var/folders/5g/vqmn12yd48z6l6jf2s2yy62r0000gn/T/ipykernel_7910/551925348.py\u001b[0m in \u001b[0;36m<module>\u001b[0;34m\u001b[0m\n\u001b[1;32m      1\u001b[0m sns.catplot(data=df_SAT, x=\"parameter\", y=\"values\", hue=\"condition\", kind=\"box\",\n\u001b[0;32m----> 2\u001b[0;31m             height=6, aspect=8/6)\n\u001b[0m",
      "\u001b[0;32m~/opt/anaconda3/envs/sbi_env/lib/python3.7/site-packages/seaborn/categorical.py\u001b[0m in \u001b[0;36mcatplot\u001b[0;34m(data, x, y, hue, row, col, col_wrap, estimator, errorbar, n_boot, units, seed, order, hue_order, row_order, col_order, height, aspect, kind, native_scale, formatter, orient, color, palette, hue_norm, legend, legend_out, sharex, sharey, margin_titles, facet_kws, ci, **kwargs)\u001b[0m\n\u001b[1;32m   3185\u001b[0m     \u001b[0mp\u001b[0m \u001b[0;34m=\u001b[0m \u001b[0m_CategoricalPlotter\u001b[0m\u001b[0;34m(\u001b[0m\u001b[0;34m)\u001b[0m\u001b[0;34m\u001b[0m\u001b[0;34m\u001b[0m\u001b[0m\n\u001b[1;32m   3186\u001b[0m     \u001b[0mp\u001b[0m\u001b[0;34m.\u001b[0m\u001b[0mrequire_numeric\u001b[0m \u001b[0;34m=\u001b[0m \u001b[0mplotter_class\u001b[0m\u001b[0;34m.\u001b[0m\u001b[0mrequire_numeric\u001b[0m\u001b[0;34m\u001b[0m\u001b[0;34m\u001b[0m\u001b[0m\n\u001b[0;32m-> 3187\u001b[0;31m     \u001b[0mp\u001b[0m\u001b[0;34m.\u001b[0m\u001b[0mestablish_variables\u001b[0m\u001b[0;34m(\u001b[0m\u001b[0mx_\u001b[0m\u001b[0;34m,\u001b[0m \u001b[0my_\u001b[0m\u001b[0;34m,\u001b[0m \u001b[0mhue\u001b[0m\u001b[0;34m,\u001b[0m \u001b[0mdata\u001b[0m\u001b[0;34m,\u001b[0m \u001b[0morient\u001b[0m\u001b[0;34m,\u001b[0m \u001b[0morder\u001b[0m\u001b[0;34m,\u001b[0m \u001b[0mhue_order\u001b[0m\u001b[0;34m)\u001b[0m\u001b[0;34m\u001b[0m\u001b[0;34m\u001b[0m\u001b[0m\n\u001b[0m\u001b[1;32m   3188\u001b[0m     if (\n\u001b[1;32m   3189\u001b[0m         \u001b[0morder\u001b[0m \u001b[0;32mis\u001b[0m \u001b[0;32mnot\u001b[0m \u001b[0;32mNone\u001b[0m\u001b[0;34m\u001b[0m\u001b[0;34m\u001b[0m\u001b[0m\n",
      "\u001b[0;32m~/opt/anaconda3/envs/sbi_env/lib/python3.7/site-packages/seaborn/categorical.py\u001b[0m in \u001b[0;36mestablish_variables\u001b[0;34m(self, x, y, hue, data, orient, order, hue_order, units)\u001b[0m\n\u001b[1;32m    539\u001b[0m                 \u001b[0;32mif\u001b[0m \u001b[0misinstance\u001b[0m\u001b[0;34m(\u001b[0m\u001b[0mvar\u001b[0m\u001b[0;34m,\u001b[0m \u001b[0mstr\u001b[0m\u001b[0;34m)\u001b[0m\u001b[0;34m:\u001b[0m\u001b[0;34m\u001b[0m\u001b[0;34m\u001b[0m\u001b[0m\n\u001b[1;32m    540\u001b[0m                     \u001b[0merr\u001b[0m \u001b[0;34m=\u001b[0m \u001b[0;34mf\"Could not interpret input '{var}'\"\u001b[0m\u001b[0;34m\u001b[0m\u001b[0;34m\u001b[0m\u001b[0m\n\u001b[0;32m--> 541\u001b[0;31m                     \u001b[0;32mraise\u001b[0m \u001b[0mValueError\u001b[0m\u001b[0;34m(\u001b[0m\u001b[0merr\u001b[0m\u001b[0;34m)\u001b[0m\u001b[0;34m\u001b[0m\u001b[0;34m\u001b[0m\u001b[0m\n\u001b[0m\u001b[1;32m    542\u001b[0m \u001b[0;34m\u001b[0m\u001b[0m\n\u001b[1;32m    543\u001b[0m             \u001b[0;31m# Figure out the plotting orientation\u001b[0m\u001b[0;34m\u001b[0m\u001b[0;34m\u001b[0m\u001b[0;34m\u001b[0m\u001b[0m\n",
      "\u001b[0;31mValueError\u001b[0m: Could not interpret input 'parameter'"
     ]
    }
   ],
   "source": [
    "sns.catplot(data=df_SAT, x=\"parameter\", y=\"values\", hue=\"condition\", kind=\"box\",\n",
    "            height=6, aspect=8/6)"
   ]
  },
  {
   "cell_type": "code",
   "execution_count": null,
   "id": "afd5ca93",
   "metadata": {},
   "outputs": [],
   "source": []
  },
  {
   "cell_type": "code",
   "execution_count": 18,
   "id": "627c3d31",
   "metadata": {},
   "outputs": [],
   "source": [
    "import scipy"
   ]
  },
  {
   "cell_type": "code",
   "execution_count": 19,
   "id": "4d2dedad",
   "metadata": {},
   "outputs": [
    {
     "data": {
      "text/plain": [
       "Ttest_relResult(statistic=2.954476655896003, pvalue=0.008141075695752857)"
      ]
     },
     "execution_count": 19,
     "metadata": {},
     "output_type": "execute_result"
    }
   ],
   "source": [
    "scipy.stats.ttest_rel(par_fitted_A[:,0], par_fitted_B[:,0])"
   ]
  },
  {
   "cell_type": "code",
   "execution_count": 20,
   "id": "32d6e0aa",
   "metadata": {},
   "outputs": [
    {
     "data": {
      "text/plain": [
       "Ttest_relResult(statistic=1.3666829806693381, pvalue=0.18768050875769932)"
      ]
     },
     "execution_count": 20,
     "metadata": {},
     "output_type": "execute_result"
    }
   ],
   "source": [
    "scipy.stats.ttest_rel(par_fitted_A[:,1], par_fitted_B[:,1])"
   ]
  },
  {
   "cell_type": "markdown",
   "id": "bba332a5",
   "metadata": {},
   "source": [
    "## DDM-OUM: use Dutilh 2018 DDM parameters - let inhibition and boundary vary"
   ]
  },
  {
   "cell_type": "code",
   "execution_count": 22,
   "id": "559347ba",
   "metadata": {},
   "outputs": [
    {
     "data": {
      "text/html": [
       "<div>\n",
       "<style scoped>\n",
       "    .dataframe tbody tr th:only-of-type {\n",
       "        vertical-align: middle;\n",
       "    }\n",
       "\n",
       "    .dataframe tbody tr th {\n",
       "        vertical-align: top;\n",
       "    }\n",
       "\n",
       "    .dataframe thead th {\n",
       "        text-align: right;\n",
       "    }\n",
       "</style>\n",
       "<table border=\"1\" class=\"dataframe\">\n",
       "  <thead>\n",
       "    <tr style=\"text-align: right;\">\n",
       "      <th></th>\n",
       "      <th>Unnamed: 0</th>\n",
       "      <th>Drift Rate</th>\n",
       "      <th>Boundary Separation</th>\n",
       "      <th>Non-decision Time</th>\n",
       "      <th>SAT</th>\n",
       "    </tr>\n",
       "  </thead>\n",
       "  <tbody>\n",
       "    <tr>\n",
       "      <th>0</th>\n",
       "      <td>0</td>\n",
       "      <td>4.886592</td>\n",
       "      <td>1.173918</td>\n",
       "      <td>0.343236</td>\n",
       "      <td>1</td>\n",
       "    </tr>\n",
       "    <tr>\n",
       "      <th>1</th>\n",
       "      <td>1</td>\n",
       "      <td>5.255924</td>\n",
       "      <td>1.083176</td>\n",
       "      <td>0.340134</td>\n",
       "      <td>1</td>\n",
       "    </tr>\n",
       "    <tr>\n",
       "      <th>2</th>\n",
       "      <td>2</td>\n",
       "      <td>4.993867</td>\n",
       "      <td>1.047623</td>\n",
       "      <td>0.257719</td>\n",
       "      <td>1</td>\n",
       "    </tr>\n",
       "    <tr>\n",
       "      <th>3</th>\n",
       "      <td>3</td>\n",
       "      <td>1.769413</td>\n",
       "      <td>0.899000</td>\n",
       "      <td>0.264103</td>\n",
       "      <td>1</td>\n",
       "    </tr>\n",
       "    <tr>\n",
       "      <th>4</th>\n",
       "      <td>4</td>\n",
       "      <td>2.576097</td>\n",
       "      <td>0.602602</td>\n",
       "      <td>0.227779</td>\n",
       "      <td>1</td>\n",
       "    </tr>\n",
       "    <tr>\n",
       "      <th>5</th>\n",
       "      <td>5</td>\n",
       "      <td>2.445525</td>\n",
       "      <td>0.910601</td>\n",
       "      <td>0.251856</td>\n",
       "      <td>1</td>\n",
       "    </tr>\n",
       "    <tr>\n",
       "      <th>6</th>\n",
       "      <td>6</td>\n",
       "      <td>3.639097</td>\n",
       "      <td>1.175035</td>\n",
       "      <td>0.244861</td>\n",
       "      <td>1</td>\n",
       "    </tr>\n",
       "    <tr>\n",
       "      <th>7</th>\n",
       "      <td>7</td>\n",
       "      <td>3.017418</td>\n",
       "      <td>1.208609</td>\n",
       "      <td>0.202474</td>\n",
       "      <td>1</td>\n",
       "    </tr>\n",
       "    <tr>\n",
       "      <th>8</th>\n",
       "      <td>8</td>\n",
       "      <td>2.906562</td>\n",
       "      <td>0.939030</td>\n",
       "      <td>0.225931</td>\n",
       "      <td>1</td>\n",
       "    </tr>\n",
       "    <tr>\n",
       "      <th>9</th>\n",
       "      <td>9</td>\n",
       "      <td>1.132213</td>\n",
       "      <td>0.718812</td>\n",
       "      <td>0.209710</td>\n",
       "      <td>1</td>\n",
       "    </tr>\n",
       "    <tr>\n",
       "      <th>10</th>\n",
       "      <td>10</td>\n",
       "      <td>2.635567</td>\n",
       "      <td>1.051056</td>\n",
       "      <td>0.224764</td>\n",
       "      <td>1</td>\n",
       "    </tr>\n",
       "    <tr>\n",
       "      <th>11</th>\n",
       "      <td>11</td>\n",
       "      <td>1.504640</td>\n",
       "      <td>1.017252</td>\n",
       "      <td>0.226386</td>\n",
       "      <td>1</td>\n",
       "    </tr>\n",
       "    <tr>\n",
       "      <th>12</th>\n",
       "      <td>12</td>\n",
       "      <td>1.950719</td>\n",
       "      <td>0.850818</td>\n",
       "      <td>0.212590</td>\n",
       "      <td>1</td>\n",
       "    </tr>\n",
       "    <tr>\n",
       "      <th>13</th>\n",
       "      <td>13</td>\n",
       "      <td>2.635819</td>\n",
       "      <td>0.831973</td>\n",
       "      <td>0.325877</td>\n",
       "      <td>1</td>\n",
       "    </tr>\n",
       "    <tr>\n",
       "      <th>14</th>\n",
       "      <td>14</td>\n",
       "      <td>3.446589</td>\n",
       "      <td>1.447738</td>\n",
       "      <td>0.188644</td>\n",
       "      <td>1</td>\n",
       "    </tr>\n",
       "    <tr>\n",
       "      <th>15</th>\n",
       "      <td>15</td>\n",
       "      <td>3.975775</td>\n",
       "      <td>1.083399</td>\n",
       "      <td>0.288078</td>\n",
       "      <td>1</td>\n",
       "    </tr>\n",
       "    <tr>\n",
       "      <th>16</th>\n",
       "      <td>16</td>\n",
       "      <td>3.096995</td>\n",
       "      <td>0.531685</td>\n",
       "      <td>0.293465</td>\n",
       "      <td>1</td>\n",
       "    </tr>\n",
       "    <tr>\n",
       "      <th>17</th>\n",
       "      <td>17</td>\n",
       "      <td>1.998917</td>\n",
       "      <td>0.970440</td>\n",
       "      <td>0.376311</td>\n",
       "      <td>1</td>\n",
       "    </tr>\n",
       "    <tr>\n",
       "      <th>18</th>\n",
       "      <td>18</td>\n",
       "      <td>5.608196</td>\n",
       "      <td>1.309766</td>\n",
       "      <td>0.242469</td>\n",
       "      <td>1</td>\n",
       "    </tr>\n",
       "    <tr>\n",
       "      <th>19</th>\n",
       "      <td>19</td>\n",
       "      <td>3.419665</td>\n",
       "      <td>1.192999</td>\n",
       "      <td>0.240389</td>\n",
       "      <td>1</td>\n",
       "    </tr>\n",
       "    <tr>\n",
       "      <th>20</th>\n",
       "      <td>20</td>\n",
       "      <td>2.568594</td>\n",
       "      <td>1.192447</td>\n",
       "      <td>0.350024</td>\n",
       "      <td>2</td>\n",
       "    </tr>\n",
       "    <tr>\n",
       "      <th>21</th>\n",
       "      <td>21</td>\n",
       "      <td>2.043069</td>\n",
       "      <td>1.284007</td>\n",
       "      <td>0.400768</td>\n",
       "      <td>2</td>\n",
       "    </tr>\n",
       "    <tr>\n",
       "      <th>22</th>\n",
       "      <td>22</td>\n",
       "      <td>2.634181</td>\n",
       "      <td>1.364765</td>\n",
       "      <td>0.294074</td>\n",
       "      <td>2</td>\n",
       "    </tr>\n",
       "    <tr>\n",
       "      <th>23</th>\n",
       "      <td>23</td>\n",
       "      <td>1.168613</td>\n",
       "      <td>1.228126</td>\n",
       "      <td>0.320078</td>\n",
       "      <td>2</td>\n",
       "    </tr>\n",
       "    <tr>\n",
       "      <th>24</th>\n",
       "      <td>24</td>\n",
       "      <td>3.955953</td>\n",
       "      <td>1.471572</td>\n",
       "      <td>0.302286</td>\n",
       "      <td>2</td>\n",
       "    </tr>\n",
       "    <tr>\n",
       "      <th>25</th>\n",
       "      <td>25</td>\n",
       "      <td>1.103077</td>\n",
       "      <td>0.708867</td>\n",
       "      <td>0.339180</td>\n",
       "      <td>2</td>\n",
       "    </tr>\n",
       "    <tr>\n",
       "      <th>26</th>\n",
       "      <td>26</td>\n",
       "      <td>2.738548</td>\n",
       "      <td>1.230578</td>\n",
       "      <td>0.259883</td>\n",
       "      <td>2</td>\n",
       "    </tr>\n",
       "    <tr>\n",
       "      <th>27</th>\n",
       "      <td>27</td>\n",
       "      <td>2.535457</td>\n",
       "      <td>1.950990</td>\n",
       "      <td>0.268052</td>\n",
       "      <td>2</td>\n",
       "    </tr>\n",
       "    <tr>\n",
       "      <th>28</th>\n",
       "      <td>28</td>\n",
       "      <td>2.154656</td>\n",
       "      <td>1.367244</td>\n",
       "      <td>0.319832</td>\n",
       "      <td>2</td>\n",
       "    </tr>\n",
       "    <tr>\n",
       "      <th>29</th>\n",
       "      <td>29</td>\n",
       "      <td>1.634549</td>\n",
       "      <td>1.414872</td>\n",
       "      <td>0.210216</td>\n",
       "      <td>2</td>\n",
       "    </tr>\n",
       "    <tr>\n",
       "      <th>30</th>\n",
       "      <td>30</td>\n",
       "      <td>1.989852</td>\n",
       "      <td>1.179680</td>\n",
       "      <td>0.251234</td>\n",
       "      <td>2</td>\n",
       "    </tr>\n",
       "    <tr>\n",
       "      <th>31</th>\n",
       "      <td>31</td>\n",
       "      <td>1.776725</td>\n",
       "      <td>1.460912</td>\n",
       "      <td>0.473201</td>\n",
       "      <td>2</td>\n",
       "    </tr>\n",
       "    <tr>\n",
       "      <th>32</th>\n",
       "      <td>32</td>\n",
       "      <td>1.698432</td>\n",
       "      <td>0.938577</td>\n",
       "      <td>0.322362</td>\n",
       "      <td>2</td>\n",
       "    </tr>\n",
       "    <tr>\n",
       "      <th>33</th>\n",
       "      <td>33</td>\n",
       "      <td>2.588800</td>\n",
       "      <td>1.446248</td>\n",
       "      <td>0.530569</td>\n",
       "      <td>2</td>\n",
       "    </tr>\n",
       "    <tr>\n",
       "      <th>34</th>\n",
       "      <td>34</td>\n",
       "      <td>3.043268</td>\n",
       "      <td>1.368593</td>\n",
       "      <td>0.291047</td>\n",
       "      <td>2</td>\n",
       "    </tr>\n",
       "    <tr>\n",
       "      <th>35</th>\n",
       "      <td>35</td>\n",
       "      <td>2.354314</td>\n",
       "      <td>0.780920</td>\n",
       "      <td>0.375502</td>\n",
       "      <td>2</td>\n",
       "    </tr>\n",
       "    <tr>\n",
       "      <th>36</th>\n",
       "      <td>36</td>\n",
       "      <td>3.451852</td>\n",
       "      <td>1.281830</td>\n",
       "      <td>0.347887</td>\n",
       "      <td>2</td>\n",
       "    </tr>\n",
       "    <tr>\n",
       "      <th>37</th>\n",
       "      <td>37</td>\n",
       "      <td>1.066938</td>\n",
       "      <td>1.717642</td>\n",
       "      <td>0.413234</td>\n",
       "      <td>2</td>\n",
       "    </tr>\n",
       "    <tr>\n",
       "      <th>38</th>\n",
       "      <td>38</td>\n",
       "      <td>3.013793</td>\n",
       "      <td>1.386990</td>\n",
       "      <td>0.369393</td>\n",
       "      <td>2</td>\n",
       "    </tr>\n",
       "    <tr>\n",
       "      <th>39</th>\n",
       "      <td>39</td>\n",
       "      <td>2.257032</td>\n",
       "      <td>1.534635</td>\n",
       "      <td>0.329166</td>\n",
       "      <td>2</td>\n",
       "    </tr>\n",
       "  </tbody>\n",
       "</table>\n",
       "</div>"
      ],
      "text/plain": [
       "    Unnamed: 0  Drift Rate  Boundary Separation  Non-decision Time  SAT\n",
       "0            0    4.886592             1.173918           0.343236    1\n",
       "1            1    5.255924             1.083176           0.340134    1\n",
       "2            2    4.993867             1.047623           0.257719    1\n",
       "3            3    1.769413             0.899000           0.264103    1\n",
       "4            4    2.576097             0.602602           0.227779    1\n",
       "5            5    2.445525             0.910601           0.251856    1\n",
       "6            6    3.639097             1.175035           0.244861    1\n",
       "7            7    3.017418             1.208609           0.202474    1\n",
       "8            8    2.906562             0.939030           0.225931    1\n",
       "9            9    1.132213             0.718812           0.209710    1\n",
       "10          10    2.635567             1.051056           0.224764    1\n",
       "11          11    1.504640             1.017252           0.226386    1\n",
       "12          12    1.950719             0.850818           0.212590    1\n",
       "13          13    2.635819             0.831973           0.325877    1\n",
       "14          14    3.446589             1.447738           0.188644    1\n",
       "15          15    3.975775             1.083399           0.288078    1\n",
       "16          16    3.096995             0.531685           0.293465    1\n",
       "17          17    1.998917             0.970440           0.376311    1\n",
       "18          18    5.608196             1.309766           0.242469    1\n",
       "19          19    3.419665             1.192999           0.240389    1\n",
       "20          20    2.568594             1.192447           0.350024    2\n",
       "21          21    2.043069             1.284007           0.400768    2\n",
       "22          22    2.634181             1.364765           0.294074    2\n",
       "23          23    1.168613             1.228126           0.320078    2\n",
       "24          24    3.955953             1.471572           0.302286    2\n",
       "25          25    1.103077             0.708867           0.339180    2\n",
       "26          26    2.738548             1.230578           0.259883    2\n",
       "27          27    2.535457             1.950990           0.268052    2\n",
       "28          28    2.154656             1.367244           0.319832    2\n",
       "29          29    1.634549             1.414872           0.210216    2\n",
       "30          30    1.989852             1.179680           0.251234    2\n",
       "31          31    1.776725             1.460912           0.473201    2\n",
       "32          32    1.698432             0.938577           0.322362    2\n",
       "33          33    2.588800             1.446248           0.530569    2\n",
       "34          34    3.043268             1.368593           0.291047    2\n",
       "35          35    2.354314             0.780920           0.375502    2\n",
       "36          36    3.451852             1.281830           0.347887    2\n",
       "37          37    1.066938             1.717642           0.413234    2\n",
       "38          38    3.013793             1.386990           0.369393    2\n",
       "39          39    2.257032             1.534635           0.329166    2"
      ]
     },
     "execution_count": 22,
     "metadata": {},
     "output_type": "execute_result"
    }
   ],
   "source": [
    "df_Dutilh2018 = pd.read_csv('DDMresultDutilh.csv')\n",
    "df_Dutilh2018"
   ]
  },
  {
   "cell_type": "code",
   "execution_count": 30,
   "id": "6b5580f9",
   "metadata": {},
   "outputs": [
    {
     "name": "stdout",
     "output_type": "stream",
     "text": [
      "0\n"
     ]
    },
    {
     "name": "stderr",
     "output_type": "stream",
     "text": [
      "Info: Params [4.64144202 0.27949574 1.10421328 0.35710912] gave -1938.9813279025893\n"
     ]
    },
    {
     "name": "stdout",
     "output_type": "stream",
     "text": [
      "   SAT  participant  Drift Rate  Boundary Separation  Non-decision Time  \\\n",
      "2    1            1    4.641442             1.104213           0.357109   \n",
      "\n",
      "   Effective Inhibition  \n",
      "2              0.279496  \n",
      "1\n"
     ]
    },
    {
     "name": "stderr",
     "output_type": "stream",
     "text": [
      "Info: Params [4.8125522  4.36289306 4.46552285 0.15832253] gave -2307.8627146930808\n"
     ]
    },
    {
     "name": "stdout",
     "output_type": "stream",
     "text": [
      "   SAT  participant  Drift Rate  Boundary Separation  Non-decision Time  \\\n",
      "2    1            2    4.812552             4.465523           0.158323   \n",
      "\n",
      "   Effective Inhibition  \n",
      "2              4.362893  \n",
      "2\n"
     ]
    },
    {
     "name": "stderr",
     "output_type": "stream",
     "text": [
      "Info: Params [4.22611554 3.56699522 1.36413885 0.23979738] gave -2088.048271049306\n"
     ]
    },
    {
     "name": "stdout",
     "output_type": "stream",
     "text": [
      "   SAT  participant  Drift Rate  Boundary Separation  Non-decision Time  \\\n",
      "2    1            3    4.226116             1.364139           0.239797   \n",
      "\n",
      "   Effective Inhibition  \n",
      "2              3.566995  \n",
      "3\n"
     ]
    },
    {
     "name": "stderr",
     "output_type": "stream",
     "text": [
      "Info: Params [ 1.81476423 -2.68288025  0.6939418   0.29282955] gave 506.08757798483526\n"
     ]
    },
    {
     "name": "stdout",
     "output_type": "stream",
     "text": [
      "   SAT  participant  Drift Rate  Boundary Separation  Non-decision Time  \\\n",
      "2    1            4    1.814764             0.693942            0.29283   \n",
      "\n",
      "   Effective Inhibition  \n",
      "2              -2.68288  \n",
      "4\n"
     ]
    },
    {
     "name": "stderr",
     "output_type": "stream",
     "text": [
      "Info: Params [ 2.61602706 -0.94794394  0.57561981  0.23156235] gave -1094.16335219224\n"
     ]
    },
    {
     "name": "stdout",
     "output_type": "stream",
     "text": [
      "   SAT  participant  Drift Rate  Boundary Separation  Non-decision Time  \\\n",
      "2    1            5    2.616027              0.57562           0.231562   \n",
      "\n",
      "   Effective Inhibition  \n",
      "2             -0.947944  \n",
      "5\n"
     ]
    },
    {
     "name": "stderr",
     "output_type": "stream",
     "text": [
      "Info: Params [ 2.89273287 -3.04363152  0.76186623  0.27096958] gave -444.5870611207619\n"
     ]
    },
    {
     "name": "stdout",
     "output_type": "stream",
     "text": [
      "   SAT  participant  Drift Rate  Boundary Separation  Non-decision Time  \\\n",
      "2    1            6    2.892733             0.761866            0.27097   \n",
      "\n",
      "   Effective Inhibition  \n",
      "2             -3.043632  \n",
      "6\n"
     ]
    },
    {
     "name": "stderr",
     "output_type": "stream",
     "text": [
      "Info: Params [ 4.40618295 -2.04148437  1.07827869  0.25552757] gave -1175.9623474184618\n"
     ]
    },
    {
     "name": "stdout",
     "output_type": "stream",
     "text": [
      "   SAT  participant  Drift Rate  Boundary Separation  Non-decision Time  \\\n",
      "2    1            7    4.406183             1.078279           0.255528   \n",
      "\n",
      "   Effective Inhibition  \n",
      "2             -2.041484  \n",
      "7\n"
     ]
    },
    {
     "name": "stderr",
     "output_type": "stream",
     "text": [
      "Info: Params [2.88460471 0.25770818 1.14295313 0.21621349] gave -642.5732414606322\n"
     ]
    },
    {
     "name": "stdout",
     "output_type": "stream",
     "text": [
      "   SAT  participant  Drift Rate  Boundary Separation  Non-decision Time  \\\n",
      "2    1            8    2.884605             1.142953           0.216213   \n",
      "\n",
      "   Effective Inhibition  \n",
      "2              0.257708  \n",
      "8\n"
     ]
    },
    {
     "name": "stderr",
     "output_type": "stream",
     "text": [
      "Info: Params [2.81852404 0.29027889 0.91364091 0.233302  ] gave -840.8658145368277\n"
     ]
    },
    {
     "name": "stdout",
     "output_type": "stream",
     "text": [
      "   SAT  participant  Drift Rate  Boundary Separation  Non-decision Time  \\\n",
      "2    1            9    2.818524             0.913641           0.233302   \n",
      "\n",
      "   Effective Inhibition  \n",
      "2              0.290279  \n",
      "9\n"
     ]
    },
    {
     "name": "stderr",
     "output_type": "stream",
     "text": [
      "Info: Params [ 1.13807747 -0.87752492  0.67385838  0.21654848] gave 962.0882766193872\n"
     ]
    },
    {
     "name": "stdout",
     "output_type": "stream",
     "text": [
      "   SAT  participant  Drift Rate  Boundary Separation  Non-decision Time  \\\n",
      "2    1           10    1.138077             0.673858           0.216548   \n",
      "\n",
      "   Effective Inhibition  \n",
      "2             -0.877525  \n",
      "10\n"
     ]
    },
    {
     "name": "stderr",
     "output_type": "stream",
     "text": [
      "Info: Params [ 3.08551396 -1.63941983  0.95910697  0.23680589] gave -486.3926719410282\n"
     ]
    },
    {
     "name": "stdout",
     "output_type": "stream",
     "text": [
      "   SAT  participant  Drift Rate  Boundary Separation  Non-decision Time  \\\n",
      "2    1           11    3.085514             0.959107           0.236806   \n",
      "\n",
      "   Effective Inhibition  \n",
      "2              -1.63942  \n",
      "11\n"
     ]
    },
    {
     "name": "stderr",
     "output_type": "stream",
     "text": [
      "Info: Params [1.53344037 0.40416463 1.09840325 0.22119222] gave 940.1935852638111\n"
     ]
    },
    {
     "name": "stdout",
     "output_type": "stream",
     "text": [
      "   SAT  participant  Drift Rate  Boundary Separation  Non-decision Time  \\\n",
      "2    1           12     1.53344             1.098403           0.221192   \n",
      "\n",
      "   Effective Inhibition  \n",
      "2              0.404165  \n",
      "12\n"
     ]
    },
    {
     "name": "stderr",
     "output_type": "stream",
     "text": [
      "Info: Params [1.9655926  0.3731387  0.87904171 0.20528304] gave 20.770366114277806\n"
     ]
    },
    {
     "name": "stdout",
     "output_type": "stream",
     "text": [
      "   SAT  participant  Drift Rate  Boundary Separation  Non-decision Time  \\\n",
      "2    1           13    1.965593             0.879042           0.205283   \n",
      "\n",
      "   Effective Inhibition  \n",
      "2              0.373139  \n",
      "13\n"
     ]
    },
    {
     "name": "stderr",
     "output_type": "stream",
     "text": [
      "Info: Params [2.54436007 1.09137292 0.98838324 0.30825064] gave -772.4807271688085\n"
     ]
    },
    {
     "name": "stdout",
     "output_type": "stream",
     "text": [
      "   SAT  participant  Drift Rate  Boundary Separation  Non-decision Time  \\\n",
      "2    1           14     2.54436             0.988383           0.308251   \n",
      "\n",
      "   Effective Inhibition  \n",
      "2              1.091373  \n",
      "14\n"
     ]
    },
    {
     "name": "stderr",
     "output_type": "stream",
     "text": [
      "Info: Params [3.55634788 0.05760739 1.44425017 0.19294063] gave -844.1124098725942\n"
     ]
    },
    {
     "name": "stdout",
     "output_type": "stream",
     "text": [
      "   SAT  participant  Drift Rate  Boundary Separation  Non-decision Time  \\\n",
      "2    1           15    3.556348              1.44425           0.192941   \n",
      "\n",
      "   Effective Inhibition  \n",
      "2              0.057607  \n",
      "15\n"
     ]
    },
    {
     "name": "stderr",
     "output_type": "stream",
     "text": [
      "Info: Params [3.91140515 0.064528   1.00922564 0.30586078] gave -1517.78214923517\n"
     ]
    },
    {
     "name": "stdout",
     "output_type": "stream",
     "text": [
      "   SAT  participant  Drift Rate  Boundary Separation  Non-decision Time  \\\n",
      "2    1           16    3.911405             1.009226           0.305861   \n",
      "\n",
      "   Effective Inhibition  \n",
      "2              0.064528  \n",
      "16\n"
     ]
    },
    {
     "name": "stderr",
     "output_type": "stream",
     "text": [
      "Info: Params [ 3.27653076 -0.66237224  0.52119677  0.29420014] gave -1852.9136029579854\n"
     ]
    },
    {
     "name": "stdout",
     "output_type": "stream",
     "text": [
      "   SAT  participant  Drift Rate  Boundary Separation  Non-decision Time  \\\n",
      "2    1           17    3.276531             0.521197             0.2942   \n",
      "\n",
      "   Effective Inhibition  \n",
      "2             -0.662372  \n",
      "17\n"
     ]
    },
    {
     "name": "stderr",
     "output_type": "stream",
     "text": [
      "Info: Params [ 2.19211235 -0.69636499  0.90373542  0.39572062] gave 53.459087007976734\n",
      "Warning: Setting undecided probability from -0.000000 to 0\n"
     ]
    },
    {
     "name": "stdout",
     "output_type": "stream",
     "text": [
      "   SAT  participant  Drift Rate  Boundary Separation  Non-decision Time  \\\n",
      "2    1           18    2.192112             0.903735           0.395721   \n",
      "\n",
      "   Effective Inhibition  \n",
      "2             -0.696365  \n",
      "18\n"
     ]
    },
    {
     "name": "stderr",
     "output_type": "stream",
     "text": [
      "Info: Params [5.22559329 1.72951277 1.71243393 0.21292389] gave -2205.995302282408\n"
     ]
    },
    {
     "name": "stdout",
     "output_type": "stream",
     "text": [
      "   SAT  participant  Drift Rate  Boundary Separation  Non-decision Time  \\\n",
      "2    1           19    5.225593             1.712434           0.212924   \n",
      "\n",
      "   Effective Inhibition  \n",
      "2              1.729513  \n",
      "19\n"
     ]
    },
    {
     "name": "stderr",
     "output_type": "stream",
     "text": [
      "Info: Params [ 5.32696563 -3.36972117  1.20431404  0.24416914] gave -947.6187940395554\n"
     ]
    },
    {
     "name": "stdout",
     "output_type": "stream",
     "text": [
      "   SAT  participant  Drift Rate  Boundary Separation  Non-decision Time  \\\n",
      "2    1           20    5.326966             1.204314           0.244169   \n",
      "\n",
      "   Effective Inhibition  \n",
      "2             -3.369721  \n",
      "20\n"
     ]
    },
    {
     "name": "stderr",
     "output_type": "stream",
     "text": [
      "Info: Params [ 2.83512364 -1.21940787  1.04569372  0.36889407] gave -214.4337682257472\n"
     ]
    },
    {
     "name": "stdout",
     "output_type": "stream",
     "text": [
      "   SAT  participant  Drift Rate  Boundary Separation  Non-decision Time  \\\n",
      "2    2           21    2.835124             1.045694           0.368894   \n",
      "\n",
      "   Effective Inhibition  \n",
      "2             -1.219408  \n",
      "21\n"
     ]
    },
    {
     "name": "stderr",
     "output_type": "stream",
     "text": [
      "Info: Params [ 2.21257395 -1.11724634  1.04857933  0.44633449] gave 452.9949192438303\n"
     ]
    },
    {
     "name": "stdout",
     "output_type": "stream",
     "text": [
      "   SAT  participant  Drift Rate  Boundary Separation  Non-decision Time  \\\n",
      "2    2           22    2.212574             1.048579           0.446334   \n",
      "\n",
      "   Effective Inhibition  \n",
      "2             -1.117246  \n",
      "22\n"
     ]
    },
    {
     "name": "stderr",
     "output_type": "stream",
     "text": [
      "Info: Params [ 5.96745989 -4.72651435  1.38203665  0.289911  ] gave 71.0427814518789\n"
     ]
    },
    {
     "name": "stdout",
     "output_type": "stream",
     "text": [
      "   SAT  participant  Drift Rate  Boundary Separation  Non-decision Time  \\\n",
      "2    2           23     5.96746             1.382037           0.289911   \n",
      "\n",
      "   Effective Inhibition  \n",
      "2             -4.726514  \n",
      "23\n"
     ]
    },
    {
     "name": "stderr",
     "output_type": "stream",
     "text": [
      "Info: Params [1.27083224 0.30242089 1.29784348 0.31687683] gave 1591.150759153586\n"
     ]
    },
    {
     "name": "stdout",
     "output_type": "stream",
     "text": [
      "   SAT  participant  Drift Rate  Boundary Separation  Non-decision Time  \\\n",
      "2    2           24    1.270832             1.297843           0.316877   \n",
      "\n",
      "   Effective Inhibition  \n",
      "2              0.302421  \n",
      "24\n"
     ]
    },
    {
     "name": "stderr",
     "output_type": "stream",
     "text": [
      "Info: Params [3.75141001 0.64347099 1.58898205 0.29448506] gave -1098.6941450409959\n"
     ]
    },
    {
     "name": "stdout",
     "output_type": "stream",
     "text": [
      "   SAT  participant  Drift Rate  Boundary Separation  Non-decision Time  \\\n",
      "2    2           25     3.75141             1.588982           0.294485   \n",
      "\n",
      "   Effective Inhibition  \n",
      "2              0.643471  \n",
      "25\n"
     ]
    },
    {
     "name": "stderr",
     "output_type": "stream",
     "text": [
      "Info: Params [1.16042596 1.78135353 0.87565934 0.32475759] gave 845.1405555913782\n"
     ]
    },
    {
     "name": "stdout",
     "output_type": "stream",
     "text": [
      "   SAT  participant  Drift Rate  Boundary Separation  Non-decision Time  \\\n",
      "2    2           26    1.160426             0.875659           0.324758   \n",
      "\n",
      "   Effective Inhibition  \n",
      "2              1.781354  \n",
      "26\n"
     ]
    },
    {
     "name": "stderr",
     "output_type": "stream",
     "text": [
      "Info: Params [2.4212787  0.86233536 1.34915642 0.24121258] gave -228.88230602459095\n"
     ]
    },
    {
     "name": "stdout",
     "output_type": "stream",
     "text": [
      "   SAT  participant  Drift Rate  Boundary Separation  Non-decision Time  \\\n",
      "2    2           27    2.421279             1.349156           0.241213   \n",
      "\n",
      "   Effective Inhibition  \n",
      "2              0.862335  \n",
      "27\n"
     ]
    },
    {
     "name": "stderr",
     "output_type": "stream",
     "text": [
      "Info: Params [ 2.86560874 -0.34618612  2.05854769  0.23852319] gave 504.06733369716545\n"
     ]
    },
    {
     "name": "stdout",
     "output_type": "stream",
     "text": [
      "   SAT  participant  Drift Rate  Boundary Separation  Non-decision Time  \\\n",
      "2    2           28    2.865609             2.058548           0.238523   \n",
      "\n",
      "   Effective Inhibition  \n",
      "2             -0.346186  \n",
      "28\n"
     ]
    },
    {
     "name": "stderr",
     "output_type": "stream",
     "text": [
      "Info: Params [2.12959875 0.20328411 1.43871231 0.30460853] gave 456.0229940768943\n"
     ]
    },
    {
     "name": "stdout",
     "output_type": "stream",
     "text": [
      "   SAT  participant  Drift Rate  Boundary Separation  Non-decision Time  \\\n",
      "2    2           29    2.129599             1.438712           0.304609   \n",
      "\n",
      "   Effective Inhibition  \n",
      "2              0.203284  \n",
      "29\n"
     ]
    },
    {
     "name": "stderr",
     "output_type": "stream",
     "text": [
      "Info: Params [1.73802843 0.02215357 1.43046608 0.21067666] gave 1073.4230417396684\n"
     ]
    },
    {
     "name": "stdout",
     "output_type": "stream",
     "text": [
      "   SAT  participant  Drift Rate  Boundary Separation  Non-decision Time  \\\n",
      "2    2           30    1.738028             1.430466           0.210677   \n",
      "\n",
      "   Effective Inhibition  \n",
      "2              0.022154  \n",
      "30\n"
     ]
    },
    {
     "name": "stderr",
     "output_type": "stream",
     "text": [
      "Info: Params [1.97425069 0.18278411 1.26525487 0.24040623] gave 514.7298521837149\n"
     ]
    },
    {
     "name": "stdout",
     "output_type": "stream",
     "text": [
      "   SAT  participant  Drift Rate  Boundary Separation  Non-decision Time  \\\n",
      "2    2           31    1.974251             1.265255           0.240406   \n",
      "\n",
      "   Effective Inhibition  \n",
      "2              0.182784  \n",
      "31\n"
     ]
    },
    {
     "name": "stderr",
     "output_type": "stream",
     "text": [
      "Info: Params [1.80850732 0.1025909  1.4554723  0.48908035] gave 967.3420197617969\n"
     ]
    },
    {
     "name": "stdout",
     "output_type": "stream",
     "text": [
      "   SAT  participant  Drift Rate  Boundary Separation  Non-decision Time  \\\n",
      "2    2           32    1.808507             1.455472            0.48908   \n",
      "\n",
      "   Effective Inhibition  \n",
      "2              0.102591  \n",
      "32\n"
     ]
    },
    {
     "name": "stderr",
     "output_type": "stream",
     "text": [
      "Info: Params [ 1.86504603 -1.37344615  0.80359163  0.34252151] gave 450.82452215377384\n"
     ]
    },
    {
     "name": "stdout",
     "output_type": "stream",
     "text": [
      "   SAT  participant  Drift Rate  Boundary Separation  Non-decision Time  \\\n",
      "2    2           33    1.865046             0.803592           0.342522   \n",
      "\n",
      "   Effective Inhibition  \n",
      "2             -1.373446  \n",
      "33\n"
     ]
    },
    {
     "name": "stderr",
     "output_type": "stream",
     "text": [
      "Info: Params [ 3.29118766 -2.31277874  1.12614689  0.58687779] gave 27.52244653792395\n"
     ]
    },
    {
     "name": "stdout",
     "output_type": "stream",
     "text": [
      "   SAT  participant  Drift Rate  Boundary Separation  Non-decision Time  \\\n",
      "2    2           34    3.291188             1.126147           0.586878   \n",
      "\n",
      "   Effective Inhibition  \n",
      "2             -2.312779  \n",
      "34\n"
     ]
    },
    {
     "name": "stderr",
     "output_type": "stream",
     "text": [
      "Info: Params [ 3.43730295 -1.32496527  1.20369062  0.31209483] gave -433.0149911428832\n"
     ]
    },
    {
     "name": "stdout",
     "output_type": "stream",
     "text": [
      "   SAT  participant  Drift Rate  Boundary Separation  Non-decision Time  \\\n",
      "2    2           35    3.437303             1.203691           0.312095   \n",
      "\n",
      "   Effective Inhibition  \n",
      "2             -1.324965  \n",
      "35\n"
     ]
    },
    {
     "name": "stderr",
     "output_type": "stream",
     "text": [
      "Info: Params [ 2.36199217 -0.41921896  0.73395201  0.38760891] gave -525.2046250899159\n"
     ]
    },
    {
     "name": "stdout",
     "output_type": "stream",
     "text": [
      "   SAT  participant  Drift Rate  Boundary Separation  Non-decision Time  \\\n",
      "2    2           36    2.361992             0.733952           0.387609   \n",
      "\n",
      "   Effective Inhibition  \n",
      "2             -0.419219  \n",
      "36\n"
     ]
    },
    {
     "name": "stderr",
     "output_type": "stream",
     "text": [
      "Info: Params [3.46009238 0.28329579 1.36822675 0.33425007] gave -916.9565621353316\n"
     ]
    },
    {
     "name": "stdout",
     "output_type": "stream",
     "text": [
      "   SAT  participant  Drift Rate  Boundary Separation  Non-decision Time  \\\n",
      "2    2           37    3.460092             1.368227            0.33425   \n",
      "\n",
      "   Effective Inhibition  \n",
      "2              0.283296  \n",
      "37\n"
     ]
    },
    {
     "name": "stderr",
     "output_type": "stream",
     "text": [
      "Info: Params [1.33644793 0.24806959 1.82374515 0.4487866 ] gave 1647.2933142017682\n"
     ]
    },
    {
     "name": "stdout",
     "output_type": "stream",
     "text": [
      "   SAT  participant  Drift Rate  Boundary Separation  Non-decision Time  \\\n",
      "2    2           38    1.336448             1.823745           0.448787   \n",
      "\n",
      "   Effective Inhibition  \n",
      "2               0.24807  \n",
      "38\n"
     ]
    },
    {
     "name": "stderr",
     "output_type": "stream",
     "text": [
      "Info: Params [ 3.27288863 -0.63652256  1.30848165  0.38745113] gave -446.851646701654\n"
     ]
    },
    {
     "name": "stdout",
     "output_type": "stream",
     "text": [
      "   SAT  participant  Drift Rate  Boundary Separation  Non-decision Time  \\\n",
      "2    2           39    3.272889             1.308482           0.387451   \n",
      "\n",
      "   Effective Inhibition  \n",
      "2             -0.636523  \n",
      "39\n"
     ]
    },
    {
     "name": "stderr",
     "output_type": "stream",
     "text": [
      "Info: Params [2.11134108 0.20471604 1.48266072 0.32788111] gave 519.3495282954743\n"
     ]
    },
    {
     "name": "stdout",
     "output_type": "stream",
     "text": [
      "   SAT  participant  Drift Rate  Boundary Separation  Non-decision Time  \\\n",
      "2    2           40    2.111341             1.482661           0.327881   \n",
      "\n",
      "   Effective Inhibition  \n",
      "2              0.204716  \n"
     ]
    }
   ],
   "source": [
    "#data_dir = \"/Users/wangjiashun/Desktop/SAT-Rafiei/data/data_sub\"\n",
    "df_all = pd.DataFrame(columns = ['Participant', 'v','a','ter','k','SAT'],)\n",
    "\n",
    "for Participant in range(40):\n",
    "\n",
    "    print(Participant)\n",
    "\n",
    "    model = Model(name='Simple model (fitted)',\n",
    "                  drift=DriftConstant(drift=df_Dutilh2018[\"Drift Rate\"][Participant]),   \n",
    "                  noise=NoiseConstant(noise=1),\n",
    "                  bound=BoundConstant(B = df_Dutilh2018[\"Boundary Separation\"][Participant]),\n",
    "                  overlay=OverlayNonDecision(nondectime = df_Dutilh2018[\"Non-decision Time\"][Participant]),\n",
    "                  dx=.001, dt=.001, T_dur=3)\n",
    "\n",
    "    sol = model.solve()\n",
    "    samp = sol.resample(1000)\n",
    "\n",
    "\n",
    "    model_fit = Model(name='Simple model (fitted)',\n",
    "                  drift=DriftLinear(drift=Fittable(minval=0, maxval=6),\n",
    "                                    t = 0,\n",
    "                                    x=Fittable(minval=-10, maxval=15)),\n",
    "                  noise=NoiseConstant(noise=1),\n",
    "                  bound=BoundConstant(B=Fittable(minval=0.5, maxval=8)),\n",
    "                  overlay=OverlayNonDecision(nondectime=Fittable(minval=0.1, maxval=1)),\n",
    "                  dx=.001, dt=.001, T_dur=3)\n",
    "\n",
    "    fit_adjust_model(samp, model_fit,\n",
    "                     fitting_method=\"differential_evolution\",\n",
    "                     lossfunction=LossRobustBIC, verbose=False)\n",
    "\n",
    "    df_sub = pd.DataFrame(columns = ['Frequency', 'SAT', 'Participant', 'v','a','ter','k'],)\n",
    "\n",
    "    df_sub = pd.DataFrame({\n",
    "                           'SAT':df_Dutilh2018[\"SAT\"][Participant], \n",
    "                           'participant': Participant + 1,\n",
    "                           'Drift Rate': np.array(model_fit.parameters()['drift']['drift']), \n",
    "                           'Boundary Separation': np.array(model_fit.parameters()['bound']['B']),\n",
    "                           'Non-decision Time': np.array(model_fit.parameters()['overlay']['nondectime']),\n",
    "                           'Effective Inhibition': np.array(model_fit.parameters()['drift']['x'])\n",
    "                          }, index=[i])\n",
    "\n",
    "    df_all = df_all.append(df_sub)\n",
    "\n",
    "    print(df_sub)\n"
   ]
  },
  {
   "cell_type": "code",
   "execution_count": null,
   "id": "f435e91a",
   "metadata": {},
   "outputs": [],
   "source": [
    "df_SAT = pd.melt(df_all, \n",
    "                 id_vars=['participant', 'SAT'], \n",
    "                 value_vars=['Drift Rate','Boundary Separation','Non-decision Time','Effective Inhibition'])"
   ]
  },
  {
   "cell_type": "code",
   "execution_count": 33,
   "id": "7207ed9e",
   "metadata": {
    "scrolled": false
   },
   "outputs": [
    {
     "data": {
      "text/plain": [
       "<seaborn.axisgrid.FacetGrid at 0x7f8348036910>"
      ]
     },
     "execution_count": 33,
     "metadata": {},
     "output_type": "execute_result"
    },
    {
     "data": {
      "image/png": "[encoded data removed]",
      "text/plain": [
       "<Figure size 858.875x600 with 1 Axes>"
      ]
     },
     "metadata": {},
     "output_type": "display_data"
    }
   ],
   "source": [
    "sns.catplot(data=df_SAT, x=\"variable\", y=\"value\", hue=\"SAT\", kind=\"box\",\n",
    "            height=6, aspect=8/6)"
   ]
  },
  {
   "cell_type": "code",
   "execution_count": 36,
   "id": "7e21ae26",
   "metadata": {},
   "outputs": [
    {
     "data": {
      "text/plain": [
       "Ttest_relResult(statistic=2.328944732969312, pvalue=0.03105070524050918)"
      ]
     },
     "execution_count": 36,
     "metadata": {},
     "output_type": "execute_result"
    }
   ],
   "source": [
    "import scipy\n",
    "scipy.stats.ttest_rel(df_SAT[:20]['value'], df_SAT[20:40]['value'])"
   ]
  },
  {
   "cell_type": "code",
   "execution_count": 38,
   "id": "af7c36ec",
   "metadata": {},
   "outputs": [
    {
     "data": {
      "text/plain": [
       "Ttest_relResult(statistic=-0.6185541416934783, pvalue=0.5435552020330445)"
      ]
     },
     "execution_count": 38,
     "metadata": {},
     "output_type": "execute_result"
    }
   ],
   "source": [
    "scipy.stats.ttest_rel(df_SAT[40:60]['value'], df_SAT[60:80]['value'])"
   ]
  },
  {
   "cell_type": "code",
   "execution_count": 39,
   "id": "be14adb2",
   "metadata": {},
   "outputs": [
    {
     "data": {
      "text/plain": [
       "Ttest_relResult(statistic=-4.29945450775912, pvalue=0.00038685827758349055)"
      ]
     },
     "execution_count": 39,
     "metadata": {},
     "output_type": "execute_result"
    }
   ],
   "source": [
    "scipy.stats.ttest_rel(df_SAT[80:100]['value'], df_SAT[100:120]['value'])"
   ]
  },
  {
   "cell_type": "code",
   "execution_count": 40,
   "id": "e823748e",
   "metadata": {},
   "outputs": [
    {
     "data": {
      "text/plain": [
       "Ttest_relResult(statistic=0.3700632381703128, pvalue=0.7154283242987596)"
      ]
     },
     "execution_count": 40,
     "metadata": {},
     "output_type": "execute_result"
    }
   ],
   "source": [
    "scipy.stats.ttest_rel(df_SAT[120:140]['value'], df_SAT[140:160]['value'])"
   ]
  },
  {
   "cell_type": "code",
   "execution_count": null,
   "id": "92a04476",
   "metadata": {},
   "outputs": [],
   "source": []
  }
 ],
 "metadata": {
  "kernelspec": {
   "display_name": "Python 3 (ipykernel)",
   "language": "python",
   "name": "python3"
  },
  "language_info": {
   "codemirror_mode": {
    "name": "ipython",
    "version": 3
   },
   "file_extension": ".py",
   "mimetype": "text/x-python",
   "name": "python",
   "nbconvert_exporter": "python",
   "pygments_lexer": "ipython3",
   "version": "3.7.15"
  }
 },
 "nbformat": 4,
 "nbformat_minor": 5
}
