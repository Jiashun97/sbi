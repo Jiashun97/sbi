{
 "cells": [
  {
   "cell_type": "code",
   "execution_count": 16,
   "id": "c3439876",
   "metadata": {},
   "outputs": [],
   "source": [
    "from pyddm import Model\n",
    "from pyddm.models import DriftConstant, DriftLinear, NoiseConstant, BoundConstant, OverlayNonDecision, ICPointSourceCenter\n",
    "from pyddm.functions import fit_adjust_model, display_model\n",
    "\n",
    "from pyddm import Fittable, Fitted, Sample\n",
    "from pyddm.models import LossRobustBIC, LossBIC, LossLikelihood, LossRobustLikelihood,LossSquaredError\n",
    "from pyddm.functions import fit_adjust_model\n",
    "import pyddm.plot\n",
    "\n",
    "from pyddm.plot import model_gui\n",
    "\n",
    "from pyddm import Drift, Bound\n"
   ]
  },
  {
   "cell_type": "code",
   "execution_count": 17,
   "id": "6e9a793d",
   "metadata": {},
   "outputs": [],
   "source": [
    "import pandas as pd\n",
    "import os\n",
    "import scipy.io as sio\n",
    "import scipy\n",
    "from statsmodels.stats.anova import AnovaRM\n",
    "import seaborn as sns\n",
    "import numpy as np\n",
    "\n"
   ]
  },
  {
   "cell_type": "code",
   "execution_count": 121,
   "id": "2174bbdb",
   "metadata": {},
   "outputs": [
    {
     "data": {
      "text/plain": [
       "'/Users/wangjiashun/Documents/GitHub/sbi'"
      ]
     },
     "execution_count": 121,
     "metadata": {},
     "output_type": "execute_result"
    }
   ],
   "source": [
    "\n",
    "os.chdir('/Users/wangjiashun/Documents/GitHub/sbi')\n",
    "os.getcwd() \n"
   ]
  },
  {
   "cell_type": "markdown",
   "id": "6e04d5df",
   "metadata": {},
   "source": [
    "## OUM-DDM"
   ]
  },
  {
   "cell_type": "code",
   "execution_count": 4,
   "id": "b716e5b8",
   "metadata": {},
   "outputs": [],
   "source": [
    "model = Model(name='Simple model (fitted)',\n",
    "              drift=DriftLinear(drift=2,\n",
    "                                t = 0,\n",
    "                                x = 2),\n",
    "              noise=NoiseConstant(noise=1),\n",
    "              bound=BoundConstant(B = 1),\n",
    "              overlay=OverlayNonDecision(nondectime = 0.2),\n",
    "              dx=.001, dt=.001, T_dur=3)\n",
    "\n",
    "sol = model.solve()\n",
    "samp = sol.resample(1000)\n"
   ]
  },
  {
   "cell_type": "code",
   "execution_count": 5,
   "id": "9a72f316",
   "metadata": {},
   "outputs": [
    {
     "name": "stderr",
     "output_type": "stream",
     "text": [
      "Info: Params [2.02435681 0.80657543 0.22187855] gave -105.02622278388068\n"
     ]
    },
    {
     "data": {
      "text/plain": [
       "Model(name='Simple model (fitted)', drift=DriftConstant(drift=Fitted(2.024356811214998, minval=0, maxval=4)), noise=NoiseConstant(noise=1), bound=BoundConstant(B=Fitted(0.8065754261651054, minval=0.5, maxval=2)), IC=ICPointSourceCenter(), overlay=OverlayNonDecision(nondectime=Fitted(0.22187855111913918, minval=0, maxval=1)), dx=0.001, dt=0.01, T_dur=3, fitresult=FitResult(fitting_method='differential_evolution', method='auto', loss='BIC', value=-105.02622278388068, nparams=3, samplesize=1000, mess=''))"
      ]
     },
     "execution_count": 5,
     "metadata": {},
     "output_type": "execute_result"
    }
   ],
   "source": [
    "model_fit = Model(name='Simple model (fitted)',\n",
    "                  drift=DriftConstant(drift=Fittable(minval=0, maxval=4)),\n",
    "                  noise=NoiseConstant(noise=1),\n",
    "                  bound=BoundConstant(B=Fittable(minval=.5, maxval=2)),\n",
    "                  overlay=OverlayNonDecision(nondectime=Fittable(minval=0, maxval=1)),\n",
    "                  dx=.001, dt=.01, T_dur=3)\n",
    "\n",
    "fit_adjust_model(samp, model_fit,\n",
    "                 fitting_method=\"differential_evolution\",\n",
    "                 lossfunction=LossRobustBIC, verbose=False)"
   ]
  },
  {
   "cell_type": "code",
   "execution_count": 7,
   "id": "deadbb62",
   "metadata": {},
   "outputs": [],
   "source": [
    "model = Model(name='Simple model (fitted)',\n",
    "              drift=DriftLinear(drift=2,\n",
    "                                t = 0,\n",
    "                                x = 5),\n",
    "              noise=NoiseConstant(noise=1),\n",
    "              bound=BoundConstant(B = 1),\n",
    "              overlay=OverlayNonDecision(nondectime = 0.2),\n",
    "              dx=.001, dt=.001, T_dur=3)\n",
    "\n",
    "sol = model.solve()\n",
    "samp = sol.resample(1000)\n"
   ]
  },
  {
   "cell_type": "code",
   "execution_count": 8,
   "id": "0530f8c4",
   "metadata": {},
   "outputs": [
    {
     "name": "stderr",
     "output_type": "stream",
     "text": [
      "Info: Params [2.03265785 0.60053763 0.23339766] gave -636.6647819634084\n"
     ]
    },
    {
     "data": {
      "text/plain": [
       "Model(name='Simple model (fitted)', drift=DriftConstant(drift=Fitted(2.0326578540549476, minval=0, maxval=4)), noise=NoiseConstant(noise=1), bound=BoundConstant(B=Fitted(0.6005376330821427, minval=0.5, maxval=2)), IC=ICPointSourceCenter(), overlay=OverlayNonDecision(nondectime=Fitted(0.23339765602971385, minval=0, maxval=1)), dx=0.001, dt=0.01, T_dur=3, fitresult=FitResult(fitting_method='differential_evolution', method='auto', loss='BIC', value=-636.6647819634084, nparams=3, samplesize=1000, mess=''))"
      ]
     },
     "execution_count": 8,
     "metadata": {},
     "output_type": "execute_result"
    }
   ],
   "source": [
    "model_fit = Model(name='Simple model (fitted)',\n",
    "                  drift=DriftConstant(drift=Fittable(minval=0, maxval=4)),\n",
    "                  noise=NoiseConstant(noise=1),\n",
    "                  bound=BoundConstant(B=Fittable(minval=.5, maxval=2)),\n",
    "                  overlay=OverlayNonDecision(nondectime=Fittable(minval=0, maxval=1)),\n",
    "                  dx=.001, dt=.01, T_dur=3)\n",
    "\n",
    "fit_adjust_model(samp, model_fit,\n",
    "                 fitting_method=\"differential_evolution\",\n",
    "                 lossfunction=LossRobustBIC, verbose=False)"
   ]
  },
  {
   "cell_type": "markdown",
   "id": "aaa4203d",
   "metadata": {},
   "source": [
    "## DDM-OUM"
   ]
  },
  {
   "cell_type": "code",
   "execution_count": 13,
   "id": "bf857c0d",
   "metadata": {},
   "outputs": [],
   "source": [
    "model = Model(name='Simple model (fitted)',\n",
    "              drift=DriftConstant(drift=2),\n",
    "              noise=NoiseConstant(noise=1),\n",
    "              bound=BoundConstant(B = 0.5),\n",
    "              overlay=OverlayNonDecision(nondectime = 0.2),\n",
    "              dx=.001, dt=.001, T_dur=3)\n",
    "\n",
    "sol = model.solve()\n",
    "samp = sol.resample(1000)\n"
   ]
  },
  {
   "cell_type": "code",
   "execution_count": 14,
   "id": "b45ae839",
   "metadata": {},
   "outputs": [
    {
     "name": "stderr",
     "output_type": "stream",
     "text": [
      "Info: Params [1.89773825 2.09380133 0.54141073 0.19673234] gave -831.3022366646035\n"
     ]
    },
    {
     "data": {
      "text/plain": [
       "Model(name='Simple model (fitted)', drift=DriftLinear(drift=Fitted(1.8977382492776054, minval=0, maxval=6), x=Fitted(2.0938013326394826, minval=-10, maxval=10), t=0), noise=NoiseConstant(noise=1), bound=BoundConstant(B=Fitted(0.5414107342514329, minval=0.5, maxval=10)), IC=ICPointSourceCenter(), overlay=OverlayNonDecision(nondectime=Fitted(0.19673234453250565, minval=0.1, maxval=1)), dx=0.001, dt=0.001, T_dur=3, fitresult=FitResult(fitting_method='differential_evolution', method='auto', loss='BIC', value=-831.3022366646035, nparams=4, samplesize=1000, mess=''))"
      ]
     },
     "execution_count": 14,
     "metadata": {},
     "output_type": "execute_result"
    }
   ],
   "source": [
    "model_fit = Model(name='Simple model (fitted)',\n",
    "              drift=DriftLinear(drift=Fittable(minval=0, maxval=6),\n",
    "                                t = 0,\n",
    "                                x=Fittable(minval=-10, maxval=10)),\n",
    "              noise=NoiseConstant(noise=1),\n",
    "              bound=BoundConstant(B=Fittable(minval=0.5, maxval=10)),\n",
    "              overlay=OverlayNonDecision(nondectime=Fittable(minval=0.1, maxval=1)),\n",
    "              dx=.001, dt=.001, T_dur=3)\n",
    "\n",
    "fit_adjust_model(samp, model_fit,\n",
    "                 fitting_method=\"differential_evolution\",\n",
    "                 lossfunction=LossRobustBIC, verbose=False)"
   ]
  },
  {
   "cell_type": "code",
   "execution_count": 15,
   "id": "23f9322e",
   "metadata": {},
   "outputs": [],
   "source": [
    "model = Model(name='Simple model (fitted)',\n",
    "              drift=DriftConstant(drift=2),\n",
    "              noise=NoiseConstant(noise=1),\n",
    "              bound=BoundConstant(B = 1),\n",
    "              overlay=OverlayNonDecision(nondectime = 0.2),\n",
    "              dx=.001, dt=.001, T_dur=3)\n",
    "\n",
    "sol = model.solve()\n",
    "samp = sol.resample(1000)\n"
   ]
  },
  {
   "cell_type": "code",
   "execution_count": 16,
   "id": "04248614",
   "metadata": {},
   "outputs": [
    {
     "name": "stderr",
     "output_type": "stream",
     "text": [
      "Info: Params [ 2.01624275 -0.04742563  0.99985593  0.20377685] gave 239.19999089900168\n"
     ]
    },
    {
     "data": {
      "text/plain": [
       "Model(name='Simple model (fitted)', drift=DriftLinear(drift=Fitted(2.0162427503802083, minval=0, maxval=6), x=Fitted(-0.047425631370949385, minval=-10, maxval=10), t=0), noise=NoiseConstant(noise=1), bound=BoundConstant(B=Fitted(0.9998559342133193, minval=0.5, maxval=10)), IC=ICPointSourceCenter(), overlay=OverlayNonDecision(nondectime=Fitted(0.2037768538496615, minval=0.1, maxval=1)), dx=0.001, dt=0.001, T_dur=3, fitresult=FitResult(fitting_method='differential_evolution', method='auto', loss='BIC', value=239.19999089900168, nparams=4, samplesize=1000, mess=''))"
      ]
     },
     "execution_count": 16,
     "metadata": {},
     "output_type": "execute_result"
    }
   ],
   "source": [
    "model_fit = Model(name='Simple model (fitted)',\n",
    "              drift=DriftLinear(drift=Fittable(minval=0, maxval=6),\n",
    "                                t = 0,\n",
    "                                x=Fittable(minval=-10, maxval=10)),\n",
    "              noise=NoiseConstant(noise=1),\n",
    "              bound=BoundConstant(B=Fittable(minval=0.5, maxval=10)),\n",
    "              overlay=OverlayNonDecision(nondectime=Fittable(minval=0.1, maxval=1)),\n",
    "              dx=.001, dt=.001, T_dur=3)\n",
    "\n",
    "fit_adjust_model(samp, model_fit,\n",
    "                 fitting_method=\"differential_evolution\",\n",
    "                 lossfunction=LossRobustBIC, verbose=False)"
   ]
  },
  {
   "cell_type": "markdown",
   "id": "bf76624a",
   "metadata": {},
   "source": [
    "## first try DDM"
   ]
  },
  {
   "cell_type": "code",
   "execution_count": 103,
   "id": "fdab3e53",
   "metadata": {},
   "outputs": [],
   "source": []
  },
  {
   "cell_type": "code",
   "execution_count": 46,
   "id": "b6b4ab57",
   "metadata": {},
   "outputs": [],
   "source": [
    "\n",
    "\n",
    "class BoundSpeedAcc(Bound):\n",
    "    name = \"constant\"\n",
    "    required_parameters = [\"Bspeed\", \"Bacc\"]\n",
    "    required_conditions = ['SAT']\n",
    "    def get_bound(self, conditions, *args, **kwargs):\n",
    "        assert self.Bacc > 0\n",
    "        assert self.Bspeed > 0\n",
    "        if conditions['SAT'] == 1:\n",
    "            return self.Bspeed\n",
    "        else:\n",
    "            return self.Bacc"
   ]
  },
  {
   "cell_type": "code",
   "execution_count": 91,
   "id": "1ecf3c83",
   "metadata": {},
   "outputs": [],
   "source": [
    "\n",
    "\n",
    "model = Model(name='Simple model (fitted)',\n",
    "              drift=DriftConstant(drift=2),\n",
    "              noise=NoiseConstant(noise=1),\n",
    "              bound=BoundSpeedAcc(Bspeed=1, Bacc=1.5),\n",
    "              overlay=OverlayNonDecision(nondectime = 0.2),\n",
    "              dx=.001, dt=.001, T_dur=3)"
   ]
  },
  {
   "cell_type": "code",
   "execution_count": 92,
   "id": "7b8d18ab",
   "metadata": {},
   "outputs": [
    {
     "data": {
      "text/html": [
       "<div>\n",
       "<style scoped>\n",
       "    .dataframe tbody tr th:only-of-type {\n",
       "        vertical-align: middle;\n",
       "    }\n",
       "\n",
       "    .dataframe tbody tr th {\n",
       "        vertical-align: top;\n",
       "    }\n",
       "\n",
       "    .dataframe thead th {\n",
       "        text-align: right;\n",
       "    }\n",
       "</style>\n",
       "<table border=\"1\" class=\"dataframe\">\n",
       "  <thead>\n",
       "    <tr style=\"text-align: right;\">\n",
       "      <th></th>\n",
       "      <th>correct</th>\n",
       "      <th>RT</th>\n",
       "      <th>SAT</th>\n",
       "    </tr>\n",
       "  </thead>\n",
       "  <tbody>\n",
       "    <tr>\n",
       "      <th>0</th>\n",
       "      <td>1</td>\n",
       "      <td>0.537767</td>\n",
       "      <td>1</td>\n",
       "    </tr>\n",
       "    <tr>\n",
       "      <th>1</th>\n",
       "      <td>1</td>\n",
       "      <td>0.391001</td>\n",
       "      <td>1</td>\n",
       "    </tr>\n",
       "    <tr>\n",
       "      <th>2</th>\n",
       "      <td>1</td>\n",
       "      <td>1.195616</td>\n",
       "      <td>1</td>\n",
       "    </tr>\n",
       "    <tr>\n",
       "      <th>3</th>\n",
       "      <td>1</td>\n",
       "      <td>1.037282</td>\n",
       "      <td>1</td>\n",
       "    </tr>\n",
       "    <tr>\n",
       "      <th>4</th>\n",
       "      <td>1</td>\n",
       "      <td>0.751699</td>\n",
       "      <td>1</td>\n",
       "    </tr>\n",
       "    <tr>\n",
       "      <th>...</th>\n",
       "      <td>...</td>\n",
       "      <td>...</td>\n",
       "      <td>...</td>\n",
       "    </tr>\n",
       "    <tr>\n",
       "      <th>992</th>\n",
       "      <td>1</td>\n",
       "      <td>1.222243</td>\n",
       "      <td>2</td>\n",
       "    </tr>\n",
       "    <tr>\n",
       "      <th>993</th>\n",
       "      <td>0</td>\n",
       "      <td>0.598101</td>\n",
       "      <td>2</td>\n",
       "    </tr>\n",
       "    <tr>\n",
       "      <th>994</th>\n",
       "      <td>0</td>\n",
       "      <td>0.580987</td>\n",
       "      <td>2</td>\n",
       "    </tr>\n",
       "    <tr>\n",
       "      <th>995</th>\n",
       "      <td>0</td>\n",
       "      <td>1.059978</td>\n",
       "      <td>2</td>\n",
       "    </tr>\n",
       "    <tr>\n",
       "      <th>996</th>\n",
       "      <td>0</td>\n",
       "      <td>1.168084</td>\n",
       "      <td>2</td>\n",
       "    </tr>\n",
       "  </tbody>\n",
       "</table>\n",
       "<p>1997 rows × 3 columns</p>\n",
       "</div>"
      ],
      "text/plain": [
       "     correct        RT  SAT\n",
       "0          1  0.537767    1\n",
       "1          1  0.391001    1\n",
       "2          1  1.195616    1\n",
       "3          1  1.037282    1\n",
       "4          1  0.751699    1\n",
       "..       ...       ...  ...\n",
       "992        1  1.222243    2\n",
       "993        0  0.598101    2\n",
       "994        0  0.580987    2\n",
       "995        0  1.059978    2\n",
       "996        0  1.168084    2\n",
       "\n",
       "[1997 rows x 3 columns]"
      ]
     },
     "execution_count": 92,
     "metadata": {},
     "output_type": "execute_result"
    }
   ],
   "source": [
    "df"
   ]
  },
  {
   "cell_type": "code",
   "execution_count": 93,
   "id": "3b20898b",
   "metadata": {},
   "outputs": [],
   "source": [
    "sol = model.solve({\"SAT\": 1})\n",
    "samp1 = sol.resample(1000)\n",
    "\n",
    "sol = model.solve({\"SAT\": 2})\n",
    "samp2 = sol.resample(1000)\n",
    "\n",
    "df = samp1.to_pandas_dataframe(drop_undecided = \"True\").append(samp2.to_pandas_dataframe(drop_undecided = \"True\"))\n",
    "\n",
    "DDM_sample = Sample.from_pandas_dataframe(df, rt_column_name=\"RT\", correct_column_name=\"correct\")\n",
    "\n"
   ]
  },
  {
   "cell_type": "code",
   "execution_count": 74,
   "id": "4ea1dca1",
   "metadata": {},
   "outputs": [],
   "source": [
    "#sol = model.solve({\"SAT\": 2})\n",
    "#samp = sol.resample(1000)\n",
    "\n",
    "#RT = np.concatenate((samp.corr,samp.err))\n",
    "#Correct = [1]*samp.corr.shape[0] + [0]*samp.err.shape[0]\n",
    "#SAT = [\"Bacc\"]*len(Correct)\n",
    "\n",
    "#df2 = pd.DataFrame({\"RT\": RT, \"Correct\": Correct, \"SAT\": SAT})"
   ]
  },
  {
   "cell_type": "code",
   "execution_count": 75,
   "id": "872d6ef0",
   "metadata": {},
   "outputs": [],
   "source": [
    "#df = df1.append(df2)"
   ]
  },
  {
   "cell_type": "code",
   "execution_count": null,
   "id": "48a681fa",
   "metadata": {},
   "outputs": [],
   "source": []
  },
  {
   "cell_type": "code",
   "execution_count": null,
   "id": "fd598ca7",
   "metadata": {},
   "outputs": [],
   "source": []
  },
  {
   "cell_type": "code",
   "execution_count": null,
   "id": "d4f2f582",
   "metadata": {},
   "outputs": [],
   "source": []
  },
  {
   "cell_type": "code",
   "execution_count": 95,
   "id": "83b51564",
   "metadata": {},
   "outputs": [],
   "source": [
    "model_fit = Model(name='Simple model (fitted)',\n",
    "              drift=DriftConstant(drift=Fittable(minval=0, maxval=4)),\n",
    "              noise=NoiseConstant(noise=1),\n",
    "              bound=BoundSpeedAcc(\n",
    "                  Bspeed=Fittable(minval=.5, maxval=2),\n",
    "                  Bacc=Fittable(minval=.5, maxval=2)), \n",
    "              overlay=OverlayNonDecision(nondectime = Fittable(minval=0, maxval=1)),\n",
    "              dx=.001, dt=.001, T_dur=3)\n"
   ]
  },
  {
   "cell_type": "code",
   "execution_count": 96,
   "id": "bc8ba181",
   "metadata": {},
   "outputs": [],
   "source": [
    "#model_gui(model_fit, conditions={\"SAT\": [1,2]})\n"
   ]
  },
  {
   "cell_type": "code",
   "execution_count": 97,
   "id": "ae9f9d88",
   "metadata": {},
   "outputs": [
    {
     "name": "stderr",
     "output_type": "stream",
     "text": [
      "Info: Params [2.00906896 1.00564982 1.52923193 0.20085881] gave 1004.7594933644128\n"
     ]
    },
    {
     "data": {
      "text/plain": [
       "Model(name='Simple model (fitted)', drift=DriftConstant(drift=Fitted(2.0090689558187447, minval=0, maxval=4)), noise=NoiseConstant(noise=1), bound=BoundSpeedAcc(Bspeed=Fitted(1.0056498197343293, minval=0.5, maxval=2), Bacc=Fitted(1.529231932979572, minval=0.5, maxval=2)), IC=ICPointSourceCenter(), overlay=OverlayNonDecision(nondectime=Fitted(0.2008588137402622, minval=0, maxval=1)), dx=0.001, dt=0.001, T_dur=3, fitresult=FitResult(fitting_method='differential_evolution', method='auto', loss='BIC', value=1004.7594933644128, nparams=4, samplesize=1996, mess=''))"
      ]
     },
     "execution_count": 97,
     "metadata": {},
     "output_type": "execute_result"
    }
   ],
   "source": [
    "fit_adjust_model(DDM_sample, model_fit,\n",
    "                 fitting_method=\"differential_evolution\",\n",
    "                 lossfunction=LossRobustBIC, verbose=False)"
   ]
  },
  {
   "cell_type": "markdown",
   "id": "e7dd260e",
   "metadata": {},
   "source": [
    "## OUM Only inhibition vary"
   ]
  },
  {
   "cell_type": "code",
   "execution_count": null,
   "id": "d2431ecc",
   "metadata": {},
   "outputs": [],
   "source": []
  },
  {
   "cell_type": "code",
   "execution_count": 41,
   "id": "14f17687",
   "metadata": {},
   "outputs": [],
   "source": [
    "class DriftSpeedAcc(Drift):\n",
    "    name = \"DriftLinearSAT\"\n",
    "    required_parameters = [\"drift\", \"Kspeed\", \"Kacc\"]\n",
    "    required_conditions = ['SAT']\n",
    "        \n",
    "    def get_drift(self, x, t, conditions, **kwargs):\n",
    "        if conditions['SAT'] == 1:\n",
    "            return self.drift + x*self.Kspeed \n",
    "        else:\n",
    "            return self.drift + x*self.Kacc"
   ]
  },
  {
   "cell_type": "code",
   "execution_count": 29,
   "id": "29f56732",
   "metadata": {},
   "outputs": [],
   "source": [
    "\n",
    "\n",
    "model = Model(name='Simple model (fitted)',\n",
    "              drift=DriftSpeedAcc(drift = 2, Kspeed=10, Kacc=5),\n",
    "              noise=NoiseConstant(noise=1),\n",
    "              bound=BoundConstant(B=1),\n",
    "              overlay=OverlayNonDecision(nondectime = 0.2),\n",
    "              dx=.001, dt=.001, T_dur=3)"
   ]
  },
  {
   "cell_type": "code",
   "execution_count": 30,
   "id": "c6e2a542",
   "metadata": {},
   "outputs": [
    {
     "data": {
      "text/plain": [
       "Model(name='Simple model (fitted)', drift=DriftSpeedAcc(drift=2, Kspeed=10, Kacc=5), noise=NoiseConstant(noise=1), bound=BoundConstant(B=1), IC=ICPointSourceCenter(), overlay=OverlayNonDecision(nondectime=0.2), dx=0.001, dt=0.001, T_dur=3)"
      ]
     },
     "execution_count": 30,
     "metadata": {},
     "output_type": "execute_result"
    }
   ],
   "source": [
    "#model_gui(model, conditions={\"SAT\": [1,2]})\n"
   ]
  },
  {
   "cell_type": "code",
   "execution_count": 31,
   "id": "ccdc7c41",
   "metadata": {},
   "outputs": [],
   "source": [
    "sol = model.solve({\"SAT\": 1})\n",
    "samp1 = sol.resample(1000)\n",
    "\n",
    "sol = model.solve({\"SAT\": 2})\n",
    "samp2 = sol.resample(1000)\n",
    "\n",
    "df = samp1.to_pandas_dataframe(drop_undecided = \"True\").append(samp2.to_pandas_dataframe(drop_undecided = \"True\"))\n",
    "\n",
    "OUM_sample = Sample.from_pandas_dataframe(df, rt_column_name=\"RT\", correct_column_name=\"correct\")\n",
    "\n"
   ]
  },
  {
   "cell_type": "code",
   "execution_count": 34,
   "id": "c081ae6b",
   "metadata": {},
   "outputs": [],
   "source": []
  },
  {
   "cell_type": "code",
   "execution_count": 42,
   "id": "3395184d",
   "metadata": {},
   "outputs": [],
   "source": [
    "model_fit = Model(name='Simple model (fitted)',\n",
    "              drift=DriftSpeedAcc(drift = Fittable(minval=0, maxval=4),\n",
    "                                  Kspeed=Fittable(minval=-10, maxval=10),\n",
    "                                  Kacc=Fittable(minval=-10, maxval=10)),\n",
    "\n",
    "              noise=NoiseConstant(noise=1),\n",
    "              bound=BoundConstant(B=Fittable(minval=0.5, maxval=2)),\n",
    "              overlay=OverlayNonDecision(nondectime=Fittable(minval=0, maxval=1)),\n",
    "              dx=.001, dt=.001, T_dur=3)"
   ]
  },
  {
   "cell_type": "code",
   "execution_count": 43,
   "id": "8eb1f269",
   "metadata": {},
   "outputs": [
    {
     "name": "stderr",
     "output_type": "stream",
     "text": [
      "Info: Params [ 1.99497583 10.          4.84913791  0.99256232  0.1998763 ] gave -1952.8071452456818\n"
     ]
    },
    {
     "data": {
      "text/plain": [
       "Model(name='Simple model (fitted)', drift=DriftSpeedAcc(drift=Fitted(1.994975831316418, minval=0, maxval=4), Kspeed=Fitted(10.0, minval=-10, maxval=10), Kacc=Fitted(4.849137909067785, minval=-10, maxval=10)), noise=NoiseConstant(noise=1), bound=BoundConstant(B=Fitted(0.9925623226825916, minval=0.5, maxval=2)), IC=ICPointSourceCenter(), overlay=OverlayNonDecision(nondectime=Fitted(0.1998763029481465, minval=0, maxval=1)), dx=0.001, dt=0.001, T_dur=3, fitresult=FitResult(fitting_method='differential_evolution', method='auto', loss='BIC', value=-1952.8071452456818, nparams=5, samplesize=2000, mess=''))"
      ]
     },
     "execution_count": 43,
     "metadata": {},
     "output_type": "execute_result"
    }
   ],
   "source": [
    "fit_adjust_model(OUM_sample, model_fit,\n",
    "                 fitting_method=\"differential_evolution\",\n",
    "                 lossfunction=LossRobustBIC, verbose=False)"
   ]
  },
  {
   "cell_type": "markdown",
   "id": "70a5c28a",
   "metadata": {},
   "source": [
    "## OUM both boundary and inhibition vary\n"
   ]
  },
  {
   "cell_type": "code",
   "execution_count": 51,
   "id": "bcb8a3c1",
   "metadata": {},
   "outputs": [],
   "source": [
    "## both boundary and inhibition vary\n",
    "\n",
    "\n",
    "\n",
    "\n",
    "model = Model(name='Simple model (fitted)',\n",
    "              drift=DriftSpeedAcc(drift = 2, Kspeed=10, Kacc=5),\n",
    "              noise=NoiseConstant(noise=1),\n",
    "              bound=BoundConstant(B=1),\n",
    "              overlay=OverlayNonDecision(nondectime = 0.2),\n",
    "              dx=.001, dt=.001, T_dur=3)\n",
    "\n",
    "\n"
   ]
  },
  {
   "cell_type": "code",
   "execution_count": 52,
   "id": "52f436e8",
   "metadata": {},
   "outputs": [],
   "source": [
    "sol = model.solve({\"SAT\": 1})\n",
    "samp1 = sol.resample(1000)\n",
    "\n",
    "sol = model.solve({\"SAT\": 2})\n",
    "samp2 = sol.resample(1000)\n",
    "\n",
    "df = samp1.to_pandas_dataframe(drop_undecided = \"True\").append(samp2.to_pandas_dataframe(drop_undecided = \"True\"))\n",
    "\n",
    "OUM_sample = Sample.from_pandas_dataframe(df, rt_column_name=\"RT\", correct_column_name=\"correct\")\n",
    "\n"
   ]
  },
  {
   "cell_type": "code",
   "execution_count": 53,
   "id": "274052df",
   "metadata": {},
   "outputs": [],
   "source": []
  },
  {
   "cell_type": "code",
   "execution_count": 54,
   "id": "a97b1f98",
   "metadata": {},
   "outputs": [],
   "source": [
    "model_fit = Model(name='Simple model (fitted)',\n",
    "              drift=DriftSpeedAcc(drift = Fittable(minval=0, maxval=4),\n",
    "                                  Kspeed=Fittable(minval=-10, maxval=10),\n",
    "                                  Kacc=Fittable(minval=-10, maxval=10)),\n",
    "\n",
    "              noise=NoiseConstant(noise=1),\n",
    "              bound=BoundSpeedAcc(\n",
    "                  Bspeed=Fittable(minval=.5, maxval=2),\n",
    "                  Bacc=Fittable(minval=.5, maxval=2)),\n",
    "              overlay=OverlayNonDecision(nondectime=Fittable(minval=0, maxval=1)),\n",
    "              dx=.001, dt=.001, T_dur=3)"
   ]
  },
  {
   "cell_type": "code",
   "execution_count": 55,
   "id": "836256d9",
   "metadata": {},
   "outputs": [
    {
     "name": "stderr",
     "output_type": "stream",
     "text": [
      "Info: Params [2.0281102  9.55609239 5.02370936 1.04490431 1.10950376 0.19285383] gave -1826.7849690500573\n"
     ]
    },
    {
     "data": {
      "text/plain": [
       "Model(name='Simple model (fitted)', drift=DriftSpeedAcc(drift=Fitted(2.0281102025898834, minval=0, maxval=4), Kspeed=Fitted(9.556092389790303, minval=-10, maxval=10), Kacc=Fitted(5.023709363205432, minval=-10, maxval=10)), noise=NoiseConstant(noise=1), bound=BoundSpeedAcc(Bspeed=Fitted(1.044904307648853, minval=0.5, maxval=2), Bacc=Fitted(1.109503764378056, minval=0.5, maxval=2)), IC=ICPointSourceCenter(), overlay=OverlayNonDecision(nondectime=Fitted(0.19285383464085953, minval=0, maxval=1)), dx=0.001, dt=0.001, T_dur=3, fitresult=FitResult(fitting_method='differential_evolution', method='auto', loss='BIC', value=-1826.7849690500573, nparams=6, samplesize=1999, mess=''))"
      ]
     },
     "execution_count": 55,
     "metadata": {},
     "output_type": "execute_result"
    }
   ],
   "source": [
    "fit_adjust_model(OUM_sample, model_fit,\n",
    "                 fitting_method=\"differential_evolution\",\n",
    "                 lossfunction=LossRobustBIC, verbose=False)"
   ]
  },
  {
   "cell_type": "markdown",
   "id": "4546a252",
   "metadata": {},
   "source": [
    "## DDM-OUM: two conditions of inhibiton - let inhibition and boundary vary"
   ]
  },
  {
   "cell_type": "code",
   "execution_count": 67,
   "id": "4856ad7a",
   "metadata": {},
   "outputs": [],
   "source": [
    "model1 = Model(name='Simple model (fitted)',\n",
    "              drift=DriftConstant(drift=2),\n",
    "              noise=NoiseConstant(noise=1),\n",
    "              bound=BoundConstant(B = 1),\n",
    "              overlay=OverlayNonDecision(nondectime = 0.2),\n",
    "              dx=.001, dt=.001, T_dur=3)\n",
    "\n",
    "\n",
    "sol = model1.solve()\n",
    "samp1 = sol.resample(1000)\n",
    "\n",
    "model2 = Model(name='Simple model (fitted)',\n",
    "              drift=DriftConstant(drift=2),\n",
    "              noise=NoiseConstant(noise=1),\n",
    "              bound=BoundConstant(B = 2),\n",
    "              overlay=OverlayNonDecision(nondectime = 0.2),\n",
    "              dx=.001, dt=.001, T_dur=3)\n",
    "\n",
    "sol = model2.solve()\n",
    "samp2 = sol.resample(1000)\n",
    "\n",
    "df = samp1.to_pandas_dataframe(drop_undecided = \"True\").append(samp2.to_pandas_dataframe(drop_undecided = \"True\"))\n",
    "n1 = samp1.to_pandas_dataframe(drop_undecided = \"True\")['RT'].shape[0]\n",
    "n2 = samp2.to_pandas_dataframe(drop_undecided = \"True\")['RT'].shape[0]\n",
    "SAT = [1]*n1 + [2]*n2\n",
    "df[\"SAT\"] = SAT\n",
    "\n",
    "DDM_sample = Sample.from_pandas_dataframe(df, rt_column_name=\"RT\", correct_column_name=\"correct\")\n",
    "\n"
   ]
  },
  {
   "cell_type": "code",
   "execution_count": 68,
   "id": "78c9c8bb",
   "metadata": {},
   "outputs": [
    {
     "name": "stderr",
     "output_type": "stream",
     "text": [
      "Info: Params [ 2.08509566 -0.59987806 -0.08624979  0.89985844  1.9881302   0.22384246] gave 1260.3425046126245\n"
     ]
    },
    {
     "data": {
      "text/plain": [
       "Model(name='Simple model (fitted)', drift=DriftSpeedAcc(drift=Fitted(2.085095658059301, minval=0, maxval=4), Kspeed=Fitted(-0.5998780557126104, minval=-10, maxval=10), Kacc=Fitted(-0.08624979390094961, minval=-10, maxval=10)), noise=NoiseConstant(noise=1), bound=BoundSpeedAcc(Bspeed=Fitted(0.8998584388279698, minval=0.5, maxval=2), Bacc=Fitted(1.9881302043561226, minval=0.5, maxval=2)), IC=ICPointSourceCenter(), overlay=OverlayNonDecision(nondectime=Fitted(0.22384245583151652, minval=0, maxval=1)), dx=0.001, dt=0.001, T_dur=3, fitresult=FitResult(fitting_method='differential_evolution', method='auto', loss='BIC', value=1260.3425046126245, nparams=6, samplesize=1989, mess=''))"
      ]
     },
     "execution_count": 68,
     "metadata": {},
     "output_type": "execute_result"
    }
   ],
   "source": [
    "model_fit = Model(name='Simple model (fitted)',\n",
    "              drift=DriftSpeedAcc(drift = Fittable(minval=0, maxval=4),\n",
    "                                  Kspeed=Fittable(minval=-10, maxval=10),\n",
    "                                  Kacc=Fittable(minval=-10, maxval=10)),\n",
    "\n",
    "              noise=NoiseConstant(noise=1),\n",
    "              bound=BoundSpeedAcc(\n",
    "                  Bspeed=Fittable(minval=.5, maxval=2),\n",
    "                  Bacc=Fittable(minval=.5, maxval=2)),\n",
    "              overlay=OverlayNonDecision(nondectime=Fittable(minval=0, maxval=1)),\n",
    "              dx=.001, dt=.001, T_dur=3)\n",
    "\n",
    "fit_adjust_model(DDM_sample, model_fit,\n",
    "                 fitting_method=\"differential_evolution\",\n",
    "                 lossfunction=LossRobustBIC, verbose=False)"
   ]
  },
  {
   "cell_type": "code",
   "execution_count": 118,
   "id": "99182e2b",
   "metadata": {},
   "outputs": [
    {
     "data": {
      "text/html": [
       "<div>\n",
       "<style scoped>\n",
       "    .dataframe tbody tr th:only-of-type {\n",
       "        vertical-align: middle;\n",
       "    }\n",
       "\n",
       "    .dataframe tbody tr th {\n",
       "        vertical-align: top;\n",
       "    }\n",
       "\n",
       "    .dataframe thead th {\n",
       "        text-align: right;\n",
       "    }\n",
       "</style>\n",
       "<table border=\"1\" class=\"dataframe\">\n",
       "  <thead>\n",
       "    <tr style=\"text-align: right;\">\n",
       "      <th></th>\n",
       "      <th>Participant</th>\n",
       "      <th>Drift Rate</th>\n",
       "      <th>Boundary Separation</th>\n",
       "      <th>Non-decision Time</th>\n",
       "      <th>Effective Inhibition</th>\n",
       "      <th>SAT</th>\n",
       "      <th>participant</th>\n",
       "    </tr>\n",
       "  </thead>\n",
       "  <tbody>\n",
       "    <tr>\n",
       "      <th>2</th>\n",
       "      <td>NaN</td>\n",
       "      <td>4.743589</td>\n",
       "      <td>1.281213</td>\n",
       "      <td>0.342201</td>\n",
       "      <td>1.295080</td>\n",
       "      <td>Speed</td>\n",
       "      <td>1.0</td>\n",
       "    </tr>\n",
       "    <tr>\n",
       "      <th>3</th>\n",
       "      <td>NaN</td>\n",
       "      <td>4.478144</td>\n",
       "      <td>1.325501</td>\n",
       "      <td>0.335023</td>\n",
       "      <td>1.876562</td>\n",
       "      <td>Speed</td>\n",
       "      <td>2.0</td>\n",
       "    </tr>\n",
       "    <tr>\n",
       "      <th>4</th>\n",
       "      <td>NaN</td>\n",
       "      <td>4.391122</td>\n",
       "      <td>1.504934</td>\n",
       "      <td>0.320773</td>\n",
       "      <td>2.229962</td>\n",
       "      <td>Speed</td>\n",
       "      <td>3.0</td>\n",
       "    </tr>\n",
       "    <tr>\n",
       "      <th>5</th>\n",
       "      <td>NaN</td>\n",
       "      <td>4.308306</td>\n",
       "      <td>3.024580</td>\n",
       "      <td>0.221072</td>\n",
       "      <td>3.682785</td>\n",
       "      <td>Speed</td>\n",
       "      <td>4.0</td>\n",
       "    </tr>\n",
       "    <tr>\n",
       "      <th>6</th>\n",
       "      <td>NaN</td>\n",
       "      <td>4.353145</td>\n",
       "      <td>3.909021</td>\n",
       "      <td>0.174576</td>\n",
       "      <td>3.788301</td>\n",
       "      <td>Speed</td>\n",
       "      <td>5.0</td>\n",
       "    </tr>\n",
       "    <tr>\n",
       "      <th>7</th>\n",
       "      <td>NaN</td>\n",
       "      <td>4.154923</td>\n",
       "      <td>3.825598</td>\n",
       "      <td>0.191552</td>\n",
       "      <td>4.286064</td>\n",
       "      <td>Speed</td>\n",
       "      <td>6.0</td>\n",
       "    </tr>\n",
       "    <tr>\n",
       "      <th>8</th>\n",
       "      <td>NaN</td>\n",
       "      <td>4.203779</td>\n",
       "      <td>1.870922</td>\n",
       "      <td>0.291467</td>\n",
       "      <td>3.097410</td>\n",
       "      <td>Speed</td>\n",
       "      <td>7.0</td>\n",
       "    </tr>\n",
       "    <tr>\n",
       "      <th>9</th>\n",
       "      <td>NaN</td>\n",
       "      <td>5.522329</td>\n",
       "      <td>1.304892</td>\n",
       "      <td>0.323175</td>\n",
       "      <td>-0.833223</td>\n",
       "      <td>Speed</td>\n",
       "      <td>8.0</td>\n",
       "    </tr>\n",
       "    <tr>\n",
       "      <th>10</th>\n",
       "      <td>NaN</td>\n",
       "      <td>4.549235</td>\n",
       "      <td>1.207541</td>\n",
       "      <td>0.340412</td>\n",
       "      <td>0.729584</td>\n",
       "      <td>Speed</td>\n",
       "      <td>9.0</td>\n",
       "    </tr>\n",
       "    <tr>\n",
       "      <th>11</th>\n",
       "      <td>NaN</td>\n",
       "      <td>4.759492</td>\n",
       "      <td>1.073282</td>\n",
       "      <td>0.356270</td>\n",
       "      <td>0.026455</td>\n",
       "      <td>Speed</td>\n",
       "      <td>10.0</td>\n",
       "    </tr>\n",
       "    <tr>\n",
       "      <th>12</th>\n",
       "      <td>NaN</td>\n",
       "      <td>5.232113</td>\n",
       "      <td>1.335109</td>\n",
       "      <td>0.329584</td>\n",
       "      <td>-0.156610</td>\n",
       "      <td>Speed</td>\n",
       "      <td>11.0</td>\n",
       "    </tr>\n",
       "    <tr>\n",
       "      <th>13</th>\n",
       "      <td>NaN</td>\n",
       "      <td>4.435921</td>\n",
       "      <td>1.380888</td>\n",
       "      <td>0.330620</td>\n",
       "      <td>1.828063</td>\n",
       "      <td>Speed</td>\n",
       "      <td>12.0</td>\n",
       "    </tr>\n",
       "    <tr>\n",
       "      <th>14</th>\n",
       "      <td>NaN</td>\n",
       "      <td>4.395398</td>\n",
       "      <td>1.225642</td>\n",
       "      <td>0.346801</td>\n",
       "      <td>1.658044</td>\n",
       "      <td>Speed</td>\n",
       "      <td>13.0</td>\n",
       "    </tr>\n",
       "    <tr>\n",
       "      <th>15</th>\n",
       "      <td>NaN</td>\n",
       "      <td>4.330579</td>\n",
       "      <td>1.454530</td>\n",
       "      <td>0.319941</td>\n",
       "      <td>2.111733</td>\n",
       "      <td>Speed</td>\n",
       "      <td>14.0</td>\n",
       "    </tr>\n",
       "    <tr>\n",
       "      <th>16</th>\n",
       "      <td>NaN</td>\n",
       "      <td>4.806045</td>\n",
       "      <td>1.111046</td>\n",
       "      <td>0.353426</td>\n",
       "      <td>-0.025427</td>\n",
       "      <td>Speed</td>\n",
       "      <td>15.0</td>\n",
       "    </tr>\n",
       "    <tr>\n",
       "      <th>17</th>\n",
       "      <td>NaN</td>\n",
       "      <td>5.468880</td>\n",
       "      <td>1.117015</td>\n",
       "      <td>0.354120</td>\n",
       "      <td>-1.086044</td>\n",
       "      <td>Speed</td>\n",
       "      <td>16.0</td>\n",
       "    </tr>\n",
       "    <tr>\n",
       "      <th>18</th>\n",
       "      <td>NaN</td>\n",
       "      <td>4.534703</td>\n",
       "      <td>1.622069</td>\n",
       "      <td>0.304951</td>\n",
       "      <td>1.860699</td>\n",
       "      <td>Speed</td>\n",
       "      <td>17.0</td>\n",
       "    </tr>\n",
       "    <tr>\n",
       "      <th>19</th>\n",
       "      <td>NaN</td>\n",
       "      <td>4.242886</td>\n",
       "      <td>1.608939</td>\n",
       "      <td>0.307833</td>\n",
       "      <td>2.364013</td>\n",
       "      <td>Speed</td>\n",
       "      <td>18.0</td>\n",
       "    </tr>\n",
       "    <tr>\n",
       "      <th>20</th>\n",
       "      <td>NaN</td>\n",
       "      <td>4.564450</td>\n",
       "      <td>1.111965</td>\n",
       "      <td>0.356968</td>\n",
       "      <td>0.706138</td>\n",
       "      <td>Speed</td>\n",
       "      <td>19.0</td>\n",
       "    </tr>\n",
       "    <tr>\n",
       "      <th>21</th>\n",
       "      <td>NaN</td>\n",
       "      <td>5.494523</td>\n",
       "      <td>1.051826</td>\n",
       "      <td>0.356822</td>\n",
       "      <td>-1.926756</td>\n",
       "      <td>Speed</td>\n",
       "      <td>20.0</td>\n",
       "    </tr>\n",
       "    <tr>\n",
       "      <th>22</th>\n",
       "      <td>NaN</td>\n",
       "      <td>4.295549</td>\n",
       "      <td>1.041167</td>\n",
       "      <td>0.359816</td>\n",
       "      <td>0.861618</td>\n",
       "      <td>Accuracy</td>\n",
       "      <td>21.0</td>\n",
       "    </tr>\n",
       "    <tr>\n",
       "      <th>23</th>\n",
       "      <td>NaN</td>\n",
       "      <td>4.701704</td>\n",
       "      <td>0.952253</td>\n",
       "      <td>0.367081</td>\n",
       "      <td>-0.687313</td>\n",
       "      <td>Accuracy</td>\n",
       "      <td>22.0</td>\n",
       "    </tr>\n",
       "    <tr>\n",
       "      <th>24</th>\n",
       "      <td>NaN</td>\n",
       "      <td>4.314606</td>\n",
       "      <td>2.232440</td>\n",
       "      <td>0.260352</td>\n",
       "      <td>3.056340</td>\n",
       "      <td>Accuracy</td>\n",
       "      <td>23.0</td>\n",
       "    </tr>\n",
       "    <tr>\n",
       "      <th>25</th>\n",
       "      <td>NaN</td>\n",
       "      <td>4.546314</td>\n",
       "      <td>1.445156</td>\n",
       "      <td>0.324540</td>\n",
       "      <td>1.816763</td>\n",
       "      <td>Accuracy</td>\n",
       "      <td>24.0</td>\n",
       "    </tr>\n",
       "    <tr>\n",
       "      <th>26</th>\n",
       "      <td>NaN</td>\n",
       "      <td>4.447807</td>\n",
       "      <td>1.747098</td>\n",
       "      <td>0.298538</td>\n",
       "      <td>2.658265</td>\n",
       "      <td>Accuracy</td>\n",
       "      <td>25.0</td>\n",
       "    </tr>\n",
       "    <tr>\n",
       "      <th>27</th>\n",
       "      <td>NaN</td>\n",
       "      <td>4.278818</td>\n",
       "      <td>3.652474</td>\n",
       "      <td>0.195156</td>\n",
       "      <td>4.061016</td>\n",
       "      <td>Accuracy</td>\n",
       "      <td>26.0</td>\n",
       "    </tr>\n",
       "    <tr>\n",
       "      <th>28</th>\n",
       "      <td>NaN</td>\n",
       "      <td>5.314647</td>\n",
       "      <td>1.161978</td>\n",
       "      <td>0.345817</td>\n",
       "      <td>-0.745984</td>\n",
       "      <td>Accuracy</td>\n",
       "      <td>27.0</td>\n",
       "    </tr>\n",
       "    <tr>\n",
       "      <th>29</th>\n",
       "      <td>NaN</td>\n",
       "      <td>4.406968</td>\n",
       "      <td>1.706895</td>\n",
       "      <td>0.309214</td>\n",
       "      <td>2.599450</td>\n",
       "      <td>Accuracy</td>\n",
       "      <td>28.0</td>\n",
       "    </tr>\n",
       "    <tr>\n",
       "      <th>30</th>\n",
       "      <td>NaN</td>\n",
       "      <td>4.816398</td>\n",
       "      <td>1.440046</td>\n",
       "      <td>0.319613</td>\n",
       "      <td>1.217909</td>\n",
       "      <td>Accuracy</td>\n",
       "      <td>29.0</td>\n",
       "    </tr>\n",
       "    <tr>\n",
       "      <th>31</th>\n",
       "      <td>NaN</td>\n",
       "      <td>4.167046</td>\n",
       "      <td>3.275880</td>\n",
       "      <td>0.205084</td>\n",
       "      <td>3.813642</td>\n",
       "      <td>Accuracy</td>\n",
       "      <td>30.0</td>\n",
       "    </tr>\n",
       "    <tr>\n",
       "      <th>32</th>\n",
       "      <td>NaN</td>\n",
       "      <td>4.683798</td>\n",
       "      <td>1.422869</td>\n",
       "      <td>0.327200</td>\n",
       "      <td>1.496030</td>\n",
       "      <td>Accuracy</td>\n",
       "      <td>31.0</td>\n",
       "    </tr>\n",
       "    <tr>\n",
       "      <th>33</th>\n",
       "      <td>NaN</td>\n",
       "      <td>5.068276</td>\n",
       "      <td>0.947918</td>\n",
       "      <td>0.364777</td>\n",
       "      <td>-1.802759</td>\n",
       "      <td>Accuracy</td>\n",
       "      <td>32.0</td>\n",
       "    </tr>\n",
       "    <tr>\n",
       "      <th>34</th>\n",
       "      <td>NaN</td>\n",
       "      <td>5.140300</td>\n",
       "      <td>1.176010</td>\n",
       "      <td>0.344663</td>\n",
       "      <td>-0.394065</td>\n",
       "      <td>Accuracy</td>\n",
       "      <td>33.0</td>\n",
       "    </tr>\n",
       "    <tr>\n",
       "      <th>35</th>\n",
       "      <td>NaN</td>\n",
       "      <td>5.080892</td>\n",
       "      <td>1.332022</td>\n",
       "      <td>0.325888</td>\n",
       "      <td>0.102115</td>\n",
       "      <td>Accuracy</td>\n",
       "      <td>34.0</td>\n",
       "    </tr>\n",
       "    <tr>\n",
       "      <th>36</th>\n",
       "      <td>NaN</td>\n",
       "      <td>4.560097</td>\n",
       "      <td>1.922126</td>\n",
       "      <td>0.270977</td>\n",
       "      <td>2.120173</td>\n",
       "      <td>Accuracy</td>\n",
       "      <td>35.0</td>\n",
       "    </tr>\n",
       "    <tr>\n",
       "      <th>37</th>\n",
       "      <td>NaN</td>\n",
       "      <td>4.806931</td>\n",
       "      <td>1.069445</td>\n",
       "      <td>0.356199</td>\n",
       "      <td>0.008221</td>\n",
       "      <td>Accuracy</td>\n",
       "      <td>36.0</td>\n",
       "    </tr>\n",
       "    <tr>\n",
       "      <th>38</th>\n",
       "      <td>NaN</td>\n",
       "      <td>4.199008</td>\n",
       "      <td>1.604933</td>\n",
       "      <td>0.311035</td>\n",
       "      <td>2.803438</td>\n",
       "      <td>Accuracy</td>\n",
       "      <td>37.0</td>\n",
       "    </tr>\n",
       "    <tr>\n",
       "      <th>39</th>\n",
       "      <td>NaN</td>\n",
       "      <td>4.884210</td>\n",
       "      <td>1.106552</td>\n",
       "      <td>0.353309</td>\n",
       "      <td>-0.126194</td>\n",
       "      <td>Accuracy</td>\n",
       "      <td>38.0</td>\n",
       "    </tr>\n",
       "    <tr>\n",
       "      <th>40</th>\n",
       "      <td>NaN</td>\n",
       "      <td>5.805784</td>\n",
       "      <td>1.211575</td>\n",
       "      <td>0.340434</td>\n",
       "      <td>-1.565377</td>\n",
       "      <td>Accuracy</td>\n",
       "      <td>39.0</td>\n",
       "    </tr>\n",
       "    <tr>\n",
       "      <th>41</th>\n",
       "      <td>NaN</td>\n",
       "      <td>4.429056</td>\n",
       "      <td>1.516765</td>\n",
       "      <td>0.318262</td>\n",
       "      <td>2.242439</td>\n",
       "      <td>Accuracy</td>\n",
       "      <td>40.0</td>\n",
       "    </tr>\n",
       "  </tbody>\n",
       "</table>\n",
       "</div>"
      ],
      "text/plain": [
       "   Participant  Drift Rate  Boundary Separation  Non-decision Time  \\\n",
       "2          NaN    4.743589             1.281213           0.342201   \n",
       "3          NaN    4.478144             1.325501           0.335023   \n",
       "4          NaN    4.391122             1.504934           0.320773   \n",
       "5          NaN    4.308306             3.024580           0.221072   \n",
       "6          NaN    4.353145             3.909021           0.174576   \n",
       "7          NaN    4.154923             3.825598           0.191552   \n",
       "8          NaN    4.203779             1.870922           0.291467   \n",
       "9          NaN    5.522329             1.304892           0.323175   \n",
       "10         NaN    4.549235             1.207541           0.340412   \n",
       "11         NaN    4.759492             1.073282           0.356270   \n",
       "12         NaN    5.232113             1.335109           0.329584   \n",
       "13         NaN    4.435921             1.380888           0.330620   \n",
       "14         NaN    4.395398             1.225642           0.346801   \n",
       "15         NaN    4.330579             1.454530           0.319941   \n",
       "16         NaN    4.806045             1.111046           0.353426   \n",
       "17         NaN    5.468880             1.117015           0.354120   \n",
       "18         NaN    4.534703             1.622069           0.304951   \n",
       "19         NaN    4.242886             1.608939           0.307833   \n",
       "20         NaN    4.564450             1.111965           0.356968   \n",
       "21         NaN    5.494523             1.051826           0.356822   \n",
       "22         NaN    4.295549             1.041167           0.359816   \n",
       "23         NaN    4.701704             0.952253           0.367081   \n",
       "24         NaN    4.314606             2.232440           0.260352   \n",
       "25         NaN    4.546314             1.445156           0.324540   \n",
       "26         NaN    4.447807             1.747098           0.298538   \n",
       "27         NaN    4.278818             3.652474           0.195156   \n",
       "28         NaN    5.314647             1.161978           0.345817   \n",
       "29         NaN    4.406968             1.706895           0.309214   \n",
       "30         NaN    4.816398             1.440046           0.319613   \n",
       "31         NaN    4.167046             3.275880           0.205084   \n",
       "32         NaN    4.683798             1.422869           0.327200   \n",
       "33         NaN    5.068276             0.947918           0.364777   \n",
       "34         NaN    5.140300             1.176010           0.344663   \n",
       "35         NaN    5.080892             1.332022           0.325888   \n",
       "36         NaN    4.560097             1.922126           0.270977   \n",
       "37         NaN    4.806931             1.069445           0.356199   \n",
       "38         NaN    4.199008             1.604933           0.311035   \n",
       "39         NaN    4.884210             1.106552           0.353309   \n",
       "40         NaN    5.805784             1.211575           0.340434   \n",
       "41         NaN    4.429056             1.516765           0.318262   \n",
       "\n",
       "    Effective Inhibition       SAT  participant  \n",
       "2               1.295080     Speed          1.0  \n",
       "3               1.876562     Speed          2.0  \n",
       "4               2.229962     Speed          3.0  \n",
       "5               3.682785     Speed          4.0  \n",
       "6               3.788301     Speed          5.0  \n",
       "7               4.286064     Speed          6.0  \n",
       "8               3.097410     Speed          7.0  \n",
       "9              -0.833223     Speed          8.0  \n",
       "10              0.729584     Speed          9.0  \n",
       "11              0.026455     Speed         10.0  \n",
       "12             -0.156610     Speed         11.0  \n",
       "13              1.828063     Speed         12.0  \n",
       "14              1.658044     Speed         13.0  \n",
       "15              2.111733     Speed         14.0  \n",
       "16             -0.025427     Speed         15.0  \n",
       "17             -1.086044     Speed         16.0  \n",
       "18              1.860699     Speed         17.0  \n",
       "19              2.364013     Speed         18.0  \n",
       "20              0.706138     Speed         19.0  \n",
       "21             -1.926756     Speed         20.0  \n",
       "22              0.861618  Accuracy         21.0  \n",
       "23             -0.687313  Accuracy         22.0  \n",
       "24              3.056340  Accuracy         23.0  \n",
       "25              1.816763  Accuracy         24.0  \n",
       "26              2.658265  Accuracy         25.0  \n",
       "27              4.061016  Accuracy         26.0  \n",
       "28             -0.745984  Accuracy         27.0  \n",
       "29              2.599450  Accuracy         28.0  \n",
       "30              1.217909  Accuracy         29.0  \n",
       "31              3.813642  Accuracy         30.0  \n",
       "32              1.496030  Accuracy         31.0  \n",
       "33             -1.802759  Accuracy         32.0  \n",
       "34             -0.394065  Accuracy         33.0  \n",
       "35              0.102115  Accuracy         34.0  \n",
       "36              2.120173  Accuracy         35.0  \n",
       "37              0.008221  Accuracy         36.0  \n",
       "38              2.803438  Accuracy         37.0  \n",
       "39             -0.126194  Accuracy         38.0  \n",
       "40             -1.565377  Accuracy         39.0  \n",
       "41              2.242439  Accuracy         40.0  "
      ]
     },
     "execution_count": 118,
     "metadata": {},
     "output_type": "execute_result"
    }
   ],
   "source": [
    "\n",
    "df_all = df_all.rename({\n",
    "    'v': 'Drift Rate', \n",
    "    'a': 'Boundary Separation', \n",
    "    \"ter\": 'Non-decision Time',\n",
    "    \"k\": \"Effective Inhibition\"\n",
    "}, axis=1)\n",
    "df_all"
   ]
  },
  {
   "cell_type": "markdown",
   "id": "a01fbef3",
   "metadata": {},
   "source": []
  },
  {
   "cell_type": "code",
   "execution_count": 117,
   "id": "8451c81d",
   "metadata": {},
   "outputs": [],
   "source": [
    "df_all.to_csv('DDM2OUMresultDutilh2018.csv')"
   ]
  },
  {
   "cell_type": "code",
   "execution_count": null,
   "id": "1c61850d",
   "metadata": {},
   "outputs": [],
   "source": []
  }
 ],
 "metadata": {
  "kernelspec": {
   "display_name": "Python 3 (ipykernel)",
   "language": "python",
   "name": "python3"
  },
  "language_info": {
   "codemirror_mode": {
    "name": "ipython",
    "version": 3
   },
   "file_extension": ".py",
   "mimetype": "text/x-python",
   "name": "python",
   "nbconvert_exporter": "python",
   "pygments_lexer": "ipython3",
   "version": "3.7.15"
  }
 },
 "nbformat": 4,
 "nbformat_minor": 5
}
