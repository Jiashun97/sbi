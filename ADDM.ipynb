{
 "cells": [
  {
   "cell_type": "code",
   "execution_count": 1,
   "id": "dfb9dde0",
   "metadata": {},
   "outputs": [],
   "source": [
    "%run IDM_helper_functions.ipynb"
   ]
  },
  {
   "cell_type": "code",
   "execution_count": null,
   "id": "9053699e",
   "metadata": {},
   "outputs": [],
   "source": [
    "def simul_ADDM(parameters, dt = 0.001, c = 1):\n",
    "    n_sim = np.shape(parameters)[0]\n",
    "    RTs, Rs = [], []\n",
    "    for i in range(n_sim):\n",
    "        dI = parameters[i,0]\n",
    "        a = parameters[i,1]\n",
    "        bk = parameters[i,2]\n",
    "        Ter = parameters[i,3]\n",
    "        #Ter = 0.4\n",
    "        \n",
    "        n_iter = 1\n",
    "        #location = init_loc\n",
    "        y = 0 # initial location\n",
    "\n",
    "        while((y<a) and (y>-a)):\n",
    "            dW = np.random.normal()*np.sqrt(dt)\n",
    "            dy = (dI - bk*y)*dt + c*dW\n",
    "            y = y + dy\n",
    "\n",
    "            #location = c(location, y)\n",
    "            n_iter = n_iter + 1\n",
    "            \n",
    "            if n_iter >=3000:\n",
    "                if np.random.random()>0.5:\n",
    "                    y = a+0.01\n",
    "                else:\n",
    "                    y = -a-0.01\n",
    "                break\n",
    "            \n",
    "        RT = n_iter*dt + Ter\n",
    "        #print(y)\n",
    "        if y > a:\n",
    "            R = 0\n",
    "        if y <-a:\n",
    "            R = 1     # different from IDM\n",
    "        \n",
    "        RTs.append(RT)\n",
    "        Rs.append(R)\n",
    "        \n",
    "      \n",
    "        if i%1000 ==0:\n",
    "            print(\"sim\"+str(i))\n",
    "            \n",
    "    RTs = torch.reshape(torch.Tensor(RTs), [n_sim,1])\n",
    "    Rs = torch.reshape(torch.Tensor(Rs), [n_sim,1])\n",
    "    return torch.cat((RTs,Rs),dim=1)"
   ]
  }
 ],
 "metadata": {
  "kernelspec": {
   "display_name": "Python 3 (ipykernel)",
   "language": "python",
   "name": "python3"
  },
  "language_info": {
   "codemirror_mode": {
    "name": "ipython",
    "version": 3
   },
   "file_extension": ".py",
   "mimetype": "text/x-python",
   "name": "python",
   "nbconvert_exporter": "python",
   "pygments_lexer": "ipython3",
   "version": "3.7.15"
  }
 },
 "nbformat": 4,
 "nbformat_minor": 5
}
