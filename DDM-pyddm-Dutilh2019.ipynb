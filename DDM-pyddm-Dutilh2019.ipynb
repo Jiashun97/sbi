{
 "cells": [
  {
   "cell_type": "code",
   "execution_count": 1,
   "id": "2cda49de",
   "metadata": {},
   "outputs": [],
   "source": [
    "%run IDM_helper_functions.ipynb"
   ]
  },
  {
   "cell_type": "code",
   "execution_count": 2,
   "id": "71d6acc9",
   "metadata": {},
   "outputs": [],
   "source": [
    "from pyddm import Model\n",
    "from pyddm.models import DriftConstant, DriftLinear, NoiseConstant, BoundConstant, OverlayNonDecision, ICPointSourceCenter\n",
    "from pyddm.functions import fit_adjust_model, display_model\n",
    "\n",
    "from pyddm import Fittable, Fitted, Sample\n",
    "from pyddm.models import LossRobustBIC, LossBIC, LossLikelihood, LossRobustLikelihood,LossSquaredError\n",
    "from pyddm.functions import fit_adjust_model"
   ]
  },
  {
   "cell_type": "code",
   "execution_count": 3,
   "id": "85af9e6b",
   "metadata": {},
   "outputs": [],
   "source": [
    "import pandas as pd\n",
    "import os"
   ]
  },
  {
   "cell_type": "code",
   "execution_count": null,
   "id": "dc709411",
   "metadata": {},
   "outputs": [],
   "source": []
  },
  {
   "cell_type": "code",
   "execution_count": null,
   "id": "d687fe45",
   "metadata": {},
   "outputs": [],
   "source": []
  },
  {
   "cell_type": "code",
   "execution_count": 5,
   "id": "e776257c",
   "metadata": {},
   "outputs": [],
   "source": [
    "data_dir = '/Users/wangjiashun/Desktop/SAT/validation_text_data/exp_3/pp'        \n",
    "#df = pd.read_csv(path, sep = \" \")\n",
    "#df"
   ]
  },
  {
   "cell_type": "code",
   "execution_count": 148,
   "id": "f434220f",
   "metadata": {},
   "outputs": [],
   "source": [
    "sample_size = 20"
   ]
  },
  {
   "cell_type": "code",
   "execution_count": 91,
   "id": "c0ea6859",
   "metadata": {},
   "outputs": [],
   "source": []
  },
  {
   "cell_type": "code",
   "execution_count": 178,
   "id": "fbb33721",
   "metadata": {
    "scrolled": true
   },
   "outputs": [
    {
     "name": "stdout",
     "output_type": "stream",
     "text": [
      "0\n"
     ]
    },
    {
     "name": "stderr",
     "output_type": "stream",
     "text": [
      "Info: Params [2.66983629 0.64448812 0.34204375] gave -228.92867072557794\n"
     ]
    },
    {
     "name": "stdout",
     "output_type": "stream",
     "text": [
      "[2.66983629 0.64448812 0.34204375]\n",
      "1\n"
     ]
    },
    {
     "name": "stderr",
     "output_type": "stream",
     "text": [
      "Info: Params [2.73391169 0.56027806 0.34171961] gave -179.67023152132657\n",
      "Warning: Renormalizing probability density from 1.0113061836134312 to 1.  Try decreasing dt.  If that doesn't eliminate this warning, it may be due to extreme parameter values and/or bugs in your model spefication.\n",
      "Warning: Renormalizing probability density from 1.0118430699126313 to 1.  Try decreasing dt.  If that doesn't eliminate this warning, it may be due to extreme parameter values and/or bugs in your model spefication.\n",
      "Warning: Renormalizing probability density from 1.0106874139510105 to 1.  Try decreasing dt.  If that doesn't eliminate this warning, it may be due to extreme parameter values and/or bugs in your model spefication.\n",
      "Warning: Renormalizing probability density from 1.0115008976681834 to 1.  Try decreasing dt.  If that doesn't eliminate this warning, it may be due to extreme parameter values and/or bugs in your model spefication.\n",
      "Warning: Renormalizing probability density from 1.011672145358495 to 1.  Try decreasing dt.  If that doesn't eliminate this warning, it may be due to extreme parameter values and/or bugs in your model spefication.\n"
     ]
    },
    {
     "name": "stdout",
     "output_type": "stream",
     "text": [
      "[2.73391169 0.56027806 0.34171961]\n",
      "2\n"
     ]
    },
    {
     "name": "stderr",
     "output_type": "stream",
     "text": [
      "Warning: Renormalizing probability density from 1.0104288786322202 to 1.  Try decreasing dt.  If that doesn't eliminate this warning, it may be due to extreme parameter values and/or bugs in your model spefication.\n",
      "Info: Params [3.69102192 0.78216289 0.25502754] gave -337.1563095055172\n"
     ]
    },
    {
     "name": "stdout",
     "output_type": "stream",
     "text": [
      "[3.69102192 0.78216289 0.25502754]\n",
      "3\n"
     ]
    },
    {
     "name": "stderr",
     "output_type": "stream",
     "text": [
      "Info: Params [1.00825998 0.5122745  0.26413239] gave -4.405454589932937\n"
     ]
    },
    {
     "name": "stdout",
     "output_type": "stream",
     "text": [
      "[1.00825998 0.5122745  0.26413239]\n",
      "4\n"
     ]
    },
    {
     "name": "stderr",
     "output_type": "stream",
     "text": [
      "Info: Params [2.48794381 0.5819769  0.2273459 ] gave -227.82750522712274\n",
      "Warning: Renormalizing probability density from 1.0113841370298164 to 1.  Try decreasing dt.  If that doesn't eliminate this warning, it may be due to extreme parameter values and/or bugs in your model spefication.\n"
     ]
    },
    {
     "name": "stdout",
     "output_type": "stream",
     "text": [
      "[2.48794381 0.5819769  0.2273459 ]\n",
      "5\n"
     ]
    },
    {
     "name": "stderr",
     "output_type": "stream",
     "text": [
      "Info: Params [1.53239524 0.57059294 0.2512579 ] gave -45.75835087258259\n",
      "Warning: Renormalizing probability density from 1.0117395018969408 to 1.  Try decreasing dt.  If that doesn't eliminate this warning, it may be due to extreme parameter values and/or bugs in your model spefication.\n"
     ]
    },
    {
     "name": "stdout",
     "output_type": "stream",
     "text": [
      "[1.53239524 0.57059294 0.2512579 ]\n",
      "6\n"
     ]
    },
    {
     "name": "stderr",
     "output_type": "stream",
     "text": [
      "Info: Params [1.87014103 0.60385434 0.24458972] gave -94.36558072070113\n",
      "Warning: Renormalizing probability density from 1.0111342122848173 to 1.  Try decreasing dt.  If that doesn't eliminate this warning, it may be due to extreme parameter values and/or bugs in your model spefication.\n"
     ]
    },
    {
     "name": "stdout",
     "output_type": "stream",
     "text": [
      "[1.87014103 0.60385434 0.24458972]\n",
      "7\n"
     ]
    },
    {
     "name": "stderr",
     "output_type": "stream",
     "text": [
      "Info: Params [1.79016865 0.71704194 0.20226445] gave -6.717523697141097\n",
      "Warning: Renormalizing probability density from 1.0109187426128972 to 1.  Try decreasing dt.  If that doesn't eliminate this warning, it may be due to extreme parameter values and/or bugs in your model spefication.\n"
     ]
    },
    {
     "name": "stdout",
     "output_type": "stream",
     "text": [
      "[1.79016865 0.71704194 0.20226445]\n",
      "8\n"
     ]
    },
    {
     "name": "stderr",
     "output_type": "stream",
     "text": [
      "Info: Params [1.95140836 0.63301417 0.2248318 ] gave -96.53380497614955\n"
     ]
    },
    {
     "name": "stdout",
     "output_type": "stream",
     "text": [
      "[1.95140836 0.63301417 0.2248318 ]\n",
      "9\n"
     ]
    },
    {
     "name": "stderr",
     "output_type": "stream",
     "text": [
      "Warning: Renormalizing probability density from 1.010773182136492 to 1.  Try decreasing dt.  If that doesn't eliminate this warning, it may be due to extreme parameter values and/or bugs in your model spefication.\n",
      "Info: Params [0.66869228 0.4245329  0.20996045] gave -83.38201055892549\n",
      "Warning: Renormalizing probability density from 1.010951995220067 to 1.  Try decreasing dt.  If that doesn't eliminate this warning, it may be due to extreme parameter values and/or bugs in your model spefication.\n"
     ]
    },
    {
     "name": "stdout",
     "output_type": "stream",
     "text": [
      "[0.66869228 0.4245329  0.20996045]\n",
      "10\n"
     ]
    },
    {
     "name": "stderr",
     "output_type": "stream",
     "text": [
      "Info: Params [1.46820281 0.58551509 0.22417837] gave -24.3226257633063\n"
     ]
    },
    {
     "name": "stdout",
     "output_type": "stream",
     "text": [
      "[1.46820281 0.58551509 0.22417837]\n",
      "11\n"
     ]
    },
    {
     "name": "stderr",
     "output_type": "stream",
     "text": [
      "Info: Params [0.82757889 0.55738524 0.22746958] gave 51.64494379319468\n",
      "Warning: Renormalizing probability density from 1.0114990390566607 to 1.  Try decreasing dt.  If that doesn't eliminate this warning, it may be due to extreme parameter values and/or bugs in your model spefication.\n"
     ]
    },
    {
     "name": "stdout",
     "output_type": "stream",
     "text": [
      "[0.82757889 0.55738524 0.22746958]\n",
      "12\n"
     ]
    },
    {
     "name": "stderr",
     "output_type": "stream",
     "text": [
      "Info: Params [1.38225217 0.60287803 0.21206692] gave 19.249126258271154\n",
      "Warning: Renormalizing probability density from 1.0102538140070576 to 1.  Try decreasing dt.  If that doesn't eliminate this warning, it may be due to extreme parameter values and/or bugs in your model spefication.\n"
     ]
    },
    {
     "name": "stdout",
     "output_type": "stream",
     "text": [
      "[1.38225217 0.60287803 0.21206692]\n",
      "13\n"
     ]
    },
    {
     "name": "stderr",
     "output_type": "stream",
     "text": [
      "Info: Params [2.05185207 0.6476485  0.32537562] gave -111.50570194201805\n"
     ]
    },
    {
     "name": "stdout",
     "output_type": "stream",
     "text": [
      "[2.05185207 0.6476485  0.32537562]\n",
      "14\n"
     ]
    },
    {
     "name": "stderr",
     "output_type": "stream",
     "text": [
      "Warning: Renormalizing probability density from 1.0111172403692423 to 1.  Try decreasing dt.  If that doesn't eliminate this warning, it may be due to extreme parameter values and/or bugs in your model spefication.\n",
      "Info: Params [1.90528146 0.80031229 0.18895179] gave -4.9500795760705145\n"
     ]
    },
    {
     "name": "stdout",
     "output_type": "stream",
     "text": [
      "[1.90528146 0.80031229 0.18895179]\n",
      "15\n"
     ]
    },
    {
     "name": "stderr",
     "output_type": "stream",
     "text": [
      "Info: Params [2.48803688 0.67513024 0.28968167] gave -176.4517472867119\n"
     ]
    },
    {
     "name": "stdout",
     "output_type": "stream",
     "text": [
      "[2.48803688 0.67513024 0.28968167]\n",
      "16\n"
     ]
    },
    {
     "name": "stderr",
     "output_type": "stream",
     "text": [
      "Warning: Renormalizing probability density from 1.0116424707501759 to 1.  Try decreasing dt.  If that doesn't eliminate this warning, it may be due to extreme parameter values and/or bugs in your model spefication.\n",
      "Info: Params [3.19034559 0.54416656 0.29441039] gave -358.7695916934201\n",
      "Warning: Renormalizing probability density from 1.011336123581207 to 1.  Try decreasing dt.  If that doesn't eliminate this warning, it may be due to extreme parameter values and/or bugs in your model spefication.\n"
     ]
    },
    {
     "name": "stdout",
     "output_type": "stream",
     "text": [
      "[3.19034559 0.54416656 0.29441039]\n",
      "17\n"
     ]
    },
    {
     "name": "stderr",
     "output_type": "stream",
     "text": [
      "Info: Params [1.04155271 0.5056563  0.37608384] gave 61.68210287452626\n"
     ]
    },
    {
     "name": "stdout",
     "output_type": "stream",
     "text": [
      "[1.04155271 0.5056563  0.37608384]\n",
      "18\n"
     ]
    },
    {
     "name": "stderr",
     "output_type": "stream",
     "text": [
      "Info: Params [2.94536064 0.6845653  0.24319402] gave -257.2351661710896\n",
      "Warning: Renormalizing probability density from 1.0115942284637582 to 1.  Try decreasing dt.  If that doesn't eliminate this warning, it may be due to extreme parameter values and/or bugs in your model spefication.\n",
      "Warning: Renormalizing probability density from 1.011359590959552 to 1.  Try decreasing dt.  If that doesn't eliminate this warning, it may be due to extreme parameter values and/or bugs in your model spefication.\n",
      "Warning: Renormalizing probability density from 1.011587932169426 to 1.  Try decreasing dt.  If that doesn't eliminate this warning, it may be due to extreme parameter values and/or bugs in your model spefication.\n"
     ]
    },
    {
     "name": "stdout",
     "output_type": "stream",
     "text": [
      "[2.94536064 0.6845653  0.24319402]\n",
      "19\n"
     ]
    },
    {
     "name": "stderr",
     "output_type": "stream",
     "text": [
      "Info: Params [2.02204994 0.70292444 0.24195611] gave -70.6625843834068\n"
     ]
    },
    {
     "name": "stdout",
     "output_type": "stream",
     "text": [
      "[2.02204994 0.70292444 0.24195611]\n"
     ]
    }
   ],
   "source": [
    "par_fitted_A = np.zeros((20,3))\n",
    "for i in range(20):\n",
    "    print(i)\n",
    "    \n",
    "    path = os.path.join(data_dir+str(i+1)+\".txt\")\n",
    "    df = pd.read_csv(path, sep = \" \")\n",
    "    df = df[df[\"cond\"]==\"A\"] # A condition\n",
    "    \n",
    "    data_sub = np.stack((np.array((df[\"rt\"])), np.array((df[\"correct\"]))), axis = 1)\n",
    "    samp = Sample.from_numpy_array(data_sub, column_names = [])\n",
    "    \n",
    "    model_fit = Model(name='Simple model (fitted)',\n",
    "                  drift=DriftConstant(drift=Fittable(minval=0, maxval=6)),\n",
    "                  noise=NoiseConstant(noise=1),\n",
    "                  bound=BoundConstant(B=Fittable(minval=0.01, maxval=4)),\n",
    "                  overlay=OverlayNonDecision(nondectime=Fittable(minval=0.1, maxval=1)),\n",
    "                  dx=.001, dt=.001, T_dur=4)\n",
    "                  #dx=.001, dt=.001, T_dur=3)\n",
    "\n",
    "    fit_adjust_model(samp, model_fit,\n",
    "                     fitting_method=\"differential_evolution\",\n",
    "                     lossfunction=LossRobustBIC, verbose=False)\n",
    "\n",
    "    par_fitted_A[i,0] = np.array(model_fit.parameters()['drift']['drift'])\n",
    "    par_fitted_A[i,1] = np.array(model_fit.parameters()['bound']['B'])\n",
    "    par_fitted_A[i,2] = np.array(model_fit.parameters()['overlay']['nondectime'])\n",
    "    #par_fitted_A[i,3] = np.array(model_fit.parameters()['drift']['x'])\n",
    "    \n",
    "    print(par_fitted_A[i,:])\n"
   ]
  },
  {
   "cell_type": "code",
   "execution_count": 53,
   "id": "1755c1e2",
   "metadata": {},
   "outputs": [],
   "source": []
  },
  {
   "cell_type": "code",
   "execution_count": 179,
   "id": "8c24608d",
   "metadata": {
    "scrolled": true
   },
   "outputs": [
    {
     "name": "stderr",
     "output_type": "stream",
     "text": [
      "Warning: Renormalizing probability density from 1.0115035434881994 to 1.  Try decreasing dt.  If that doesn't eliminate this warning, it may be due to extreme parameter values and/or bugs in your model spefication.\n",
      "Warning: Renormalizing probability density from 1.0115422105639367 to 1.  Try decreasing dt.  If that doesn't eliminate this warning, it may be due to extreme parameter values and/or bugs in your model spefication.\n"
     ]
    },
    {
     "name": "stdout",
     "output_type": "stream",
     "text": [
      "0\n"
     ]
    },
    {
     "name": "stderr",
     "output_type": "stream",
     "text": [
      "Warning: Renormalizing probability density from 1.0115651219990485 to 1.  Try decreasing dt.  If that doesn't eliminate this warning, it may be due to extreme parameter values and/or bugs in your model spefication.\n",
      "Info: Params [1.54344938 0.71848487 0.34921705] gave 75.21257570491683\n",
      "Warning: Renormalizing probability density from 1.012050364829672 to 1.  Try decreasing dt.  If that doesn't eliminate this warning, it may be due to extreme parameter values and/or bugs in your model spefication.\n"
     ]
    },
    {
     "name": "stdout",
     "output_type": "stream",
     "text": [
      "1\n"
     ]
    },
    {
     "name": "stderr",
     "output_type": "stream",
     "text": [
      "Info: Params [1.15442497 0.72727006 0.39917919] gave 174.965862524689\n",
      "Warning: Renormalizing probability density from 1.01138742410421 to 1.  Try decreasing dt.  If that doesn't eliminate this warning, it may be due to extreme parameter values and/or bugs in your model spefication.\n"
     ]
    },
    {
     "name": "stdout",
     "output_type": "stream",
     "text": [
      "2\n"
     ]
    },
    {
     "name": "stderr",
     "output_type": "stream",
     "text": [
      "Info: Params [1.40042463 0.7255567  0.29428598] gave 119.66717780621417\n"
     ]
    },
    {
     "name": "stdout",
     "output_type": "stream",
     "text": [
      "3\n"
     ]
    },
    {
     "name": "stderr",
     "output_type": "stream",
     "text": [
      "Info: Params [0.61692799 0.64667393 0.32119694] gave 228.60722982182352\n"
     ]
    },
    {
     "name": "stdout",
     "output_type": "stream",
     "text": [
      "4\n"
     ]
    },
    {
     "name": "stderr",
     "output_type": "stream",
     "text": [
      "Info: Params [2.37488454 0.88343177 0.30290911] gave -68.78078566182322\n",
      "Warning: Renormalizing probability density from 1.0104136749423258 to 1.  Try decreasing dt.  If that doesn't eliminate this warning, it may be due to extreme parameter values and/or bugs in your model spefication.\n"
     ]
    },
    {
     "name": "stdout",
     "output_type": "stream",
     "text": [
      "5\n"
     ]
    },
    {
     "name": "stderr",
     "output_type": "stream",
     "text": [
      "Info: Params [0.97149671 0.62430905 0.33921567] gave 121.05748621942314\n"
     ]
    },
    {
     "name": "stdout",
     "output_type": "stream",
     "text": [
      "6\n"
     ]
    },
    {
     "name": "stderr",
     "output_type": "stream",
     "text": [
      "Info: Params [1.51214785 0.67948994 0.25967608] gave 39.883270591023226\n"
     ]
    },
    {
     "name": "stdout",
     "output_type": "stream",
     "text": [
      "7\n"
     ]
    },
    {
     "name": "stderr",
     "output_type": "stream",
     "text": [
      "Info: Params [1.40398873 1.0786928  0.26951022] gave 248.42490340938122\n"
     ]
    },
    {
     "name": "stdout",
     "output_type": "stream",
     "text": [
      "8\n"
     ]
    },
    {
     "name": "stderr",
     "output_type": "stream",
     "text": [
      "Info: Params [1.29506368 0.82683068 0.31682009] gave 200.53797227545704\n"
     ]
    },
    {
     "name": "stdout",
     "output_type": "stream",
     "text": [
      "9\n"
     ]
    },
    {
     "name": "stderr",
     "output_type": "stream",
     "text": [
      "Info: Params [1.12213867 0.96987032 0.21180897] gave 318.6439161433858\n"
     ]
    },
    {
     "name": "stdout",
     "output_type": "stream",
     "text": [
      "10\n"
     ]
    },
    {
     "name": "stderr",
     "output_type": "stream",
     "text": [
      "Info: Params [1.06363486 0.63057402 0.25165019] gave 118.16946635381751\n"
     ]
    },
    {
     "name": "stdout",
     "output_type": "stream",
     "text": [
      "11\n"
     ]
    },
    {
     "name": "stderr",
     "output_type": "stream",
     "text": [
      "Info: Params [1.14058216 0.93784368 0.47396659] gave 305.49702204739117\n",
      "Warning: Renormalizing probability density from 1.0107649615252623 to 1.  Try decreasing dt.  If that doesn't eliminate this warning, it may be due to extreme parameter values and/or bugs in your model spefication.\n"
     ]
    },
    {
     "name": "stdout",
     "output_type": "stream",
     "text": [
      "12\n"
     ]
    },
    {
     "name": "stderr",
     "output_type": "stream",
     "text": [
      "Warning: Renormalizing probability density from 1.012023594093617 to 1.  Try decreasing dt.  If that doesn't eliminate this warning, it may be due to extreme parameter values and/or bugs in your model spefication.\n",
      "Warning: Renormalizing probability density from 1.0115321412126022 to 1.  Try decreasing dt.  If that doesn't eliminate this warning, it may be due to extreme parameter values and/or bugs in your model spefication.\n",
      "Info: Params [1.22828033 0.67504256 0.32442335] gave 124.01496664970753\n"
     ]
    },
    {
     "name": "stdout",
     "output_type": "stream",
     "text": [
      "13\n"
     ]
    },
    {
     "name": "stderr",
     "output_type": "stream",
     "text": [
      "Info: Params [1.36878643 0.75756997 0.53431546] gave 150.4012506068819\n"
     ]
    },
    {
     "name": "stdout",
     "output_type": "stream",
     "text": [
      "14\n"
     ]
    },
    {
     "name": "stderr",
     "output_type": "stream",
     "text": [
      "Info: Params [1.57115544 0.70656797 0.29191228] gave 34.04535105017663\n",
      "Warning: Renormalizing probability density from 1.0105554780990624 to 1.  Try decreasing dt.  If that doesn't eliminate this warning, it may be due to extreme parameter values and/or bugs in your model spefication.\n"
     ]
    },
    {
     "name": "stdout",
     "output_type": "stream",
     "text": [
      "15\n"
     ]
    },
    {
     "name": "stderr",
     "output_type": "stream",
     "text": [
      "Info: Params [1.93070784 0.64041108 0.37518691] gave -68.9907361234358\n",
      "Warning: Renormalizing probability density from 1.0104568969566747 to 1.  Try decreasing dt.  If that doesn't eliminate this warning, it may be due to extreme parameter values and/or bugs in your model spefication.\n",
      "Warning: Renormalizing probability density from 1.0108324450792041 to 1.  Try decreasing dt.  If that doesn't eliminate this warning, it may be due to extreme parameter values and/or bugs in your model spefication.\n",
      "Warning: Renormalizing probability density from 1.0117426787850472 to 1.  Try decreasing dt.  If that doesn't eliminate this warning, it may be due to extreme parameter values and/or bugs in your model spefication.\n"
     ]
    },
    {
     "name": "stdout",
     "output_type": "stream",
     "text": [
      "16\n"
     ]
    },
    {
     "name": "stderr",
     "output_type": "stream",
     "text": [
      "Warning: Renormalizing probability density from 1.0108758298965277 to 1.  Try decreasing dt.  If that doesn't eliminate this warning, it may be due to extreme parameter values and/or bugs in your model spefication.\n",
      "Warning: Renormalizing probability density from 1.0103822499298545 to 1.  Try decreasing dt.  If that doesn't eliminate this warning, it may be due to extreme parameter values and/or bugs in your model spefication.\n",
      "Warning: Renormalizing probability density from 1.0116056094830723 to 1.  Try decreasing dt.  If that doesn't eliminate this warning, it may be due to extreme parameter values and/or bugs in your model spefication.\n",
      "Info: Params [1.74235883 0.64701745 0.34764838] gave -8.00192158112393\n"
     ]
    },
    {
     "name": "stdout",
     "output_type": "stream",
     "text": [
      "17\n"
     ]
    },
    {
     "name": "stderr",
     "output_type": "stream",
     "text": [
      "Warning: Renormalizing probability density from 1.0111552474234102 to 1.  Try decreasing dt.  If that doesn't eliminate this warning, it may be due to extreme parameter values and/or bugs in your model spefication.\n",
      "Info: Params [0.54318156 0.8654059  0.42092309] gave 431.3757430647947\n"
     ]
    },
    {
     "name": "stdout",
     "output_type": "stream",
     "text": [
      "18\n"
     ]
    },
    {
     "name": "stderr",
     "output_type": "stream",
     "text": [
      "Info: Params [1.6013386  0.73487925 0.37015298] gave 51.4102740307577\n"
     ]
    },
    {
     "name": "stdout",
     "output_type": "stream",
     "text": [
      "19\n"
     ]
    },
    {
     "name": "stderr",
     "output_type": "stream",
     "text": [
      "Info: Params [1.21203057 0.82725021 0.32709214] gave 237.64895401406687\n"
     ]
    }
   ],
   "source": [
    "par_fitted_B = np.zeros((20,3))\n",
    "for i in range(20):\n",
    "    print(i)\n",
    "    \n",
    "    path = os.path.join(data_dir+str(i+1)+\".txt\")\n",
    "    df = pd.read_csv(path, sep = \" \")\n",
    "    df = df[df[\"cond\"]==\"B\"] # A condition\n",
    "    \n",
    "    data_sub = np.stack((np.array((df[\"rt\"])), np.array((df[\"correct\"]))), axis = 1)\n",
    "    samp = Sample.from_numpy_array(data_sub, column_names = [])\n",
    "    \n",
    "    model_fit = Model(name='Simple model (fitted)',\n",
    "                  drift=DriftConstant(drift=Fittable(minval=0, maxval=6)),\n",
    "                  noise=NoiseConstant(noise=1),\n",
    "                  bound=BoundConstant(B=Fittable(minval=0.01, maxval=4)),\n",
    "                  overlay=OverlayNonDecision(nondectime=Fittable(minval=0.1, maxval=1)),\n",
    "                  dx=.001, dt=.001, T_dur=4)\n",
    "                  #dx=.001, dt=.001, T_dur=3)\n",
    "\n",
    "    fit_adjust_model(samp, model_fit,\n",
    "                     fitting_method=\"differential_evolution\",\n",
    "                     lossfunction=LossRobustBIC, verbose=False)\n",
    "\n",
    "    par_fitted_B[i,0] = np.array(model_fit.parameters()['drift']['drift'])\n",
    "    par_fitted_B[i,1] = np.array(model_fit.parameters()['bound']['B'])\n",
    "    par_fitted_B[i,2] = np.array(model_fit.parameters()['overlay']['nondectime'])\n",
    "    #par_fitted_A[i,3] = np.array(model_fit.parameters()['drift']['x'])\n",
    "    \n"
   ]
  },
  {
   "cell_type": "code",
   "execution_count": 180,
   "id": "32bca191",
   "metadata": {},
   "outputs": [],
   "source": [
    "my_array = np.concatenate((par_fitted_A, par_fitted_B), axis = 0)\n",
    "df_SAT = pd.DataFrame(my_array, columns = ['Drift Rate','Boundary Separation','Non-decision Time'])\n",
    "df_SAT[\"SAT\"] = [\"Speed\"]*sample_size + [\"Accuracy\"]*sample_size\n",
    "df_SAT.to_csv('DDMresultDutilh2019.csv')"
   ]
  },
  {
   "cell_type": "code",
   "execution_count": null,
   "id": "8832c5fa",
   "metadata": {},
   "outputs": [],
   "source": []
  },
  {
   "cell_type": "code",
   "execution_count": null,
   "id": "062e920e",
   "metadata": {},
   "outputs": [],
   "source": []
  },
  {
   "cell_type": "code",
   "execution_count": 97,
   "id": "445cf1ce",
   "metadata": {},
   "outputs": [],
   "source": []
  },
  {
   "cell_type": "code",
   "execution_count": null,
   "id": "51e38ab6",
   "metadata": {},
   "outputs": [],
   "source": []
  },
  {
   "cell_type": "code",
   "execution_count": 72,
   "id": "efd047aa",
   "metadata": {},
   "outputs": [],
   "source": []
  },
  {
   "cell_type": "code",
   "execution_count": null,
   "id": "45828f94",
   "metadata": {
    "scrolled": true
   },
   "outputs": [],
   "source": []
  },
  {
   "cell_type": "code",
   "execution_count": null,
   "id": "d4106f0d",
   "metadata": {},
   "outputs": [],
   "source": []
  },
  {
   "cell_type": "code",
   "execution_count": null,
   "id": "36e4fde4",
   "metadata": {},
   "outputs": [],
   "source": [
    "df_SAT = pd.read_csv(('DDMresultDutilh2019.csv'))"
   ]
  },
  {
   "cell_type": "code",
   "execution_count": 182,
   "id": "6b80d185",
   "metadata": {},
   "outputs": [],
   "source": [
    "S = np.array(df_SAT.loc[(df_SAT['SAT'] == \"Speed\")][[\"Drift Rate\", \"Boundary Separation\", \"Non-decision Time\"]])\n",
    "A = np.array(df_SAT.loc[(df_SAT['SAT'] == \"Accuracy\")][[\"Drift Rate\", \"Boundary Separation\", \"Non-decision Time\"]])\n",
    "dif = S-A\n",
    "df_dif = pd.DataFrame(dif,columns = [\"Drift Rate\", \"Boundary Separation\", \"Non-decision Time\"])"
   ]
  },
  {
   "cell_type": "code",
   "execution_count": 183,
   "id": "51119c95",
   "metadata": {},
   "outputs": [],
   "source": [
    "#dif_Z = (dif )/np.std(dif, axis = 0)\n",
    "#df_dif_Z = pd.DataFrame(dif_Z,columns = [\"Drift Rate\", \"Boundary Separation\", \"Non-decision Time\"])"
   ]
  },
  {
   "cell_type": "code",
   "execution_count": 184,
   "id": "78301faa",
   "metadata": {},
   "outputs": [],
   "source": [
    "df_SAT_melted = pd.melt(df_SAT, id_vars = [\"SAT\"], value_vars=['Drift Rate', 'Boundary Separation','Non-decision Time'],\n",
    "                       var_name = \"Parameter\", value_name = \"Value\")\n",
    "df_dif_melted = pd.melt(df_dif, value_vars=['Drift Rate', 'Boundary Separation','Non-decision Time'],\n",
    "                       var_name = \"Parameter\", value_name = \"Difference\")\n",
    "#df_dif_Z_melted = pd.melt(df_dif_Z, value_vars=['Drift Rate', 'Boundary Separation','Non-decision Time'])"
   ]
  },
  {
   "cell_type": "code",
   "execution_count": 193,
   "id": "edf5e21f",
   "metadata": {},
   "outputs": [],
   "source": [
    "df_dif_melted.to_csv(\"DDMdifResultDutilh2019.csv\") \n"
   ]
  },
  {
   "cell_type": "code",
   "execution_count": null,
   "id": "24e1801d",
   "metadata": {
    "scrolled": false
   },
   "outputs": [],
   "source": []
  },
  {
   "cell_type": "code",
   "execution_count": null,
   "id": "f60cace4",
   "metadata": {},
   "outputs": [],
   "source": []
  },
  {
   "cell_type": "code",
   "execution_count": 76,
   "id": "6c427d58",
   "metadata": {},
   "outputs": [],
   "source": []
  },
  {
   "cell_type": "code",
   "execution_count": 188,
   "id": "afd5ca93",
   "metadata": {
    "scrolled": false
   },
   "outputs": [
    {
     "data": {
      "text/plain": [
       "<seaborn.axisgrid.FacetGrid at 0x7fc729a34a50>"
      ]
     },
     "execution_count": 188,
     "metadata": {},
     "output_type": "execute_result"
    },
    {
     "data": {
      "image/png": "[encoded data removed]",
      "text/plain": [
       "<Figure size 913.5x600 with 1 Axes>"
      ]
     },
     "metadata": {},
     "output_type": "display_data"
    }
   ],
   "source": [
    "import seaborn as sns\n",
    "sns.catplot(data=df_SAT_melted, x=\"Parameter\", y=\"Value\", hue=\"SAT\", kind=\"box\",\n",
    "            height=6, aspect=8/6)\n"
   ]
  },
  {
   "cell_type": "code",
   "execution_count": 187,
   "id": "627c3d31",
   "metadata": {},
   "outputs": [
    {
     "data": {
      "text/plain": [
       "<seaborn.axisgrid.FacetGrid at 0x7fc7299f0e10>"
      ]
     },
     "execution_count": 187,
     "metadata": {},
     "output_type": "execute_result"
    },
    {
     "data": {
      "image/png": "[encoded data removed]",
      "text/plain": [
       "<Figure size 600x400 with 1 Axes>"
      ]
     },
     "metadata": {},
     "output_type": "display_data"
    }
   ],
   "source": [
    "import seaborn as sns\n",
    "sns.catplot(data=df_dif_melted, x=\"Parameter\", y=\"Difference\", kind=\"box\",\n",
    "            height=4, aspect=6/4)"
   ]
  },
  {
   "cell_type": "code",
   "execution_count": 63,
   "id": "4d2dedad",
   "metadata": {},
   "outputs": [
    {
     "data": {
      "text/plain": [
       "Ttest_relResult(statistic=3.3391300472252516, pvalue=0.0034473934284977455)"
      ]
     },
     "execution_count": 63,
     "metadata": {},
     "output_type": "execute_result"
    }
   ],
   "source": [
    "import scipy\n",
    "scipy.stats.ttest_rel(par_fitted_A[:,0], par_fitted_B[:,0])"
   ]
  },
  {
   "cell_type": "code",
   "execution_count": 64,
   "id": "32d6e0aa",
   "metadata": {},
   "outputs": [
    {
     "data": {
      "text/plain": [
       "Ttest_relResult(statistic=-4.074332616856631, pvalue=0.0006465530455187766)"
      ]
     },
     "execution_count": 64,
     "metadata": {},
     "output_type": "execute_result"
    }
   ],
   "source": [
    "scipy.stats.ttest_rel(par_fitted_A[:,1], par_fitted_B[:,1])"
   ]
  },
  {
   "cell_type": "code",
   "execution_count": 65,
   "id": "7337fa55",
   "metadata": {},
   "outputs": [
    {
     "data": {
      "text/plain": [
       "Ttest_relResult(statistic=-5.755670820956369, pvalue=1.513868423962202e-05)"
      ]
     },
     "execution_count": 65,
     "metadata": {},
     "output_type": "execute_result"
    }
   ],
   "source": [
    "scipy.stats.ttest_rel(par_fitted_A[:,2], par_fitted_B[:,2])"
   ]
  },
  {
   "cell_type": "code",
   "execution_count": 191,
   "id": "c61332c3",
   "metadata": {},
   "outputs": [
    {
     "data": {
      "text/html": [
       "<div>\n",
       "<style scoped>\n",
       "    .dataframe tbody tr th:only-of-type {\n",
       "        vertical-align: middle;\n",
       "    }\n",
       "\n",
       "    .dataframe tbody tr th {\n",
       "        vertical-align: top;\n",
       "    }\n",
       "\n",
       "    .dataframe thead th {\n",
       "        text-align: right;\n",
       "    }\n",
       "</style>\n",
       "<table border=\"1\" class=\"dataframe\">\n",
       "  <thead>\n",
       "    <tr style=\"text-align: right;\">\n",
       "      <th></th>\n",
       "      <th>SAT</th>\n",
       "      <th>Parameter</th>\n",
       "      <th>Value</th>\n",
       "    </tr>\n",
       "  </thead>\n",
       "  <tbody>\n",
       "    <tr>\n",
       "      <th>0</th>\n",
       "      <td>Speed</td>\n",
       "      <td>Drift Rate</td>\n",
       "      <td>2.669836</td>\n",
       "    </tr>\n",
       "    <tr>\n",
       "      <th>1</th>\n",
       "      <td>Speed</td>\n",
       "      <td>Drift Rate</td>\n",
       "      <td>2.733912</td>\n",
       "    </tr>\n",
       "    <tr>\n",
       "      <th>2</th>\n",
       "      <td>Speed</td>\n",
       "      <td>Drift Rate</td>\n",
       "      <td>3.691022</td>\n",
       "    </tr>\n",
       "    <tr>\n",
       "      <th>3</th>\n",
       "      <td>Speed</td>\n",
       "      <td>Drift Rate</td>\n",
       "      <td>1.008260</td>\n",
       "    </tr>\n",
       "    <tr>\n",
       "      <th>4</th>\n",
       "      <td>Speed</td>\n",
       "      <td>Drift Rate</td>\n",
       "      <td>2.487944</td>\n",
       "    </tr>\n",
       "    <tr>\n",
       "      <th>...</th>\n",
       "      <td>...</td>\n",
       "      <td>...</td>\n",
       "      <td>...</td>\n",
       "    </tr>\n",
       "    <tr>\n",
       "      <th>115</th>\n",
       "      <td>Accuracy</td>\n",
       "      <td>Non-decision Time</td>\n",
       "      <td>0.375187</td>\n",
       "    </tr>\n",
       "    <tr>\n",
       "      <th>116</th>\n",
       "      <td>Accuracy</td>\n",
       "      <td>Non-decision Time</td>\n",
       "      <td>0.347648</td>\n",
       "    </tr>\n",
       "    <tr>\n",
       "      <th>117</th>\n",
       "      <td>Accuracy</td>\n",
       "      <td>Non-decision Time</td>\n",
       "      <td>0.420923</td>\n",
       "    </tr>\n",
       "    <tr>\n",
       "      <th>118</th>\n",
       "      <td>Accuracy</td>\n",
       "      <td>Non-decision Time</td>\n",
       "      <td>0.370153</td>\n",
       "    </tr>\n",
       "    <tr>\n",
       "      <th>119</th>\n",
       "      <td>Accuracy</td>\n",
       "      <td>Non-decision Time</td>\n",
       "      <td>0.327092</td>\n",
       "    </tr>\n",
       "  </tbody>\n",
       "</table>\n",
       "<p>120 rows × 3 columns</p>\n",
       "</div>"
      ],
      "text/plain": [
       "          SAT          Parameter     Value\n",
       "0       Speed         Drift Rate  2.669836\n",
       "1       Speed         Drift Rate  2.733912\n",
       "2       Speed         Drift Rate  3.691022\n",
       "3       Speed         Drift Rate  1.008260\n",
       "4       Speed         Drift Rate  2.487944\n",
       "..        ...                ...       ...\n",
       "115  Accuracy  Non-decision Time  0.375187\n",
       "116  Accuracy  Non-decision Time  0.347648\n",
       "117  Accuracy  Non-decision Time  0.420923\n",
       "118  Accuracy  Non-decision Time  0.370153\n",
       "119  Accuracy  Non-decision Time  0.327092\n",
       "\n",
       "[120 rows x 3 columns]"
      ]
     },
     "execution_count": 191,
     "metadata": {},
     "output_type": "execute_result"
    }
   ],
   "source": [
    "df_SAT_melted"
   ]
  },
  {
   "cell_type": "code",
   "execution_count": null,
   "id": "51a87ba2",
   "metadata": {},
   "outputs": [],
   "source": []
  },
  {
   "cell_type": "code",
   "execution_count": null,
   "id": "b9456e7e",
   "metadata": {},
   "outputs": [],
   "source": []
  }
 ],
 "metadata": {
  "kernelspec": {
   "display_name": "Python 3 (ipykernel)",
   "language": "python",
   "name": "python3"
  },
  "language_info": {
   "codemirror_mode": {
    "name": "ipython",
    "version": 3
   },
   "file_extension": ".py",
   "mimetype": "text/x-python",
   "name": "python",
   "nbconvert_exporter": "python",
   "pygments_lexer": "ipython3",
   "version": "3.7.15"
  }
 },
 "nbformat": 4,
 "nbformat_minor": 5
}
